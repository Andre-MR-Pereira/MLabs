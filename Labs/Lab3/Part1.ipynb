{
 "cells": [
  {
   "cell_type": "markdown",
   "metadata": {},
   "source": [
    "# Lab 3 - Neural Networks\n",
    "\n",
    "\n",
    "#### Dependencies:"
   ]
  },
  {
   "cell_type": "code",
   "execution_count": 1,
   "metadata": {},
   "outputs": [],
   "source": [
    "import tensorflow as tf\n",
    "from visualize_activations import *\n",
    "import numpy as np\n",
    "import matplotlib.pyplot as plt\n",
    "from sklearn.model_selection import train_test_split\n",
    "from sklearn.metrics import accuracy_score,confusion_matrix"
   ]
  },
  {
   "cell_type": "markdown",
   "metadata": {},
   "source": [
    "#### \n",
    "## 1.1 Data"
   ]
  },
  {
   "cell_type": "code",
   "execution_count": 2,
   "metadata": {},
   "outputs": [
    {
     "name": "stdout",
     "output_type": "stream",
     "text": [
      "x_train shape: (60000, 28, 28) y_train shape: (60000,) x_test shape: (10000, 28, 28) y_test shape: (10000,)\n"
     ]
    }
   ],
   "source": [
    "(x_train, y_train), (x_test, y_test) = tf.keras.datasets.fashion_mnist.load_data()\n",
    "print(\"x_train shape:\", x_train.shape, \"y_train shape:\", y_train.shape, \"x_test shape:\", x_test.shape, \"y_test shape:\", y_test.shape)"
   ]
  },
  {
   "cell_type": "code",
   "execution_count": 3,
   "metadata": {},
   "outputs": [
    {
     "data": {
      "image/png": "[encoded data removed]",
      "text/plain": [
       "<Figure size 432x288 with 1 Axes>"
      ]
     },
     "metadata": {
      "needs_background": "light"
     },
     "output_type": "display_data"
    },
    {
     "data": {
      "image/png": "[encoded data removed]",
      "text/plain": [
       "<Figure size 432x288 with 1 Axes>"
      ]
     },
     "metadata": {
      "needs_background": "light"
     },
     "output_type": "display_data"
    },
    {
     "data": {
      "image/png": "[encoded data removed]",
      "text/plain": [
       "<Figure size 432x288 with 1 Axes>"
      ]
     },
     "metadata": {
      "needs_background": "light"
     },
     "output_type": "display_data"
    }
   ],
   "source": [
    "for i in range(12, 15):\n",
    "    plt.imshow(x_train[i])\n",
    "    plt.title('Image from the DataSet')\n",
    "    plt.xlabel('x-values')\n",
    "    plt.ylabel('y-values')\n",
    "    plt.show()"
   ]
  },
  {
   "cell_type": "code",
   "execution_count": 4,
   "metadata": {},
   "outputs": [],
   "source": [
    "x_train=x_train/255\n",
    "x_test=x_test/255"
   ]
  },
  {
   "cell_type": "code",
   "execution_count": 5,
   "metadata": {},
   "outputs": [],
   "source": [
    "y_train=tf.keras.utils.to_categorical(y_train, num_classes=10, dtype=\"float32\")\n",
    "y_test=tf.keras.utils.to_categorical(y_test, num_classes=10, dtype=\"float32\")"
   ]
  },
  {
   "cell_type": "code",
   "execution_count": 6,
   "metadata": {},
   "outputs": [],
   "source": [
    "x_train, x_validation, y_train, y_validation = train_test_split(x_train, y_train, test_size=0.2, random_state=42)"
   ]
  },
  {
   "cell_type": "code",
   "execution_count": 7,
   "metadata": {},
   "outputs": [
    {
     "name": "stdout",
     "output_type": "stream",
     "text": [
      "x_train shape: (48000, 28, 28, 1) x_test shape: (10000, 28, 28, 1) x_validation shape: (12000, 28, 28, 1)\n"
     ]
    }
   ],
   "source": [
    "x_train=np.expand_dims(x_train,axis=3);\n",
    "x_test=np.expand_dims(x_test,axis=3);\n",
    "x_validation=np.expand_dims(x_validation,axis=3)\n",
    "print(\"x_train shape:\", x_train.shape, \"x_test shape:\", x_test.shape,\"x_validation shape:\", x_validation.shape)"
   ]
  },
  {
   "cell_type": "markdown",
   "metadata": {},
   "source": [
    "#### \n",
    "## 1.2 MLP"
   ]
  },
  {
   "cell_type": "code",
   "execution_count": 36,
   "metadata": {},
   "outputs": [
    {
     "name": "stdout",
     "output_type": "stream",
     "text": [
      "model shape: (None, 784)\n"
     ]
    }
   ],
   "source": [
    "model = tf.keras.Sequential(name=\"MLP_Early\")\n",
    "model.add(tf.keras.layers.Flatten(input_shape=(28, 28, 1)))\n",
    "print(\"model shape:\", model.output_shape)"
   ]
  },
  {
   "cell_type": "code",
   "execution_count": 37,
   "metadata": {},
   "outputs": [
    {
     "name": "stdout",
     "output_type": "stream",
     "text": [
      "model shape: (None, 32)\n",
      "model shape: (None, 64)\n"
     ]
    }
   ],
   "source": [
    "model.add(tf.keras.layers.Dense(32, activation=\"relu\", name=\"Dense_32\"))\n",
    "print(\"model shape:\", model.output_shape)\n",
    "model.add(tf.keras.layers.Dense(64, activation=\"relu\", name=\"Dense_64\"))\n",
    "print(\"model shape:\", model.output_shape)"
   ]
  },
  {
   "cell_type": "code",
   "execution_count": 38,
   "metadata": {},
   "outputs": [
    {
     "name": "stdout",
     "output_type": "stream",
     "text": [
      "model shape: (None, 10)\n"
     ]
    }
   ],
   "source": [
    "model.add(tf.keras.layers.Dense(10,activation=\"softmax\",name=\"Softmax_10\"))\n",
    "print(\"model shape:\", model.output_shape)"
   ]
  },
  {
   "cell_type": "code",
   "execution_count": 39,
   "metadata": {},
   "outputs": [
    {
     "name": "stdout",
     "output_type": "stream",
     "text": [
      "Model: \"MLP_Early\"\n",
      "_________________________________________________________________\n",
      "Layer (type)                 Output Shape              Param #   \n",
      "=================================================================\n",
      "flatten_3 (Flatten)          (None, 784)               0         \n",
      "_________________________________________________________________\n",
      "Dense_32 (Dense)             (None, 32)                25120     \n",
      "_________________________________________________________________\n",
      "Dense_64 (Dense)             (None, 64)                2112      \n",
      "_________________________________________________________________\n",
      "Softmax_10 (Dense)           (None, 10)                650       \n",
      "=================================================================\n",
      "Total params: 27,882\n",
      "Trainable params: 27,882\n",
      "Non-trainable params: 0\n",
      "_________________________________________________________________\n"
     ]
    }
   ],
   "source": [
    "model.summary()"
   ]
  },
  {
   "cell_type": "code",
   "execution_count": 40,
   "metadata": {},
   "outputs": [],
   "source": [
    "callback=tf.keras.callbacks.EarlyStopping(patience=10,restore_best_weights=True)"
   ]
  },
  {
   "cell_type": "code",
   "execution_count": 41,
   "metadata": {},
   "outputs": [
    {
     "name": "stdout",
     "output_type": "stream",
     "text": [
      "Epoch 1/200\n",
      "240/240 [==============================] - 0s 1ms/step - loss: 0.7369 - val_loss: 0.5001\n",
      "Epoch 2/200\n",
      "240/240 [==============================] - 0s 1ms/step - loss: 0.4588 - val_loss: 0.4407\n",
      "Epoch 3/200\n",
      "240/240 [==============================] - 0s 1ms/step - loss: 0.4187 - val_loss: 0.4359\n",
      "Epoch 4/200\n",
      "240/240 [==============================] - 0s 1ms/step - loss: 0.3937 - val_loss: 0.3983\n",
      "Epoch 5/200\n",
      "240/240 [==============================] - 0s 988us/step - loss: 0.3747 - val_loss: 0.3796\n",
      "Epoch 6/200\n",
      "240/240 [==============================] - 0s 1ms/step - loss: 0.3606 - val_loss: 0.3869\n",
      "Epoch 7/200\n",
      "240/240 [==============================] - 0s 1ms/step - loss: 0.3494 - val_loss: 0.3642\n",
      "Epoch 8/200\n",
      "240/240 [==============================] - 0s 1ms/step - loss: 0.3366 - val_loss: 0.3659\n",
      "Epoch 9/200\n",
      "240/240 [==============================] - 0s 1ms/step - loss: 0.3326 - val_loss: 0.3554\n",
      "Epoch 10/200\n",
      "240/240 [==============================] - 0s 1ms/step - loss: 0.3228 - val_loss: 0.3549\n",
      "Epoch 11/200\n",
      "240/240 [==============================] - 0s 1ms/step - loss: 0.3136 - val_loss: 0.3507\n",
      "Epoch 12/200\n",
      "240/240 [==============================] - 0s 1ms/step - loss: 0.3080 - val_loss: 0.3630\n",
      "Epoch 13/200\n",
      "240/240 [==============================] - 0s 1ms/step - loss: 0.2983 - val_loss: 0.3393\n",
      "Epoch 14/200\n",
      "240/240 [==============================] - 0s 1ms/step - loss: 0.2929 - val_loss: 0.3392\n",
      "Epoch 15/200\n",
      "240/240 [==============================] - 0s 1ms/step - loss: 0.2897 - val_loss: 0.3399\n",
      "Epoch 16/200\n",
      "240/240 [==============================] - 0s 1ms/step - loss: 0.2848 - val_loss: 0.3516\n",
      "Epoch 17/200\n",
      "240/240 [==============================] - 0s 1ms/step - loss: 0.2805 - val_loss: 0.3342\n",
      "Epoch 18/200\n",
      "240/240 [==============================] - 0s 1ms/step - loss: 0.2733 - val_loss: 0.3426\n",
      "Epoch 19/200\n",
      "240/240 [==============================] - 0s 1ms/step - loss: 0.2699 - val_loss: 0.3349\n",
      "Epoch 20/200\n",
      "240/240 [==============================] - 0s 1ms/step - loss: 0.2645 - val_loss: 0.3423\n",
      "Epoch 21/200\n",
      "240/240 [==============================] - 0s 1ms/step - loss: 0.2646 - val_loss: 0.3351\n",
      "Epoch 22/200\n",
      "240/240 [==============================] - 0s 1ms/step - loss: 0.2599 - val_loss: 0.3373\n",
      "Epoch 23/200\n",
      "240/240 [==============================] - 0s 1ms/step - loss: 0.2540 - val_loss: 0.3353\n",
      "Epoch 24/200\n",
      "240/240 [==============================] - 0s 1ms/step - loss: 0.2532 - val_loss: 0.3387\n",
      "Epoch 25/200\n",
      "240/240 [==============================] - 0s 1ms/step - loss: 0.2497 - val_loss: 0.3445\n",
      "Epoch 26/200\n",
      "240/240 [==============================] - 0s 1ms/step - loss: 0.2474 - val_loss: 0.3465\n",
      "Epoch 27/200\n",
      "240/240 [==============================] - 0s 1ms/step - loss: 0.2390 - val_loss: 0.3301\n",
      "Epoch 28/200\n",
      "240/240 [==============================] - 0s 1ms/step - loss: 0.2384 - val_loss: 0.3411\n",
      "Epoch 29/200\n",
      "240/240 [==============================] - 0s 1ms/step - loss: 0.2347 - val_loss: 0.3300\n",
      "Epoch 30/200\n",
      "240/240 [==============================] - 0s 1ms/step - loss: 0.2323 - val_loss: 0.3352\n",
      "Epoch 31/200\n",
      "240/240 [==============================] - 0s 1ms/step - loss: 0.2288 - val_loss: 0.3456\n",
      "Epoch 32/200\n",
      "240/240 [==============================] - 0s 1000us/step - loss: 0.2288 - val_loss: 0.3596\n",
      "Epoch 33/200\n",
      "240/240 [==============================] - 0s 1ms/step - loss: 0.2280 - val_loss: 0.3403\n",
      "Epoch 34/200\n",
      "240/240 [==============================] - 0s 1ms/step - loss: 0.2221 - val_loss: 0.3411\n",
      "Epoch 35/200\n",
      "240/240 [==============================] - 0s 1ms/step - loss: 0.2216 - val_loss: 0.3471\n",
      "Epoch 36/200\n",
      "240/240 [==============================] - 0s 1ms/step - loss: 0.2190 - val_loss: 0.3543\n",
      "Epoch 37/200\n",
      "240/240 [==============================] - 0s 1ms/step - loss: 0.2103 - val_loss: 0.3504\n",
      "Epoch 38/200\n",
      "240/240 [==============================] - 0s 997us/step - loss: 0.2123 - val_loss: 0.3403\n",
      "Epoch 39/200\n",
      "240/240 [==============================] - 0s 1ms/step - loss: 0.2070 - val_loss: 0.3509\n"
     ]
    }
   ],
   "source": [
    "opt = tf.keras.optimizers.Adam(learning_rate=0.001,clipnorm=1)\n",
    "model.compile(optimizer=opt, loss=\"categorical_crossentropy\")\n",
    "history=model.fit(x=x_train,y=y_train,epochs=200,batch_size=200,callbacks=[callback],validation_data=(x_validation,y_validation))"
   ]
  },
  {
   "cell_type": "code",
   "execution_count": 42,
   "metadata": {},
   "outputs": [
    {
     "data": {
      "image/png": "[encoded data removed]",
      "text/plain": [
       "<Figure size 432x288 with 1 Axes>"
      ]
     },
     "metadata": {
      "needs_background": "light"
     },
     "output_type": "display_data"
    },
    {
     "data": {
      "image/png": "[encoded data removed]",
      "text/plain": [
       "<Figure size 432x288 with 1 Axes>"
      ]
     },
     "metadata": {
      "needs_background": "light"
     },
     "output_type": "display_data"
    }
   ],
   "source": [
    "plt.plot(history.history['loss'])\n",
    "plt.title('Evolution of training loss in the model')\n",
    "plt.xlabel('Epochs')\n",
    "plt.ylabel('Training loss')\n",
    "plt.savefig(\"mlp_train_loss.png\")\n",
    "plt.show()\n",
    "plt.plot(history.history['val_loss'])\n",
    "plt.title('Evolution of validation loss in the model')\n",
    "plt.xlabel('Epochs')\n",
    "plt.ylabel('Validation loss')\n",
    "plt.savefig(\"mlp_val_loss.png\")\n",
    "plt.show()"
   ]
  },
  {
   "cell_type": "code",
   "execution_count": 15,
   "metadata": {},
   "outputs": [
    {
     "name": "stdout",
     "output_type": "stream",
     "text": [
      "Accuracy score: 0.8735 \n",
      " Confusion Matrix: [[840   3  22  22   2   0 107   0   4   0]\n",
      " [  1 967   0  23   4   0   3   0   2   0]\n",
      " [ 17   1 754   8 136   0  83   0   1   0]\n",
      " [ 39  11  20 851  43   0  33   0   3   0]\n",
      " [  0   2  71  21 835   0  69   0   2   0]\n",
      " [  2   0   0   0   0 948   0  24   1  25]\n",
      " [138   0  79  26  72   0 681   0   4   0]\n",
      " [  0   0   0   0   0  21   0 944   1  34]\n",
      " [  8   0  13   6   5   2  10   4 952   0]\n",
      " [  0   0   0   0   0   5   2  30   0 963]]\n"
     ]
    }
   ],
   "source": [
    "y_prediction=model.predict(x=x_test,batch_size=200,callbacks=[callback])\n",
    "y_prediction=np.argmax(y_prediction, axis=1)\n",
    "y_prediction=tf.keras.utils.to_categorical(y_prediction, num_classes=10, dtype=\"float32\")\n",
    "print(\"Accuracy score:\", accuracy_score(y_test, y_prediction),\"\\n\",\"Confusion Matrix:\",confusion_matrix(y_test.argmax(axis=1), y_prediction.argmax(axis=1)))"
   ]
  },
  {
   "cell_type": "markdown",
   "metadata": {},
   "source": [
    "#### \n",
    "### Doing the same thing without early stopping"
   ]
  },
  {
   "cell_type": "code",
   "execution_count": 16,
   "metadata": {},
   "outputs": [
    {
     "name": "stdout",
     "output_type": "stream",
     "text": [
      "model2 shape: (None, 784)\n"
     ]
    }
   ],
   "source": [
    "model2 = tf.keras.Sequential(name=\"MLP_NoEarly\")\n",
    "model2.add(tf.keras.layers.Flatten(input_shape=(28, 28, 1)))\n",
    "print(\"model2 shape:\", model2.output_shape)"
   ]
  },
  {
   "cell_type": "code",
   "execution_count": 17,
   "metadata": {},
   "outputs": [
    {
     "name": "stdout",
     "output_type": "stream",
     "text": [
      "model2 shape: (None, 32)\n",
      "model2 shape: (None, 64)\n"
     ]
    }
   ],
   "source": [
    "model2.add(tf.keras.layers.Dense(32, activation=\"relu\", name=\"Dense_32\"))\n",
    "print(\"model2 shape:\", model2.output_shape)\n",
    "model2.add(tf.keras.layers.Dense(64, activation=\"relu\", name=\"Dense_64\"))\n",
    "print(\"model2 shape:\", model2.output_shape)"
   ]
  },
  {
   "cell_type": "code",
   "execution_count": 18,
   "metadata": {},
   "outputs": [
    {
     "name": "stdout",
     "output_type": "stream",
     "text": [
      "model2 shape: (None, 10)\n"
     ]
    }
   ],
   "source": [
    "model2.add(tf.keras.layers.Dense(10,activation=\"softmax\",name=\"Softmax_10\"))\n",
    "print(\"model2 shape:\", model2.output_shape)"
   ]
  },
  {
   "cell_type": "code",
   "execution_count": 19,
   "metadata": {},
   "outputs": [
    {
     "name": "stdout",
     "output_type": "stream",
     "text": [
      "Model: \"MLP_NoEarly\"\n",
      "_________________________________________________________________\n",
      "Layer (type)                 Output Shape              Param #   \n",
      "=================================================================\n",
      "flatten_1 (Flatten)          (None, 784)               0         \n",
      "_________________________________________________________________\n",
      "Dense_32 (Dense)             (None, 32)                25120     \n",
      "_________________________________________________________________\n",
      "Dense_64 (Dense)             (None, 64)                2112      \n",
      "_________________________________________________________________\n",
      "Softmax_10 (Dense)           (None, 10)                650       \n",
      "=================================================================\n",
      "Total params: 27,882\n",
      "Trainable params: 27,882\n",
      "Non-trainable params: 0\n",
      "_________________________________________________________________\n"
     ]
    }
   ],
   "source": [
    "model2.summary()"
   ]
  },
  {
   "cell_type": "code",
   "execution_count": 20,
   "metadata": {},
   "outputs": [
    {
     "name": "stdout",
     "output_type": "stream",
     "text": [
      "Epoch 1/200\n",
      "240/240 [==============================] - 0s 1ms/step - loss: 0.7621 - val_loss: 0.4871\n",
      "Epoch 2/200\n",
      "240/240 [==============================] - 0s 998us/step - loss: 0.4537 - val_loss: 0.4332\n",
      "Epoch 3/200\n",
      "240/240 [==============================] - 0s 1ms/step - loss: 0.4085 - val_loss: 0.4468\n",
      "Epoch 4/200\n",
      "240/240 [==============================] - 0s 983us/step - loss: 0.3896 - val_loss: 0.3941\n",
      "Epoch 5/200\n",
      "240/240 [==============================] - 0s 988us/step - loss: 0.3702 - val_loss: 0.3860\n",
      "Epoch 6/200\n",
      "240/240 [==============================] - 0s 995us/step - loss: 0.3585 - val_loss: 0.3790\n",
      "Epoch 7/200\n",
      "240/240 [==============================] - 0s 997us/step - loss: 0.3441 - val_loss: 0.3876\n",
      "Epoch 8/200\n",
      "240/240 [==============================] - 0s 1ms/step - loss: 0.3347 - val_loss: 0.3593\n",
      "Epoch 9/200\n",
      "240/240 [==============================] - 0s 1ms/step - loss: 0.3263 - val_loss: 0.3597\n",
      "Epoch 10/200\n",
      "240/240 [==============================] - 0s 991us/step - loss: 0.3174 - val_loss: 0.3496\n",
      "Epoch 11/200\n",
      "240/240 [==============================] - 0s 999us/step - loss: 0.3080 - val_loss: 0.3520\n",
      "Epoch 12/200\n",
      "240/240 [==============================] - 0s 1ms/step - loss: 0.3040 - val_loss: 0.3569\n",
      "Epoch 13/200\n",
      "240/240 [==============================] - 0s 982us/step - loss: 0.2954 - val_loss: 0.3406\n",
      "Epoch 14/200\n",
      "240/240 [==============================] - 0s 1ms/step - loss: 0.2924 - val_loss: 0.3400\n",
      "Epoch 15/200\n",
      "240/240 [==============================] - 0s 1ms/step - loss: 0.2838 - val_loss: 0.3652\n",
      "Epoch 16/200\n",
      "240/240 [==============================] - 0s 1ms/step - loss: 0.2810 - val_loss: 0.3417\n",
      "Epoch 17/200\n",
      "240/240 [==============================] - 0s 1ms/step - loss: 0.2743 - val_loss: 0.3518\n",
      "Epoch 18/200\n",
      "240/240 [==============================] - 0s 1ms/step - loss: 0.2708 - val_loss: 0.3481\n",
      "Epoch 19/200\n",
      "240/240 [==============================] - 0s 1ms/step - loss: 0.2637 - val_loss: 0.3344\n",
      "Epoch 20/200\n",
      "240/240 [==============================] - 0s 1ms/step - loss: 0.2613 - val_loss: 0.3428\n",
      "Epoch 21/200\n",
      "240/240 [==============================] - 0s 975us/step - loss: 0.2565 - val_loss: 0.3450\n",
      "Epoch 22/200\n",
      "240/240 [==============================] - 0s 1ms/step - loss: 0.2595 - val_loss: 0.3373\n",
      "Epoch 23/200\n",
      "240/240 [==============================] - 0s 1ms/step - loss: 0.2502 - val_loss: 0.3429\n",
      "Epoch 24/200\n",
      "240/240 [==============================] - 0s 1ms/step - loss: 0.2466 - val_loss: 0.3415\n",
      "Epoch 25/200\n",
      "240/240 [==============================] - 0s 985us/step - loss: 0.2449 - val_loss: 0.3440\n",
      "Epoch 26/200\n",
      "240/240 [==============================] - 0s 1ms/step - loss: 0.2423 - val_loss: 0.3329\n",
      "Epoch 27/200\n",
      "240/240 [==============================] - 0s 1ms/step - loss: 0.2381 - val_loss: 0.3337\n",
      "Epoch 28/200\n",
      "240/240 [==============================] - 0s 1ms/step - loss: 0.2356 - val_loss: 0.3421\n",
      "Epoch 29/200\n",
      "240/240 [==============================] - 0s 1ms/step - loss: 0.2318 - val_loss: 0.3396\n",
      "Epoch 30/200\n",
      "240/240 [==============================] - 0s 1ms/step - loss: 0.2289 - val_loss: 0.3495\n",
      "Epoch 31/200\n",
      "240/240 [==============================] - 0s 996us/step - loss: 0.2282 - val_loss: 0.3381\n",
      "Epoch 32/200\n",
      "240/240 [==============================] - 0s 1ms/step - loss: 0.2239 - val_loss: 0.3525\n",
      "Epoch 33/200\n",
      "240/240 [==============================] - 0s 1ms/step - loss: 0.2233 - val_loss: 0.3359\n",
      "Epoch 34/200\n",
      "240/240 [==============================] - 0s 1ms/step - loss: 0.2200 - val_loss: 0.3412\n",
      "Epoch 35/200\n",
      "240/240 [==============================] - 0s 1ms/step - loss: 0.2180 - val_loss: 0.3519\n",
      "Epoch 36/200\n",
      "240/240 [==============================] - 0s 1ms/step - loss: 0.2138 - val_loss: 0.3806\n",
      "Epoch 37/200\n",
      "240/240 [==============================] - 0s 1ms/step - loss: 0.2165 - val_loss: 0.3595\n",
      "Epoch 38/200\n",
      "240/240 [==============================] - 0s 1ms/step - loss: 0.2101 - val_loss: 0.3569\n",
      "Epoch 39/200\n",
      "240/240 [==============================] - 0s 1ms/step - loss: 0.2068 - val_loss: 0.3477\n",
      "Epoch 40/200\n",
      "240/240 [==============================] - 0s 1ms/step - loss: 0.2067 - val_loss: 0.3986\n",
      "Epoch 41/200\n",
      "240/240 [==============================] - 0s 1ms/step - loss: 0.2047 - val_loss: 0.3565\n",
      "Epoch 42/200\n",
      "240/240 [==============================] - 0s 1ms/step - loss: 0.2008 - val_loss: 0.3603\n",
      "Epoch 43/200\n",
      "240/240 [==============================] - 0s 1ms/step - loss: 0.2025 - val_loss: 0.3589\n",
      "Epoch 44/200\n",
      "240/240 [==============================] - 0s 1ms/step - loss: 0.1982 - val_loss: 0.3575\n",
      "Epoch 45/200\n",
      "240/240 [==============================] - 0s 1ms/step - loss: 0.1977 - val_loss: 0.3616\n",
      "Epoch 46/200\n",
      "240/240 [==============================] - 0s 1ms/step - loss: 0.1914 - val_loss: 0.3595\n",
      "Epoch 47/200\n",
      "240/240 [==============================] - 0s 1ms/step - loss: 0.1918 - val_loss: 0.3627\n",
      "Epoch 48/200\n",
      "240/240 [==============================] - 0s 1ms/step - loss: 0.1907 - val_loss: 0.3627\n",
      "Epoch 49/200\n",
      "240/240 [==============================] - 0s 989us/step - loss: 0.1874 - val_loss: 0.3758\n",
      "Epoch 50/200\n",
      "240/240 [==============================] - 0s 994us/step - loss: 0.1843 - val_loss: 0.3751\n",
      "Epoch 51/200\n",
      "240/240 [==============================] - 0s 1ms/step - loss: 0.1858 - val_loss: 0.3720\n",
      "Epoch 52/200\n",
      "240/240 [==============================] - 0s 985us/step - loss: 0.1831 - val_loss: 0.3662\n",
      "Epoch 53/200\n",
      "240/240 [==============================] - 0s 1ms/step - loss: 0.1806 - val_loss: 0.3725\n",
      "Epoch 54/200\n",
      "240/240 [==============================] - 0s 1ms/step - loss: 0.1805 - val_loss: 0.3719\n",
      "Epoch 55/200\n",
      "240/240 [==============================] - 0s 1ms/step - loss: 0.1788 - val_loss: 0.3957\n",
      "Epoch 56/200\n",
      "240/240 [==============================] - 0s 1ms/step - loss: 0.1772 - val_loss: 0.3999\n",
      "Epoch 57/200\n",
      "240/240 [==============================] - 0s 1ms/step - loss: 0.1764 - val_loss: 0.3834\n",
      "Epoch 58/200\n",
      "240/240 [==============================] - 0s 992us/step - loss: 0.1727 - val_loss: 0.3752\n",
      "Epoch 59/200\n",
      "240/240 [==============================] - 0s 1ms/step - loss: 0.1706 - val_loss: 0.3798\n",
      "Epoch 60/200\n",
      "240/240 [==============================] - 0s 988us/step - loss: 0.1726 - val_loss: 0.3836\n",
      "Epoch 61/200\n",
      "240/240 [==============================] - 0s 993us/step - loss: 0.1705 - val_loss: 0.3859\n",
      "Epoch 62/200\n",
      "240/240 [==============================] - 0s 981us/step - loss: 0.1670 - val_loss: 0.3986\n",
      "Epoch 63/200\n",
      "240/240 [==============================] - 0s 982us/step - loss: 0.1664 - val_loss: 0.4002\n",
      "Epoch 64/200\n",
      "240/240 [==============================] - 0s 992us/step - loss: 0.1644 - val_loss: 0.3993\n",
      "Epoch 65/200\n",
      "240/240 [==============================] - 0s 997us/step - loss: 0.1637 - val_loss: 0.4000\n",
      "Epoch 66/200\n",
      "240/240 [==============================] - 0s 1ms/step - loss: 0.1627 - val_loss: 0.4018\n",
      "Epoch 67/200\n",
      "240/240 [==============================] - 0s 992us/step - loss: 0.1575 - val_loss: 0.3886\n",
      "Epoch 68/200\n",
      "240/240 [==============================] - 0s 1ms/step - loss: 0.1565 - val_loss: 0.3925\n",
      "Epoch 69/200\n",
      "240/240 [==============================] - 0s 1ms/step - loss: 0.1588 - val_loss: 0.4066\n",
      "Epoch 70/200\n",
      "240/240 [==============================] - 0s 979us/step - loss: 0.1556 - val_loss: 0.4133\n",
      "Epoch 71/200\n",
      "240/240 [==============================] - 0s 983us/step - loss: 0.1550 - val_loss: 0.4343\n",
      "Epoch 72/200\n",
      "240/240 [==============================] - 0s 984us/step - loss: 0.1526 - val_loss: 0.4292\n",
      "Epoch 73/200\n",
      "240/240 [==============================] - 0s 986us/step - loss: 0.1537 - val_loss: 0.4126\n",
      "Epoch 74/200\n",
      "240/240 [==============================] - 0s 1ms/step - loss: 0.1501 - val_loss: 0.4269\n",
      "Epoch 75/200\n",
      "240/240 [==============================] - 0s 1ms/step - loss: 0.1488 - val_loss: 0.4257\n",
      "Epoch 76/200\n",
      "240/240 [==============================] - 0s 974us/step - loss: 0.1490 - val_loss: 0.4250\n",
      "Epoch 77/200\n",
      "240/240 [==============================] - 0s 1ms/step - loss: 0.1463 - val_loss: 0.4388\n",
      "Epoch 78/200\n",
      "240/240 [==============================] - 0s 1ms/step - loss: 0.1473 - val_loss: 0.4274\n",
      "Epoch 79/200\n",
      "240/240 [==============================] - 0s 1ms/step - loss: 0.1461 - val_loss: 0.4275\n",
      "Epoch 80/200\n",
      "240/240 [==============================] - 0s 1ms/step - loss: 0.1440 - val_loss: 0.4305\n",
      "Epoch 81/200\n",
      "240/240 [==============================] - 0s 1ms/step - loss: 0.1458 - val_loss: 0.4237\n",
      "Epoch 82/200\n",
      "240/240 [==============================] - 0s 1ms/step - loss: 0.1432 - val_loss: 0.4381\n",
      "Epoch 83/200\n",
      "240/240 [==============================] - 0s 1ms/step - loss: 0.1382 - val_loss: 0.4542\n",
      "Epoch 84/200\n",
      "240/240 [==============================] - 0s 1ms/step - loss: 0.1413 - val_loss: 0.4374\n",
      "Epoch 85/200\n",
      "240/240 [==============================] - 0s 1ms/step - loss: 0.1376 - val_loss: 0.4808\n",
      "Epoch 86/200\n",
      "240/240 [==============================] - 0s 1ms/step - loss: 0.1435 - val_loss: 0.4415\n",
      "Epoch 87/200\n",
      "240/240 [==============================] - 0s 1ms/step - loss: 0.1365 - val_loss: 0.4611\n",
      "Epoch 88/200\n",
      "240/240 [==============================] - 0s 1ms/step - loss: 0.1355 - val_loss: 0.4573\n",
      "Epoch 89/200\n",
      "240/240 [==============================] - 0s 1ms/step - loss: 0.1337 - val_loss: 0.4503\n",
      "Epoch 90/200\n",
      "240/240 [==============================] - 0s 1ms/step - loss: 0.1351 - val_loss: 0.4601\n",
      "Epoch 91/200\n",
      "240/240 [==============================] - 0s 1ms/step - loss: 0.1296 - val_loss: 0.4567\n",
      "Epoch 92/200\n",
      "240/240 [==============================] - 0s 1ms/step - loss: 0.1332 - val_loss: 0.4726\n",
      "Epoch 93/200\n",
      "240/240 [==============================] - 0s 2ms/step - loss: 0.1313 - val_loss: 0.4640\n",
      "Epoch 94/200\n",
      "240/240 [==============================] - 0s 1ms/step - loss: 0.1272 - val_loss: 0.4857\n",
      "Epoch 95/200\n",
      "240/240 [==============================] - 0s 1ms/step - loss: 0.1294 - val_loss: 0.4781\n",
      "Epoch 96/200\n",
      "240/240 [==============================] - 0s 1ms/step - loss: 0.1264 - val_loss: 0.4905\n",
      "Epoch 97/200\n",
      "240/240 [==============================] - 0s 981us/step - loss: 0.1279 - val_loss: 0.4654\n",
      "Epoch 98/200\n",
      "240/240 [==============================] - 0s 1ms/step - loss: 0.1271 - val_loss: 0.4770\n",
      "Epoch 99/200\n",
      "240/240 [==============================] - 0s 1ms/step - loss: 0.1247 - val_loss: 0.4802\n",
      "Epoch 100/200\n",
      "240/240 [==============================] - 0s 1ms/step - loss: 0.1267 - val_loss: 0.4883\n",
      "Epoch 101/200\n",
      "240/240 [==============================] - 0s 1ms/step - loss: 0.1232 - val_loss: 0.4803\n",
      "Epoch 102/200\n",
      "240/240 [==============================] - 0s 1ms/step - loss: 0.1240 - val_loss: 0.4817\n",
      "Epoch 103/200\n",
      "240/240 [==============================] - 0s 965us/step - loss: 0.1230 - val_loss: 0.4887\n",
      "Epoch 104/200\n",
      "240/240 [==============================] - 0s 1ms/step - loss: 0.1215 - val_loss: 0.5082\n",
      "Epoch 105/200\n",
      "240/240 [==============================] - 0s 962us/step - loss: 0.1215 - val_loss: 0.4983\n",
      "Epoch 106/200\n",
      "240/240 [==============================] - 0s 1ms/step - loss: 0.1185 - val_loss: 0.5094\n",
      "Epoch 107/200\n",
      "240/240 [==============================] - 0s 971us/step - loss: 0.1215 - val_loss: 0.5298\n",
      "Epoch 108/200\n",
      "240/240 [==============================] - 0s 1ms/step - loss: 0.1178 - val_loss: 0.5212\n",
      "Epoch 109/200\n",
      "240/240 [==============================] - 0s 1ms/step - loss: 0.1214 - val_loss: 0.5101\n",
      "Epoch 110/200\n",
      "240/240 [==============================] - 0s 1ms/step - loss: 0.1165 - val_loss: 0.5115\n",
      "Epoch 111/200\n",
      "240/240 [==============================] - 0s 1ms/step - loss: 0.1135 - val_loss: 0.5192\n",
      "Epoch 112/200\n",
      "240/240 [==============================] - 0s 1ms/step - loss: 0.1160 - val_loss: 0.5340\n",
      "Epoch 113/200\n",
      "240/240 [==============================] - 0s 1ms/step - loss: 0.1156 - val_loss: 0.5285\n",
      "Epoch 114/200\n",
      "240/240 [==============================] - 0s 1ms/step - loss: 0.1128 - val_loss: 0.5296\n",
      "Epoch 115/200\n",
      "240/240 [==============================] - 0s 1ms/step - loss: 0.1143 - val_loss: 0.5404\n",
      "Epoch 116/200\n",
      "240/240 [==============================] - 0s 1ms/step - loss: 0.1123 - val_loss: 0.5489\n",
      "Epoch 117/200\n",
      "240/240 [==============================] - 0s 1ms/step - loss: 0.1107 - val_loss: 0.5602\n",
      "Epoch 118/200\n",
      "240/240 [==============================] - 0s 1ms/step - loss: 0.1099 - val_loss: 0.5328\n",
      "Epoch 119/200\n",
      "240/240 [==============================] - 0s 1ms/step - loss: 0.1117 - val_loss: 0.5201\n",
      "Epoch 120/200\n",
      "240/240 [==============================] - 0s 1ms/step - loss: 0.1100 - val_loss: 0.5334\n",
      "Epoch 121/200\n",
      "240/240 [==============================] - 0s 1ms/step - loss: 0.1086 - val_loss: 0.5302\n",
      "Epoch 122/200\n",
      "240/240 [==============================] - 0s 1ms/step - loss: 0.1055 - val_loss: 0.5467\n",
      "Epoch 123/200\n",
      "240/240 [==============================] - 0s 1ms/step - loss: 0.1056 - val_loss: 0.5356\n",
      "Epoch 124/200\n",
      "240/240 [==============================] - 0s 992us/step - loss: 0.1065 - val_loss: 0.5723\n",
      "Epoch 125/200\n",
      "240/240 [==============================] - 0s 1ms/step - loss: 0.1075 - val_loss: 0.5686\n",
      "Epoch 126/200\n",
      "240/240 [==============================] - 0s 1ms/step - loss: 0.1067 - val_loss: 0.5843\n",
      "Epoch 127/200\n",
      "240/240 [==============================] - 0s 979us/step - loss: 0.1027 - val_loss: 0.5580\n",
      "Epoch 128/200\n",
      "240/240 [==============================] - 0s 995us/step - loss: 0.1075 - val_loss: 0.5813\n",
      "Epoch 129/200\n",
      "240/240 [==============================] - 0s 975us/step - loss: 0.1020 - val_loss: 0.5569\n",
      "Epoch 130/200\n",
      "240/240 [==============================] - 0s 988us/step - loss: 0.1041 - val_loss: 0.5747\n",
      "Epoch 131/200\n",
      "240/240 [==============================] - 0s 986us/step - loss: 0.1041 - val_loss: 0.5786\n",
      "Epoch 132/200\n",
      "240/240 [==============================] - 0s 1ms/step - loss: 0.1012 - val_loss: 0.5577\n",
      "Epoch 133/200\n",
      "240/240 [==============================] - 0s 970us/step - loss: 0.0992 - val_loss: 0.5839\n",
      "Epoch 134/200\n",
      "240/240 [==============================] - 0s 989us/step - loss: 0.1001 - val_loss: 0.5669\n",
      "Epoch 135/200\n",
      "240/240 [==============================] - 0s 989us/step - loss: 0.0986 - val_loss: 0.5822\n",
      "Epoch 136/200\n",
      "240/240 [==============================] - 0s 1ms/step - loss: 0.0990 - val_loss: 0.6055\n",
      "Epoch 137/200\n",
      "240/240 [==============================] - 0s 985us/step - loss: 0.0982 - val_loss: 0.5948\n",
      "Epoch 138/200\n",
      "240/240 [==============================] - 0s 991us/step - loss: 0.0974 - val_loss: 0.5959\n",
      "Epoch 139/200\n",
      "240/240 [==============================] - 0s 992us/step - loss: 0.1015 - val_loss: 0.5978\n",
      "Epoch 140/200\n",
      "240/240 [==============================] - 0s 1ms/step - loss: 0.0954 - val_loss: 0.6046\n",
      "Epoch 141/200\n",
      "240/240 [==============================] - 0s 998us/step - loss: 0.0935 - val_loss: 0.5828\n",
      "Epoch 142/200\n",
      "240/240 [==============================] - 0s 1ms/step - loss: 0.0947 - val_loss: 0.6024\n",
      "Epoch 143/200\n",
      "240/240 [==============================] - 0s 1ms/step - loss: 0.0941 - val_loss: 0.6099\n",
      "Epoch 144/200\n",
      "240/240 [==============================] - 0s 1ms/step - loss: 0.0929 - val_loss: 0.6010\n",
      "Epoch 145/200\n",
      "240/240 [==============================] - 0s 1000us/step - loss: 0.0916 - val_loss: 0.6322\n",
      "Epoch 146/200\n",
      "240/240 [==============================] - 0s 1ms/step - loss: 0.0952 - val_loss: 0.6134\n",
      "Epoch 147/200\n",
      "240/240 [==============================] - 0s 997us/step - loss: 0.0935 - val_loss: 0.6089\n",
      "Epoch 148/200\n",
      "240/240 [==============================] - 0s 1ms/step - loss: 0.0923 - val_loss: 0.6516\n",
      "Epoch 149/200\n",
      "240/240 [==============================] - 0s 1ms/step - loss: 0.0918 - val_loss: 0.6519\n",
      "Epoch 150/200\n",
      "240/240 [==============================] - 0s 1ms/step - loss: 0.0916 - val_loss: 0.6217\n",
      "Epoch 151/200\n",
      "240/240 [==============================] - 0s 1ms/step - loss: 0.0910 - val_loss: 0.6291\n",
      "Epoch 152/200\n",
      "240/240 [==============================] - 0s 1ms/step - loss: 0.0883 - val_loss: 0.6637\n",
      "Epoch 153/200\n",
      "240/240 [==============================] - 0s 974us/step - loss: 0.0893 - val_loss: 0.6238\n",
      "Epoch 154/200\n",
      "240/240 [==============================] - 0s 988us/step - loss: 0.0926 - val_loss: 0.6531\n",
      "Epoch 155/200\n",
      "240/240 [==============================] - 0s 983us/step - loss: 0.0898 - val_loss: 0.6482\n",
      "Epoch 156/200\n",
      "240/240 [==============================] - 0s 988us/step - loss: 0.0855 - val_loss: 0.6363\n",
      "Epoch 157/200\n",
      "240/240 [==============================] - 0s 987us/step - loss: 0.0865 - val_loss: 0.6521\n",
      "Epoch 158/200\n",
      "240/240 [==============================] - 0s 987us/step - loss: 0.0876 - val_loss: 0.6677\n",
      "Epoch 159/200\n",
      "240/240 [==============================] - 0s 1ms/step - loss: 0.0827 - val_loss: 0.6633\n",
      "Epoch 160/200\n",
      "240/240 [==============================] - 0s 977us/step - loss: 0.0860 - val_loss: 0.6917\n",
      "Epoch 161/200\n",
      "240/240 [==============================] - 0s 1ms/step - loss: 0.0849 - val_loss: 0.6739\n",
      "Epoch 162/200\n",
      "240/240 [==============================] - 0s 999us/step - loss: 0.0867 - val_loss: 0.6455\n",
      "Epoch 163/200\n",
      "240/240 [==============================] - 0s 1ms/step - loss: 0.0842 - val_loss: 0.6820\n",
      "Epoch 164/200\n",
      "240/240 [==============================] - 0s 1ms/step - loss: 0.0857 - val_loss: 0.6693\n",
      "Epoch 165/200\n",
      "240/240 [==============================] - 0s 1ms/step - loss: 0.0852 - val_loss: 0.6814\n",
      "Epoch 166/200\n",
      "240/240 [==============================] - 0s 1ms/step - loss: 0.0852 - val_loss: 0.6755\n",
      "Epoch 167/200\n",
      "240/240 [==============================] - 0s 1ms/step - loss: 0.0881 - val_loss: 0.7252\n",
      "Epoch 168/200\n",
      "240/240 [==============================] - 0s 1ms/step - loss: 0.0820 - val_loss: 0.6841\n",
      "Epoch 169/200\n",
      "240/240 [==============================] - 0s 1ms/step - loss: 0.0818 - val_loss: 0.6970\n",
      "Epoch 170/200\n",
      "240/240 [==============================] - 0s 1ms/step - loss: 0.0841 - val_loss: 0.6796\n",
      "Epoch 171/200\n",
      "240/240 [==============================] - 0s 1ms/step - loss: 0.0822 - val_loss: 0.6898\n",
      "Epoch 172/200\n",
      "240/240 [==============================] - 0s 1ms/step - loss: 0.0794 - val_loss: 0.7069\n",
      "Epoch 173/200\n",
      "240/240 [==============================] - 0s 1ms/step - loss: 0.0797 - val_loss: 0.6953\n",
      "Epoch 174/200\n",
      "240/240 [==============================] - 0s 997us/step - loss: 0.0790 - val_loss: 0.6902\n",
      "Epoch 175/200\n",
      "240/240 [==============================] - 0s 1ms/step - loss: 0.0841 - val_loss: 0.6928\n",
      "Epoch 176/200\n",
      "240/240 [==============================] - 0s 1ms/step - loss: 0.0774 - val_loss: 0.6946\n",
      "Epoch 177/200\n",
      "240/240 [==============================] - 0s 978us/step - loss: 0.0814 - val_loss: 0.7217\n",
      "Epoch 178/200\n",
      "240/240 [==============================] - 0s 985us/step - loss: 0.0784 - val_loss: 0.6979\n",
      "Epoch 179/200\n",
      "240/240 [==============================] - 0s 981us/step - loss: 0.0774 - val_loss: 0.7165\n",
      "Epoch 180/200\n",
      "240/240 [==============================] - 0s 995us/step - loss: 0.0824 - val_loss: 0.7083\n",
      "Epoch 181/200\n",
      "240/240 [==============================] - 0s 993us/step - loss: 0.0744 - val_loss: 0.7202\n",
      "Epoch 182/200\n",
      "240/240 [==============================] - 0s 984us/step - loss: 0.0828 - val_loss: 0.7483\n",
      "Epoch 183/200\n",
      "240/240 [==============================] - 0s 994us/step - loss: 0.0770 - val_loss: 0.7263\n",
      "Epoch 184/200\n",
      "240/240 [==============================] - 0s 987us/step - loss: 0.0766 - val_loss: 0.7404\n",
      "Epoch 185/200\n",
      "240/240 [==============================] - 0s 1ms/step - loss: 0.0730 - val_loss: 0.7099\n",
      "Epoch 186/200\n",
      "240/240 [==============================] - 0s 1ms/step - loss: 0.0750 - val_loss: 0.7341\n",
      "Epoch 187/200\n",
      "240/240 [==============================] - 0s 1ms/step - loss: 0.0790 - val_loss: 0.7316\n",
      "Epoch 188/200\n",
      "240/240 [==============================] - 0s 1ms/step - loss: 0.0725 - val_loss: 0.7313\n",
      "Epoch 189/200\n",
      "240/240 [==============================] - 0s 1ms/step - loss: 0.0736 - val_loss: 0.7815\n",
      "Epoch 190/200\n",
      "240/240 [==============================] - 0s 1ms/step - loss: 0.0723 - val_loss: 0.7728\n",
      "Epoch 191/200\n",
      "240/240 [==============================] - 0s 1ms/step - loss: 0.0754 - val_loss: 0.7395\n",
      "Epoch 192/200\n",
      "240/240 [==============================] - 0s 1ms/step - loss: 0.0739 - val_loss: 0.7330\n",
      "Epoch 193/200\n",
      "240/240 [==============================] - 0s 1ms/step - loss: 0.0725 - val_loss: 0.7466\n",
      "Epoch 194/200\n",
      "240/240 [==============================] - 0s 1ms/step - loss: 0.0684 - val_loss: 0.7701\n",
      "Epoch 195/200\n",
      "240/240 [==============================] - 0s 1ms/step - loss: 0.0737 - val_loss: 0.7394\n",
      "Epoch 196/200\n",
      "240/240 [==============================] - 0s 1ms/step - loss: 0.0721 - val_loss: 0.7697\n",
      "Epoch 197/200\n",
      "240/240 [==============================] - 0s 1ms/step - loss: 0.0687 - val_loss: 0.7732\n",
      "Epoch 198/200\n",
      "240/240 [==============================] - 0s 995us/step - loss: 0.0711 - val_loss: 0.7801\n",
      "Epoch 199/200\n",
      "240/240 [==============================] - 0s 1ms/step - loss: 0.0690 - val_loss: 0.7514\n",
      "Epoch 200/200\n",
      "240/240 [==============================] - 0s 1ms/step - loss: 0.0687 - val_loss: 0.7610\n"
     ]
    }
   ],
   "source": [
    "opt = tf.keras.optimizers.Adam(learning_rate=0.001,clipnorm=1)\n",
    "model2.compile(optimizer=opt, loss=\"categorical_crossentropy\")\n",
    "history=model2.fit(x=x_train,y=y_train,epochs=200,batch_size=200,validation_data=(x_validation,y_validation))"
   ]
  },
  {
   "cell_type": "code",
   "execution_count": 22,
   "metadata": {},
   "outputs": [
    {
     "data": {
      "image/png": "[encoded data removed]",
      "text/plain": [
       "<Figure size 432x288 with 1 Axes>"
      ]
     },
     "metadata": {
      "needs_background": "light"
     },
     "output_type": "display_data"
    },
    {
     "data": {
      "image/png": "[encoded data removed]",
      "text/plain": [
       "<Figure size 432x288 with 1 Axes>"
      ]
     },
     "metadata": {
      "needs_background": "light"
     },
     "output_type": "display_data"
    }
   ],
   "source": [
    "plt.plot(history.history['loss'])\n",
    "plt.title('Evolution of training loss in the model')\n",
    "plt.xlabel('Epochs')\n",
    "plt.ylabel('Training loss')\n",
    "plt.show()\n",
    "plt.plot(history.history['val_loss'])\n",
    "plt.title('Evolution of validation loss in the model')\n",
    "plt.xlabel('Epochs')\n",
    "plt.ylabel('Validation loss')\n",
    "plt.show()"
   ]
  },
  {
   "cell_type": "code",
   "execution_count": 23,
   "metadata": {},
   "outputs": [
    {
     "name": "stdout",
     "output_type": "stream",
     "text": [
      "Accuracy score: 0.8638 \n",
      " Confusion Matrix: [[802   6  14  28   4   2 136   0   8   0]\n",
      " [  5 962   2  19   7   0   4   0   1   0]\n",
      " [ 26   0 767  14 115   0  69   1   8   0]\n",
      " [ 25  16  13 847  43   0  46   1   8   1]\n",
      " [  0   1  94  24 820   1  57   0   3   0]\n",
      " [  0   0   0   1   0 924   1  38   6  30]\n",
      " [118   1  84  21  80   0 689   0   7   0]\n",
      " [  0   0   1   0   0  20   0 934   2  43]\n",
      " [  5   1  10   6   5   4  17   4 948   0]\n",
      " [  0   0   0   0   0  12   1  42   0 945]]\n"
     ]
    }
   ],
   "source": [
    "y_prediction=model2.predict(x=x_test,batch_size=200)\n",
    "y_prediction=np.argmax(y_prediction, axis=1)\n",
    "y_prediction=tf.keras.utils.to_categorical(y_prediction, num_classes=10, dtype=\"float32\")\n",
    "print(\"Accuracy score:\", accuracy_score(y_test, y_prediction),\"\\n\",\"Confusion Matrix:\",confusion_matrix(y_test.argmax(axis=1), y_prediction.argmax(axis=1)))"
   ]
  },
  {
   "cell_type": "markdown",
   "metadata": {},
   "source": [
    "#### \n",
    "## 1.3 CNN"
   ]
  },
  {
   "cell_type": "code",
   "execution_count": 24,
   "metadata": {},
   "outputs": [
    {
     "name": "stdout",
     "output_type": "stream",
     "text": [
      "model2 shape: (None, 26, 26, 16)\n"
     ]
    }
   ],
   "source": [
    "model3 = tf.keras.Sequential(name=\"CNN\")\n",
    "model3.add(tf.keras.layers.Conv2D(16,3,input_shape=(28, 28, 1),activation=\"relu\"))\n",
    "print(\"model2 shape:\", model3.output_shape)"
   ]
  },
  {
   "cell_type": "code",
   "execution_count": 25,
   "metadata": {},
   "outputs": [
    {
     "name": "stdout",
     "output_type": "stream",
     "text": [
      "model2 shape: (None, 13, 13, 16)\n"
     ]
    }
   ],
   "source": [
    "model3.add(tf.keras.layers.MaxPooling2D(pool_size=(2, 2)))\n",
    "print(\"model2 shape:\", model3.output_shape)"
   ]
  },
  {
   "cell_type": "code",
   "execution_count": 26,
   "metadata": {},
   "outputs": [
    {
     "name": "stdout",
     "output_type": "stream",
     "text": [
      "model2 shape: (None, 11, 11, 16)\n"
     ]
    }
   ],
   "source": [
    "model3.add(tf.keras.layers.Conv2D(16,3,input_shape=(28, 28, 1),activation=\"relu\"))\n",
    "print(\"model2 shape:\", model3.output_shape)"
   ]
  },
  {
   "cell_type": "code",
   "execution_count": 27,
   "metadata": {},
   "outputs": [
    {
     "name": "stdout",
     "output_type": "stream",
     "text": [
      "model2 shape: (None, 5, 5, 16)\n"
     ]
    }
   ],
   "source": [
    "model3.add(tf.keras.layers.MaxPooling2D(pool_size=(2, 2)))\n",
    "print(\"model2 shape:\", model3.output_shape)"
   ]
  },
  {
   "cell_type": "code",
   "execution_count": 28,
   "metadata": {},
   "outputs": [
    {
     "name": "stdout",
     "output_type": "stream",
     "text": [
      "model3 shape: (None, 32)\n"
     ]
    }
   ],
   "source": [
    "model3.add(tf.keras.layers.Flatten())\n",
    "model3.add(tf.keras.layers.Dense(32, activation=\"relu\", name=\"Dense_32\"))\n",
    "print(\"model3 shape:\", model3.output_shape)"
   ]
  },
  {
   "cell_type": "code",
   "execution_count": 29,
   "metadata": {},
   "outputs": [
    {
     "name": "stdout",
     "output_type": "stream",
     "text": [
      "model3 shape: (None, 10)\n"
     ]
    }
   ],
   "source": [
    "model3.add(tf.keras.layers.Dense(10,activation=\"softmax\",name=\"Softmax_10_2\"))\n",
    "print(\"model3 shape:\", model3.output_shape)"
   ]
  },
  {
   "cell_type": "code",
   "execution_count": 30,
   "metadata": {},
   "outputs": [
    {
     "name": "stdout",
     "output_type": "stream",
     "text": [
      "Model: \"CNN\"\n",
      "_________________________________________________________________\n",
      "Layer (type)                 Output Shape              Param #   \n",
      "=================================================================\n",
      "conv2d (Conv2D)              (None, 26, 26, 16)        160       \n",
      "_________________________________________________________________\n",
      "max_pooling2d (MaxPooling2D) (None, 13, 13, 16)        0         \n",
      "_________________________________________________________________\n",
      "conv2d_1 (Conv2D)            (None, 11, 11, 16)        2320      \n",
      "_________________________________________________________________\n",
      "max_pooling2d_1 (MaxPooling2 (None, 5, 5, 16)          0         \n",
      "_________________________________________________________________\n",
      "flatten_2 (Flatten)          (None, 400)               0         \n",
      "_________________________________________________________________\n",
      "Dense_32 (Dense)             (None, 32)                12832     \n",
      "_________________________________________________________________\n",
      "Softmax_10_2 (Dense)         (None, 10)                330       \n",
      "=================================================================\n",
      "Total params: 15,642\n",
      "Trainable params: 15,642\n",
      "Non-trainable params: 0\n",
      "_________________________________________________________________\n"
     ]
    }
   ],
   "source": [
    "model3.summary()"
   ]
  },
  {
   "cell_type": "code",
   "execution_count": 31,
   "metadata": {},
   "outputs": [
    {
     "name": "stdout",
     "output_type": "stream",
     "text": [
      "Epoch 1/200\n",
      "240/240 [==============================] - 5s 21ms/step - loss: 0.5953 - val_loss: 0.4400\n",
      "Epoch 2/200\n",
      "240/240 [==============================] - 5s 21ms/step - loss: 0.4156 - val_loss: 0.3977\n",
      "Epoch 3/200\n",
      "240/240 [==============================] - 5s 21ms/step - loss: 0.3745 - val_loss: 0.3666\n",
      "Epoch 4/200\n",
      "240/240 [==============================] - 5s 21ms/step - loss: 0.3506 - val_loss: 0.3470\n",
      "Epoch 5/200\n",
      "240/240 [==============================] - 5s 21ms/step - loss: 0.3326 - val_loss: 0.3373\n",
      "Epoch 6/200\n",
      "240/240 [==============================] - 5s 22ms/step - loss: 0.3154 - val_loss: 0.3305\n",
      "Epoch 7/200\n",
      "240/240 [==============================] - 5s 22ms/step - loss: 0.3062 - val_loss: 0.3183\n",
      "Epoch 8/200\n",
      "240/240 [==============================] - 5s 22ms/step - loss: 0.2979 - val_loss: 0.3168\n",
      "Epoch 9/200\n",
      "240/240 [==============================] - 5s 21ms/step - loss: 0.2897 - val_loss: 0.3129\n",
      "Epoch 10/200\n",
      "240/240 [==============================] - 5s 21ms/step - loss: 0.2824 - val_loss: 0.3036\n",
      "Epoch 11/200\n",
      "240/240 [==============================] - 5s 21ms/step - loss: 0.2757 - val_loss: 0.2955\n",
      "Epoch 12/200\n",
      "240/240 [==============================] - 5s 20ms/step - loss: 0.2720 - val_loss: 0.2904\n",
      "Epoch 13/200\n",
      "240/240 [==============================] - 5s 20ms/step - loss: 0.2670 - val_loss: 0.2893\n",
      "Epoch 14/200\n",
      "240/240 [==============================] - 5s 21ms/step - loss: 0.2598 - val_loss: 0.2982\n",
      "Epoch 15/200\n",
      "240/240 [==============================] - 5s 21ms/step - loss: 0.2587 - val_loss: 0.2885\n",
      "Epoch 16/200\n",
      "240/240 [==============================] - 5s 22ms/step - loss: 0.2544 - val_loss: 0.3073\n",
      "Epoch 17/200\n",
      "240/240 [==============================] - 5s 22ms/step - loss: 0.2486 - val_loss: 0.2862\n",
      "Epoch 18/200\n",
      "240/240 [==============================] - 5s 21ms/step - loss: 0.2430 - val_loss: 0.2869\n",
      "Epoch 19/200\n",
      "240/240 [==============================] - 5s 21ms/step - loss: 0.2417 - val_loss: 0.2804\n",
      "Epoch 20/200\n",
      "240/240 [==============================] - 5s 22ms/step - loss: 0.2390 - val_loss: 0.2870\n",
      "Epoch 21/200\n",
      "240/240 [==============================] - 5s 21ms/step - loss: 0.2363 - val_loss: 0.2772\n",
      "Epoch 22/200\n",
      "240/240 [==============================] - 5s 21ms/step - loss: 0.2320 - val_loss: 0.2791\n",
      "Epoch 23/200\n",
      "240/240 [==============================] - 5s 21ms/step - loss: 0.2315 - val_loss: 0.2787\n",
      "Epoch 24/200\n",
      "240/240 [==============================] - 5s 21ms/step - loss: 0.2272 - val_loss: 0.2855\n",
      "Epoch 25/200\n",
      "240/240 [==============================] - 5s 21ms/step - loss: 0.2246 - val_loss: 0.2897\n",
      "Epoch 26/200\n",
      "240/240 [==============================] - 5s 21ms/step - loss: 0.2207 - val_loss: 0.2899\n",
      "Epoch 27/200\n",
      "240/240 [==============================] - 5s 21ms/step - loss: 0.2179 - val_loss: 0.2866\n",
      "Epoch 28/200\n",
      "240/240 [==============================] - 5s 21ms/step - loss: 0.2155 - val_loss: 0.2783\n",
      "Epoch 29/200\n",
      "240/240 [==============================] - 5s 21ms/step - loss: 0.2149 - val_loss: 0.2943\n",
      "Epoch 30/200\n",
      "240/240 [==============================] - 5s 21ms/step - loss: 0.2090 - val_loss: 0.2785\n",
      "Epoch 31/200\n",
      "240/240 [==============================] - 5s 21ms/step - loss: 0.2103 - val_loss: 0.2857\n"
     ]
    }
   ],
   "source": [
    "model3.compile(optimizer=opt, loss=\"categorical_crossentropy\")\n",
    "history=model3.fit(x=x_train,y=y_train,epochs=200,batch_size=200,callbacks=[callback],validation_data=(x_validation,y_validation))"
   ]
  },
  {
   "cell_type": "code",
   "execution_count": 33,
   "metadata": {},
   "outputs": [
    {
     "data": {
      "image/png": "[encoded data removed]",
      "text/plain": [
       "<Figure size 432x288 with 1 Axes>"
      ]
     },
     "metadata": {
      "needs_background": "light"
     },
     "output_type": "display_data"
    },
    {
     "data": {
      "image/png": "[encoded data removed]",
      "text/plain": [
       "<Figure size 432x288 with 1 Axes>"
      ]
     },
     "metadata": {
      "needs_background": "light"
     },
     "output_type": "display_data"
    }
   ],
   "source": [
    "plt.plot(history.history['loss'])\n",
    "plt.title('Evolution of training loss in the model')\n",
    "plt.xlabel('Epochs')\n",
    "plt.ylabel('Training loss')\n",
    "plt.savefig(\"cnn_train_loss.png\")\n",
    "plt.show()\n",
    "plt.plot(history.history['val_loss'])\n",
    "plt.title('Evolution of validation loss in the model')\n",
    "plt.xlabel('Epochs')\n",
    "plt.ylabel('Validation loss')\n",
    "plt.savefig(\"cnn_val_loss.png\")\n",
    "plt.show()"
   ]
  },
  {
   "cell_type": "code",
   "execution_count": 34,
   "metadata": {},
   "outputs": [
    {
     "name": "stdout",
     "output_type": "stream",
     "text": [
      "Accuracy score: 0.8942 \n",
      " Confusion Matrix: [[838   1  18  28   4   1  99   0  11   0]\n",
      " [  2 972   0  18   4   0   3   0   1   0]\n",
      " [ 14   0 850  11  56   0  65   0   4   0]\n",
      " [ 14   7   8 917  23   0  28   0   3   0]\n",
      " [  1   1  77  37 807   0  75   0   2   0]\n",
      " [  0   0   0   1   0 979   0  13   1   6]\n",
      " [133   1  72  31  58   0 691   0  14   0]\n",
      " [  0   0   0   0   0  11   0 968   1  20]\n",
      " [  4   0   4   4   3   2   5   4 974   0]\n",
      " [  1   0   0   0   0   6   0  47   0 946]]\n"
     ]
    }
   ],
   "source": [
    "y_prediction=model3.predict(x=x_test,batch_size=200)\n",
    "y_prediction=np.argmax(y_prediction, axis=1)\n",
    "y_prediction=tf.keras.utils.to_categorical(y_prediction, num_classes=10, dtype=\"float32\")\n",
    "print(\"Accuracy score:\", accuracy_score(y_test, y_prediction),\"\\n\",\"Confusion Matrix:\",confusion_matrix(y_test.argmax(axis=1), y_prediction.argmax(axis=1)))"
   ]
  },
  {
   "cell_type": "code",
   "execution_count": 35,
   "metadata": {},
   "outputs": [
    {
     "data": {
      "image/png": "[encoded data removed]",
      "text/plain": [
       "<Figure size 432x288 with 1 Axes>"
      ]
     },
     "metadata": {
      "needs_background": "light"
     },
     "output_type": "display_data"
    },
    {
     "data": {
      "image/png": "[encoded data removed]",
      "text/plain": [
       "<Figure size 432x288 with 16 Axes>"
      ]
     },
     "metadata": {
      "needs_background": "light"
     },
     "output_type": "display_data"
    },
    {
     "data": {
      "image/png": "[encoded data removed]",
      "text/plain": [
       "<Figure size 432x288 with 16 Axes>"
      ]
     },
     "metadata": {
      "needs_background": "light"
     },
     "output_type": "display_data"
    }
   ],
   "source": [
    "image = x_train[13].copy()\n",
    "image = image.squeeze()\n",
    "visualize_activations(model3,[0,2],image)"
   ]
  },
  {
   "cell_type": "code",
   "execution_count": null,
   "metadata": {},
   "outputs": [],
   "source": []
  }
 ],
 "metadata": {
  "kernelspec": {
   "display_name": "Python 3",
   "language": "python",
   "name": "python3"
  },
  "language_info": {
   "codemirror_mode": {
    "name": "ipython",
    "version": 3
   },
   "file_extension": ".py",
   "mimetype": "text/x-python",
   "name": "python",
   "nbconvert_exporter": "python",
   "pygments_lexer": "ipython3",
   "version": "3.7.4"
  }
 },
 "nbformat": 4,
 "nbformat_minor": 4
}
