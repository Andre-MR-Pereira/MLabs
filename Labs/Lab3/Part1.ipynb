{
 "cells": [
  {
   "cell_type": "markdown",
   "metadata": {},
   "source": [
    "DATA"
   ]
  },
  {
   "cell_type": "code",
   "execution_count": 1,
   "metadata": {},
   "outputs": [
    {
     "name": "stderr",
     "output_type": "stream",
     "text": [
      "Using TensorFlow backend.\n"
     ]
    }
   ],
   "source": [
    "import tensorflow as tf\n",
    "from visualize_activations import *\n",
    "import numpy as np\n",
    "import matplotlib.pyplot as plt\n",
    "from sklearn.model_selection import train_test_split\n",
    "from sklearn.metrics import accuracy_score,confusion_matrix"
   ]
  },
  {
   "cell_type": "code",
   "execution_count": 2,
   "metadata": {},
   "outputs": [
    {
     "name": "stdout",
     "output_type": "stream",
     "text": [
      "x_train shape: (60000, 28, 28) y_train shape: (60000,) x_test shape: (10000, 28, 28) y_test shape: (10000,)\n"
     ]
    }
   ],
   "source": [
    "(x_train, y_train), (x_test, y_test) = tf.keras.datasets.fashion_mnist.load_data()\n",
    "print(\"x_train shape:\", x_train.shape, \"y_train shape:\", y_train.shape, \"x_test shape:\", x_test.shape, \"y_test shape:\", y_test.shape)"
   ]
  },
  {
   "cell_type": "code",
   "execution_count": 3,
   "metadata": {},
   "outputs": [
    {
     "data": {
      "text/plain": [
       "<matplotlib.image.AxesImage at 0x238d783cc08>"
      ]
     },
     "execution_count": 3,
     "metadata": {},
     "output_type": "execute_result"
    },
    {
     "data": {
      "image/png": "[encoded data removed]",
      "text/plain": [
       "<Figure size 432x288 with 1 Axes>"
      ]
     },
     "metadata": {
      "needs_background": "light"
     },
     "output_type": "display_data"
    }
   ],
   "source": [
    " plt.imshow(x_train[9])"
   ]
  },
  {
   "cell_type": "code",
   "execution_count": 4,
   "metadata": {},
   "outputs": [],
   "source": [
    "x_train=x_train/255\n",
    "x_test=x_test/255"
   ]
  },
  {
   "cell_type": "code",
   "execution_count": 5,
   "metadata": {},
   "outputs": [],
   "source": [
    "y_train=tf.keras.utils.to_categorical(y_train, num_classes=10, dtype=\"float32\")\n",
    "y_test=tf.keras.utils.to_categorical(y_test, num_classes=10, dtype=\"float32\")"
   ]
  },
  {
   "cell_type": "code",
   "execution_count": 6,
   "metadata": {},
   "outputs": [],
   "source": [
    "x_train, x_validation, y_train, y_validation = train_test_split(x_train, y_train, test_size=0.2, random_state=42)"
   ]
  },
  {
   "cell_type": "code",
   "execution_count": 7,
   "metadata": {},
   "outputs": [
    {
     "name": "stdout",
     "output_type": "stream",
     "text": [
      "x_train shape: (48000, 28, 28, 1) x_test shape: (10000, 28, 28, 1) x_validation shape: (12000, 28, 28, 1)\n"
     ]
    }
   ],
   "source": [
    "x_train=np.expand_dims(x_train,axis=3);\n",
    "x_test=np.expand_dims(x_test,axis=3);\n",
    "x_validation=np.expand_dims(x_validation,axis=3)\n",
    "print(\"x_train shape:\", x_train.shape, \"x_test shape:\", x_test.shape,\"x_validation shape:\", x_validation.shape)"
   ]
  },
  {
   "cell_type": "markdown",
   "metadata": {},
   "source": [
    "MLP"
   ]
  },
  {
   "cell_type": "code",
   "execution_count": 8,
   "metadata": {},
   "outputs": [
    {
     "name": "stdout",
     "output_type": "stream",
     "text": [
      "model shape: (None, 784)\n"
     ]
    }
   ],
   "source": [
    "model = tf.keras.Sequential(name=\"Flatten\")\n",
    "model.add(tf.keras.layers.Flatten(input_shape=(28, 28, 1)))\n",
    "print(\"model shape:\", model.output_shape)"
   ]
  },
  {
   "cell_type": "code",
   "execution_count": 9,
   "metadata": {},
   "outputs": [
    {
     "name": "stdout",
     "output_type": "stream",
     "text": [
      "model shape: (None, 32)\n",
      "model shape: (None, 64)\n"
     ]
    }
   ],
   "source": [
    "model.add(tf.keras.layers.Dense(32, activation=\"relu\", name=\"Dense_32\"))\n",
    "print(\"model shape:\", model.output_shape)\n",
    "model.add(tf.keras.layers.Dense(64, activation=\"relu\", name=\"Dense_64\"))\n",
    "print(\"model shape:\", model.output_shape)"
   ]
  },
  {
   "cell_type": "code",
   "execution_count": 10,
   "metadata": {},
   "outputs": [
    {
     "name": "stdout",
     "output_type": "stream",
     "text": [
      "model shape: (None, 10)\n"
     ]
    }
   ],
   "source": [
    "model.add(tf.keras.layers.Dense(10,activation=\"softmax\",name=\"Softmax_10\"))\n",
    "print(\"model shape:\", model.output_shape)"
   ]
  },
  {
   "cell_type": "code",
   "execution_count": 11,
   "metadata": {},
   "outputs": [],
   "source": [
    "callback=tf.keras.callbacks.EarlyStopping(patience=10,restore_best_weights=True)"
   ]
  },
  {
   "cell_type": "code",
   "execution_count": 12,
   "metadata": {},
   "outputs": [
    {
     "name": "stdout",
     "output_type": "stream",
     "text": [
      "Train on 48000 samples, validate on 12000 samples\n",
      "Epoch 1/200\n",
      "48000/48000 [==============================] - 3s 59us/sample - loss: 0.7350 - val_loss: 0.4913\n",
      "Epoch 2/200\n",
      "48000/48000 [==============================] - 2s 38us/sample - loss: 0.4509 - val_loss: 0.4364\n",
      "Epoch 3/200\n",
      "48000/48000 [==============================] - 2s 50us/sample - loss: 0.4116 - val_loss: 0.4162\n",
      "Epoch 4/200\n",
      "48000/48000 [==============================] - 2s 36us/sample - loss: 0.3865 - val_loss: 0.4003\n",
      "Epoch 5/200\n",
      "48000/48000 [==============================] - 2s 40us/sample - loss: 0.3723 - val_loss: 0.3888\n",
      "Epoch 6/200\n",
      "48000/48000 [==============================] - 2s 41us/sample - loss: 0.3548 - val_loss: 0.3792\n",
      "Epoch 7/200\n",
      "48000/48000 [==============================] - 2s 33us/sample - loss: 0.3420 - val_loss: 0.3839\n",
      "Epoch 8/200\n",
      "48000/48000 [==============================] - 2s 31us/sample - loss: 0.3348 - val_loss: 0.3682\n",
      "Epoch 9/200\n",
      "48000/48000 [==============================] - 1s 29us/sample - loss: 0.3256 - val_loss: 0.3727\n",
      "Epoch 10/200\n",
      "48000/48000 [==============================] - 1s 30us/sample - loss: 0.3204 - val_loss: 0.3580\n",
      "Epoch 11/200\n",
      "48000/48000 [==============================] - 1s 30us/sample - loss: 0.3137 - val_loss: 0.3581\n",
      "Epoch 12/200\n",
      "48000/48000 [==============================] - 2s 31us/sample - loss: 0.3066 - val_loss: 0.3551\n",
      "Epoch 13/200\n",
      "48000/48000 [==============================] - 1s 31us/sample - loss: 0.2988 - val_loss: 0.3506\n",
      "Epoch 14/200\n",
      "48000/48000 [==============================] - 1s 30us/sample - loss: 0.2966 - val_loss: 0.3617\n",
      "Epoch 15/200\n",
      "48000/48000 [==============================] - 1s 28us/sample - loss: 0.2916 - val_loss: 0.3505\n",
      "Epoch 16/200\n",
      "48000/48000 [==============================] - 1s 30us/sample - loss: 0.2873 - val_loss: 0.3926\n",
      "Epoch 17/200\n",
      "48000/48000 [==============================] - 1s 29us/sample - loss: 0.2794 - val_loss: 0.3479\n",
      "Epoch 18/200\n",
      "48000/48000 [==============================] - 1s 28us/sample - loss: 0.2746 - val_loss: 0.3498\n",
      "Epoch 19/200\n",
      "48000/48000 [==============================] - 1s 29us/sample - loss: 0.2722 - val_loss: 0.3471\n",
      "Epoch 20/200\n",
      "48000/48000 [==============================] - 1s 29us/sample - loss: 0.2684 - val_loss: 0.3786\n",
      "Epoch 21/200\n",
      "48000/48000 [==============================] - 1s 29us/sample - loss: 0.2664 - val_loss: 0.3590\n",
      "Epoch 22/200\n",
      "48000/48000 [==============================] - 1s 27us/sample - loss: 0.2607 - val_loss: 0.3382\n",
      "Epoch 23/200\n",
      "48000/48000 [==============================] - 2s 32us/sample - loss: 0.2541 - val_loss: 0.3507\n",
      "Epoch 24/200\n",
      "48000/48000 [==============================] - 2s 33us/sample - loss: 0.2534 - val_loss: 0.3534\n",
      "Epoch 25/200\n",
      "48000/48000 [==============================] - 2s 32us/sample - loss: 0.2513 - val_loss: 0.3462\n",
      "Epoch 26/200\n",
      "48000/48000 [==============================] - 1s 30us/sample - loss: 0.2473 - val_loss: 0.3482\n",
      "Epoch 27/200\n",
      "48000/48000 [==============================] - 1s 29us/sample - loss: 0.2442 - val_loss: 0.3556\n",
      "Epoch 28/200\n",
      "48000/48000 [==============================] - 1s 29us/sample - loss: 0.2400 - val_loss: 0.3450\n",
      "Epoch 29/200\n",
      "48000/48000 [==============================] - 1s 30us/sample - loss: 0.2386 - val_loss: 0.3446\n",
      "Epoch 30/200\n",
      "48000/48000 [==============================] - 1s 30us/sample - loss: 0.2348 - val_loss: 0.3559\n",
      "Epoch 31/200\n",
      "48000/48000 [==============================] - 1s 31us/sample - loss: 0.2364 - val_loss: 0.3463\n",
      "Epoch 32/200\n",
      "48000/48000 [==============================] - 1s 30us/sample - loss: 0.2303 - val_loss: 0.3449\n"
     ]
    }
   ],
   "source": [
    "opt = tf.keras.optimizers.Adam(learning_rate=0.001,clipnorm=1)\n",
    "model.compile(optimizer=opt, loss=\"categorical_crossentropy\")\n",
    "history=model.fit(x=x_train,y=y_train,epochs=200,batch_size=200,callbacks=[callback],validation_data=(x_validation,y_validation))"
   ]
  },
  {
   "cell_type": "code",
   "execution_count": 13,
   "metadata": {},
   "outputs": [
    {
     "data": {
      "text/plain": [
       "[<matplotlib.lines.Line2D at 0x238d4b51788>]"
      ]
     },
     "execution_count": 13,
     "metadata": {},
     "output_type": "execute_result"
    },
    {
     "data": {
      "image/png": "[encoded data removed]",
      "text/plain": [
       "<Figure size 432x288 with 1 Axes>"
      ]
     },
     "metadata": {
      "needs_background": "light"
     },
     "output_type": "display_data"
    },
    {
     "data": {
      "image/png": "[encoded data removed]",
      "text/plain": [
       "<Figure size 432x288 with 1 Axes>"
      ]
     },
     "metadata": {
      "needs_background": "light"
     },
     "output_type": "display_data"
    }
   ],
   "source": [
    "plt.figure(1)\n",
    "plt.plot(history.history['loss'])\n",
    "plt.figure(2)\n",
    "plt.plot(history.history['val_loss'])"
   ]
  },
  {
   "cell_type": "code",
   "execution_count": 15,
   "metadata": {},
   "outputs": [
    {
     "name": "stdout",
     "output_type": "stream",
     "text": [
      "Accuracy score: 0.8759 \n",
      " Confusion Matrix: [[823   2   7  25   1   3 130   0   9   0]\n",
      " [  4 959   3  26   5   0   0   0   3   0]\n",
      " [ 16   3 814  20  87   0  55   0   5   0]\n",
      " [ 29  10  13 896  20   0  27   0   5   0]\n",
      " [  0   0 115  46 780   0  55   0   4   0]\n",
      " [  0   0   0   0   0 946   0  33   1  20]\n",
      " [122   2  96  30  72   0 662   0  16   0]\n",
      " [  0   0   0   0   0  14   0 959   0  27]\n",
      " [  8   1   5   8   3   4   5   4 962   0]\n",
      " [  1   0   0   0   0   5   1  35   0 958]]\n"
     ]
    }
   ],
   "source": [
    "y_prediction=model.predict(x=x_test,batch_size=200,callbacks=[callback])\n",
    "y_prediction=np.argmax(y_prediction, axis=1)\n",
    "y_prediction=tf.keras.utils.to_categorical(y_prediction, num_classes=10, dtype=\"float32\")\n",
    "print(\"Accuracy score:\", accuracy_score(y_test, y_prediction),\"\\n\",\"Confusion Matrix:\",confusion_matrix(y_test.argmax(axis=1), y_prediction.argmax(axis=1)))"
   ]
  },
  {
   "cell_type": "markdown",
   "metadata": {},
   "source": [
    "REPETITION"
   ]
  },
  {
   "cell_type": "code",
   "execution_count": 16,
   "metadata": {},
   "outputs": [
    {
     "name": "stdout",
     "output_type": "stream",
     "text": [
      "Train on 48000 samples, validate on 12000 samples\n",
      "Epoch 1/200\n",
      "48000/48000 [==============================] - 3s 60us/sample - loss: 0.2622 - val_loss: 0.3471\n",
      "Epoch 2/200\n",
      "48000/48000 [==============================] - 2s 45us/sample - loss: 0.2519 - val_loss: 0.3473\n",
      "Epoch 3/200\n",
      "48000/48000 [==============================] - 2s 41us/sample - loss: 0.2509 - val_loss: 0.3516\n",
      "Epoch 4/200\n",
      "48000/48000 [==============================] - 2s 42us/sample - loss: 0.2506 - val_loss: 0.3542\n",
      "Epoch 5/200\n",
      "48000/48000 [==============================] - 2s 38us/sample - loss: 0.2437 - val_loss: 0.3427\n",
      "Epoch 6/200\n",
      "48000/48000 [==============================] - 2s 36us/sample - loss: 0.2417 - val_loss: 0.3885\n",
      "Epoch 7/200\n",
      "48000/48000 [==============================] - 2s 37us/sample - loss: 0.2414 - val_loss: 0.3478\n",
      "Epoch 8/200\n",
      "48000/48000 [==============================] - 2s 36us/sample - loss: 0.2354 - val_loss: 0.3485\n",
      "Epoch 9/200\n",
      "48000/48000 [==============================] - 2s 44us/sample - loss: 0.2336 - val_loss: 0.3513\n",
      "Epoch 10/200\n",
      "48000/48000 [==============================] - 2s 43us/sample - loss: 0.2282 - val_loss: 0.3747\n",
      "Epoch 11/200\n",
      "48000/48000 [==============================] - 2s 44us/sample - loss: 0.2295 - val_loss: 0.3590\n",
      "Epoch 12/200\n",
      "48000/48000 [==============================] - 2s 42us/sample - loss: 0.2237 - val_loss: 0.3607\n",
      "Epoch 13/200\n",
      "48000/48000 [==============================] - 2s 40us/sample - loss: 0.2225 - val_loss: 0.3580\n",
      "Epoch 14/200\n",
      "48000/48000 [==============================] - 2s 43us/sample - loss: 0.2193 - val_loss: 0.3617\n",
      "Epoch 15/200\n",
      "48000/48000 [==============================] - 2s 45us/sample - loss: 0.2184 - val_loss: 0.3788\n",
      "Epoch 16/200\n",
      "48000/48000 [==============================] - 2s 42us/sample - loss: 0.2156 - val_loss: 0.3698\n",
      "Epoch 17/200\n",
      "48000/48000 [==============================] - 2s 44us/sample - loss: 0.2136 - val_loss: 0.3728\n",
      "Epoch 18/200\n",
      "48000/48000 [==============================] - 2s 47us/sample - loss: 0.2116 - val_loss: 0.3666\n",
      "Epoch 19/200\n",
      "48000/48000 [==============================] - 2s 45us/sample - loss: 0.2092 - val_loss: 0.3780\n",
      "Epoch 20/200\n",
      "48000/48000 [==============================] - 2s 43us/sample - loss: 0.2076 - val_loss: 0.3598\n",
      "Epoch 21/200\n",
      "48000/48000 [==============================] - 2s 46us/sample - loss: 0.2032 - val_loss: 0.3566\n",
      "Epoch 22/200\n",
      "48000/48000 [==============================] - 2s 43us/sample - loss: 0.1992 - val_loss: 0.3713\n",
      "Epoch 23/200\n",
      "48000/48000 [==============================] - 2s 48us/sample - loss: 0.1989 - val_loss: 0.3643\n",
      "Epoch 24/200\n",
      "48000/48000 [==============================] - 2s 44us/sample - loss: 0.1973 - val_loss: 0.3728\n",
      "Epoch 25/200\n",
      "48000/48000 [==============================] - 2s 43us/sample - loss: 0.1973 - val_loss: 0.3781\n",
      "Epoch 26/200\n",
      "48000/48000 [==============================] - 2s 47us/sample - loss: 0.1952 - val_loss: 0.3759\n",
      "Epoch 27/200\n",
      "48000/48000 [==============================] - 2s 46us/sample - loss: 0.1915 - val_loss: 0.3824\n",
      "Epoch 28/200\n",
      "48000/48000 [==============================] - 2s 45us/sample - loss: 0.1913 - val_loss: 0.3768\n",
      "Epoch 29/200\n",
      "48000/48000 [==============================] - 2s 46us/sample - loss: 0.1899 - val_loss: 0.3805\n",
      "Epoch 30/200\n",
      "48000/48000 [==============================] - 2s 42us/sample - loss: 0.1872 - val_loss: 0.3893\n",
      "Epoch 31/200\n",
      "48000/48000 [==============================] - 2s 38us/sample - loss: 0.1867 - val_loss: 0.3897\n",
      "Epoch 32/200\n",
      "48000/48000 [==============================] - 2s 37us/sample - loss: 0.1828 - val_loss: 0.3897\n",
      "Epoch 33/200\n",
      "48000/48000 [==============================] - 2s 51us/sample - loss: 0.1844 - val_loss: 0.4008\n",
      "Epoch 34/200\n",
      "48000/48000 [==============================] - 3s 59us/sample - loss: 0.1811 - val_loss: 0.3824\n",
      "Epoch 35/200\n",
      "48000/48000 [==============================] - 2s 50us/sample - loss: 0.1797 - val_loss: 0.4089\n",
      "Epoch 36/200\n",
      "48000/48000 [==============================] - 2s 50us/sample - loss: 0.1777 - val_loss: 0.4083\n",
      "Epoch 37/200\n",
      "48000/48000 [==============================] - 3s 56us/sample - loss: 0.1766 - val_loss: 0.4057\n",
      "Epoch 38/200\n",
      "48000/48000 [==============================] - 2s 45us/sample - loss: 0.1769 - val_loss: 0.3909\n",
      "Epoch 39/200\n",
      "48000/48000 [==============================] - 2s 43us/sample - loss: 0.1797 - val_loss: 0.4003\n",
      "Epoch 40/200\n",
      "48000/48000 [==============================] - 2s 44us/sample - loss: 0.1722 - val_loss: 0.3955\n",
      "Epoch 41/200\n",
      "48000/48000 [==============================] - 2s 45us/sample - loss: 0.1704 - val_loss: 0.3983\n",
      "Epoch 42/200\n",
      "48000/48000 [==============================] - 2s 43us/sample - loss: 0.1750 - val_loss: 0.4003\n",
      "Epoch 43/200\n",
      "48000/48000 [==============================] - 2s 45us/sample - loss: 0.1666 - val_loss: 0.4051\n",
      "Epoch 44/200\n",
      "48000/48000 [==============================] - 2s 43us/sample - loss: 0.1715 - val_loss: 0.4178\n",
      "Epoch 45/200\n",
      "48000/48000 [==============================] - 2s 43us/sample - loss: 0.1657 - val_loss: 0.4107\n",
      "Epoch 46/200\n",
      "48000/48000 [==============================] - 2s 44us/sample - loss: 0.1637 - val_loss: 0.4367\n",
      "Epoch 47/200\n",
      "48000/48000 [==============================] - 2s 44us/sample - loss: 0.1615 - val_loss: 0.4116\n",
      "Epoch 48/200\n",
      "48000/48000 [==============================] - 2s 48us/sample - loss: 0.1653 - val_loss: 0.4135\n",
      "Epoch 49/200\n",
      "48000/48000 [==============================] - 2s 45us/sample - loss: 0.1594 - val_loss: 0.4634\n",
      "Epoch 50/200\n",
      "48000/48000 [==============================] - 2s 45us/sample - loss: 0.1644 - val_loss: 0.4172\n",
      "Epoch 51/200\n",
      "48000/48000 [==============================] - 2s 45us/sample - loss: 0.1579 - val_loss: 0.4295\n",
      "Epoch 52/200\n",
      "48000/48000 [==============================] - 2s 42us/sample - loss: 0.1600 - val_loss: 0.4426\n",
      "Epoch 53/200\n",
      "48000/48000 [==============================] - 2s 42us/sample - loss: 0.1549 - val_loss: 0.4215\n",
      "Epoch 54/200\n",
      "48000/48000 [==============================] - 2s 42us/sample - loss: 0.1539 - val_loss: 0.4311\n",
      "Epoch 55/200\n",
      "48000/48000 [==============================] - 2s 44us/sample - loss: 0.1531 - val_loss: 0.4332\n",
      "Epoch 56/200\n",
      "48000/48000 [==============================] - 2s 43us/sample - loss: 0.1529 - val_loss: 0.4307\n",
      "Epoch 57/200\n",
      "48000/48000 [==============================] - 2s 42us/sample - loss: 0.1522 - val_loss: 0.4431\n",
      "Epoch 58/200\n",
      "48000/48000 [==============================] - 2s 38us/sample - loss: 0.1498 - val_loss: 0.4511\n",
      "Epoch 59/200\n",
      "48000/48000 [==============================] - 2s 38us/sample - loss: 0.1496 - val_loss: 0.4505\n",
      "Epoch 60/200\n",
      "48000/48000 [==============================] - 2s 45us/sample - loss: 0.1499 - val_loss: 0.4486\n",
      "Epoch 61/200\n",
      "48000/48000 [==============================] - 2s 44us/sample - loss: 0.1478 - val_loss: 0.4597\n",
      "Epoch 62/200\n",
      "48000/48000 [==============================] - 2s 41us/sample - loss: 0.1472 - val_loss: 0.4605\n",
      "Epoch 63/200\n",
      "48000/48000 [==============================] - 2s 43us/sample - loss: 0.1463 - val_loss: 0.4495\n",
      "Epoch 64/200\n",
      "48000/48000 [==============================] - 2s 44us/sample - loss: 0.1430 - val_loss: 0.4530\n",
      "Epoch 65/200\n",
      "48000/48000 [==============================] - 2s 44us/sample - loss: 0.1464 - val_loss: 0.4762\n",
      "Epoch 66/200\n",
      "48000/48000 [==============================] - 2s 42us/sample - loss: 0.1394 - val_loss: 0.4675\n",
      "Epoch 67/200\n",
      "48000/48000 [==============================] - 2s 42us/sample - loss: 0.1407 - val_loss: 0.4607\n",
      "Epoch 68/200\n",
      "48000/48000 [==============================] - 2s 41us/sample - loss: 0.1399 - val_loss: 0.4791\n",
      "Epoch 69/200\n",
      "48000/48000 [==============================] - 2s 38us/sample - loss: 0.1387 - val_loss: 0.4704\n",
      "Epoch 70/200\n",
      "48000/48000 [==============================] - 2s 44us/sample - loss: 0.1384 - val_loss: 0.4698\n",
      "Epoch 71/200\n",
      "48000/48000 [==============================] - 2s 40us/sample - loss: 0.1403 - val_loss: 0.4723\n",
      "Epoch 72/200\n",
      "48000/48000 [==============================] - 2s 39us/sample - loss: 0.1356 - val_loss: 0.4782\n",
      "Epoch 73/200\n",
      "48000/48000 [==============================] - 2s 39us/sample - loss: 0.1330 - val_loss: 0.4879\n",
      "Epoch 74/200\n",
      "48000/48000 [==============================] - 2s 38us/sample - loss: 0.1364 - val_loss: 0.4905\n",
      "Epoch 75/200\n",
      "48000/48000 [==============================] - 2s 39us/sample - loss: 0.1381 - val_loss: 0.5029\n",
      "Epoch 76/200\n",
      "48000/48000 [==============================] - 2s 38us/sample - loss: 0.1360 - val_loss: 0.4777\n",
      "Epoch 77/200\n",
      "48000/48000 [==============================] - 2s 37us/sample - loss: 0.1318 - val_loss: 0.5069\n",
      "Epoch 78/200\n",
      "48000/48000 [==============================] - 2s 41us/sample - loss: 0.1331 - val_loss: 0.4822\n",
      "Epoch 79/200\n",
      "48000/48000 [==============================] - 2s 41us/sample - loss: 0.1298 - val_loss: 0.4889\n",
      "Epoch 80/200\n",
      "48000/48000 [==============================] - 2s 36us/sample - loss: 0.1289 - val_loss: 0.5140\n",
      "Epoch 81/200\n",
      "48000/48000 [==============================] - 2s 37us/sample - loss: 0.1301 - val_loss: 0.5286\n",
      "Epoch 82/200\n",
      "48000/48000 [==============================] - 2s 39us/sample - loss: 0.1280 - val_loss: 0.4995\n",
      "Epoch 83/200\n",
      "48000/48000 [==============================] - 2s 32us/sample - loss: 0.1244 - val_loss: 0.5080\n",
      "Epoch 84/200\n",
      "48000/48000 [==============================] - 2s 33us/sample - loss: 0.1252 - val_loss: 0.5192\n",
      "Epoch 85/200\n",
      "48000/48000 [==============================] - 2s 33us/sample - loss: 0.1264 - val_loss: 0.5228\n",
      "Epoch 86/200\n",
      "48000/48000 [==============================] - 2s 36us/sample - loss: 0.1242 - val_loss: 0.5194\n",
      "Epoch 87/200\n",
      "48000/48000 [==============================] - 2s 35us/sample - loss: 0.1230 - val_loss: 0.5196\n",
      "Epoch 88/200\n",
      "48000/48000 [==============================] - 2s 38us/sample - loss: 0.1242 - val_loss: 0.5156\n",
      "Epoch 89/200\n",
      "48000/48000 [==============================] - 2s 36us/sample - loss: 0.1178 - val_loss: 0.5314\n",
      "Epoch 90/200\n",
      "48000/48000 [==============================] - 2s 41us/sample - loss: 0.1215 - val_loss: 0.5311\n",
      "Epoch 91/200\n",
      "48000/48000 [==============================] - 2s 40us/sample - loss: 0.1198 - val_loss: 0.5398\n",
      "Epoch 92/200\n",
      "48000/48000 [==============================] - 2s 38us/sample - loss: 0.1207 - val_loss: 0.5299\n",
      "Epoch 93/200\n",
      "48000/48000 [==============================] - 2s 42us/sample - loss: 0.1201 - val_loss: 0.5534\n",
      "Epoch 94/200\n",
      "48000/48000 [==============================] - 2s 39us/sample - loss: 0.1169 - val_loss: 0.5521\n",
      "Epoch 95/200\n",
      "48000/48000 [==============================] - 2s 40us/sample - loss: 0.1160 - val_loss: 0.5387\n",
      "Epoch 96/200\n",
      "48000/48000 [==============================] - 2s 39us/sample - loss: 0.1146 - val_loss: 0.5442\n",
      "Epoch 97/200\n",
      "48000/48000 [==============================] - 2s 39us/sample - loss: 0.1169 - val_loss: 0.5599\n",
      "Epoch 98/200\n",
      "48000/48000 [==============================] - 2s 41us/sample - loss: 0.1148 - val_loss: 0.5632\n",
      "Epoch 99/200\n",
      "48000/48000 [==============================] - 2s 42us/sample - loss: 0.1172 - val_loss: 0.5464\n",
      "Epoch 100/200\n",
      "48000/48000 [==============================] - 2s 39us/sample - loss: 0.1097 - val_loss: 0.5679\n",
      "Epoch 101/200\n",
      "48000/48000 [==============================] - 2s 39us/sample - loss: 0.1139 - val_loss: 0.5471\n",
      "Epoch 102/200\n",
      "48000/48000 [==============================] - 2s 37us/sample - loss: 0.1147 - val_loss: 0.5582\n",
      "Epoch 103/200\n",
      "48000/48000 [==============================] - 2s 41us/sample - loss: 0.1132 - val_loss: 0.5530\n",
      "Epoch 104/200\n",
      "48000/48000 [==============================] - 2s 40us/sample - loss: 0.1103 - val_loss: 0.5682\n",
      "Epoch 105/200\n",
      "48000/48000 [==============================] - 2s 41us/sample - loss: 0.1151 - val_loss: 0.5759\n",
      "Epoch 106/200\n",
      "48000/48000 [==============================] - 2s 40us/sample - loss: 0.1097 - val_loss: 0.5768\n",
      "Epoch 107/200\n",
      "48000/48000 [==============================] - 2s 38us/sample - loss: 0.1087 - val_loss: 0.5788\n",
      "Epoch 108/200\n",
      "48000/48000 [==============================] - 2s 39us/sample - loss: 0.1059 - val_loss: 0.5709\n",
      "Epoch 109/200\n",
      "48000/48000 [==============================] - 2s 38us/sample - loss: 0.1098 - val_loss: 0.5759\n",
      "Epoch 110/200\n",
      "48000/48000 [==============================] - 2s 38us/sample - loss: 0.1118 - val_loss: 0.5978\n",
      "Epoch 111/200\n",
      "48000/48000 [==============================] - 2s 39us/sample - loss: 0.1050 - val_loss: 0.5755\n",
      "Epoch 112/200\n",
      "48000/48000 [==============================] - 2s 39us/sample - loss: 0.1057 - val_loss: 0.5726\n",
      "Epoch 113/200\n",
      "48000/48000 [==============================] - 2s 39us/sample - loss: 0.1044 - val_loss: 0.5773\n",
      "Epoch 114/200\n",
      "48000/48000 [==============================] - 2s 43us/sample - loss: 0.1053 - val_loss: 0.6058\n",
      "Epoch 115/200\n",
      "48000/48000 [==============================] - 2s 39us/sample - loss: 0.1032 - val_loss: 0.6025\n",
      "Epoch 116/200\n",
      "48000/48000 [==============================] - 2s 40us/sample - loss: 0.1017 - val_loss: 0.6242\n",
      "Epoch 117/200\n",
      "48000/48000 [==============================] - 2s 36us/sample - loss: 0.1054 - val_loss: 0.5869\n",
      "Epoch 118/200\n",
      "48000/48000 [==============================] - 2s 39us/sample - loss: 0.1036 - val_loss: 0.5967\n",
      "Epoch 119/200\n",
      "48000/48000 [==============================] - 2s 40us/sample - loss: 0.1072 - val_loss: 0.6132\n",
      "Epoch 120/200\n",
      "48000/48000 [==============================] - 2s 39us/sample - loss: 0.0997 - val_loss: 0.6027\n",
      "Epoch 121/200\n",
      "48000/48000 [==============================] - 2s 38us/sample - loss: 0.0972 - val_loss: 0.6069\n",
      "Epoch 122/200\n",
      "48000/48000 [==============================] - 2s 39us/sample - loss: 0.0977 - val_loss: 0.6096\n",
      "Epoch 123/200\n",
      "48000/48000 [==============================] - 2s 40us/sample - loss: 0.0982 - val_loss: 0.6058\n",
      "Epoch 124/200\n",
      "48000/48000 [==============================] - 2s 41us/sample - loss: 0.0960 - val_loss: 0.6186\n",
      "Epoch 125/200\n",
      "48000/48000 [==============================] - 2s 41us/sample - loss: 0.0981 - val_loss: 0.6481\n",
      "Epoch 126/200\n",
      "48000/48000 [==============================] - 2s 39us/sample - loss: 0.1017 - val_loss: 0.6324\n",
      "Epoch 127/200\n",
      "48000/48000 [==============================] - 2s 38us/sample - loss: 0.1004 - val_loss: 0.6194\n",
      "Epoch 128/200\n",
      "48000/48000 [==============================] - 2s 36us/sample - loss: 0.0982 - val_loss: 0.6535\n",
      "Epoch 129/200\n",
      "48000/48000 [==============================] - 2s 38us/sample - loss: 0.0990 - val_loss: 0.6418\n",
      "Epoch 130/200\n",
      "48000/48000 [==============================] - 2s 43us/sample - loss: 0.0976 - val_loss: 0.6409\n",
      "Epoch 131/200\n",
      "48000/48000 [==============================] - 2s 43us/sample - loss: 0.0917 - val_loss: 0.6324\n",
      "Epoch 132/200\n",
      "48000/48000 [==============================] - 2s 40us/sample - loss: 0.0921 - val_loss: 0.6370\n",
      "Epoch 133/200\n",
      "48000/48000 [==============================] - 2s 36us/sample - loss: 0.0899 - val_loss: 0.6484\n",
      "Epoch 134/200\n",
      "48000/48000 [==============================] - 2s 35us/sample - loss: 0.0960 - val_loss: 0.6438\n",
      "Epoch 135/200\n",
      "48000/48000 [==============================] - 2s 37us/sample - loss: 0.0930 - val_loss: 0.6721\n",
      "Epoch 136/200\n",
      "48000/48000 [==============================] - 2s 40us/sample - loss: 0.0974 - val_loss: 0.6464\n",
      "Epoch 137/200\n",
      "48000/48000 [==============================] - 2s 37us/sample - loss: 0.0915 - val_loss: 0.6468\n",
      "Epoch 138/200\n",
      "48000/48000 [==============================] - 2s 41us/sample - loss: 0.0907 - val_loss: 0.6596\n",
      "Epoch 139/200\n",
      "48000/48000 [==============================] - 2s 38us/sample - loss: 0.0979 - val_loss: 0.6715\n",
      "Epoch 140/200\n",
      "48000/48000 [==============================] - 2s 41us/sample - loss: 0.0904 - val_loss: 0.6586\n",
      "Epoch 141/200\n",
      "48000/48000 [==============================] - 2s 42us/sample - loss: 0.0906 - val_loss: 0.6643\n",
      "Epoch 142/200\n",
      "48000/48000 [==============================] - 2s 40us/sample - loss: 0.0891 - val_loss: 0.6782\n",
      "Epoch 143/200\n",
      "48000/48000 [==============================] - 2s 37us/sample - loss: 0.0997 - val_loss: 0.6849\n",
      "Epoch 144/200\n",
      "48000/48000 [==============================] - 2s 37us/sample - loss: 0.0872 - val_loss: 0.6725\n",
      "Epoch 145/200\n",
      "48000/48000 [==============================] - 2s 33us/sample - loss: 0.0831 - val_loss: 0.6923\n",
      "Epoch 146/200\n",
      "48000/48000 [==============================] - 2s 40us/sample - loss: 0.0895 - val_loss: 0.6884\n",
      "Epoch 147/200\n",
      "48000/48000 [==============================] - 2s 40us/sample - loss: 0.0864 - val_loss: 0.6761\n",
      "Epoch 148/200\n",
      "48000/48000 [==============================] - 2s 42us/sample - loss: 0.0886 - val_loss: 0.6857\n",
      "Epoch 149/200\n",
      "48000/48000 [==============================] - 2s 38us/sample - loss: 0.0911 - val_loss: 0.6960\n",
      "Epoch 150/200\n",
      "48000/48000 [==============================] - 2s 36us/sample - loss: 0.0901 - val_loss: 0.7559\n",
      "Epoch 151/200\n",
      "48000/48000 [==============================] - 2s 35us/sample - loss: 0.0863 - val_loss: 0.6854\n",
      "Epoch 152/200\n",
      "48000/48000 [==============================] - 2s 37us/sample - loss: 0.0816 - val_loss: 0.7085\n",
      "Epoch 153/200\n",
      "48000/48000 [==============================] - 2s 40us/sample - loss: 0.0831 - val_loss: 0.7116\n",
      "Epoch 154/200\n",
      "48000/48000 [==============================] - 2s 37us/sample - loss: 0.0843 - val_loss: 0.7189\n",
      "Epoch 155/200\n",
      "48000/48000 [==============================] - 2s 38us/sample - loss: 0.0855 - val_loss: 0.7113\n",
      "Epoch 156/200\n",
      "48000/48000 [==============================] - 2s 40us/sample - loss: 0.0873 - val_loss: 0.7063\n",
      "Epoch 157/200\n",
      "48000/48000 [==============================] - 2s 41us/sample - loss: 0.0801 - val_loss: 0.7181\n",
      "Epoch 158/200\n",
      "48000/48000 [==============================] - 2s 44us/sample - loss: 0.0915 - val_loss: 0.7223\n",
      "Epoch 159/200\n",
      "48000/48000 [==============================] - 2s 39us/sample - loss: 0.0799 - val_loss: 0.7060\n",
      "Epoch 160/200\n",
      "48000/48000 [==============================] - 2s 38us/sample - loss: 0.0802 - val_loss: 0.7159\n",
      "Epoch 161/200\n",
      "48000/48000 [==============================] - 2s 36us/sample - loss: 0.0785 - val_loss: 0.7191\n",
      "Epoch 162/200\n",
      "48000/48000 [==============================] - 2s 39us/sample - loss: 0.0812 - val_loss: 0.7409\n",
      "Epoch 163/200\n",
      "48000/48000 [==============================] - 2s 37us/sample - loss: 0.0810 - val_loss: 0.7517\n",
      "Epoch 164/200\n",
      "48000/48000 [==============================] - 2s 39us/sample - loss: 0.0821 - val_loss: 0.7151\n",
      "Epoch 165/200\n",
      "48000/48000 [==============================] - 2s 43us/sample - loss: 0.0769 - val_loss: 0.7463\n",
      "Epoch 166/200\n",
      "48000/48000 [==============================] - 2s 38us/sample - loss: 0.0772 - val_loss: 0.7462\n",
      "Epoch 167/200\n",
      "48000/48000 [==============================] - 2s 39us/sample - loss: 0.0781 - val_loss: 0.7515\n",
      "Epoch 168/200\n",
      "48000/48000 [==============================] - 2s 39us/sample - loss: 0.0838 - val_loss: 0.7798\n",
      "Epoch 169/200\n",
      "48000/48000 [==============================] - 2s 37us/sample - loss: 0.0762 - val_loss: 0.7456\n",
      "Epoch 170/200\n",
      "48000/48000 [==============================] - 2s 36us/sample - loss: 0.0733 - val_loss: 0.7707\n",
      "Epoch 171/200\n",
      "48000/48000 [==============================] - 2s 37us/sample - loss: 0.0747 - val_loss: 0.7398\n",
      "Epoch 172/200\n",
      "48000/48000 [==============================] - 2s 36us/sample - loss: 0.0754 - val_loss: 0.7630\n",
      "Epoch 173/200\n",
      "48000/48000 [==============================] - 2s 39us/sample - loss: 0.0775 - val_loss: 0.7642\n",
      "Epoch 174/200\n",
      "48000/48000 [==============================] - 2s 41us/sample - loss: 0.0810 - val_loss: 0.7654\n",
      "Epoch 175/200\n",
      "48000/48000 [==============================] - 2s 36us/sample - loss: 0.0756 - val_loss: 0.7690\n",
      "Epoch 176/200\n",
      "48000/48000 [==============================] - 2s 42us/sample - loss: 0.0769 - val_loss: 0.7856\n",
      "Epoch 177/200\n",
      "48000/48000 [==============================] - 2s 37us/sample - loss: 0.0801 - val_loss: 0.7775\n",
      "Epoch 178/200\n",
      "48000/48000 [==============================] - 2s 39us/sample - loss: 0.0735 - val_loss: 0.7768\n",
      "Epoch 179/200\n",
      "48000/48000 [==============================] - 2s 39us/sample - loss: 0.0759 - val_loss: 0.7849\n",
      "Epoch 180/200\n",
      "48000/48000 [==============================] - 2s 38us/sample - loss: 0.0711 - val_loss: 0.7741\n",
      "Epoch 181/200\n",
      "48000/48000 [==============================] - 2s 34us/sample - loss: 0.0744 - val_loss: 0.8267\n",
      "Epoch 182/200\n",
      "48000/48000 [==============================] - 2s 40us/sample - loss: 0.0718 - val_loss: 0.7795\n",
      "Epoch 183/200\n",
      "48000/48000 [==============================] - 2s 40us/sample - loss: 0.0740 - val_loss: 0.8024\n",
      "Epoch 184/200\n",
      "48000/48000 [==============================] - 2s 41us/sample - loss: 0.0720 - val_loss: 0.8204\n",
      "Epoch 185/200\n",
      "48000/48000 [==============================] - 2s 35us/sample - loss: 0.0756 - val_loss: 0.8021\n",
      "Epoch 186/200\n",
      "48000/48000 [==============================] - 2s 39us/sample - loss: 0.0701 - val_loss: 0.8115\n",
      "Epoch 187/200\n",
      "48000/48000 [==============================] - 2s 39us/sample - loss: 0.0724 - val_loss: 0.7936\n",
      "Epoch 188/200\n",
      "48000/48000 [==============================] - 2s 40us/sample - loss: 0.0715 - val_loss: 0.7920\n",
      "Epoch 189/200\n",
      "48000/48000 [==============================] - 2s 39us/sample - loss: 0.0745 - val_loss: 0.7861\n",
      "Epoch 190/200\n",
      "48000/48000 [==============================] - 2s 40us/sample - loss: 0.0723 - val_loss: 0.8072\n",
      "Epoch 191/200\n",
      "48000/48000 [==============================] - 2s 42us/sample - loss: 0.0669 - val_loss: 0.8146\n",
      "Epoch 192/200\n",
      "48000/48000 [==============================] - 2s 41us/sample - loss: 0.0696 - val_loss: 0.8430\n",
      "Epoch 193/200\n",
      "48000/48000 [==============================] - 2s 39us/sample - loss: 0.0748 - val_loss: 0.8418\n",
      "Epoch 194/200\n",
      "48000/48000 [==============================] - 2s 39us/sample - loss: 0.0685 - val_loss: 0.8379\n",
      "Epoch 195/200\n",
      "48000/48000 [==============================] - 2s 36us/sample - loss: 0.0693 - val_loss: 0.8174\n",
      "Epoch 196/200\n",
      "48000/48000 [==============================] - 2s 38us/sample - loss: 0.0714 - val_loss: 0.8428\n",
      "Epoch 197/200\n",
      "48000/48000 [==============================] - 2s 38us/sample - loss: 0.0645 - val_loss: 0.8269\n",
      "Epoch 198/200\n",
      "48000/48000 [==============================] - 2s 37us/sample - loss: 0.0659 - val_loss: 0.8401\n",
      "Epoch 199/200\n",
      "48000/48000 [==============================] - 2s 39us/sample - loss: 0.0687 - val_loss: 0.8305\n",
      "Epoch 200/200\n",
      "48000/48000 [==============================] - 2s 41us/sample - loss: 0.0704 - val_loss: 0.8318\n"
     ]
    }
   ],
   "source": [
    "opt = tf.keras.optimizers.Adam(learning_rate=0.001,clipnorm=1)\n",
    "model.compile(optimizer=opt, loss=\"categorical_crossentropy\")\n",
    "history=model.fit(x=x_train,y=y_train,epochs=200,batch_size=200,validation_data=(x_validation,y_validation))"
   ]
  },
  {
   "cell_type": "code",
   "execution_count": 17,
   "metadata": {},
   "outputs": [
    {
     "data": {
      "text/plain": [
       "[<matplotlib.lines.Line2D at 0x238d4d95a48>]"
      ]
     },
     "execution_count": 17,
     "metadata": {},
     "output_type": "execute_result"
    },
    {
     "data": {
      "image/png": "[encoded data removed]",
      "text/plain": [
       "<Figure size 432x288 with 1 Axes>"
      ]
     },
     "metadata": {
      "needs_background": "light"
     },
     "output_type": "display_data"
    },
    {
     "data": {
      "image/png": "[encoded data removed]",
      "text/plain": [
       "<Figure size 432x288 with 1 Axes>"
      ]
     },
     "metadata": {
      "needs_background": "light"
     },
     "output_type": "display_data"
    }
   ],
   "source": [
    "plt.figure(1)\n",
    "plt.plot(history.history['loss'])\n",
    "plt.figure(2)\n",
    "plt.plot(history.history['val_loss'])"
   ]
  },
  {
   "cell_type": "code",
   "execution_count": 18,
   "metadata": {},
   "outputs": [
    {
     "name": "stdout",
     "output_type": "stream",
     "text": [
      "Accuracy score: 0.8644 \n",
      " Confusion Matrix: [[833   0  23  25   4   2 105   0   8   0]\n",
      " [  2 972   3  14   4   0   2   0   2   1]\n",
      " [ 22   1 772  11 113   0  75   0   5   1]\n",
      " [ 44  13  18 853  41   2  26   0   3   0]\n",
      " [  5   0  90  30 804   1  64   0   6   0]\n",
      " [  1   1   0   1   0 938   1  34   3  21]\n",
      " [140   3  90  23  86   1 643   1  12   1]\n",
      " [  0   0   0   0   0  27   0 940   0  33]\n",
      " [  9   1   4   6  11   5  12   8 943   1]\n",
      " [  0   0   0   0   0  13   2  39   0 946]]\n"
     ]
    }
   ],
   "source": [
    "y_prediction=model.predict(x=x_test,batch_size=200)\n",
    "y_prediction=np.argmax(y_prediction, axis=1)\n",
    "y_prediction=tf.keras.utils.to_categorical(y_prediction, num_classes=10, dtype=\"float32\")\n",
    "print(\"Accuracy score:\", accuracy_score(y_test, y_prediction),\"\\n\",\"Confusion Matrix:\",confusion_matrix(y_test.argmax(axis=1), y_prediction.argmax(axis=1)))"
   ]
  },
  {
   "cell_type": "markdown",
   "metadata": {},
   "source": [
    "CNN"
   ]
  },
  {
   "cell_type": "code",
   "execution_count": null,
   "metadata": {},
   "outputs": [],
   "source": []
  }
 ],
 "metadata": {
  "kernelspec": {
   "display_name": "Python 3",
   "language": "python",
   "name": "python3"
  },
  "language_info": {
   "codemirror_mode": {
    "name": "ipython",
    "version": 3
   },
   "file_extension": ".py",
   "mimetype": "text/x-python",
   "name": "python",
   "nbconvert_exporter": "python",
   "pygments_lexer": "ipython3",
   "version": "3.7.9"
  }
 },
 "nbformat": 4,
 "nbformat_minor": 4
}
