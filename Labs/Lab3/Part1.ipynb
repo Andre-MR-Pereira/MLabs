{
 "cells": [
  {
   "cell_type": "markdown",
   "metadata": {},
   "source": [
    "DATA"
   ]
  },
  {
   "cell_type": "code",
   "execution_count": 10,
   "metadata": {},
   "outputs": [],
   "source": [
    "import tensorflow as tf\n",
    "from visualize_activations import *\n",
    "import numpy as np\n",
    "import matplotlib.pyplot as plt\n",
    "from sklearn.model_selection import train_test_split\n",
    "from sklearn.metrics import accuracy_score,confusion_matrix"
   ]
  },
  {
   "cell_type": "code",
   "execution_count": 11,
   "metadata": {},
   "outputs": [
    {
     "name": "stdout",
     "output_type": "stream",
     "text": [
      "x_train shape: (60000, 28, 28) y_train shape: (60000,) x_test shape: (10000, 28, 28) y_test shape: (10000,)\n"
     ]
    }
   ],
   "source": [
    "(x_train, y_train), (x_test, y_test) = tf.keras.datasets.fashion_mnist.load_data()\n",
    "print(\"x_train shape:\", x_train.shape, \"y_train shape:\", y_train.shape, \"x_test shape:\", x_test.shape, \"y_test shape:\", y_test.shape)"
   ]
  },
  {
   "cell_type": "code",
   "execution_count": 12,
   "metadata": {},
   "outputs": [
    {
     "data": {
      "text/plain": [
       "<matplotlib.image.AxesImage at 0x7fb332d5eb50>"
      ]
     },
     "execution_count": 12,
     "metadata": {},
     "output_type": "execute_result"
    },
    {
     "data": {
      "image/png": "[encoded data removed]",
      "text/plain": [
       "<Figure size 432x288 with 1 Axes>"
      ]
     },
     "metadata": {
      "needs_background": "light"
     },
     "output_type": "display_data"
    }
   ],
   "source": [
    " plt.imshow(x_train[9])"
   ]
  },
  {
   "cell_type": "code",
   "execution_count": 13,
   "metadata": {},
   "outputs": [],
   "source": [
    "x_train=x_train/255\n",
    "x_test=x_test/255"
   ]
  },
  {
   "cell_type": "code",
   "execution_count": 14,
   "metadata": {},
   "outputs": [],
   "source": [
    "y_train=tf.keras.utils.to_categorical(y_train, num_classes=10, dtype=\"float32\")\n",
    "y_test=tf.keras.utils.to_categorical(y_test, num_classes=10, dtype=\"float32\")"
   ]
  },
  {
   "cell_type": "code",
   "execution_count": 15,
   "metadata": {},
   "outputs": [],
   "source": [
    "x_train, x_validation, y_train, y_validation = train_test_split(x_train, y_train, test_size=0.2, random_state=42)"
   ]
  },
  {
   "cell_type": "code",
   "execution_count": 16,
   "metadata": {},
   "outputs": [
    {
     "name": "stdout",
     "output_type": "stream",
     "text": [
      "x_train shape: (48000, 28, 28, 1) x_test shape: (10000, 28, 28, 1) x_validation shape: (12000, 28, 28, 1)\n"
     ]
    }
   ],
   "source": [
    "x_train=np.expand_dims(x_train,axis=3);\n",
    "x_test=np.expand_dims(x_test,axis=3);\n",
    "x_validation=np.expand_dims(x_validation,axis=3)\n",
    "print(\"x_train shape:\", x_train.shape, \"x_test shape:\", x_test.shape,\"x_validation shape:\", x_validation.shape)"
   ]
  },
  {
   "cell_type": "markdown",
   "metadata": {},
   "source": [
    "MLP"
   ]
  },
  {
   "cell_type": "code",
   "execution_count": 17,
   "metadata": {},
   "outputs": [
    {
     "name": "stdout",
     "output_type": "stream",
     "text": [
      "model shape: (None, 784)\n"
     ]
    }
   ],
   "source": [
    "model = tf.keras.Sequential(name=\"Flatten\")\n",
    "model.add(tf.keras.layers.Flatten(input_shape=(28, 28, 1)))\n",
    "print(\"model shape:\", model.output_shape)"
   ]
  },
  {
   "cell_type": "code",
   "execution_count": 18,
   "metadata": {},
   "outputs": [
    {
     "name": "stdout",
     "output_type": "stream",
     "text": [
      "model shape: (None, 32)\n",
      "model shape: (None, 64)\n"
     ]
    }
   ],
   "source": [
    "model.add(tf.keras.layers.Dense(32, activation=\"relu\", name=\"Dense_32\"))\n",
    "print(\"model shape:\", model.output_shape)\n",
    "model.add(tf.keras.layers.Dense(64, activation=\"relu\", name=\"Dense_64\"))\n",
    "print(\"model shape:\", model.output_shape)"
   ]
  },
  {
   "cell_type": "code",
   "execution_count": 19,
   "metadata": {},
   "outputs": [
    {
     "name": "stdout",
     "output_type": "stream",
     "text": [
      "model shape: (None, 10)\n"
     ]
    }
   ],
   "source": [
    "model.add(tf.keras.layers.Dense(10,activation=\"softmax\",name=\"Softmax_10\"))\n",
    "random_weights = model.get_weights()\n",
    "print(\"model shape:\", model.output_shape)"
   ]
  },
  {
   "cell_type": "code",
   "execution_count": 20,
   "metadata": {},
   "outputs": [
    {
     "name": "stdout",
     "output_type": "stream",
     "text": [
      "Model: \"Flatten\"\n",
      "_________________________________________________________________\n",
      "Layer (type)                 Output Shape              Param #   \n",
      "=================================================================\n",
      "flatten_1 (Flatten)          (None, 784)               0         \n",
      "_________________________________________________________________\n",
      "Dense_32 (Dense)             (None, 32)                25120     \n",
      "_________________________________________________________________\n",
      "Dense_64 (Dense)             (None, 64)                2112      \n",
      "_________________________________________________________________\n",
      "Softmax_10 (Dense)           (None, 10)                650       \n",
      "=================================================================\n",
      "Total params: 27,882\n",
      "Trainable params: 27,882\n",
      "Non-trainable params: 0\n",
      "_________________________________________________________________\n"
     ]
    }
   ],
   "source": [
    "model.summary()"
   ]
  },
  {
   "cell_type": "code",
   "execution_count": 11,
   "metadata": {},
   "outputs": [],
   "source": [
    "callback=tf.keras.callbacks.EarlyStopping(patience=10,restore_best_weights=True)"
   ]
  },
  {
   "cell_type": "code",
   "execution_count": 12,
   "metadata": {},
   "outputs": [
    {
     "name": "stdout",
     "output_type": "stream",
     "text": [
      "Epoch 1/200\n",
      "240/240 [==============================] - 0s 1ms/step - loss: 0.7148 - val_loss: 0.5076\n",
      "Epoch 2/200\n",
      "240/240 [==============================] - 0s 989us/step - loss: 0.4550 - val_loss: 0.4408\n",
      "Epoch 3/200\n",
      "240/240 [==============================] - 0s 990us/step - loss: 0.4206 - val_loss: 0.4171\n",
      "Epoch 4/200\n",
      "240/240 [==============================] - 0s 1ms/step - loss: 0.3946 - val_loss: 0.4020\n",
      "Epoch 5/200\n",
      "240/240 [==============================] - 0s 1000us/step - loss: 0.3791 - val_loss: 0.3903\n",
      "Epoch 6/200\n",
      "240/240 [==============================] - 0s 992us/step - loss: 0.3616 - val_loss: 0.3840\n",
      "Epoch 7/200\n",
      "240/240 [==============================] - 0s 1ms/step - loss: 0.3505 - val_loss: 0.3980\n",
      "Epoch 8/200\n",
      "240/240 [==============================] - 0s 1ms/step - loss: 0.3368 - val_loss: 0.3643\n",
      "Epoch 9/200\n",
      "240/240 [==============================] - 0s 1ms/step - loss: 0.3299 - val_loss: 0.3637\n",
      "Epoch 10/200\n",
      "240/240 [==============================] - 0s 1ms/step - loss: 0.3218 - val_loss: 0.3589\n",
      "Epoch 11/200\n",
      "240/240 [==============================] - 0s 997us/step - loss: 0.3143 - val_loss: 0.3533\n",
      "Epoch 12/200\n",
      "240/240 [==============================] - 0s 1ms/step - loss: 0.3066 - val_loss: 0.3597\n",
      "Epoch 13/200\n",
      "240/240 [==============================] - 0s 1ms/step - loss: 0.2983 - val_loss: 0.3493\n",
      "Epoch 14/200\n",
      "240/240 [==============================] - 0s 1ms/step - loss: 0.2941 - val_loss: 0.3513\n",
      "Epoch 15/200\n",
      "240/240 [==============================] - 0s 1ms/step - loss: 0.2872 - val_loss: 0.3520\n",
      "Epoch 16/200\n",
      "240/240 [==============================] - 0s 1ms/step - loss: 0.2856 - val_loss: 0.3420\n",
      "Epoch 17/200\n",
      "240/240 [==============================] - 0s 1ms/step - loss: 0.2798 - val_loss: 0.3488\n",
      "Epoch 18/200\n",
      "240/240 [==============================] - 0s 1ms/step - loss: 0.2756 - val_loss: 0.3673\n",
      "Epoch 19/200\n",
      "240/240 [==============================] - 0s 1ms/step - loss: 0.2743 - val_loss: 0.3479\n",
      "Epoch 20/200\n",
      "240/240 [==============================] - 0s 1ms/step - loss: 0.2693 - val_loss: 0.3424\n",
      "Epoch 21/200\n",
      "240/240 [==============================] - 0s 1ms/step - loss: 0.2647 - val_loss: 0.3457\n",
      "Epoch 22/200\n",
      "240/240 [==============================] - 0s 1ms/step - loss: 0.2622 - val_loss: 0.3386\n",
      "Epoch 23/200\n",
      "240/240 [==============================] - 0s 1ms/step - loss: 0.2551 - val_loss: 0.3526\n",
      "Epoch 24/200\n",
      "240/240 [==============================] - 0s 1ms/step - loss: 0.2527 - val_loss: 0.3350\n",
      "Epoch 25/200\n",
      "240/240 [==============================] - 0s 1ms/step - loss: 0.2507 - val_loss: 0.3627\n",
      "Epoch 26/200\n",
      "240/240 [==============================] - 0s 1ms/step - loss: 0.2475 - val_loss: 0.3441\n",
      "Epoch 27/200\n",
      "240/240 [==============================] - 0s 1ms/step - loss: 0.2457 - val_loss: 0.3492\n",
      "Epoch 28/200\n",
      "240/240 [==============================] - 0s 1ms/step - loss: 0.2386 - val_loss: 0.3453\n",
      "Epoch 29/200\n",
      "240/240 [==============================] - 0s 1ms/step - loss: 0.2399 - val_loss: 0.3429\n",
      "Epoch 30/200\n",
      "240/240 [==============================] - 0s 1ms/step - loss: 0.2375 - val_loss: 0.3399\n",
      "Epoch 31/200\n",
      "240/240 [==============================] - 0s 1ms/step - loss: 0.2313 - val_loss: 0.3391\n",
      "Epoch 32/200\n",
      "240/240 [==============================] - 0s 1ms/step - loss: 0.2313 - val_loss: 0.3638\n",
      "Epoch 33/200\n",
      "240/240 [==============================] - 0s 1ms/step - loss: 0.2294 - val_loss: 0.3578\n",
      "Epoch 34/200\n",
      "240/240 [==============================] - 0s 2ms/step - loss: 0.2231 - val_loss: 0.3372\n"
     ]
    }
   ],
   "source": [
    "opt = tf.keras.optimizers.Adam(learning_rate=0.001,clipnorm=1)\n",
    "model.compile(optimizer=opt, loss=\"categorical_crossentropy\")\n",
    "history=model.fit(x=x_train,y=y_train,epochs=200,batch_size=200,callbacks=[callback],validation_data=(x_validation,y_validation))"
   ]
  },
  {
   "cell_type": "code",
   "execution_count": 13,
   "metadata": {},
   "outputs": [
    {
     "data": {
      "text/plain": [
       "[<matplotlib.lines.Line2D at 0x7f9aff343610>]"
      ]
     },
     "execution_count": 13,
     "metadata": {},
     "output_type": "execute_result"
    },
    {
     "data": {
      "image/png": "[encoded data removed]",
      "text/plain": [
       "<Figure size 432x288 with 1 Axes>"
      ]
     },
     "metadata": {
      "needs_background": "light"
     },
     "output_type": "display_data"
    },
    {
     "data": {
      "image/png": "[encoded data removed]",
      "text/plain": [
       "<Figure size 432x288 with 1 Axes>"
      ]
     },
     "metadata": {
      "needs_background": "light"
     },
     "output_type": "display_data"
    }
   ],
   "source": [
    "plt.figure(1)\n",
    "plt.plot(history.history['loss'])\n",
    "plt.figure(2)\n",
    "plt.plot(history.history['val_loss'])"
   ]
  },
  {
   "cell_type": "code",
   "execution_count": 14,
   "metadata": {},
   "outputs": [
    {
     "name": "stdout",
     "output_type": "stream",
     "text": [
      "Accuracy score: 0.875 \n",
      " Confusion Matrix: [[834   2  17  37   4   1  95   0  10   0]\n",
      " [  3 966   2  22   5   0   2   0   0   0]\n",
      " [ 16   0 812  14 103   0  54   0   1   0]\n",
      " [ 26   9  12 882  44   0  23   0   4   0]\n",
      " [  0   1 105  24 818   2  49   0   1   0]\n",
      " [  0   0   0   0   0 956   0  17   2  25]\n",
      " [137   2 100  28  83   2 626   0  22   0]\n",
      " [  0   0   0   0   0  32   0 923   0  45]\n",
      " [  5   1   6   4   5   6   7   2 964   0]\n",
      " [  0   0   0   0   0  10   2  19   0 969]]\n"
     ]
    }
   ],
   "source": [
    "y_prediction=model.predict(x=x_test,batch_size=200,callbacks=[callback])\n",
    "y_prediction=np.argmax(y_prediction, axis=1)\n",
    "y_prediction=tf.keras.utils.to_categorical(y_prediction, num_classes=10, dtype=\"float32\")\n",
    "print(\"Accuracy score:\", accuracy_score(y_test, y_prediction),\"\\n\",\"Confusion Matrix:\",confusion_matrix(y_test.argmax(axis=1), y_prediction.argmax(axis=1)))"
   ]
  },
  {
   "cell_type": "markdown",
   "metadata": {},
   "source": [
    "REPETITION"
   ]
  },
  {
   "cell_type": "code",
   "execution_count": 15,
   "metadata": {},
   "outputs": [
    {
     "name": "stdout",
     "output_type": "stream",
     "text": [
      "Epoch 1/200\n",
      "240/240 [==============================] - 0s 1ms/step - loss: 0.7061 - val_loss: 0.4920\n",
      "Epoch 2/200\n",
      "240/240 [==============================] - 0s 1ms/step - loss: 0.4570 - val_loss: 0.4381\n",
      "Epoch 3/200\n",
      "240/240 [==============================] - 0s 996us/step - loss: 0.4188 - val_loss: 0.4406\n",
      "Epoch 4/200\n",
      "240/240 [==============================] - 0s 995us/step - loss: 0.3975 - val_loss: 0.4103\n",
      "Epoch 5/200\n",
      "240/240 [==============================] - 0s 1ms/step - loss: 0.3791 - val_loss: 0.3937\n",
      "Epoch 6/200\n",
      "240/240 [==============================] - 0s 1ms/step - loss: 0.3642 - val_loss: 0.4257\n",
      "Epoch 7/200\n",
      "240/240 [==============================] - 0s 1ms/step - loss: 0.3540 - val_loss: 0.3812\n",
      "Epoch 8/200\n",
      "240/240 [==============================] - 0s 1ms/step - loss: 0.3422 - val_loss: 0.3722\n",
      "Epoch 9/200\n",
      "240/240 [==============================] - 0s 1ms/step - loss: 0.3320 - val_loss: 0.3711\n",
      "Epoch 10/200\n",
      "240/240 [==============================] - 0s 1ms/step - loss: 0.3251 - val_loss: 0.3657\n",
      "Epoch 11/200\n",
      "240/240 [==============================] - 0s 1ms/step - loss: 0.3178 - val_loss: 0.3606\n",
      "Epoch 12/200\n",
      "240/240 [==============================] - 0s 1ms/step - loss: 0.3137 - val_loss: 0.3811\n",
      "Epoch 13/200\n",
      "240/240 [==============================] - 0s 1ms/step - loss: 0.3075 - val_loss: 0.3458\n",
      "Epoch 14/200\n",
      "240/240 [==============================] - 0s 1ms/step - loss: 0.3006 - val_loss: 0.3525\n",
      "Epoch 15/200\n",
      "240/240 [==============================] - 0s 1ms/step - loss: 0.2928 - val_loss: 0.3486\n",
      "Epoch 16/200\n",
      "240/240 [==============================] - 0s 1ms/step - loss: 0.2868 - val_loss: 0.3526\n",
      "Epoch 17/200\n",
      "240/240 [==============================] - 0s 1ms/step - loss: 0.2858 - val_loss: 0.3661\n",
      "Epoch 18/200\n",
      "240/240 [==============================] - 0s 1ms/step - loss: 0.2786 - val_loss: 0.3627\n",
      "Epoch 19/200\n",
      "240/240 [==============================] - 0s 1ms/step - loss: 0.2782 - val_loss: 0.3492\n",
      "Epoch 20/200\n",
      "240/240 [==============================] - 0s 1ms/step - loss: 0.2703 - val_loss: 0.3426\n",
      "Epoch 21/200\n",
      "240/240 [==============================] - 0s 1ms/step - loss: 0.2714 - val_loss: 0.3453\n",
      "Epoch 22/200\n",
      "240/240 [==============================] - 0s 1ms/step - loss: 0.2656 - val_loss: 0.3488\n",
      "Epoch 23/200\n",
      "240/240 [==============================] - 0s 1ms/step - loss: 0.2599 - val_loss: 0.3410\n",
      "Epoch 24/200\n",
      "240/240 [==============================] - 0s 999us/step - loss: 0.2588 - val_loss: 0.3625\n",
      "Epoch 25/200\n",
      "240/240 [==============================] - 0s 1ms/step - loss: 0.2569 - val_loss: 0.3465\n",
      "Epoch 26/200\n",
      "240/240 [==============================] - 0s 1ms/step - loss: 0.2491 - val_loss: 0.3457\n",
      "Epoch 27/200\n",
      "240/240 [==============================] - 0s 1ms/step - loss: 0.2455 - val_loss: 0.3413\n",
      "Epoch 28/200\n",
      "240/240 [==============================] - 0s 1ms/step - loss: 0.2449 - val_loss: 0.3452\n",
      "Epoch 29/200\n",
      "240/240 [==============================] - 0s 1ms/step - loss: 0.2409 - val_loss: 0.3494\n",
      "Epoch 30/200\n",
      "240/240 [==============================] - 0s 1ms/step - loss: 0.2388 - val_loss: 0.3421\n",
      "Epoch 31/200\n",
      "240/240 [==============================] - 0s 1ms/step - loss: 0.2353 - val_loss: 0.3527\n",
      "Epoch 32/200\n",
      "240/240 [==============================] - 0s 1ms/step - loss: 0.2328 - val_loss: 0.3611\n",
      "Epoch 33/200\n",
      "240/240 [==============================] - 0s 1ms/step - loss: 0.2287 - val_loss: 0.3448\n",
      "Epoch 34/200\n",
      "240/240 [==============================] - 0s 1ms/step - loss: 0.2268 - val_loss: 0.3635\n",
      "Epoch 35/200\n",
      "240/240 [==============================] - 0s 1ms/step - loss: 0.2250 - val_loss: 0.3500\n",
      "Epoch 36/200\n",
      "240/240 [==============================] - 0s 1ms/step - loss: 0.2221 - val_loss: 0.3486\n",
      "Epoch 37/200\n",
      "240/240 [==============================] - 0s 1ms/step - loss: 0.2203 - val_loss: 0.3621\n",
      "Epoch 38/200\n",
      "240/240 [==============================] - 0s 1ms/step - loss: 0.2194 - val_loss: 0.3598\n",
      "Epoch 39/200\n",
      "240/240 [==============================] - 0s 1ms/step - loss: 0.2157 - val_loss: 0.3591\n",
      "Epoch 40/200\n",
      "240/240 [==============================] - 0s 1ms/step - loss: 0.2125 - val_loss: 0.3561\n",
      "Epoch 41/200\n",
      "240/240 [==============================] - 0s 1ms/step - loss: 0.2105 - val_loss: 0.3596\n",
      "Epoch 42/200\n",
      "240/240 [==============================] - 0s 1ms/step - loss: 0.2065 - val_loss: 0.3768\n",
      "Epoch 43/200\n",
      "240/240 [==============================] - 0s 1ms/step - loss: 0.2053 - val_loss: 0.3522\n",
      "Epoch 44/200\n",
      "240/240 [==============================] - 0s 1ms/step - loss: 0.2038 - val_loss: 0.3562\n",
      "Epoch 45/200\n",
      "240/240 [==============================] - 0s 1ms/step - loss: 0.2032 - val_loss: 0.3480\n",
      "Epoch 46/200\n",
      "240/240 [==============================] - 0s 1ms/step - loss: 0.1996 - val_loss: 0.3659\n",
      "Epoch 47/200\n",
      "240/240 [==============================] - 0s 1ms/step - loss: 0.1980 - val_loss: 0.3634\n",
      "Epoch 48/200\n",
      "240/240 [==============================] - 0s 1ms/step - loss: 0.1967 - val_loss: 0.3749\n",
      "Epoch 49/200\n",
      "240/240 [==============================] - 0s 1ms/step - loss: 0.1945 - val_loss: 0.3659\n",
      "Epoch 50/200\n",
      "240/240 [==============================] - 0s 1ms/step - loss: 0.1931 - val_loss: 0.3751\n",
      "Epoch 51/200\n",
      "240/240 [==============================] - 0s 1ms/step - loss: 0.1878 - val_loss: 0.3966\n",
      "Epoch 52/200\n",
      "240/240 [==============================] - 0s 1ms/step - loss: 0.1888 - val_loss: 0.3707\n",
      "Epoch 53/200\n",
      "240/240 [==============================] - 0s 1ms/step - loss: 0.1861 - val_loss: 0.3773\n",
      "Epoch 54/200\n",
      "240/240 [==============================] - 0s 1ms/step - loss: 0.1853 - val_loss: 0.3690\n",
      "Epoch 55/200\n",
      "240/240 [==============================] - 0s 1ms/step - loss: 0.1817 - val_loss: 0.3879\n",
      "Epoch 56/200\n",
      "240/240 [==============================] - 0s 1ms/step - loss: 0.1868 - val_loss: 0.3822\n",
      "Epoch 57/200\n",
      "240/240 [==============================] - 0s 1ms/step - loss: 0.1785 - val_loss: 0.3864\n",
      "Epoch 58/200\n",
      "240/240 [==============================] - 0s 1ms/step - loss: 0.1769 - val_loss: 0.3851\n",
      "Epoch 59/200\n",
      "240/240 [==============================] - 0s 1ms/step - loss: 0.1769 - val_loss: 0.3824\n",
      "Epoch 60/200\n",
      "240/240 [==============================] - 0s 1ms/step - loss: 0.1731 - val_loss: 0.4059\n",
      "Epoch 61/200\n",
      "240/240 [==============================] - 0s 1ms/step - loss: 0.1730 - val_loss: 0.4018\n",
      "Epoch 62/200\n",
      "240/240 [==============================] - 0s 1ms/step - loss: 0.1698 - val_loss: 0.3985\n",
      "Epoch 63/200\n",
      "240/240 [==============================] - 0s 1ms/step - loss: 0.1706 - val_loss: 0.4119\n",
      "Epoch 64/200\n",
      "240/240 [==============================] - 0s 1ms/step - loss: 0.1672 - val_loss: 0.4084\n",
      "Epoch 65/200\n",
      "240/240 [==============================] - 0s 991us/step - loss: 0.1661 - val_loss: 0.4049\n",
      "Epoch 66/200\n",
      "240/240 [==============================] - 0s 1000us/step - loss: 0.1659 - val_loss: 0.4046\n",
      "Epoch 67/200\n",
      "240/240 [==============================] - 0s 999us/step - loss: 0.1634 - val_loss: 0.4050\n",
      "Epoch 68/200\n",
      "240/240 [==============================] - 0s 1ms/step - loss: 0.1652 - val_loss: 0.4166\n",
      "Epoch 69/200\n",
      "240/240 [==============================] - 0s 1ms/step - loss: 0.1619 - val_loss: 0.4157\n",
      "Epoch 70/200\n",
      "240/240 [==============================] - 0s 1ms/step - loss: 0.1617 - val_loss: 0.4198\n",
      "Epoch 71/200\n",
      "240/240 [==============================] - 0s 1ms/step - loss: 0.1579 - val_loss: 0.4519\n",
      "Epoch 72/200\n",
      "240/240 [==============================] - 0s 1ms/step - loss: 0.1605 - val_loss: 0.4289\n",
      "Epoch 73/200\n",
      "240/240 [==============================] - 0s 1ms/step - loss: 0.1544 - val_loss: 0.4383\n",
      "Epoch 74/200\n",
      "240/240 [==============================] - 0s 987us/step - loss: 0.1542 - val_loss: 0.4230\n",
      "Epoch 75/200\n",
      "240/240 [==============================] - 0s 1ms/step - loss: 0.1539 - val_loss: 0.4295\n",
      "Epoch 76/200\n",
      "240/240 [==============================] - 0s 1ms/step - loss: 0.1521 - val_loss: 0.4332\n",
      "Epoch 77/200\n",
      "240/240 [==============================] - 0s 1ms/step - loss: 0.1522 - val_loss: 0.4442\n",
      "Epoch 78/200\n",
      "240/240 [==============================] - 0s 1ms/step - loss: 0.1478 - val_loss: 0.4317\n",
      "Epoch 79/200\n",
      "240/240 [==============================] - 0s 1ms/step - loss: 0.1477 - val_loss: 0.4543\n",
      "Epoch 80/200\n",
      "240/240 [==============================] - 0s 1ms/step - loss: 0.1486 - val_loss: 0.4343\n",
      "Epoch 81/200\n",
      "240/240 [==============================] - 0s 1ms/step - loss: 0.1454 - val_loss: 0.4464\n",
      "Epoch 82/200\n",
      "240/240 [==============================] - 0s 1ms/step - loss: 0.1465 - val_loss: 0.4525\n",
      "Epoch 83/200\n",
      "240/240 [==============================] - 0s 1ms/step - loss: 0.1423 - val_loss: 0.4449\n",
      "Epoch 84/200\n",
      "240/240 [==============================] - 0s 1ms/step - loss: 0.1442 - val_loss: 0.4523\n",
      "Epoch 85/200\n",
      "240/240 [==============================] - 0s 1ms/step - loss: 0.1413 - val_loss: 0.4636\n",
      "Epoch 86/200\n",
      "240/240 [==============================] - 0s 1ms/step - loss: 0.1392 - val_loss: 0.4599\n",
      "Epoch 87/200\n",
      "240/240 [==============================] - 0s 1ms/step - loss: 0.1398 - val_loss: 0.4739\n",
      "Epoch 88/200\n",
      "240/240 [==============================] - 0s 1ms/step - loss: 0.1393 - val_loss: 0.4754\n",
      "Epoch 89/200\n",
      "240/240 [==============================] - 0s 1ms/step - loss: 0.1360 - val_loss: 0.5057\n",
      "Epoch 90/200\n",
      "240/240 [==============================] - 0s 1ms/step - loss: 0.1358 - val_loss: 0.4906\n",
      "Epoch 91/200\n",
      "240/240 [==============================] - 0s 1ms/step - loss: 0.1328 - val_loss: 0.4766\n",
      "Epoch 92/200\n",
      "240/240 [==============================] - 0s 1ms/step - loss: 0.1353 - val_loss: 0.4900\n",
      "Epoch 93/200\n",
      "240/240 [==============================] - 0s 1ms/step - loss: 0.1336 - val_loss: 0.4794\n",
      "Epoch 94/200\n",
      "240/240 [==============================] - 0s 1ms/step - loss: 0.1340 - val_loss: 0.4837\n",
      "Epoch 95/200\n",
      "240/240 [==============================] - 0s 1ms/step - loss: 0.1305 - val_loss: 0.5146\n",
      "Epoch 96/200\n",
      "240/240 [==============================] - 0s 1ms/step - loss: 0.1304 - val_loss: 0.4834\n",
      "Epoch 97/200\n",
      "240/240 [==============================] - 0s 1ms/step - loss: 0.1298 - val_loss: 0.5073\n",
      "Epoch 98/200\n",
      "240/240 [==============================] - 0s 1ms/step - loss: 0.1275 - val_loss: 0.4925\n",
      "Epoch 99/200\n",
      "240/240 [==============================] - 0s 1ms/step - loss: 0.1243 - val_loss: 0.5154\n",
      "Epoch 100/200\n",
      "240/240 [==============================] - 0s 1000us/step - loss: 0.1289 - val_loss: 0.5212\n",
      "Epoch 101/200\n",
      "240/240 [==============================] - 0s 1ms/step - loss: 0.1271 - val_loss: 0.5077\n",
      "Epoch 102/200\n",
      "240/240 [==============================] - 0s 998us/step - loss: 0.1242 - val_loss: 0.5087\n",
      "Epoch 103/200\n",
      "240/240 [==============================] - 0s 1ms/step - loss: 0.1221 - val_loss: 0.4964\n",
      "Epoch 104/200\n",
      "240/240 [==============================] - 0s 1ms/step - loss: 0.1272 - val_loss: 0.5133\n",
      "Epoch 105/200\n",
      "240/240 [==============================] - 0s 1ms/step - loss: 0.1261 - val_loss: 0.4969\n",
      "Epoch 106/200\n",
      "240/240 [==============================] - 0s 991us/step - loss: 0.1217 - val_loss: 0.5147\n",
      "Epoch 107/200\n",
      "240/240 [==============================] - 0s 1ms/step - loss: 0.1240 - val_loss: 0.5063\n",
      "Epoch 108/200\n",
      "240/240 [==============================] - 0s 980us/step - loss: 0.1167 - val_loss: 0.5095\n",
      "Epoch 109/200\n",
      "240/240 [==============================] - 0s 1ms/step - loss: 0.1172 - val_loss: 0.5210\n",
      "Epoch 110/200\n",
      "240/240 [==============================] - 0s 1ms/step - loss: 0.1168 - val_loss: 0.5195\n",
      "Epoch 111/200\n",
      "240/240 [==============================] - 0s 1ms/step - loss: 0.1182 - val_loss: 0.5205\n",
      "Epoch 112/200\n",
      "240/240 [==============================] - 0s 1ms/step - loss: 0.1150 - val_loss: 0.5439\n",
      "Epoch 113/200\n",
      "240/240 [==============================] - 0s 993us/step - loss: 0.1130 - val_loss: 0.5230\n",
      "Epoch 114/200\n",
      "240/240 [==============================] - 0s 998us/step - loss: 0.1112 - val_loss: 0.5405\n",
      "Epoch 115/200\n",
      "240/240 [==============================] - 0s 991us/step - loss: 0.1096 - val_loss: 0.5587\n",
      "Epoch 116/200\n",
      "240/240 [==============================] - 0s 1ms/step - loss: 0.1140 - val_loss: 0.5555\n",
      "Epoch 117/200\n",
      "240/240 [==============================] - 0s 1ms/step - loss: 0.1121 - val_loss: 0.5593\n",
      "Epoch 118/200\n",
      "240/240 [==============================] - 0s 1ms/step - loss: 0.1126 - val_loss: 0.5432\n",
      "Epoch 119/200\n",
      "240/240 [==============================] - 0s 1ms/step - loss: 0.1077 - val_loss: 0.5584\n",
      "Epoch 120/200\n",
      "240/240 [==============================] - 0s 1ms/step - loss: 0.1090 - val_loss: 0.5614\n",
      "Epoch 121/200\n",
      "240/240 [==============================] - 0s 1ms/step - loss: 0.1059 - val_loss: 0.5880\n",
      "Epoch 122/200\n",
      "240/240 [==============================] - 0s 1ms/step - loss: 0.1119 - val_loss: 0.5762\n",
      "Epoch 123/200\n",
      "240/240 [==============================] - 0s 1ms/step - loss: 0.1069 - val_loss: 0.5762\n",
      "Epoch 124/200\n",
      "240/240 [==============================] - 0s 1ms/step - loss: 0.1061 - val_loss: 0.5653\n",
      "Epoch 125/200\n",
      "240/240 [==============================] - 0s 1ms/step - loss: 0.1087 - val_loss: 0.5679\n",
      "Epoch 126/200\n",
      "240/240 [==============================] - 0s 990us/step - loss: 0.1007 - val_loss: 0.5883\n",
      "Epoch 127/200\n",
      "240/240 [==============================] - 0s 1ms/step - loss: 0.1046 - val_loss: 0.5902\n",
      "Epoch 128/200\n",
      "240/240 [==============================] - 0s 1ms/step - loss: 0.1035 - val_loss: 0.5854\n",
      "Epoch 129/200\n",
      "240/240 [==============================] - 0s 991us/step - loss: 0.1040 - val_loss: 0.6005\n",
      "Epoch 130/200\n",
      "240/240 [==============================] - 0s 1ms/step - loss: 0.1059 - val_loss: 0.5989\n",
      "Epoch 131/200\n",
      "240/240 [==============================] - 0s 2ms/step - loss: 0.1019 - val_loss: 0.5806\n",
      "Epoch 132/200\n",
      "240/240 [==============================] - 1s 2ms/step - loss: 0.0980 - val_loss: 0.6064\n",
      "Epoch 133/200\n",
      "240/240 [==============================] - 1s 4ms/step - loss: 0.0978 - val_loss: 0.5894\n",
      "Epoch 134/200\n",
      "240/240 [==============================] - 1s 2ms/step - loss: 0.0983 - val_loss: 0.6013\n",
      "Epoch 135/200\n",
      "240/240 [==============================] - 1s 3ms/step - loss: 0.0968 - val_loss: 0.5958\n",
      "Epoch 136/200\n",
      "240/240 [==============================] - 1s 3ms/step - loss: 0.0977 - val_loss: 0.6072\n",
      "Epoch 137/200\n",
      "240/240 [==============================] - 0s 2ms/step - loss: 0.1014 - val_loss: 0.6158\n",
      "Epoch 138/200\n",
      "240/240 [==============================] - 0s 987us/step - loss: 0.0974 - val_loss: 0.6486\n",
      "Epoch 139/200\n",
      "240/240 [==============================] - 0s 1ms/step - loss: 0.0993 - val_loss: 0.6372\n",
      "Epoch 140/200\n",
      "240/240 [==============================] - 0s 976us/step - loss: 0.0970 - val_loss: 0.6358\n",
      "Epoch 141/200\n",
      "240/240 [==============================] - 0s 1ms/step - loss: 0.0972 - val_loss: 0.6298\n",
      "Epoch 142/200\n",
      "240/240 [==============================] - 0s 1ms/step - loss: 0.0950 - val_loss: 0.6249\n",
      "Epoch 143/200\n",
      "240/240 [==============================] - 0s 1ms/step - loss: 0.0906 - val_loss: 0.6259\n",
      "Epoch 144/200\n",
      "240/240 [==============================] - 0s 1ms/step - loss: 0.0947 - val_loss: 0.6380\n",
      "Epoch 145/200\n",
      "240/240 [==============================] - 0s 1ms/step - loss: 0.0921 - val_loss: 0.6343\n",
      "Epoch 146/200\n",
      "240/240 [==============================] - 0s 973us/step - loss: 0.0924 - val_loss: 0.6238\n",
      "Epoch 147/200\n",
      "240/240 [==============================] - 0s 974us/step - loss: 0.0902 - val_loss: 0.6456\n",
      "Epoch 148/200\n",
      "240/240 [==============================] - 0s 970us/step - loss: 0.0898 - val_loss: 0.6608\n",
      "Epoch 149/200\n",
      "240/240 [==============================] - 0s 981us/step - loss: 0.0904 - val_loss: 0.6300\n",
      "Epoch 150/200\n",
      "240/240 [==============================] - 0s 975us/step - loss: 0.0866 - val_loss: 0.6614\n",
      "Epoch 151/200\n",
      "240/240 [==============================] - 0s 977us/step - loss: 0.0915 - val_loss: 0.6453\n",
      "Epoch 152/200\n",
      "240/240 [==============================] - 0s 982us/step - loss: 0.0869 - val_loss: 0.6712\n",
      "Epoch 153/200\n",
      "240/240 [==============================] - 0s 971us/step - loss: 0.0861 - val_loss: 0.6693\n",
      "Epoch 154/200\n",
      "240/240 [==============================] - 0s 1ms/step - loss: 0.0863 - val_loss: 0.6555\n",
      "Epoch 155/200\n",
      "240/240 [==============================] - 0s 983us/step - loss: 0.0879 - val_loss: 0.6748\n",
      "Epoch 156/200\n",
      "240/240 [==============================] - 0s 1ms/step - loss: 0.0870 - val_loss: 0.6634\n",
      "Epoch 157/200\n",
      "240/240 [==============================] - 0s 977us/step - loss: 0.0879 - val_loss: 0.6729\n",
      "Epoch 158/200\n",
      "240/240 [==============================] - 0s 980us/step - loss: 0.0831 - val_loss: 0.6883\n",
      "Epoch 159/200\n",
      "240/240 [==============================] - 0s 1ms/step - loss: 0.0827 - val_loss: 0.6928\n",
      "Epoch 160/200\n",
      "240/240 [==============================] - 0s 969us/step - loss: 0.0827 - val_loss: 0.6783\n",
      "Epoch 161/200\n",
      "240/240 [==============================] - 0s 992us/step - loss: 0.0792 - val_loss: 0.6938\n",
      "Epoch 162/200\n",
      "240/240 [==============================] - 0s 982us/step - loss: 0.0841 - val_loss: 0.7130\n",
      "Epoch 163/200\n",
      "240/240 [==============================] - 0s 973us/step - loss: 0.0827 - val_loss: 0.6773\n",
      "Epoch 164/200\n",
      "240/240 [==============================] - 0s 996us/step - loss: 0.0829 - val_loss: 0.6994\n",
      "Epoch 165/200\n",
      "240/240 [==============================] - 0s 964us/step - loss: 0.0827 - val_loss: 0.6990\n",
      "Epoch 166/200\n",
      "240/240 [==============================] - 0s 960us/step - loss: 0.0805 - val_loss: 0.6998\n",
      "Epoch 167/200\n",
      "240/240 [==============================] - 0s 976us/step - loss: 0.0790 - val_loss: 0.7304\n",
      "Epoch 168/200\n",
      "240/240 [==============================] - 0s 974us/step - loss: 0.0802 - val_loss: 0.7169\n",
      "Epoch 169/200\n",
      "240/240 [==============================] - 0s 967us/step - loss: 0.0794 - val_loss: 0.7074\n",
      "Epoch 170/200\n",
      "240/240 [==============================] - 0s 971us/step - loss: 0.0809 - val_loss: 0.7206\n",
      "Epoch 171/200\n",
      "240/240 [==============================] - 0s 972us/step - loss: 0.0775 - val_loss: 0.7504\n",
      "Epoch 172/200\n",
      "240/240 [==============================] - 0s 973us/step - loss: 0.0797 - val_loss: 0.7130\n",
      "Epoch 173/200\n",
      "240/240 [==============================] - 0s 1ms/step - loss: 0.0792 - val_loss: 0.7318\n",
      "Epoch 174/200\n",
      "240/240 [==============================] - 0s 1ms/step - loss: 0.0780 - val_loss: 0.7438\n",
      "Epoch 175/200\n",
      "240/240 [==============================] - 0s 959us/step - loss: 0.0781 - val_loss: 0.7169\n",
      "Epoch 176/200\n",
      "240/240 [==============================] - 0s 981us/step - loss: 0.0785 - val_loss: 0.7215\n",
      "Epoch 177/200\n",
      "240/240 [==============================] - 0s 970us/step - loss: 0.0759 - val_loss: 0.7416\n",
      "Epoch 178/200\n",
      "240/240 [==============================] - 0s 974us/step - loss: 0.0765 - val_loss: 0.7507\n",
      "Epoch 179/200\n",
      "240/240 [==============================] - 0s 975us/step - loss: 0.0720 - val_loss: 0.7488\n",
      "Epoch 180/200\n",
      "240/240 [==============================] - 0s 968us/step - loss: 0.0752 - val_loss: 0.7772\n",
      "Epoch 181/200\n",
      "240/240 [==============================] - 0s 972us/step - loss: 0.0737 - val_loss: 0.7663\n",
      "Epoch 182/200\n",
      "240/240 [==============================] - 0s 974us/step - loss: 0.0732 - val_loss: 0.7821\n",
      "Epoch 183/200\n",
      "240/240 [==============================] - 0s 980us/step - loss: 0.0729 - val_loss: 0.7758\n",
      "Epoch 184/200\n",
      "240/240 [==============================] - 0s 983us/step - loss: 0.0724 - val_loss: 0.7642\n",
      "Epoch 185/200\n",
      "240/240 [==============================] - 0s 984us/step - loss: 0.0724 - val_loss: 0.8101\n",
      "Epoch 186/200\n",
      "240/240 [==============================] - 0s 960us/step - loss: 0.0737 - val_loss: 0.7566\n",
      "Epoch 187/200\n",
      "240/240 [==============================] - 0s 985us/step - loss: 0.0705 - val_loss: 0.7808\n",
      "Epoch 188/200\n",
      "240/240 [==============================] - 0s 980us/step - loss: 0.0756 - val_loss: 0.7779\n",
      "Epoch 189/200\n",
      "240/240 [==============================] - 0s 969us/step - loss: 0.0680 - val_loss: 0.7751\n",
      "Epoch 190/200\n",
      "240/240 [==============================] - 0s 965us/step - loss: 0.0693 - val_loss: 0.8097\n",
      "Epoch 191/200\n",
      "240/240 [==============================] - 0s 972us/step - loss: 0.0712 - val_loss: 0.7933\n",
      "Epoch 192/200\n",
      "240/240 [==============================] - 0s 971us/step - loss: 0.0654 - val_loss: 0.7999\n",
      "Epoch 193/200\n",
      "240/240 [==============================] - 0s 978us/step - loss: 0.0721 - val_loss: 0.8041\n",
      "Epoch 194/200\n",
      "240/240 [==============================] - 0s 974us/step - loss: 0.0700 - val_loss: 0.8005\n",
      "Epoch 195/200\n",
      "240/240 [==============================] - 0s 984us/step - loss: 0.0699 - val_loss: 0.7963\n",
      "Epoch 196/200\n",
      "240/240 [==============================] - 0s 981us/step - loss: 0.0696 - val_loss: 0.7994\n",
      "Epoch 197/200\n",
      "240/240 [==============================] - 0s 972us/step - loss: 0.0668 - val_loss: 0.8151\n",
      "Epoch 198/200\n",
      "240/240 [==============================] - 0s 966us/step - loss: 0.0727 - val_loss: 0.8213\n",
      "Epoch 199/200\n",
      "240/240 [==============================] - 0s 967us/step - loss: 0.0672 - val_loss: 0.7939\n",
      "Epoch 200/200\n",
      "240/240 [==============================] - 0s 977us/step - loss: 0.0653 - val_loss: 0.8131\n"
     ]
    }
   ],
   "source": [
    "opt = tf.keras.optimizers.Adam(learning_rate=0.001,clipnorm=1)\n",
    "\n",
    "model.set_weights(random_weights)\n",
    "\n",
    "model.compile(optimizer=opt, loss=\"categorical_crossentropy\")\n",
    "history=model.fit(x=x_train,y=y_train,epochs=200,batch_size=200,validation_data=(x_validation,y_validation))"
   ]
  },
  {
   "cell_type": "code",
   "execution_count": 16,
   "metadata": {},
   "outputs": [
    {
     "data": {
      "text/plain": [
       "[<matplotlib.lines.Line2D at 0x7f9af60ffd10>]"
      ]
     },
     "execution_count": 16,
     "metadata": {},
     "output_type": "execute_result"
    },
    {
     "data": {
      "image/png": "[encoded data removed]",
      "text/plain": [
       "<Figure size 432x288 with 1 Axes>"
      ]
     },
     "metadata": {
      "needs_background": "light"
     },
     "output_type": "display_data"
    },
    {
     "data": {
      "image/png": "[encoded data removed]",
      "text/plain": [
       "<Figure size 432x288 with 1 Axes>"
      ]
     },
     "metadata": {
      "needs_background": "light"
     },
     "output_type": "display_data"
    }
   ],
   "source": [
    "plt.figure(1)\n",
    "plt.plot(history.history['loss'])\n",
    "plt.figure(2)\n",
    "plt.plot(history.history['val_loss'])"
   ]
  },
  {
   "cell_type": "code",
   "execution_count": 17,
   "metadata": {},
   "outputs": [
    {
     "name": "stdout",
     "output_type": "stream",
     "text": [
      "Accuracy score: 0.8667 \n",
      " Confusion Matrix: [[822   6  21  20   2   1 118   1   9   0]\n",
      " [  2 978   1  11   3   0   4   0   1   0]\n",
      " [ 23   1 807  11  98   0  59   0   1   0]\n",
      " [ 40  21  23 820  47   0  42   0   6   1]\n",
      " [  2   2 116  23 807   1  47   1   1   0]\n",
      " [  0   0   1   0   0 948   0  33   4  14]\n",
      " [135   3 114  15  86   1 631   0  15   0]\n",
      " [  1   0   0   0   0  21   0 953   2  23]\n",
      " [ 11   1  11   6   5   3   9   5 949   0]\n",
      " [  0   0   0   1   0  15   1  30   1 952]]\n"
     ]
    }
   ],
   "source": [
    "y_prediction=model.predict(x=x_test,batch_size=200)\n",
    "y_prediction=np.argmax(y_prediction, axis=1)\n",
    "y_prediction=tf.keras.utils.to_categorical(y_prediction, num_classes=10, dtype=\"float32\")\n",
    "print(\"Accuracy score:\", accuracy_score(y_test, y_prediction),\"\\n\",\"Confusion Matrix:\",confusion_matrix(y_test.argmax(axis=1), y_prediction.argmax(axis=1)))"
   ]
  },
  {
   "cell_type": "markdown",
   "metadata": {},
   "source": [
    "CNN"
   ]
  },
  {
   "cell_type": "code",
   "execution_count": null,
   "metadata": {},
   "outputs": [],
   "source": []
  }
 ],
 "metadata": {
  "kernelspec": {
   "display_name": "Python 3",
   "language": "python",
   "name": "python3"
  },
  "language_info": {
   "codemirror_mode": {
    "name": "ipython",
    "version": 3
   },
   "file_extension": ".py",
   "mimetype": "text/x-python",
   "name": "python",
   "nbconvert_exporter": "python",
   "pygments_lexer": "ipython3",
   "version": "3.7.4"
  }
 },
 "nbformat": 4,
 "nbformat_minor": 4
}
