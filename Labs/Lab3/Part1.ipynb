{
 "cells": [
  {
   "cell_type": "markdown",
   "metadata": {},
   "source": [
    "# Lab 3 - Neural Networks\n",
    "\n",
    "\n",
    "#### Dependencies:"
   ]
  },
  {
   "cell_type": "code",
   "execution_count": 88,
   "metadata": {},
   "outputs": [],
   "source": [
    "import tensorflow as tf\n",
    "from visualize_activations import *\n",
    "import numpy as np\n",
    "import matplotlib.pyplot as plt\n",
    "from sklearn.model_selection import train_test_split\n",
    "from sklearn.metrics import accuracy_score,confusion_matrix"
   ]
  },
  {
   "cell_type": "markdown",
   "metadata": {},
   "source": [
    "#### \n",
    "## 1.1 Data"
   ]
  },
  {
   "cell_type": "code",
   "execution_count": 89,
   "metadata": {},
   "outputs": [
    {
     "name": "stdout",
     "output_type": "stream",
     "text": [
      "x_train shape: (60000, 28, 28) y_train shape: (60000,) x_test shape: (10000, 28, 28) y_test shape: (10000,)\n"
     ]
    }
   ],
   "source": [
    "(x_train, y_train), (x_test, y_test) = tf.keras.datasets.fashion_mnist.load_data()\n",
    "print(\"x_train shape:\", x_train.shape, \"y_train shape:\", y_train.shape, \"x_test shape:\", x_test.shape, \"y_test shape:\", y_test.shape)"
   ]
  },
  {
   "cell_type": "code",
   "execution_count": 93,
   "metadata": {},
   "outputs": [
    {
     "data": {
      "image/png": "[encoded data removed]",
      "text/plain": [
       "<Figure size 432x288 with 1 Axes>"
      ]
     },
     "metadata": {
      "needs_background": "light"
     },
     "output_type": "display_data"
    },
    {
     "data": {
      "image/png": "[encoded data removed]",
      "text/plain": [
       "<Figure size 432x288 with 1 Axes>"
      ]
     },
     "metadata": {
      "needs_background": "light"
     },
     "output_type": "display_data"
    },
    {
     "data": {
      "image/png": "[encoded data removed]",
      "text/plain": [
       "<Figure size 432x288 with 1 Axes>"
      ]
     },
     "metadata": {
      "needs_background": "light"
     },
     "output_type": "display_data"
    }
   ],
   "source": [
    "for i in range(12, 15):\n",
    "    plt.imshow(x_train[i])\n",
    "    plt.title('Image from the DataSet')\n",
    "    plt.xlabel('x-values')\n",
    "    plt.ylabel('y-values')\n",
    "    plt.show()"
   ]
  },
  {
   "cell_type": "code",
   "execution_count": 94,
   "metadata": {},
   "outputs": [],
   "source": [
    "x_train=x_train/255\n",
    "x_test=x_test/255"
   ]
  },
  {
   "cell_type": "code",
   "execution_count": 54,
   "metadata": {},
   "outputs": [],
   "source": [
    "y_train=tf.keras.utils.to_categorical(y_train, num_classes=10, dtype=\"float32\")\n",
    "y_test=tf.keras.utils.to_categorical(y_test, num_classes=10, dtype=\"float32\")"
   ]
  },
  {
   "cell_type": "code",
   "execution_count": 95,
   "metadata": {},
   "outputs": [],
   "source": [
    "x_train, x_validation, y_train, y_validation = train_test_split(x_train, y_train, test_size=0.2, random_state=42)"
   ]
  },
  {
   "cell_type": "code",
   "execution_count": 56,
   "metadata": {},
   "outputs": [
    {
     "name": "stdout",
     "output_type": "stream",
     "text": [
      "x_train shape: (48000, 28, 28, 1) x_test shape: (10000, 28, 28, 1) x_validation shape: (12000, 28, 28, 1)\n"
     ]
    }
   ],
   "source": [
    "x_train=np.expand_dims(x_train,axis=3);\n",
    "x_test=np.expand_dims(x_test,axis=3);\n",
    "x_validation=np.expand_dims(x_validation,axis=3)\n",
    "print(\"x_train shape:\", x_train.shape, \"x_test shape:\", x_test.shape,\"x_validation shape:\", x_validation.shape)"
   ]
  },
  {
   "cell_type": "markdown",
   "metadata": {},
   "source": [
    "#### \n",
    "## 1.2 MLP"
   ]
  },
  {
   "cell_type": "code",
   "execution_count": 57,
   "metadata": {},
   "outputs": [
    {
     "name": "stdout",
     "output_type": "stream",
     "text": [
      "model shape: (None, 784)\n"
     ]
    }
   ],
   "source": [
    "model = tf.keras.Sequential(name=\"MLP_Early\")\n",
    "model.add(tf.keras.layers.Flatten(input_shape=(28, 28, 1)))\n",
    "print(\"model shape:\", model.output_shape)"
   ]
  },
  {
   "cell_type": "code",
   "execution_count": 58,
   "metadata": {},
   "outputs": [
    {
     "name": "stdout",
     "output_type": "stream",
     "text": [
      "model shape: (None, 32)\n",
      "model shape: (None, 64)\n"
     ]
    }
   ],
   "source": [
    "model.add(tf.keras.layers.Dense(32, activation=\"relu\", name=\"Dense_32\"))\n",
    "print(\"model shape:\", model.output_shape)\n",
    "model.add(tf.keras.layers.Dense(64, activation=\"relu\", name=\"Dense_64\"))\n",
    "print(\"model shape:\", model.output_shape)"
   ]
  },
  {
   "cell_type": "code",
   "execution_count": 59,
   "metadata": {},
   "outputs": [
    {
     "name": "stdout",
     "output_type": "stream",
     "text": [
      "model shape: (None, 10)\n"
     ]
    }
   ],
   "source": [
    "model.add(tf.keras.layers.Dense(10,activation=\"softmax\",name=\"Softmax_10\"))\n",
    "print(\"model shape:\", model.output_shape)"
   ]
  },
  {
   "cell_type": "code",
   "execution_count": 60,
   "metadata": {},
   "outputs": [
    {
     "name": "stdout",
     "output_type": "stream",
     "text": [
      "Model: \"MLP_Early\"\n",
      "_________________________________________________________________\n",
      "Layer (type)                 Output Shape              Param #   \n",
      "=================================================================\n",
      "flatten_4 (Flatten)          (None, 784)               0         \n",
      "_________________________________________________________________\n",
      "Dense_32 (Dense)             (None, 32)                25120     \n",
      "_________________________________________________________________\n",
      "Dense_64 (Dense)             (None, 64)                2112      \n",
      "_________________________________________________________________\n",
      "Softmax_10 (Dense)           (None, 10)                650       \n",
      "=================================================================\n",
      "Total params: 27,882\n",
      "Trainable params: 27,882\n",
      "Non-trainable params: 0\n",
      "_________________________________________________________________\n"
     ]
    }
   ],
   "source": [
    "model.summary()"
   ]
  },
  {
   "cell_type": "code",
   "execution_count": 61,
   "metadata": {},
   "outputs": [],
   "source": [
    "callback=tf.keras.callbacks.EarlyStopping(patience=10,restore_best_weights=True)"
   ]
  },
  {
   "cell_type": "code",
   "execution_count": 62,
   "metadata": {},
   "outputs": [
    {
     "name": "stdout",
     "output_type": "stream",
     "text": [
      "Epoch 1/200\n",
      "240/240 [==============================] - 0s 1ms/step - loss: 0.7157 - val_loss: 0.4868\n",
      "Epoch 2/200\n",
      "240/240 [==============================] - 0s 1ms/step - loss: 0.4521 - val_loss: 0.4417\n",
      "Epoch 3/200\n",
      "240/240 [==============================] - 0s 1ms/step - loss: 0.4091 - val_loss: 0.4279\n",
      "Epoch 4/200\n",
      "240/240 [==============================] - 0s 1ms/step - loss: 0.3871 - val_loss: 0.3870\n",
      "Epoch 5/200\n",
      "240/240 [==============================] - 0s 1ms/step - loss: 0.3676 - val_loss: 0.3818\n",
      "Epoch 6/200\n",
      "240/240 [==============================] - 0s 1ms/step - loss: 0.3534 - val_loss: 0.4208\n",
      "Epoch 7/200\n",
      "240/240 [==============================] - 0s 1ms/step - loss: 0.3482 - val_loss: 0.3621\n",
      "Epoch 8/200\n",
      "240/240 [==============================] - 0s 1ms/step - loss: 0.3322 - val_loss: 0.3670\n",
      "Epoch 9/200\n",
      "240/240 [==============================] - 0s 999us/step - loss: 0.3266 - val_loss: 0.3595\n",
      "Epoch 10/200\n",
      "240/240 [==============================] - 0s 1ms/step - loss: 0.3175 - val_loss: 0.3540\n",
      "Epoch 11/200\n",
      "240/240 [==============================] - 0s 1ms/step - loss: 0.3110 - val_loss: 0.3769\n",
      "Epoch 12/200\n",
      "240/240 [==============================] - 0s 1ms/step - loss: 0.3087 - val_loss: 0.3518\n",
      "Epoch 13/200\n",
      "240/240 [==============================] - 0s 1ms/step - loss: 0.3024 - val_loss: 0.3650\n",
      "Epoch 14/200\n",
      "240/240 [==============================] - 0s 1ms/step - loss: 0.2943 - val_loss: 0.3400\n",
      "Epoch 15/200\n",
      "240/240 [==============================] - 0s 1ms/step - loss: 0.2888 - val_loss: 0.3463\n",
      "Epoch 16/200\n",
      "240/240 [==============================] - 0s 1ms/step - loss: 0.2855 - val_loss: 0.3527\n",
      "Epoch 17/200\n",
      "240/240 [==============================] - 0s 1ms/step - loss: 0.2796 - val_loss: 0.3413\n",
      "Epoch 18/200\n",
      "240/240 [==============================] - 0s 1ms/step - loss: 0.2743 - val_loss: 0.3438\n",
      "Epoch 19/200\n",
      "240/240 [==============================] - 0s 1ms/step - loss: 0.2709 - val_loss: 0.3438\n",
      "Epoch 20/200\n",
      "240/240 [==============================] - 0s 1ms/step - loss: 0.2698 - val_loss: 0.3446\n",
      "Epoch 21/200\n",
      "240/240 [==============================] - 0s 1ms/step - loss: 0.2639 - val_loss: 0.3447\n",
      "Epoch 22/200\n",
      "240/240 [==============================] - 0s 1ms/step - loss: 0.2612 - val_loss: 0.3427\n",
      "Epoch 23/200\n",
      "240/240 [==============================] - 0s 1ms/step - loss: 0.2559 - val_loss: 0.3403\n",
      "Epoch 24/200\n",
      "240/240 [==============================] - 0s 1ms/step - loss: 0.2509 - val_loss: 0.3488\n"
     ]
    }
   ],
   "source": [
    "opt = tf.keras.optimizers.Adam(learning_rate=0.001,clipnorm=1)\n",
    "model.compile(optimizer=opt, loss=\"categorical_crossentropy\")\n",
    "history=model.fit(x=x_train,y=y_train,epochs=200,batch_size=200,callbacks=[callback],validation_data=(x_validation,y_validation))"
   ]
  },
  {
   "cell_type": "code",
   "execution_count": 63,
   "metadata": {},
   "outputs": [
    {
     "data": {
      "image/png": "[encoded data removed]",
      "text/plain": [
       "<Figure size 432x288 with 1 Axes>"
      ]
     },
     "metadata": {
      "needs_background": "light"
     },
     "output_type": "display_data"
    },
    {
     "data": {
      "image/png": "[encoded data removed]",
      "text/plain": [
       "<Figure size 432x288 with 1 Axes>"
      ]
     },
     "metadata": {
      "needs_background": "light"
     },
     "output_type": "display_data"
    }
   ],
   "source": [
    "plt.figure(1)\n",
    "plt.plot(history.history['loss'])\n",
    "plt.title('Evolution of Loss in the model')\n",
    "plt.xlabel('Epochs')\n",
    "plt.ylabel('Loss')\n",
    "plt.show()\n",
    "plt.figure(2)\n",
    "plt.plot(history.history['val_loss'])\n",
    "plt.title('Evolution of Val_Loss in the model')\n",
    "plt.xlabel('Epochs')\n",
    "plt.ylabel('Val_Loss')\n",
    "plt.show()"
   ]
  },
  {
   "cell_type": "code",
   "execution_count": 64,
   "metadata": {},
   "outputs": [
    {
     "name": "stdout",
     "output_type": "stream",
     "text": [
      "Accuracy score: 0.8718 \n",
      " Confusion Matrix: [[819   3  14  35   5   0 114   0  10   0]\n",
      " [  2 960   1  27   7   0   2   0   1   0]\n",
      " [ 11   1 802  15 106   0  63   0   2   0]\n",
      " [ 23  11  13 877  46   0  26   0   4   0]\n",
      " [  0   0  98  27 816   1  53   0   5   0]\n",
      " [  2   1   0   0   0 958   0  21   2  16]\n",
      " [112   1 119  36  82   1 637   0  11   1]\n",
      " [  0   0   0   0   0  35   0 936   1  28]\n",
      " [  6   1   4   3   8   4   7   3 964   0]\n",
      " [  0   0   0   0   0  15   1  35   0 949]]\n"
     ]
    }
   ],
   "source": [
    "y_prediction=model.predict(x=x_test,batch_size=200,callbacks=[callback])\n",
    "y_prediction=np.argmax(y_prediction, axis=1)\n",
    "y_prediction=tf.keras.utils.to_categorical(y_prediction, num_classes=10, dtype=\"float32\")\n",
    "print(\"Accuracy score:\", accuracy_score(y_test, y_prediction),\"\\n\",\"Confusion Matrix:\",confusion_matrix(y_test.argmax(axis=1), y_prediction.argmax(axis=1)))"
   ]
  },
  {
   "cell_type": "markdown",
   "metadata": {},
   "source": [
    "#### \n",
    "### Doing the same thing without early stopping"
   ]
  },
  {
   "cell_type": "code",
   "execution_count": 65,
   "metadata": {},
   "outputs": [
    {
     "name": "stdout",
     "output_type": "stream",
     "text": [
      "model2 shape: (None, 784)\n"
     ]
    }
   ],
   "source": [
    "model2 = tf.keras.Sequential(name=\"MLP_NoEarly\")\n",
    "model2.add(tf.keras.layers.Flatten(input_shape=(28, 28, 1)))\n",
    "print(\"model2 shape:\", model2.output_shape)"
   ]
  },
  {
   "cell_type": "code",
   "execution_count": 66,
   "metadata": {},
   "outputs": [
    {
     "name": "stdout",
     "output_type": "stream",
     "text": [
      "model2 shape: (None, 32)\n",
      "model2 shape: (None, 64)\n"
     ]
    }
   ],
   "source": [
    "model2.add(tf.keras.layers.Dense(32, activation=\"relu\", name=\"Dense_32\"))\n",
    "print(\"model2 shape:\", model2.output_shape)\n",
    "model2.add(tf.keras.layers.Dense(64, activation=\"relu\", name=\"Dense_64\"))\n",
    "print(\"model2 shape:\", model2.output_shape)"
   ]
  },
  {
   "cell_type": "code",
   "execution_count": 67,
   "metadata": {},
   "outputs": [
    {
     "name": "stdout",
     "output_type": "stream",
     "text": [
      "model2 shape: (None, 10)\n"
     ]
    }
   ],
   "source": [
    "model2.add(tf.keras.layers.Dense(10,activation=\"softmax\",name=\"Softmax_10\"))\n",
    "print(\"model2 shape:\", model2.output_shape)"
   ]
  },
  {
   "cell_type": "code",
   "execution_count": 68,
   "metadata": {},
   "outputs": [
    {
     "name": "stdout",
     "output_type": "stream",
     "text": [
      "Model: \"MLP_NoEarly\"\n",
      "_________________________________________________________________\n",
      "Layer (type)                 Output Shape              Param #   \n",
      "=================================================================\n",
      "flatten_5 (Flatten)          (None, 784)               0         \n",
      "_________________________________________________________________\n",
      "Dense_32 (Dense)             (None, 32)                25120     \n",
      "_________________________________________________________________\n",
      "Dense_64 (Dense)             (None, 64)                2112      \n",
      "_________________________________________________________________\n",
      "Softmax_10 (Dense)           (None, 10)                650       \n",
      "=================================================================\n",
      "Total params: 27,882\n",
      "Trainable params: 27,882\n",
      "Non-trainable params: 0\n",
      "_________________________________________________________________\n"
     ]
    }
   ],
   "source": [
    "model2.summary()"
   ]
  },
  {
   "cell_type": "code",
   "execution_count": 69,
   "metadata": {},
   "outputs": [
    {
     "name": "stdout",
     "output_type": "stream",
     "text": [
      "Epoch 1/200\n",
      "240/240 [==============================] - 0s 1ms/step - loss: 0.7263 - val_loss: 0.5116\n",
      "Epoch 2/200\n",
      "240/240 [==============================] - 0s 1ms/step - loss: 0.4578 - val_loss: 0.4389\n",
      "Epoch 3/200\n",
      "240/240 [==============================] - 0s 1ms/step - loss: 0.4148 - val_loss: 0.4078\n",
      "Epoch 4/200\n",
      "240/240 [==============================] - 0s 1ms/step - loss: 0.3849 - val_loss: 0.3968\n",
      "Epoch 5/200\n",
      "240/240 [==============================] - 0s 991us/step - loss: 0.3672 - val_loss: 0.3865\n",
      "Epoch 6/200\n",
      "240/240 [==============================] - 0s 1ms/step - loss: 0.3568 - val_loss: 0.3711\n",
      "Epoch 7/200\n",
      "240/240 [==============================] - 0s 1ms/step - loss: 0.3436 - val_loss: 0.3628\n",
      "Epoch 8/200\n",
      "240/240 [==============================] - 0s 1ms/step - loss: 0.3337 - val_loss: 0.3662\n",
      "Epoch 9/200\n",
      "240/240 [==============================] - 0s 1ms/step - loss: 0.3242 - val_loss: 0.3586\n",
      "Epoch 10/200\n",
      "240/240 [==============================] - 0s 1ms/step - loss: 0.3153 - val_loss: 0.3543\n",
      "Epoch 11/200\n",
      "240/240 [==============================] - 0s 1ms/step - loss: 0.3056 - val_loss: 0.3571\n",
      "Epoch 12/200\n",
      "240/240 [==============================] - 0s 1ms/step - loss: 0.3025 - val_loss: 0.3565\n",
      "Epoch 13/200\n",
      "240/240 [==============================] - 0s 1ms/step - loss: 0.2950 - val_loss: 0.3446\n",
      "Epoch 14/200\n",
      "240/240 [==============================] - 0s 1ms/step - loss: 0.2917 - val_loss: 0.3607\n",
      "Epoch 15/200\n",
      "240/240 [==============================] - 0s 1ms/step - loss: 0.2834 - val_loss: 0.3339\n",
      "Epoch 16/200\n",
      "240/240 [==============================] - 0s 1ms/step - loss: 0.2779 - val_loss: 0.3426\n",
      "Epoch 17/200\n",
      "240/240 [==============================] - 0s 1ms/step - loss: 0.2742 - val_loss: 0.3439\n",
      "Epoch 18/200\n",
      "240/240 [==============================] - 0s 1ms/step - loss: 0.2700 - val_loss: 0.3429\n",
      "Epoch 19/200\n",
      "240/240 [==============================] - 0s 1ms/step - loss: 0.2644 - val_loss: 0.3289\n",
      "Epoch 20/200\n",
      "240/240 [==============================] - 0s 1ms/step - loss: 0.2630 - val_loss: 0.3427\n",
      "Epoch 21/200\n",
      "240/240 [==============================] - 0s 1ms/step - loss: 0.2584 - val_loss: 0.3378\n",
      "Epoch 22/200\n",
      "240/240 [==============================] - 0s 1ms/step - loss: 0.2519 - val_loss: 0.3393\n",
      "Epoch 23/200\n",
      "240/240 [==============================] - 0s 1ms/step - loss: 0.2505 - val_loss: 0.3371\n",
      "Epoch 24/200\n",
      "240/240 [==============================] - 0s 1ms/step - loss: 0.2472 - val_loss: 0.3267\n",
      "Epoch 25/200\n",
      "240/240 [==============================] - 0s 1ms/step - loss: 0.2447 - val_loss: 0.3304\n",
      "Epoch 26/200\n",
      "240/240 [==============================] - 0s 1ms/step - loss: 0.2421 - val_loss: 0.3503\n",
      "Epoch 27/200\n",
      "240/240 [==============================] - 0s 1ms/step - loss: 0.2383 - val_loss: 0.3350\n",
      "Epoch 28/200\n",
      "240/240 [==============================] - 0s 1ms/step - loss: 0.2374 - val_loss: 0.3315\n",
      "Epoch 29/200\n",
      "240/240 [==============================] - 0s 1ms/step - loss: 0.2311 - val_loss: 0.3365\n",
      "Epoch 30/200\n",
      "240/240 [==============================] - 0s 1ms/step - loss: 0.2258 - val_loss: 0.3431\n",
      "Epoch 31/200\n",
      "240/240 [==============================] - 0s 1ms/step - loss: 0.2272 - val_loss: 0.3430\n",
      "Epoch 32/200\n",
      "240/240 [==============================] - 0s 1ms/step - loss: 0.2244 - val_loss: 0.3371\n",
      "Epoch 33/200\n",
      "240/240 [==============================] - 0s 1ms/step - loss: 0.2218 - val_loss: 0.3485\n",
      "Epoch 34/200\n",
      "240/240 [==============================] - 0s 1ms/step - loss: 0.2167 - val_loss: 0.3504\n",
      "Epoch 35/200\n",
      "240/240 [==============================] - 0s 1ms/step - loss: 0.2168 - val_loss: 0.3439\n",
      "Epoch 36/200\n",
      "240/240 [==============================] - 0s 1ms/step - loss: 0.2142 - val_loss: 0.3366\n",
      "Epoch 37/200\n",
      "240/240 [==============================] - 0s 1ms/step - loss: 0.2102 - val_loss: 0.3543\n",
      "Epoch 38/200\n",
      "240/240 [==============================] - 0s 1ms/step - loss: 0.2105 - val_loss: 0.3412\n",
      "Epoch 39/200\n",
      "240/240 [==============================] - 0s 1ms/step - loss: 0.2082 - val_loss: 0.3666\n",
      "Epoch 40/200\n",
      "240/240 [==============================] - 0s 1ms/step - loss: 0.2057 - val_loss: 0.3503\n",
      "Epoch 41/200\n",
      "240/240 [==============================] - 0s 1ms/step - loss: 0.2030 - val_loss: 0.3486\n",
      "Epoch 42/200\n",
      "240/240 [==============================] - 0s 1ms/step - loss: 0.1977 - val_loss: 0.3619\n",
      "Epoch 43/200\n",
      "240/240 [==============================] - 0s 1ms/step - loss: 0.1978 - val_loss: 0.3585\n",
      "Epoch 44/200\n",
      "240/240 [==============================] - 0s 1ms/step - loss: 0.1982 - val_loss: 0.3603\n",
      "Epoch 45/200\n",
      "240/240 [==============================] - 0s 1ms/step - loss: 0.1942 - val_loss: 0.3652\n",
      "Epoch 46/200\n",
      "240/240 [==============================] - 0s 1ms/step - loss: 0.1925 - val_loss: 0.3609\n",
      "Epoch 47/200\n",
      "240/240 [==============================] - 0s 1ms/step - loss: 0.1912 - val_loss: 0.3702\n",
      "Epoch 48/200\n",
      "240/240 [==============================] - 0s 1ms/step - loss: 0.1878 - val_loss: 0.3623\n",
      "Epoch 49/200\n",
      "240/240 [==============================] - 0s 1ms/step - loss: 0.1843 - val_loss: 0.3726\n",
      "Epoch 50/200\n",
      "240/240 [==============================] - 0s 1ms/step - loss: 0.1868 - val_loss: 0.3816\n",
      "Epoch 51/200\n",
      "240/240 [==============================] - 0s 1ms/step - loss: 0.1849 - val_loss: 0.3712\n",
      "Epoch 52/200\n",
      "240/240 [==============================] - 0s 1ms/step - loss: 0.1850 - val_loss: 0.3785\n",
      "Epoch 53/200\n",
      "240/240 [==============================] - 0s 1ms/step - loss: 0.1808 - val_loss: 0.3664\n",
      "Epoch 54/200\n",
      "240/240 [==============================] - 0s 1ms/step - loss: 0.1796 - val_loss: 0.3801\n",
      "Epoch 55/200\n",
      "240/240 [==============================] - 0s 1ms/step - loss: 0.1781 - val_loss: 0.3834\n",
      "Epoch 56/200\n",
      "240/240 [==============================] - 0s 1ms/step - loss: 0.1769 - val_loss: 0.3825\n",
      "Epoch 57/200\n",
      "240/240 [==============================] - 0s 1ms/step - loss: 0.1741 - val_loss: 0.3945\n",
      "Epoch 58/200\n",
      "240/240 [==============================] - 0s 1ms/step - loss: 0.1740 - val_loss: 0.3978\n",
      "Epoch 59/200\n",
      "240/240 [==============================] - 0s 1ms/step - loss: 0.1733 - val_loss: 0.3824\n",
      "Epoch 60/200\n",
      "240/240 [==============================] - 0s 1ms/step - loss: 0.1682 - val_loss: 0.3957\n",
      "Epoch 61/200\n",
      "240/240 [==============================] - 0s 1ms/step - loss: 0.1673 - val_loss: 0.3889\n",
      "Epoch 62/200\n",
      "240/240 [==============================] - 0s 1ms/step - loss: 0.1667 - val_loss: 0.4070\n",
      "Epoch 63/200\n",
      "240/240 [==============================] - 0s 1ms/step - loss: 0.1700 - val_loss: 0.3992\n",
      "Epoch 64/200\n",
      "240/240 [==============================] - 0s 1ms/step - loss: 0.1656 - val_loss: 0.4005\n",
      "Epoch 65/200\n",
      "240/240 [==============================] - 0s 1ms/step - loss: 0.1618 - val_loss: 0.4041\n",
      "Epoch 66/200\n",
      "240/240 [==============================] - 0s 1ms/step - loss: 0.1604 - val_loss: 0.4004\n",
      "Epoch 67/200\n",
      "240/240 [==============================] - 0s 1ms/step - loss: 0.1593 - val_loss: 0.4250\n",
      "Epoch 68/200\n",
      "240/240 [==============================] - 0s 1ms/step - loss: 0.1605 - val_loss: 0.3987\n",
      "Epoch 69/200\n",
      "240/240 [==============================] - 0s 1ms/step - loss: 0.1580 - val_loss: 0.4163\n",
      "Epoch 70/200\n",
      "240/240 [==============================] - 0s 1ms/step - loss: 0.1573 - val_loss: 0.4124\n",
      "Epoch 71/200\n",
      "240/240 [==============================] - 0s 1ms/step - loss: 0.1544 - val_loss: 0.4166\n",
      "Epoch 72/200\n",
      "240/240 [==============================] - 0s 1ms/step - loss: 0.1567 - val_loss: 0.4158\n",
      "Epoch 73/200\n",
      "240/240 [==============================] - 0s 1ms/step - loss: 0.1534 - val_loss: 0.4212\n",
      "Epoch 74/200\n",
      "240/240 [==============================] - 0s 1ms/step - loss: 0.1519 - val_loss: 0.4247\n",
      "Epoch 75/200\n",
      "240/240 [==============================] - 0s 1ms/step - loss: 0.1487 - val_loss: 0.4285\n",
      "Epoch 76/200\n",
      "240/240 [==============================] - 0s 1ms/step - loss: 0.1483 - val_loss: 0.4280\n",
      "Epoch 77/200\n",
      "240/240 [==============================] - 0s 1ms/step - loss: 0.1488 - val_loss: 0.4265\n",
      "Epoch 78/200\n",
      "240/240 [==============================] - 0s 1ms/step - loss: 0.1482 - val_loss: 0.4436\n",
      "Epoch 79/200\n",
      "240/240 [==============================] - 0s 1ms/step - loss: 0.1474 - val_loss: 0.4273\n",
      "Epoch 80/200\n",
      "240/240 [==============================] - 0s 1ms/step - loss: 0.1471 - val_loss: 0.4221\n",
      "Epoch 81/200\n",
      "240/240 [==============================] - 0s 1ms/step - loss: 0.1455 - val_loss: 0.4372\n",
      "Epoch 82/200\n",
      "240/240 [==============================] - 0s 1ms/step - loss: 0.1424 - val_loss: 0.4535\n",
      "Epoch 83/200\n",
      "240/240 [==============================] - 0s 1ms/step - loss: 0.1424 - val_loss: 0.4405\n",
      "Epoch 84/200\n",
      "240/240 [==============================] - 0s 1ms/step - loss: 0.1425 - val_loss: 0.4535\n",
      "Epoch 85/200\n",
      "240/240 [==============================] - 0s 1ms/step - loss: 0.1376 - val_loss: 0.4556\n",
      "Epoch 86/200\n",
      "240/240 [==============================] - 0s 1ms/step - loss: 0.1419 - val_loss: 0.4739\n",
      "Epoch 87/200\n",
      "240/240 [==============================] - 0s 1ms/step - loss: 0.1404 - val_loss: 0.4496\n",
      "Epoch 88/200\n",
      "240/240 [==============================] - 0s 1ms/step - loss: 0.1364 - val_loss: 0.4599\n",
      "Epoch 89/200\n",
      "240/240 [==============================] - 0s 1ms/step - loss: 0.1388 - val_loss: 0.4583\n",
      "Epoch 90/200\n",
      "240/240 [==============================] - 0s 1ms/step - loss: 0.1351 - val_loss: 0.4532\n",
      "Epoch 91/200\n",
      "240/240 [==============================] - 0s 1ms/step - loss: 0.1371 - val_loss: 0.4880\n",
      "Epoch 92/200\n",
      "240/240 [==============================] - 0s 1ms/step - loss: 0.1338 - val_loss: 0.4596\n",
      "Epoch 93/200\n",
      "240/240 [==============================] - 0s 1ms/step - loss: 0.1308 - val_loss: 0.4599\n",
      "Epoch 94/200\n",
      "240/240 [==============================] - 0s 1ms/step - loss: 0.1320 - val_loss: 0.4624\n",
      "Epoch 95/200\n",
      "240/240 [==============================] - 0s 1ms/step - loss: 0.1307 - val_loss: 0.4668\n",
      "Epoch 96/200\n",
      "240/240 [==============================] - 0s 1ms/step - loss: 0.1282 - val_loss: 0.4870\n",
      "Epoch 97/200\n",
      "240/240 [==============================] - 0s 1ms/step - loss: 0.1294 - val_loss: 0.4757\n",
      "Epoch 98/200\n",
      "240/240 [==============================] - 0s 1ms/step - loss: 0.1271 - val_loss: 0.4917\n",
      "Epoch 99/200\n",
      "240/240 [==============================] - 0s 1ms/step - loss: 0.1264 - val_loss: 0.4875\n",
      "Epoch 100/200\n",
      "240/240 [==============================] - 0s 1ms/step - loss: 0.1269 - val_loss: 0.4843\n",
      "Epoch 101/200\n",
      "240/240 [==============================] - 0s 1ms/step - loss: 0.1270 - val_loss: 0.4733\n",
      "Epoch 102/200\n",
      "240/240 [==============================] - 0s 1ms/step - loss: 0.1251 - val_loss: 0.5075\n",
      "Epoch 103/200\n",
      "240/240 [==============================] - 0s 1ms/step - loss: 0.1246 - val_loss: 0.4939\n",
      "Epoch 104/200\n",
      "240/240 [==============================] - 0s 1ms/step - loss: 0.1233 - val_loss: 0.4872\n",
      "Epoch 105/200\n",
      "240/240 [==============================] - 0s 1ms/step - loss: 0.1212 - val_loss: 0.5001\n",
      "Epoch 106/200\n",
      "240/240 [==============================] - 0s 1ms/step - loss: 0.1207 - val_loss: 0.5048\n",
      "Epoch 107/200\n",
      "240/240 [==============================] - 0s 1ms/step - loss: 0.1185 - val_loss: 0.5126\n",
      "Epoch 108/200\n",
      "240/240 [==============================] - 0s 1ms/step - loss: 0.1174 - val_loss: 0.5176\n",
      "Epoch 109/200\n",
      "240/240 [==============================] - 0s 1ms/step - loss: 0.1233 - val_loss: 0.4951\n",
      "Epoch 110/200\n",
      "240/240 [==============================] - 0s 1ms/step - loss: 0.1193 - val_loss: 0.5014\n",
      "Epoch 111/200\n",
      "240/240 [==============================] - 0s 1ms/step - loss: 0.1138 - val_loss: 0.5202\n",
      "Epoch 112/200\n",
      "240/240 [==============================] - 0s 1ms/step - loss: 0.1163 - val_loss: 0.5152\n",
      "Epoch 113/200\n",
      "240/240 [==============================] - 0s 1ms/step - loss: 0.1178 - val_loss: 0.5128\n",
      "Epoch 114/200\n",
      "240/240 [==============================] - 0s 1ms/step - loss: 0.1155 - val_loss: 0.5353\n",
      "Epoch 115/200\n",
      "240/240 [==============================] - 0s 1ms/step - loss: 0.1140 - val_loss: 0.5431\n",
      "Epoch 116/200\n",
      "240/240 [==============================] - 0s 1ms/step - loss: 0.1128 - val_loss: 0.5231\n",
      "Epoch 117/200\n",
      "240/240 [==============================] - 0s 1ms/step - loss: 0.1141 - val_loss: 0.5226\n",
      "Epoch 118/200\n",
      "240/240 [==============================] - 0s 1ms/step - loss: 0.1113 - val_loss: 0.5376\n",
      "Epoch 119/200\n",
      "240/240 [==============================] - 0s 1ms/step - loss: 0.1126 - val_loss: 0.5288\n",
      "Epoch 120/200\n",
      "240/240 [==============================] - 0s 1ms/step - loss: 0.1075 - val_loss: 0.5415\n",
      "Epoch 121/200\n",
      "240/240 [==============================] - 0s 1ms/step - loss: 0.1106 - val_loss: 0.5322\n",
      "Epoch 122/200\n",
      "240/240 [==============================] - 0s 1ms/step - loss: 0.1107 - val_loss: 0.5442\n",
      "Epoch 123/200\n",
      "240/240 [==============================] - 0s 1ms/step - loss: 0.1057 - val_loss: 0.5403\n",
      "Epoch 124/200\n",
      "240/240 [==============================] - 0s 1ms/step - loss: 0.1108 - val_loss: 0.5456\n",
      "Epoch 125/200\n",
      "240/240 [==============================] - 0s 1ms/step - loss: 0.1074 - val_loss: 0.5346\n",
      "Epoch 126/200\n",
      "240/240 [==============================] - 0s 1ms/step - loss: 0.1086 - val_loss: 0.5558\n",
      "Epoch 127/200\n",
      "240/240 [==============================] - 0s 1ms/step - loss: 0.1054 - val_loss: 0.5644\n",
      "Epoch 128/200\n",
      "240/240 [==============================] - 0s 1ms/step - loss: 0.1046 - val_loss: 0.5735\n",
      "Epoch 129/200\n",
      "240/240 [==============================] - 0s 1ms/step - loss: 0.1059 - val_loss: 0.5501\n",
      "Epoch 130/200\n",
      "240/240 [==============================] - 0s 1ms/step - loss: 0.1046 - val_loss: 0.5506\n",
      "Epoch 131/200\n",
      "240/240 [==============================] - 0s 1ms/step - loss: 0.1029 - val_loss: 0.5579\n",
      "Epoch 132/200\n",
      "240/240 [==============================] - 0s 1ms/step - loss: 0.1016 - val_loss: 0.5763\n",
      "Epoch 133/200\n",
      "240/240 [==============================] - 0s 1ms/step - loss: 0.1030 - val_loss: 0.5953\n",
      "Epoch 134/200\n",
      "240/240 [==============================] - 0s 1ms/step - loss: 0.1061 - val_loss: 0.5938\n",
      "Epoch 135/200\n",
      "240/240 [==============================] - 0s 1ms/step - loss: 0.1018 - val_loss: 0.5821\n",
      "Epoch 136/200\n",
      "240/240 [==============================] - 0s 1ms/step - loss: 0.1025 - val_loss: 0.5735\n",
      "Epoch 137/200\n",
      "240/240 [==============================] - 0s 1ms/step - loss: 0.0994 - val_loss: 0.5936\n",
      "Epoch 138/200\n",
      "240/240 [==============================] - 0s 1ms/step - loss: 0.1018 - val_loss: 0.6118\n",
      "Epoch 139/200\n",
      "240/240 [==============================] - 0s 1ms/step - loss: 0.0987 - val_loss: 0.5980\n",
      "Epoch 140/200\n",
      "240/240 [==============================] - 0s 1ms/step - loss: 0.0973 - val_loss: 0.5992\n",
      "Epoch 141/200\n",
      "240/240 [==============================] - 0s 1ms/step - loss: 0.0977 - val_loss: 0.6002\n",
      "Epoch 142/200\n",
      "240/240 [==============================] - 0s 1ms/step - loss: 0.0987 - val_loss: 0.6047\n",
      "Epoch 143/200\n",
      "240/240 [==============================] - 0s 1ms/step - loss: 0.0990 - val_loss: 0.6007\n",
      "Epoch 144/200\n",
      "240/240 [==============================] - 0s 1ms/step - loss: 0.0958 - val_loss: 0.6070\n",
      "Epoch 145/200\n",
      "240/240 [==============================] - 0s 1ms/step - loss: 0.0954 - val_loss: 0.6153\n",
      "Epoch 146/200\n",
      "240/240 [==============================] - 0s 1ms/step - loss: 0.0928 - val_loss: 0.6147\n",
      "Epoch 147/200\n",
      "240/240 [==============================] - 0s 1ms/step - loss: 0.0968 - val_loss: 0.6249\n",
      "Epoch 148/200\n",
      "240/240 [==============================] - 0s 1ms/step - loss: 0.0950 - val_loss: 0.6190\n",
      "Epoch 149/200\n",
      "240/240 [==============================] - 0s 1ms/step - loss: 0.0920 - val_loss: 0.6329\n",
      "Epoch 150/200\n",
      "240/240 [==============================] - 0s 1ms/step - loss: 0.0937 - val_loss: 0.6374\n",
      "Epoch 151/200\n",
      "240/240 [==============================] - 0s 1ms/step - loss: 0.0898 - val_loss: 0.6305\n",
      "Epoch 152/200\n",
      "240/240 [==============================] - 0s 1ms/step - loss: 0.0901 - val_loss: 0.6381\n",
      "Epoch 153/200\n",
      "240/240 [==============================] - 0s 1ms/step - loss: 0.0908 - val_loss: 0.6209\n",
      "Epoch 154/200\n",
      "240/240 [==============================] - 0s 1ms/step - loss: 0.0908 - val_loss: 0.6617\n",
      "Epoch 155/200\n",
      "240/240 [==============================] - 0s 1ms/step - loss: 0.0934 - val_loss: 0.6427\n",
      "Epoch 156/200\n",
      "240/240 [==============================] - 0s 1ms/step - loss: 0.0896 - val_loss: 0.6301\n",
      "Epoch 157/200\n",
      "240/240 [==============================] - 0s 1ms/step - loss: 0.0891 - val_loss: 0.6633\n",
      "Epoch 158/200\n",
      "240/240 [==============================] - 0s 1ms/step - loss: 0.0886 - val_loss: 0.6502\n",
      "Epoch 159/200\n",
      "240/240 [==============================] - 0s 1ms/step - loss: 0.0883 - val_loss: 0.6591\n",
      "Epoch 160/200\n",
      "240/240 [==============================] - 0s 1ms/step - loss: 0.0876 - val_loss: 0.6623\n",
      "Epoch 161/200\n",
      "240/240 [==============================] - 0s 1ms/step - loss: 0.0865 - val_loss: 0.6668\n",
      "Epoch 162/200\n",
      "240/240 [==============================] - 0s 1ms/step - loss: 0.0878 - val_loss: 0.6667\n",
      "Epoch 163/200\n",
      "240/240 [==============================] - 0s 1ms/step - loss: 0.0848 - val_loss: 0.6844\n",
      "Epoch 164/200\n",
      "240/240 [==============================] - 0s 1ms/step - loss: 0.0861 - val_loss: 0.6591\n",
      "Epoch 165/200\n",
      "240/240 [==============================] - 0s 1ms/step - loss: 0.0849 - val_loss: 0.7001\n",
      "Epoch 166/200\n",
      "240/240 [==============================] - 0s 1ms/step - loss: 0.0807 - val_loss: 0.6719\n",
      "Epoch 167/200\n",
      "240/240 [==============================] - 0s 1ms/step - loss: 0.0828 - val_loss: 0.7106\n",
      "Epoch 168/200\n",
      "240/240 [==============================] - 0s 1ms/step - loss: 0.0855 - val_loss: 0.6727\n",
      "Epoch 169/200\n",
      "240/240 [==============================] - 0s 1ms/step - loss: 0.0826 - val_loss: 0.6756\n",
      "Epoch 170/200\n",
      "240/240 [==============================] - 0s 1ms/step - loss: 0.0805 - val_loss: 0.6870\n",
      "Epoch 171/200\n",
      "240/240 [==============================] - 0s 1ms/step - loss: 0.0821 - val_loss: 0.6834\n",
      "Epoch 172/200\n",
      "240/240 [==============================] - 0s 1ms/step - loss: 0.0831 - val_loss: 0.7019\n",
      "Epoch 173/200\n",
      "240/240 [==============================] - 0s 1ms/step - loss: 0.0784 - val_loss: 0.6877\n",
      "Epoch 174/200\n",
      "240/240 [==============================] - 0s 1ms/step - loss: 0.0781 - val_loss: 0.7060\n",
      "Epoch 175/200\n",
      "240/240 [==============================] - 0s 1ms/step - loss: 0.0829 - val_loss: 0.7070\n",
      "Epoch 176/200\n",
      "240/240 [==============================] - 0s 1ms/step - loss: 0.0816 - val_loss: 0.6800\n",
      "Epoch 177/200\n",
      "240/240 [==============================] - 0s 1ms/step - loss: 0.0781 - val_loss: 0.7014\n",
      "Epoch 178/200\n",
      "240/240 [==============================] - 0s 1ms/step - loss: 0.0768 - val_loss: 0.7193\n",
      "Epoch 179/200\n",
      "240/240 [==============================] - 0s 1ms/step - loss: 0.0818 - val_loss: 0.7024\n",
      "Epoch 180/200\n",
      "240/240 [==============================] - 0s 1ms/step - loss: 0.0763 - val_loss: 0.6978\n",
      "Epoch 181/200\n",
      "240/240 [==============================] - 0s 1ms/step - loss: 0.0786 - val_loss: 0.7140\n",
      "Epoch 182/200\n",
      "240/240 [==============================] - 0s 1ms/step - loss: 0.0788 - val_loss: 0.7510\n",
      "Epoch 183/200\n",
      "240/240 [==============================] - 0s 1ms/step - loss: 0.0771 - val_loss: 0.7162\n",
      "Epoch 184/200\n",
      "240/240 [==============================] - 0s 1ms/step - loss: 0.0754 - val_loss: 0.7262\n",
      "Epoch 185/200\n",
      "240/240 [==============================] - 0s 1ms/step - loss: 0.0761 - val_loss: 0.7529\n",
      "Epoch 186/200\n",
      "240/240 [==============================] - 0s 1ms/step - loss: 0.0780 - val_loss: 0.7504\n",
      "Epoch 187/200\n",
      "240/240 [==============================] - 0s 1ms/step - loss: 0.0746 - val_loss: 0.7558\n",
      "Epoch 188/200\n",
      "240/240 [==============================] - 0s 1ms/step - loss: 0.0753 - val_loss: 0.7230\n",
      "Epoch 189/200\n",
      "240/240 [==============================] - 0s 1ms/step - loss: 0.0755 - val_loss: 0.7436\n",
      "Epoch 190/200\n",
      "240/240 [==============================] - 0s 1ms/step - loss: 0.0769 - val_loss: 0.7338\n",
      "Epoch 191/200\n",
      "240/240 [==============================] - 0s 1ms/step - loss: 0.0707 - val_loss: 0.7340\n",
      "Epoch 192/200\n",
      "240/240 [==============================] - 0s 1ms/step - loss: 0.0735 - val_loss: 0.7462\n",
      "Epoch 193/200\n",
      "240/240 [==============================] - 0s 1ms/step - loss: 0.0754 - val_loss: 0.7477\n",
      "Epoch 194/200\n",
      "240/240 [==============================] - 0s 1ms/step - loss: 0.0716 - val_loss: 0.7543\n",
      "Epoch 195/200\n",
      "240/240 [==============================] - 0s 1ms/step - loss: 0.0685 - val_loss: 0.7640\n",
      "Epoch 196/200\n",
      "240/240 [==============================] - 0s 1ms/step - loss: 0.0724 - val_loss: 0.7590\n",
      "Epoch 197/200\n",
      "240/240 [==============================] - 0s 1ms/step - loss: 0.0693 - val_loss: 0.7793\n",
      "Epoch 198/200\n",
      "240/240 [==============================] - 0s 1ms/step - loss: 0.0742 - val_loss: 0.7702\n",
      "Epoch 199/200\n",
      "240/240 [==============================] - 0s 1ms/step - loss: 0.0717 - val_loss: 0.7638\n",
      "Epoch 200/200\n",
      "240/240 [==============================] - 0s 1ms/step - loss: 0.0758 - val_loss: 0.7782\n"
     ]
    }
   ],
   "source": [
    "opt = tf.keras.optimizers.Adam(learning_rate=0.001,clipnorm=1)\n",
    "model2.compile(optimizer=opt, loss=\"categorical_crossentropy\")\n",
    "history=model2.fit(x=x_train,y=y_train,epochs=200,batch_size=200,validation_data=(x_validation,y_validation))"
   ]
  },
  {
   "cell_type": "code",
   "execution_count": 70,
   "metadata": {},
   "outputs": [
    {
     "data": {
      "image/png": "[encoded data removed]",
      "text/plain": [
       "<Figure size 432x288 with 1 Axes>"
      ]
     },
     "metadata": {
      "needs_background": "light"
     },
     "output_type": "display_data"
    },
    {
     "data": {
      "image/png": "[encoded data removed]",
      "text/plain": [
       "<Figure size 432x288 with 1 Axes>"
      ]
     },
     "metadata": {
      "needs_background": "light"
     },
     "output_type": "display_data"
    }
   ],
   "source": [
    "plt.figure(1)\n",
    "plt.plot(history.history['loss'])\n",
    "plt.title('Evolution of Loss in the model')\n",
    "plt.xlabel('Epochs')\n",
    "plt.ylabel('Loss')\n",
    "plt.show()\n",
    "plt.figure(2)\n",
    "plt.plot(history.history['val_loss'])\n",
    "plt.title('Evolution of Val_Loss in the model')\n",
    "plt.xlabel('Epochs')\n",
    "plt.ylabel('Val_Loss')\n",
    "plt.show()"
   ]
  },
  {
   "cell_type": "code",
   "execution_count": 71,
   "metadata": {},
   "outputs": [
    {
     "name": "stdout",
     "output_type": "stream",
     "text": [
      "Accuracy score: 0.857 \n",
      " Confusion Matrix: [[790   4  19  19   8   1 151   0   8   0]\n",
      " [  1 972   4  14   3   0   6   0   0   0]\n",
      " [ 17   2 730  10 153   1  84   0   2   1]\n",
      " [ 33  19  26 817  67   0  32   0   5   1]\n",
      " [  3   2  72  20 838   1  63   0   1   0]\n",
      " [  3   2   1   0   0 930   2  28   7  27]\n",
      " [124   4  65  26 101   0 674   0   6   0]\n",
      " [  1   0   0   3   0  22   0 946   0  28]\n",
      " [ 10   1  12   7  12   4  18   4 931   1]\n",
      " [  1   0   0   0   0   6   2  49   0 942]]\n"
     ]
    }
   ],
   "source": [
    "y_prediction=model2.predict(x=x_test,batch_size=200)\n",
    "y_prediction=np.argmax(y_prediction, axis=1)\n",
    "y_prediction=tf.keras.utils.to_categorical(y_prediction, num_classes=10, dtype=\"float32\")\n",
    "print(\"Accuracy score:\", accuracy_score(y_test, y_prediction),\"\\n\",\"Confusion Matrix:\",confusion_matrix(y_test.argmax(axis=1), y_prediction.argmax(axis=1)))"
   ]
  },
  {
   "cell_type": "markdown",
   "metadata": {},
   "source": [
    "#### \n",
    "## 1.3 CNN"
   ]
  },
  {
   "cell_type": "code",
   "execution_count": 72,
   "metadata": {},
   "outputs": [
    {
     "name": "stdout",
     "output_type": "stream",
     "text": [
      "model2 shape: (None, 26, 26, 16)\n"
     ]
    }
   ],
   "source": [
    "model3 = tf.keras.Sequential(name=\"CNN\")\n",
    "model3.add(tf.keras.layers.Conv2D(16,3,input_shape=(28, 28, 1),activation=\"relu\"))\n",
    "print(\"model2 shape:\", model3.output_shape)"
   ]
  },
  {
   "cell_type": "code",
   "execution_count": 73,
   "metadata": {},
   "outputs": [
    {
     "name": "stdout",
     "output_type": "stream",
     "text": [
      "model2 shape: (None, 13, 13, 16)\n"
     ]
    }
   ],
   "source": [
    "model3.add(tf.keras.layers.MaxPooling2D(pool_size=(2, 2)))\n",
    "print(\"model2 shape:\", model3.output_shape)"
   ]
  },
  {
   "cell_type": "code",
   "execution_count": 74,
   "metadata": {},
   "outputs": [
    {
     "name": "stdout",
     "output_type": "stream",
     "text": [
      "model2 shape: (None, 11, 11, 16)\n"
     ]
    }
   ],
   "source": [
    "model3.add(tf.keras.layers.Conv2D(16,3,input_shape=(28, 28, 1),activation=\"relu\"))\n",
    "print(\"model2 shape:\", model3.output_shape)"
   ]
  },
  {
   "cell_type": "code",
   "execution_count": 75,
   "metadata": {},
   "outputs": [
    {
     "name": "stdout",
     "output_type": "stream",
     "text": [
      "model2 shape: (None, 5, 5, 16)\n"
     ]
    }
   ],
   "source": [
    "model3.add(tf.keras.layers.MaxPooling2D(pool_size=(2, 2)))\n",
    "print(\"model2 shape:\", model3.output_shape)"
   ]
  },
  {
   "cell_type": "code",
   "execution_count": 76,
   "metadata": {},
   "outputs": [
    {
     "name": "stdout",
     "output_type": "stream",
     "text": [
      "model3 shape: (None, 32)\n"
     ]
    }
   ],
   "source": [
    "model3.add(tf.keras.layers.Flatten())\n",
    "model3.add(tf.keras.layers.Dense(32, activation=\"relu\", name=\"Dense_32\"))\n",
    "print(\"model3 shape:\", model3.output_shape)"
   ]
  },
  {
   "cell_type": "code",
   "execution_count": 77,
   "metadata": {},
   "outputs": [
    {
     "name": "stdout",
     "output_type": "stream",
     "text": [
      "model3 shape: (None, 10)\n"
     ]
    }
   ],
   "source": [
    "model3.add(tf.keras.layers.Dense(10,activation=\"softmax\",name=\"Softmax_10_2\"))\n",
    "print(\"model3 shape:\", model3.output_shape)"
   ]
  },
  {
   "cell_type": "code",
   "execution_count": 78,
   "metadata": {},
   "outputs": [
    {
     "name": "stdout",
     "output_type": "stream",
     "text": [
      "Model: \"CNN\"\n",
      "_________________________________________________________________\n",
      "Layer (type)                 Output Shape              Param #   \n",
      "=================================================================\n",
      "conv2d_2 (Conv2D)            (None, 26, 26, 16)        160       \n",
      "_________________________________________________________________\n",
      "max_pooling2d_2 (MaxPooling2 (None, 13, 13, 16)        0         \n",
      "_________________________________________________________________\n",
      "conv2d_3 (Conv2D)            (None, 11, 11, 16)        2320      \n",
      "_________________________________________________________________\n",
      "max_pooling2d_3 (MaxPooling2 (None, 5, 5, 16)          0         \n",
      "_________________________________________________________________\n",
      "flatten_6 (Flatten)          (None, 400)               0         \n",
      "_________________________________________________________________\n",
      "Dense_32 (Dense)             (None, 32)                12832     \n",
      "_________________________________________________________________\n",
      "Softmax_10_2 (Dense)         (None, 10)                330       \n",
      "=================================================================\n",
      "Total params: 15,642\n",
      "Trainable params: 15,642\n",
      "Non-trainable params: 0\n",
      "_________________________________________________________________\n"
     ]
    }
   ],
   "source": [
    "model3.summary()"
   ]
  },
  {
   "cell_type": "code",
   "execution_count": 79,
   "metadata": {},
   "outputs": [
    {
     "name": "stdout",
     "output_type": "stream",
     "text": [
      "Epoch 1/200\n",
      "240/240 [==============================] - 5s 20ms/step - loss: 0.6348 - val_loss: 0.4525\n",
      "Epoch 2/200\n",
      "240/240 [==============================] - 5s 20ms/step - loss: 0.4293 - val_loss: 0.4196\n",
      "Epoch 3/200\n",
      "240/240 [==============================] - 5s 21ms/step - loss: 0.3910 - val_loss: 0.3777\n",
      "Epoch 4/200\n",
      "240/240 [==============================] - 5s 21ms/step - loss: 0.3660 - val_loss: 0.3746\n",
      "Epoch 5/200\n",
      "240/240 [==============================] - 5s 21ms/step - loss: 0.3460 - val_loss: 0.3578\n",
      "Epoch 6/200\n",
      "240/240 [==============================] - 5s 21ms/step - loss: 0.3303 - val_loss: 0.3372\n",
      "Epoch 7/200\n",
      "240/240 [==============================] - 5s 21ms/step - loss: 0.3219 - val_loss: 0.3336\n",
      "Epoch 8/200\n",
      "240/240 [==============================] - 5s 22ms/step - loss: 0.3099 - val_loss: 0.3205\n",
      "Epoch 9/200\n",
      "240/240 [==============================] - 5s 19ms/step - loss: 0.2998 - val_loss: 0.3170\n",
      "Epoch 10/200\n",
      "240/240 [==============================] - 5s 19ms/step - loss: 0.2924 - val_loss: 0.3270\n",
      "Epoch 11/200\n",
      "240/240 [==============================] - 5s 19ms/step - loss: 0.2862 - val_loss: 0.3124\n",
      "Epoch 12/200\n",
      "240/240 [==============================] - 5s 19ms/step - loss: 0.2797 - val_loss: 0.3075\n",
      "Epoch 13/200\n",
      "240/240 [==============================] - 5s 20ms/step - loss: 0.2759 - val_loss: 0.3042\n",
      "Epoch 14/200\n",
      "240/240 [==============================] - 5s 21ms/step - loss: 0.2698 - val_loss: 0.3043\n",
      "Epoch 15/200\n",
      "240/240 [==============================] - 5s 20ms/step - loss: 0.2658 - val_loss: 0.3014\n",
      "Epoch 16/200\n",
      "240/240 [==============================] - 5s 21ms/step - loss: 0.2629 - val_loss: 0.3096\n",
      "Epoch 17/200\n",
      "240/240 [==============================] - 5s 20ms/step - loss: 0.2574 - val_loss: 0.2986\n",
      "Epoch 18/200\n",
      "240/240 [==============================] - 5s 19ms/step - loss: 0.2510 - val_loss: 0.3028\n",
      "Epoch 19/200\n",
      "240/240 [==============================] - 5s 20ms/step - loss: 0.2497 - val_loss: 0.2969\n",
      "Epoch 20/200\n",
      "240/240 [==============================] - 5s 19ms/step - loss: 0.2452 - val_loss: 0.2939\n",
      "Epoch 21/200\n",
      "240/240 [==============================] - 5s 21ms/step - loss: 0.2419 - val_loss: 0.3028\n",
      "Epoch 22/200\n",
      "240/240 [==============================] - 5s 22ms/step - loss: 0.2386 - val_loss: 0.2925\n",
      "Epoch 23/200\n",
      "240/240 [==============================] - 5s 21ms/step - loss: 0.2370 - val_loss: 0.2862\n",
      "Epoch 24/200\n",
      "240/240 [==============================] - 5s 21ms/step - loss: 0.2332 - val_loss: 0.2974\n",
      "Epoch 25/200\n",
      "240/240 [==============================] - 5s 21ms/step - loss: 0.2293 - val_loss: 0.2925\n",
      "Epoch 26/200\n",
      "240/240 [==============================] - 5s 21ms/step - loss: 0.2275 - val_loss: 0.2853\n",
      "Epoch 27/200\n",
      "240/240 [==============================] - 5s 21ms/step - loss: 0.2221 - val_loss: 0.2845\n",
      "Epoch 28/200\n",
      "240/240 [==============================] - 5s 20ms/step - loss: 0.2228 - val_loss: 0.2814\n",
      "Epoch 29/200\n",
      "240/240 [==============================] - 5s 21ms/step - loss: 0.2183 - val_loss: 0.2814\n",
      "Epoch 30/200\n",
      "240/240 [==============================] - 5s 21ms/step - loss: 0.2160 - val_loss: 0.2909\n",
      "Epoch 31/200\n",
      "240/240 [==============================] - 5s 22ms/step - loss: 0.2125 - val_loss: 0.2848\n",
      "Epoch 32/200\n",
      "240/240 [==============================] - 5s 21ms/step - loss: 0.2132 - val_loss: 0.2864\n",
      "Epoch 33/200\n",
      "240/240 [==============================] - 5s 21ms/step - loss: 0.2126 - val_loss: 0.2841\n",
      "Epoch 34/200\n",
      "240/240 [==============================] - 5s 21ms/step - loss: 0.2076 - val_loss: 0.2866\n",
      "Epoch 35/200\n",
      "240/240 [==============================] - 5s 23ms/step - loss: 0.2057 - val_loss: 0.2851\n",
      "Epoch 36/200\n",
      "240/240 [==============================] - 5s 21ms/step - loss: 0.2032 - val_loss: 0.2848\n",
      "Epoch 37/200\n",
      "240/240 [==============================] - 5s 20ms/step - loss: 0.2016 - val_loss: 0.2862\n",
      "Epoch 38/200\n",
      "240/240 [==============================] - 5s 21ms/step - loss: 0.1994 - val_loss: 0.2881\n",
      "Epoch 39/200\n",
      "240/240 [==============================] - 5s 20ms/step - loss: 0.1995 - val_loss: 0.2806\n",
      "Epoch 40/200\n",
      "240/240 [==============================] - 5s 21ms/step - loss: 0.1971 - val_loss: 0.2850\n",
      "Epoch 41/200\n",
      "240/240 [==============================] - 5s 21ms/step - loss: 0.1955 - val_loss: 0.2809\n",
      "Epoch 42/200\n",
      "240/240 [==============================] - 5s 21ms/step - loss: 0.1909 - val_loss: 0.2858\n",
      "Epoch 43/200\n",
      "240/240 [==============================] - 5s 22ms/step - loss: 0.1912 - val_loss: 0.2949\n",
      "Epoch 44/200\n",
      "240/240 [==============================] - 5s 20ms/step - loss: 0.1905 - val_loss: 0.2818\n",
      "Epoch 45/200\n",
      "240/240 [==============================] - 5s 20ms/step - loss: 0.1861 - val_loss: 0.2882\n",
      "Epoch 46/200\n",
      "240/240 [==============================] - 5s 21ms/step - loss: 0.1869 - val_loss: 0.2852\n",
      "Epoch 47/200\n",
      "240/240 [==============================] - 5s 21ms/step - loss: 0.1854 - val_loss: 0.2892\n",
      "Epoch 48/200\n",
      "240/240 [==============================] - 5s 21ms/step - loss: 0.1846 - val_loss: 0.2921\n",
      "Epoch 49/200\n",
      "240/240 [==============================] - 5s 21ms/step - loss: 0.1821 - val_loss: 0.3061\n"
     ]
    }
   ],
   "source": [
    "model3.compile(optimizer=opt, loss=\"categorical_crossentropy\")\n",
    "history=model3.fit(x=x_train,y=y_train,epochs=200,batch_size=200,callbacks=[callback],validation_data=(x_validation,y_validation))"
   ]
  },
  {
   "cell_type": "code",
   "execution_count": 80,
   "metadata": {},
   "outputs": [
    {
     "data": {
      "image/png": "[encoded data removed]",
      "text/plain": [
       "<Figure size 432x288 with 1 Axes>"
      ]
     },
     "metadata": {
      "needs_background": "light"
     },
     "output_type": "display_data"
    },
    {
     "data": {
      "image/png": "[encoded data removed]",
      "text/plain": [
       "<Figure size 432x288 with 1 Axes>"
      ]
     },
     "metadata": {
      "needs_background": "light"
     },
     "output_type": "display_data"
    }
   ],
   "source": [
    "plt.figure(1)\n",
    "plt.plot(history.history['loss'])\n",
    "plt.title('Evolution of Loss in the model')\n",
    "plt.xlabel('Epochs')\n",
    "plt.ylabel('Loss')\n",
    "plt.show()\n",
    "plt.figure(2)\n",
    "plt.plot(history.history['val_loss'])\n",
    "plt.title('Evolution of Val_Loss in the model')\n",
    "plt.xlabel('Epochs')\n",
    "plt.ylabel('Val_Loss')\n",
    "plt.show()"
   ]
  },
  {
   "cell_type": "code",
   "execution_count": 81,
   "metadata": {},
   "outputs": [
    {
     "name": "stdout",
     "output_type": "stream",
     "text": [
      "Accuracy score: 0.8946 \n",
      " Confusion Matrix: [[861   1  31  15   7   2  74   0   9   0]\n",
      " [  0 980   1  10   2   0   5   0   2   0]\n",
      " [ 14   1 852   6  60   0  64   0   3   0]\n",
      " [ 24  14  17 857  49   0  34   0   5   0]\n",
      " [  1   1  62  20 843   0  68   0   5   0]\n",
      " [  0   0   0   1   0 966   0  25   1   7]\n",
      " [139   3  61  22  73   0 690   0  12   0]\n",
      " [  0   0   0   0   0   8   0 955   0  37]\n",
      " [  1   0   7   1   1   2   4   3 979   2]\n",
      " [  0   0   0   0   0   6   0  30   1 963]]\n"
     ]
    }
   ],
   "source": [
    "y_prediction=model3.predict(x=x_test,batch_size=200)\n",
    "y_prediction=np.argmax(y_prediction, axis=1)\n",
    "y_prediction=tf.keras.utils.to_categorical(y_prediction, num_classes=10, dtype=\"float32\")\n",
    "print(\"Accuracy score:\", accuracy_score(y_test, y_prediction),\"\\n\",\"Confusion Matrix:\",confusion_matrix(y_test.argmax(axis=1), y_prediction.argmax(axis=1)))"
   ]
  },
  {
   "cell_type": "code",
   "execution_count": 97,
   "metadata": {},
   "outputs": [
    {
     "name": "stdout",
     "output_type": "stream",
     "text": [
      "WARNING:tensorflow:5 out of the last 54 calls to <function Model.make_predict_function.<locals>.predict_function at 0x7fb2c2c33a70> triggered tf.function retracing. Tracing is expensive and the excessive number of tracings could be due to (1) creating @tf.function repeatedly in a loop, (2) passing tensors with different shapes, (3) passing Python objects instead of tensors. For (1), please define your @tf.function outside of the loop. For (2), @tf.function has experimental_relax_shapes=True option that relaxes argument shapes that can avoid unnecessary retracing. For (3), please refer to https://www.tensorflow.org/tutorials/customization/performance#python_or_tensor_args and https://www.tensorflow.org/api_docs/python/tf/function for  more details.\n"
     ]
    },
    {
     "data": {
      "image/png": "[encoded data removed]",
      "text/plain": [
       "<Figure size 432x288 with 1 Axes>"
      ]
     },
     "metadata": {
      "needs_background": "light"
     },
     "output_type": "display_data"
    },
    {
     "data": {
      "image/png": "[encoded data removed]",
      "text/plain": [
       "<Figure size 432x288 with 16 Axes>"
      ]
     },
     "metadata": {
      "needs_background": "light"
     },
     "output_type": "display_data"
    },
    {
     "data": {
      "image/png": "[encoded data removed]",
      "text/plain": [
       "<Figure size 432x288 with 16 Axes>"
      ]
     },
     "metadata": {
      "needs_background": "light"
     },
     "output_type": "display_data"
    }
   ],
   "source": [
    "image = x_train[13].copy()\n",
    "image = image.squeeze()\n",
    "visualize_activations(model3,[0,2],image)"
   ]
  },
  {
   "cell_type": "code",
   "execution_count": null,
   "metadata": {},
   "outputs": [],
   "source": []
  }
 ],
 "metadata": {
  "kernelspec": {
   "display_name": "Python 3",
   "language": "python",
   "name": "python3"
  },
  "language_info": {
   "codemirror_mode": {
    "name": "ipython",
    "version": 3
   },
   "file_extension": ".py",
   "mimetype": "text/x-python",
   "name": "python",
   "nbconvert_exporter": "python",
   "pygments_lexer": "ipython3",
   "version": "3.7.4"
  }
 },
 "nbformat": 4,
 "nbformat_minor": 4
}
