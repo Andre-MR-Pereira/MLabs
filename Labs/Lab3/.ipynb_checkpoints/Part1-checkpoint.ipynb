{
 "cells": [
  {
   "cell_type": "markdown",
   "metadata": {},
   "source": [
    "DATA"
   ]
  },
  {
   "cell_type": "code",
   "execution_count": 1,
   "metadata": {},
   "outputs": [
    {
     "name": "stderr",
     "output_type": "stream",
     "text": [
      "Using TensorFlow backend.\n"
     ]
    }
   ],
   "source": [
    "import tensorflow as tf\n",
    "from visualize_activations import *\n",
    "import numpy as np\n",
    "import matplotlib.pyplot as plt\n",
    "from sklearn.model_selection import train_test_split\n",
    "from sklearn.metrics import accuracy_score,confusion_matrix"
   ]
  },
  {
   "cell_type": "code",
   "execution_count": 2,
   "metadata": {},
   "outputs": [
    {
     "name": "stdout",
     "output_type": "stream",
     "text": [
      "x_train shape: (60000, 28, 28) y_train shape: (60000,) x_test shape: (10000, 28, 28) y_test shape: (10000,)\n"
     ]
    }
   ],
   "source": [
    "(x_train, y_train), (x_test, y_test) = tf.keras.datasets.fashion_mnist.load_data()\n",
    "print(\"x_train shape:\", x_train.shape, \"y_train shape:\", y_train.shape, \"x_test shape:\", x_test.shape, \"y_test shape:\", y_test.shape)"
   ]
  },
  {
   "cell_type": "code",
   "execution_count": 3,
   "metadata": {},
   "outputs": [
    {
     "data": {
      "image/png": "[encoded data removed]",
      "text/plain": [
       "<Figure size 432x288 with 1 Axes>"
      ]
     },
     "metadata": {
      "needs_background": "light"
     },
     "output_type": "display_data"
    }
   ],
   "source": [
    "plt.imshow(x_train[14])\n",
    "plt.title('Random Image from the DataSet')\n",
    "plt.xlabel('x-values')\n",
    "plt.ylabel('y-values')\n",
    "plt.show()"
   ]
  },
  {
   "cell_type": "code",
   "execution_count": 4,
   "metadata": {},
   "outputs": [],
   "source": [
    "x_train=x_train/255\n",
    "x_test=x_test/255"
   ]
  },
  {
   "cell_type": "code",
   "execution_count": 5,
   "metadata": {},
   "outputs": [],
   "source": [
    "y_train=tf.keras.utils.to_categorical(y_train, num_classes=10, dtype=\"float32\")\n",
    "y_test=tf.keras.utils.to_categorical(y_test, num_classes=10, dtype=\"float32\")"
   ]
  },
  {
   "cell_type": "code",
   "execution_count": 6,
   "metadata": {},
   "outputs": [],
   "source": [
    "x_train, x_validation, y_train, y_validation = train_test_split(x_train, y_train, test_size=0.2, random_state=42)"
   ]
  },
  {
   "cell_type": "code",
   "execution_count": 7,
   "metadata": {},
   "outputs": [
    {
     "name": "stdout",
     "output_type": "stream",
     "text": [
      "x_train shape: (48000, 28, 28, 1) x_test shape: (10000, 28, 28, 1) x_validation shape: (12000, 28, 28, 1)\n"
     ]
    }
   ],
   "source": [
    "x_train=np.expand_dims(x_train,axis=3);\n",
    "x_test=np.expand_dims(x_test,axis=3);\n",
    "x_validation=np.expand_dims(x_validation,axis=3)\n",
    "print(\"x_train shape:\", x_train.shape, \"x_test shape:\", x_test.shape,\"x_validation shape:\", x_validation.shape)"
   ]
  },
  {
   "cell_type": "markdown",
   "metadata": {},
   "source": [
    "MLP"
   ]
  },
  {
   "cell_type": "code",
   "execution_count": 8,
   "metadata": {},
   "outputs": [
    {
     "name": "stdout",
     "output_type": "stream",
     "text": [
      "model shape: (None, 784)\n"
     ]
    }
   ],
   "source": [
    "model = tf.keras.Sequential(name=\"MLP_Early\")\n",
    "model.add(tf.keras.layers.Flatten(input_shape=(28, 28, 1)))\n",
    "print(\"model shape:\", model.output_shape)"
   ]
  },
  {
   "cell_type": "code",
   "execution_count": 9,
   "metadata": {},
   "outputs": [
    {
     "name": "stdout",
     "output_type": "stream",
     "text": [
      "model shape: (None, 32)\n",
      "model shape: (None, 64)\n"
     ]
    }
   ],
   "source": [
    "model.add(tf.keras.layers.Dense(32, activation=\"relu\", name=\"Dense_32\"))\n",
    "print(\"model shape:\", model.output_shape)\n",
    "model.add(tf.keras.layers.Dense(64, activation=\"relu\", name=\"Dense_64\"))\n",
    "print(\"model shape:\", model.output_shape)"
   ]
  },
  {
   "cell_type": "code",
   "execution_count": 10,
   "metadata": {},
   "outputs": [
    {
     "name": "stdout",
     "output_type": "stream",
     "text": [
      "model shape: (None, 10)\n"
     ]
    }
   ],
   "source": [
    "model.add(tf.keras.layers.Dense(10,activation=\"softmax\",name=\"Softmax_10\"))\n",
    "print(\"model shape:\", model.output_shape)"
   ]
  },
  {
   "cell_type": "code",
   "execution_count": 11,
   "metadata": {},
   "outputs": [
    {
     "name": "stdout",
     "output_type": "stream",
     "text": [
      "Model: \"MLP_Early\"\n",
      "_________________________________________________________________\n",
      "Layer (type)                 Output Shape              Param #   \n",
      "=================================================================\n",
      "flatten (Flatten)            (None, 784)               0         \n",
      "_________________________________________________________________\n",
      "Dense_32 (Dense)             (None, 32)                25120     \n",
      "_________________________________________________________________\n",
      "Dense_64 (Dense)             (None, 64)                2112      \n",
      "_________________________________________________________________\n",
      "Softmax_10 (Dense)           (None, 10)                650       \n",
      "=================================================================\n",
      "Total params: 27,882\n",
      "Trainable params: 27,882\n",
      "Non-trainable params: 0\n",
      "_________________________________________________________________\n"
     ]
    }
   ],
   "source": [
    "model.summary()"
   ]
  },
  {
   "cell_type": "code",
   "execution_count": 12,
   "metadata": {},
   "outputs": [],
   "source": [
    "callback=tf.keras.callbacks.EarlyStopping(patience=10,restore_best_weights=True)"
   ]
  },
  {
   "cell_type": "code",
   "execution_count": 13,
   "metadata": {},
   "outputs": [
    {
     "name": "stdout",
     "output_type": "stream",
     "text": [
      "Train on 48000 samples, validate on 12000 samples\n",
      "Epoch 1/200\n",
      "48000/48000 [==============================] - 2s 46us/sample - loss: 0.7344 - val_loss: 0.4915\n",
      "Epoch 2/200\n",
      "48000/48000 [==============================] - 2s 35us/sample - loss: 0.4593 - val_loss: 0.4444\n",
      "Epoch 3/200\n",
      "48000/48000 [==============================] - 2s 39us/sample - loss: 0.4215 - val_loss: 0.4173\n",
      "Epoch 4/200\n",
      "48000/48000 [==============================] - 2s 36us/sample - loss: 0.3948 - val_loss: 0.4020\n",
      "Epoch 5/200\n",
      "48000/48000 [==============================] - 1s 27us/sample - loss: 0.3785 - val_loss: 0.3933\n",
      "Epoch 6/200\n",
      "48000/48000 [==============================] - 1s 26us/sample - loss: 0.3624 - val_loss: 0.3811\n",
      "Epoch 7/200\n",
      "48000/48000 [==============================] - 1s 25us/sample - loss: 0.3503 - val_loss: 0.3641\n",
      "Epoch 8/200\n",
      "48000/48000 [==============================] - 1s 26us/sample - loss: 0.3409 - val_loss: 0.3561\n",
      "Epoch 9/200\n",
      "48000/48000 [==============================] - 1s 26us/sample - loss: 0.3312 - val_loss: 0.3575\n",
      "Epoch 10/200\n",
      "48000/48000 [==============================] - 1s 26us/sample - loss: 0.3226 - val_loss: 0.3689\n",
      "Epoch 11/200\n",
      "48000/48000 [==============================] - 1s 25us/sample - loss: 0.3182 - val_loss: 0.3559\n",
      "Epoch 12/200\n",
      "48000/48000 [==============================] - 1s 27us/sample - loss: 0.3093 - val_loss: 0.3465\n",
      "Epoch 13/200\n",
      "48000/48000 [==============================] - 1s 26us/sample - loss: 0.3041 - val_loss: 0.3536\n",
      "Epoch 14/200\n",
      "48000/48000 [==============================] - 1s 29us/sample - loss: 0.3024 - val_loss: 0.3403\n",
      "Epoch 15/200\n",
      "48000/48000 [==============================] - 1s 30us/sample - loss: 0.2949 - val_loss: 0.3531\n",
      "Epoch 16/200\n",
      "48000/48000 [==============================] - 1s 29us/sample - loss: 0.2903 - val_loss: 0.3419\n",
      "Epoch 17/200\n",
      "48000/48000 [==============================] - 1s 26us/sample - loss: 0.2831 - val_loss: 0.3645\n",
      "Epoch 18/200\n",
      "48000/48000 [==============================] - 1s 26us/sample - loss: 0.2822 - val_loss: 0.3470\n",
      "Epoch 19/200\n",
      "48000/48000 [==============================] - 1s 27us/sample - loss: 0.2763 - val_loss: 0.3402\n",
      "Epoch 20/200\n",
      "48000/48000 [==============================] - 1s 26us/sample - loss: 0.2717 - val_loss: 0.3474\n",
      "Epoch 21/200\n",
      "48000/48000 [==============================] - 1s 26us/sample - loss: 0.2674 - val_loss: 0.3363\n",
      "Epoch 22/200\n",
      "48000/48000 [==============================] - 1s 25us/sample - loss: 0.2644 - val_loss: 0.3400\n",
      "Epoch 23/200\n",
      "48000/48000 [==============================] - 1s 25us/sample - loss: 0.2625 - val_loss: 0.3433\n",
      "Epoch 24/200\n",
      "48000/48000 [==============================] - 1s 25us/sample - loss: 0.2583 - val_loss: 0.3505\n",
      "Epoch 25/200\n",
      "48000/48000 [==============================] - 1s 26us/sample - loss: 0.2558 - val_loss: 0.3336\n",
      "Epoch 26/200\n",
      "48000/48000 [==============================] - 1s 26us/sample - loss: 0.2519 - val_loss: 0.3637\n",
      "Epoch 27/200\n",
      "48000/48000 [==============================] - 1s 29us/sample - loss: 0.2492 - val_loss: 0.3454\n",
      "Epoch 28/200\n",
      "48000/48000 [==============================] - 1s 29us/sample - loss: 0.2440 - val_loss: 0.3468\n",
      "Epoch 29/200\n",
      "48000/48000 [==============================] - 1s 27us/sample - loss: 0.2433 - val_loss: 0.3643\n",
      "Epoch 30/200\n",
      "48000/48000 [==============================] - 1s 26us/sample - loss: 0.2422 - val_loss: 0.3551\n",
      "Epoch 31/200\n",
      "48000/48000 [==============================] - 1s 26us/sample - loss: 0.2372 - val_loss: 0.3701\n",
      "Epoch 32/200\n",
      "48000/48000 [==============================] - 1s 26us/sample - loss: 0.2380 - val_loss: 0.3468\n",
      "Epoch 33/200\n",
      "48000/48000 [==============================] - 1s 25us/sample - loss: 0.2304 - val_loss: 0.3491\n",
      "Epoch 34/200\n",
      "48000/48000 [==============================] - 1s 25us/sample - loss: 0.2318 - val_loss: 0.3508\n",
      "Epoch 35/200\n",
      "48000/48000 [==============================] - 1s 25us/sample - loss: 0.2291 - val_loss: 0.3491\n"
     ]
    }
   ],
   "source": [
    "opt = tf.keras.optimizers.Adam(learning_rate=0.001,clipnorm=1)\n",
    "model.compile(optimizer=opt, loss=\"categorical_crossentropy\")\n",
    "history=model.fit(x=x_train,y=y_train,epochs=200,batch_size=200,callbacks=[callback],validation_data=(x_validation,y_validation))"
   ]
  },
  {
   "cell_type": "code",
   "execution_count": 14,
   "metadata": {},
   "outputs": [
    {
     "data": {
      "image/png": "[encoded data removed]",
      "text/plain": [
       "<Figure size 432x288 with 1 Axes>"
      ]
     },
     "metadata": {
      "needs_background": "light"
     },
     "output_type": "display_data"
    },
    {
     "data": {
      "image/png": "[encoded data removed]",
      "text/plain": [
       "<Figure size 432x288 with 1 Axes>"
      ]
     },
     "metadata": {
      "needs_background": "light"
     },
     "output_type": "display_data"
    }
   ],
   "source": [
    "plt.figure(1)\n",
    "plt.plot(history.history['loss'])\n",
    "plt.title('Evolution of Loss in the model')\n",
    "plt.xlabel('Epochs')\n",
    "plt.ylabel('Loss')\n",
    "plt.show()\n",
    "plt.figure(2)\n",
    "plt.plot(history.history['val_loss'])\n",
    "plt.title('Evolution of Val_Loss in the model')\n",
    "plt.xlabel('Epochs')\n",
    "plt.ylabel('Val_Loss')\n",
    "plt.show()"
   ]
  },
  {
   "cell_type": "code",
   "execution_count": 15,
   "metadata": {},
   "outputs": [
    {
     "name": "stdout",
     "output_type": "stream",
     "text": [
      "Accuracy score: 0.8721 \n",
      " Confusion Matrix: [[803   5  19  27   3   2 131   1   8   1]\n",
      " [  2 972   0  18   5   0   1   0   2   0]\n",
      " [ 12   5 768  11 127   1  75   0   1   0]\n",
      " [ 21  14  21 871  38   0  30   0   5   0]\n",
      " [  0   1  83  27 832   0  53   0   4   0]\n",
      " [  0   0   0   1   0 940   0  34   3  22]\n",
      " [108   2  94  24  85   0 673   0  14   0]\n",
      " [  0   0   0   0   0  13   0 964   1  22]\n",
      " [  9   0   7   9   6   2   9   5 953   0]\n",
      " [  0   0   0   0   0  10   1  44   0 945]]\n"
     ]
    }
   ],
   "source": [
    "y_prediction=model.predict(x=x_test,batch_size=200,callbacks=[callback])\n",
    "y_prediction=np.argmax(y_prediction, axis=1)\n",
    "y_prediction=tf.keras.utils.to_categorical(y_prediction, num_classes=10, dtype=\"float32\")\n",
    "print(\"Accuracy score:\", accuracy_score(y_test, y_prediction),\"\\n\",\"Confusion Matrix:\",confusion_matrix(y_test.argmax(axis=1), y_prediction.argmax(axis=1)))"
   ]
  },
  {
   "cell_type": "markdown",
   "metadata": {},
   "source": [
    "REPETITION"
   ]
  },
  {
   "cell_type": "code",
   "execution_count": 16,
   "metadata": {},
   "outputs": [
    {
     "name": "stdout",
     "output_type": "stream",
     "text": [
      "model2 shape: (None, 784)\n"
     ]
    }
   ],
   "source": [
    "model2 = tf.keras.Sequential(name=\"MLP_NoEarly\")\n",
    "model2.add(tf.keras.layers.Flatten(input_shape=(28, 28, 1)))\n",
    "print(\"model2 shape:\", model2.output_shape)"
   ]
  },
  {
   "cell_type": "code",
   "execution_count": 17,
   "metadata": {},
   "outputs": [
    {
     "name": "stdout",
     "output_type": "stream",
     "text": [
      "model2 shape: (None, 32)\n",
      "model2 shape: (None, 64)\n"
     ]
    }
   ],
   "source": [
    "model2.add(tf.keras.layers.Dense(32, activation=\"relu\", name=\"Dense_32\"))\n",
    "print(\"model2 shape:\", model2.output_shape)\n",
    "model2.add(tf.keras.layers.Dense(64, activation=\"relu\", name=\"Dense_64\"))\n",
    "print(\"model2 shape:\", model2.output_shape)"
   ]
  },
  {
   "cell_type": "code",
   "execution_count": 18,
   "metadata": {},
   "outputs": [
    {
     "name": "stdout",
     "output_type": "stream",
     "text": [
      "model2 shape: (None, 10)\n"
     ]
    }
   ],
   "source": [
    "model2.add(tf.keras.layers.Dense(10,activation=\"softmax\",name=\"Softmax_10\"))\n",
    "print(\"model2 shape:\", model2.output_shape)"
   ]
  },
  {
   "cell_type": "code",
   "execution_count": 19,
   "metadata": {},
   "outputs": [
    {
     "name": "stdout",
     "output_type": "stream",
     "text": [
      "Model: \"MLP_NoEarly\"\n",
      "_________________________________________________________________\n",
      "Layer (type)                 Output Shape              Param #   \n",
      "=================================================================\n",
      "flatten_1 (Flatten)          (None, 784)               0         \n",
      "_________________________________________________________________\n",
      "Dense_32 (Dense)             (None, 32)                25120     \n",
      "_________________________________________________________________\n",
      "Dense_64 (Dense)             (None, 64)                2112      \n",
      "_________________________________________________________________\n",
      "Softmax_10 (Dense)           (None, 10)                650       \n",
      "=================================================================\n",
      "Total params: 27,882\n",
      "Trainable params: 27,882\n",
      "Non-trainable params: 0\n",
      "_________________________________________________________________\n"
     ]
    }
   ],
   "source": [
    "model2.summary()"
   ]
  },
  {
   "cell_type": "code",
   "execution_count": 20,
   "metadata": {},
   "outputs": [
    {
     "name": "stdout",
     "output_type": "stream",
     "text": [
      "Train on 48000 samples, validate on 12000 samples\n",
      "Epoch 1/200\n",
      "48000/48000 [==============================] - 3s 56us/sample - loss: 0.7408 - val_loss: 0.4903\n",
      "Epoch 2/200\n",
      "48000/48000 [==============================] - 2s 38us/sample - loss: 0.4522 - val_loss: 0.4404\n",
      "Epoch 3/200\n",
      "48000/48000 [==============================] - 2s 35us/sample - loss: 0.4112 - val_loss: 0.4118\n",
      "Epoch 4/200\n",
      "48000/48000 [==============================] - 1s 30us/sample - loss: 0.3884 - val_loss: 0.3976\n",
      "Epoch 5/200\n",
      "48000/48000 [==============================] - 1s 28us/sample - loss: 0.3723 - val_loss: 0.3804\n",
      "Epoch 6/200\n",
      "48000/48000 [==============================] - 1s 26us/sample - loss: 0.3576 - val_loss: 0.3797\n",
      "Epoch 7/200\n",
      "48000/48000 [==============================] - 1s 26us/sample - loss: 0.3460 - val_loss: 0.3681\n",
      "Epoch 8/200\n",
      "48000/48000 [==============================] - 1s 26us/sample - loss: 0.3351 - val_loss: 0.3575\n",
      "Epoch 9/200\n",
      "48000/48000 [==============================] - 1s 26us/sample - loss: 0.3299 - val_loss: 0.3479\n",
      "Epoch 10/200\n",
      "48000/48000 [==============================] - 1s 27us/sample - loss: 0.3227 - val_loss: 0.3571\n",
      "Epoch 11/200\n",
      "48000/48000 [==============================] - 1s 26us/sample - loss: 0.3124 - val_loss: 0.3394\n",
      "Epoch 12/200\n",
      "48000/48000 [==============================] - 1s 26us/sample - loss: 0.3058 - val_loss: 0.3471\n",
      "Epoch 13/200\n",
      "48000/48000 [==============================] - 1s 26us/sample - loss: 0.2985 - val_loss: 0.3441\n",
      "Epoch 14/200\n",
      "48000/48000 [==============================] - 1s 30us/sample - loss: 0.2911 - val_loss: 0.3464\n",
      "Epoch 15/200\n",
      "48000/48000 [==============================] - 1s 30us/sample - loss: 0.2888 - val_loss: 0.3398\n",
      "Epoch 16/200\n",
      "48000/48000 [==============================] - 1s 27us/sample - loss: 0.2815 - val_loss: 0.3457\n",
      "Epoch 17/200\n",
      "48000/48000 [==============================] - 1s 26us/sample - loss: 0.2777 - val_loss: 0.3364\n",
      "Epoch 18/200\n",
      "48000/48000 [==============================] - 1s 27us/sample - loss: 0.2731 - val_loss: 0.3452\n",
      "Epoch 19/200\n",
      "48000/48000 [==============================] - 1s 27us/sample - loss: 0.2682 - val_loss: 0.3387\n",
      "Epoch 20/200\n",
      "48000/48000 [==============================] - 1s 27us/sample - loss: 0.2648 - val_loss: 0.3311\n",
      "Epoch 21/200\n",
      "48000/48000 [==============================] - 1s 29us/sample - loss: 0.2613 - val_loss: 0.3386\n",
      "Epoch 22/200\n",
      "48000/48000 [==============================] - 1s 27us/sample - loss: 0.2588 - val_loss: 0.3437\n",
      "Epoch 23/200\n",
      "48000/48000 [==============================] - 1s 26us/sample - loss: 0.2538 - val_loss: 0.3617\n",
      "Epoch 24/200\n",
      "48000/48000 [==============================] - 1s 26us/sample - loss: 0.2514 - val_loss: 0.3477\n",
      "Epoch 25/200\n",
      "48000/48000 [==============================] - 1s 27us/sample - loss: 0.2460 - val_loss: 0.3306\n",
      "Epoch 26/200\n",
      "48000/48000 [==============================] - 1s 29us/sample - loss: 0.2449 - val_loss: 0.3372\n",
      "Epoch 27/200\n",
      "48000/48000 [==============================] - 1s 31us/sample - loss: 0.2431 - val_loss: 0.3530\n",
      "Epoch 28/200\n",
      "48000/48000 [==============================] - 1s 27us/sample - loss: 0.2400 - val_loss: 0.3431\n",
      "Epoch 29/200\n",
      "48000/48000 [==============================] - 1s 26us/sample - loss: 0.2378 - val_loss: 0.3492\n",
      "Epoch 30/200\n",
      "48000/48000 [==============================] - 1s 27us/sample - loss: 0.2346 - val_loss: 0.3380\n",
      "Epoch 31/200\n",
      "48000/48000 [==============================] - 1s 28us/sample - loss: 0.2300 - val_loss: 0.3443\n",
      "Epoch 32/200\n",
      "48000/48000 [==============================] - 1s 30us/sample - loss: 0.2280 - val_loss: 0.3421\n",
      "Epoch 33/200\n",
      "48000/48000 [==============================] - 1s 27us/sample - loss: 0.2275 - val_loss: 0.3451\n",
      "Epoch 34/200\n",
      "48000/48000 [==============================] - 1s 27us/sample - loss: 0.2222 - val_loss: 0.3447\n",
      "Epoch 35/200\n",
      "48000/48000 [==============================] - 1s 28us/sample - loss: 0.2192 - val_loss: 0.3590\n",
      "Epoch 36/200\n",
      "48000/48000 [==============================] - 1s 25us/sample - loss: 0.2183 - val_loss: 0.3553\n",
      "Epoch 37/200\n",
      "48000/48000 [==============================] - 1s 26us/sample - loss: 0.2139 - val_loss: 0.3499\n",
      "Epoch 38/200\n",
      "48000/48000 [==============================] - 1s 28us/sample - loss: 0.2146 - val_loss: 0.3579\n",
      "Epoch 39/200\n",
      "48000/48000 [==============================] - 1s 30us/sample - loss: 0.2111 - val_loss: 0.3502\n",
      "Epoch 40/200\n",
      "48000/48000 [==============================] - 1s 29us/sample - loss: 0.2074 - val_loss: 0.3473\n",
      "Epoch 41/200\n",
      "48000/48000 [==============================] - 1s 26us/sample - loss: 0.2096 - val_loss: 0.3744\n",
      "Epoch 42/200\n",
      "48000/48000 [==============================] - 1s 25us/sample - loss: 0.2063 - val_loss: 0.3712\n",
      "Epoch 43/200\n",
      "48000/48000 [==============================] - 1s 26us/sample - loss: 0.2062 - val_loss: 0.3469\n",
      "Epoch 44/200\n",
      "48000/48000 [==============================] - 1s 25us/sample - loss: 0.2009 - val_loss: 0.3645\n",
      "Epoch 45/200\n",
      "48000/48000 [==============================] - 1s 26us/sample - loss: 0.1997 - val_loss: 0.3717\n",
      "Epoch 46/200\n",
      "48000/48000 [==============================] - 1s 26us/sample - loss: 0.1955 - val_loss: 0.3731\n",
      "Epoch 47/200\n",
      "48000/48000 [==============================] - 1s 25us/sample - loss: 0.1928 - val_loss: 0.3650\n",
      "Epoch 48/200\n",
      "48000/48000 [==============================] - 1s 26us/sample - loss: 0.1914 - val_loss: 0.3751\n",
      "Epoch 49/200\n",
      "48000/48000 [==============================] - 1s 27us/sample - loss: 0.1912 - val_loss: 0.3670\n",
      "Epoch 50/200\n",
      "48000/48000 [==============================] - 1s 27us/sample - loss: 0.1897 - val_loss: 0.3633\n",
      "Epoch 51/200\n",
      "48000/48000 [==============================] - 1s 30us/sample - loss: 0.1870 - val_loss: 0.3586\n",
      "Epoch 52/200\n",
      "48000/48000 [==============================] - 1s 28us/sample - loss: 0.1888 - val_loss: 0.3734\n",
      "Epoch 53/200\n",
      "48000/48000 [==============================] - 1s 26us/sample - loss: 0.1808 - val_loss: 0.3789\n",
      "Epoch 54/200\n",
      "48000/48000 [==============================] - 1s 26us/sample - loss: 0.1819 - val_loss: 0.3753\n",
      "Epoch 55/200\n",
      "48000/48000 [==============================] - 1s 25us/sample - loss: 0.1807 - val_loss: 0.3849\n",
      "Epoch 56/200\n",
      "48000/48000 [==============================] - 1s 26us/sample - loss: 0.1826 - val_loss: 0.4035\n",
      "Epoch 57/200\n",
      "48000/48000 [==============================] - 1s 26us/sample - loss: 0.1807 - val_loss: 0.3795\n",
      "Epoch 58/200\n",
      "48000/48000 [==============================] - 1s 27us/sample - loss: 0.1778 - val_loss: 0.3972\n",
      "Epoch 59/200\n",
      "48000/48000 [==============================] - 1s 28us/sample - loss: 0.1771 - val_loss: 0.3933\n",
      "Epoch 60/200\n",
      "48000/48000 [==============================] - 1s 26us/sample - loss: 0.1728 - val_loss: 0.3930\n",
      "Epoch 61/200\n",
      "48000/48000 [==============================] - 1s 26us/sample - loss: 0.1724 - val_loss: 0.3895\n",
      "Epoch 62/200\n",
      "48000/48000 [==============================] - 1s 26us/sample - loss: 0.1699 - val_loss: 0.4099\n",
      "Epoch 63/200\n",
      "48000/48000 [==============================] - 1s 28us/sample - loss: 0.1679 - val_loss: 0.4007\n",
      "Epoch 64/200\n",
      "48000/48000 [==============================] - 1s 30us/sample - loss: 0.1695 - val_loss: 0.3953\n",
      "Epoch 65/200\n",
      "48000/48000 [==============================] - 1s 28us/sample - loss: 0.1668 - val_loss: 0.3909\n",
      "Epoch 66/200\n",
      "48000/48000 [==============================] - 1s 26us/sample - loss: 0.1630 - val_loss: 0.4029\n",
      "Epoch 67/200\n",
      "48000/48000 [==============================] - 1s 27us/sample - loss: 0.1637 - val_loss: 0.4086\n",
      "Epoch 68/200\n",
      "48000/48000 [==============================] - 1s 27us/sample - loss: 0.1624 - val_loss: 0.4284\n",
      "Epoch 69/200\n",
      "48000/48000 [==============================] - 1s 26us/sample - loss: 0.1625 - val_loss: 0.3999\n",
      "Epoch 70/200\n",
      "48000/48000 [==============================] - 1s 28us/sample - loss: 0.1590 - val_loss: 0.4125\n",
      "Epoch 71/200\n",
      "48000/48000 [==============================] - 1s 26us/sample - loss: 0.1586 - val_loss: 0.4016\n",
      "Epoch 72/200\n",
      "48000/48000 [==============================] - 1s 28us/sample - loss: 0.1583 - val_loss: 0.4110\n",
      "Epoch 73/200\n",
      "48000/48000 [==============================] - 1s 26us/sample - loss: 0.1525 - val_loss: 0.4132\n",
      "Epoch 74/200\n",
      "48000/48000 [==============================] - 1s 27us/sample - loss: 0.1565 - val_loss: 0.4137\n",
      "Epoch 75/200\n",
      "48000/48000 [==============================] - 1s 28us/sample - loss: 0.1509 - val_loss: 0.4197\n",
      "Epoch 76/200\n",
      "48000/48000 [==============================] - 1s 30us/sample - loss: 0.1501 - val_loss: 0.4298\n",
      "Epoch 77/200\n",
      "48000/48000 [==============================] - 1s 28us/sample - loss: 0.1537 - val_loss: 0.4292\n",
      "Epoch 78/200\n",
      "48000/48000 [==============================] - 1s 26us/sample - loss: 0.1501 - val_loss: 0.4282\n",
      "Epoch 79/200\n",
      "48000/48000 [==============================] - 1s 26us/sample - loss: 0.1459 - val_loss: 0.4381\n",
      "Epoch 80/200\n",
      "48000/48000 [==============================] - 1s 26us/sample - loss: 0.1476 - val_loss: 0.4295\n",
      "Epoch 81/200\n",
      "48000/48000 [==============================] - 1s 26us/sample - loss: 0.1421 - val_loss: 0.4363\n",
      "Epoch 82/200\n",
      "48000/48000 [==============================] - 1s 27us/sample - loss: 0.1459 - val_loss: 0.4401\n",
      "Epoch 83/200\n",
      "48000/48000 [==============================] - 1s 26us/sample - loss: 0.1438 - val_loss: 0.4335\n",
      "Epoch 84/200\n",
      "48000/48000 [==============================] - 1s 26us/sample - loss: 0.1393 - val_loss: 0.4344\n",
      "Epoch 85/200\n",
      "48000/48000 [==============================] - 1s 26us/sample - loss: 0.1452 - val_loss: 0.4409\n",
      "Epoch 86/200\n",
      "48000/48000 [==============================] - 1s 26us/sample - loss: 0.1431 - val_loss: 0.4436\n",
      "Epoch 87/200\n",
      "48000/48000 [==============================] - 1s 27us/sample - loss: 0.1391 - val_loss: 0.4466\n",
      "Epoch 88/200\n",
      "48000/48000 [==============================] - 1s 30us/sample - loss: 0.1366 - val_loss: 0.4525\n",
      "Epoch 89/200\n",
      "48000/48000 [==============================] - 1s 29us/sample - loss: 0.1357 - val_loss: 0.4516\n",
      "Epoch 90/200\n",
      "48000/48000 [==============================] - 1s 26us/sample - loss: 0.1353 - val_loss: 0.4685\n",
      "Epoch 91/200\n",
      "48000/48000 [==============================] - 1s 26us/sample - loss: 0.1360 - val_loss: 0.4613\n",
      "Epoch 92/200\n",
      "48000/48000 [==============================] - 1s 26us/sample - loss: 0.1324 - val_loss: 0.4603\n",
      "Epoch 93/200\n",
      "48000/48000 [==============================] - 1s 26us/sample - loss: 0.1326 - val_loss: 0.4675\n",
      "Epoch 94/200\n",
      "48000/48000 [==============================] - 1s 26us/sample - loss: 0.1345 - val_loss: 0.4544\n",
      "Epoch 95/200\n",
      "48000/48000 [==============================] - 1s 27us/sample - loss: 0.1310 - val_loss: 0.4745\n",
      "Epoch 96/200\n",
      "48000/48000 [==============================] - 1s 26us/sample - loss: 0.1311 - val_loss: 0.4766\n",
      "Epoch 97/200\n",
      "48000/48000 [==============================] - 1s 26us/sample - loss: 0.1336 - val_loss: 0.4657\n",
      "Epoch 98/200\n",
      "48000/48000 [==============================] - 1s 25us/sample - loss: 0.1279 - val_loss: 0.4793\n",
      "Epoch 99/200\n",
      "48000/48000 [==============================] - 1s 25us/sample - loss: 0.1281 - val_loss: 0.4993\n",
      "Epoch 100/200\n",
      "48000/48000 [==============================] - 1s 26us/sample - loss: 0.1257 - val_loss: 0.4850\n",
      "Epoch 101/200\n",
      "48000/48000 [==============================] - 1s 29us/sample - loss: 0.1272 - val_loss: 0.5181\n",
      "Epoch 102/200\n",
      "48000/48000 [==============================] - 1s 28us/sample - loss: 0.1251 - val_loss: 0.4999\n",
      "Epoch 103/200\n",
      "48000/48000 [==============================] - 1s 26us/sample - loss: 0.1257 - val_loss: 0.4822\n",
      "Epoch 104/200\n",
      "48000/48000 [==============================] - 1s 26us/sample - loss: 0.1216 - val_loss: 0.4999\n",
      "Epoch 105/200\n",
      "48000/48000 [==============================] - 1s 26us/sample - loss: 0.1215 - val_loss: 0.4830\n",
      "Epoch 106/200\n",
      "48000/48000 [==============================] - 1s 26us/sample - loss: 0.1256 - val_loss: 0.5104\n",
      "Epoch 107/200\n",
      "48000/48000 [==============================] - 2s 36us/sample - loss: 0.1177 - val_loss: 0.5049\n",
      "Epoch 108/200\n",
      "48000/48000 [==============================] - 1s 31us/sample - loss: 0.1215 - val_loss: 0.5000\n",
      "Epoch 109/200\n",
      "48000/48000 [==============================] - 1s 26us/sample - loss: 0.1181 - val_loss: 0.5054\n",
      "Epoch 110/200\n",
      "48000/48000 [==============================] - 1s 25us/sample - loss: 0.1235 - val_loss: 0.5120\n",
      "Epoch 111/200\n",
      "48000/48000 [==============================] - 1s 29us/sample - loss: 0.1179 - val_loss: 0.5199\n",
      "Epoch 112/200\n",
      "48000/48000 [==============================] - 1s 29us/sample - loss: 0.1187 - val_loss: 0.5148\n",
      "Epoch 113/200\n",
      "48000/48000 [==============================] - 1s 28us/sample - loss: 0.1155 - val_loss: 0.5249\n",
      "Epoch 114/200\n",
      "48000/48000 [==============================] - 1s 26us/sample - loss: 0.1166 - val_loss: 0.5115\n",
      "Epoch 115/200\n",
      "48000/48000 [==============================] - 1s 30us/sample - loss: 0.1143 - val_loss: 0.5203\n",
      "Epoch 116/200\n",
      "48000/48000 [==============================] - 1s 29us/sample - loss: 0.1137 - val_loss: 0.5409\n",
      "Epoch 117/200\n",
      "48000/48000 [==============================] - 1s 25us/sample - loss: 0.1141 - val_loss: 0.5176\n",
      "Epoch 118/200\n",
      "48000/48000 [==============================] - 2s 38us/sample - loss: 0.1142 - val_loss: 0.5169\n",
      "Epoch 119/200\n",
      "48000/48000 [==============================] - 2s 35us/sample - loss: 0.1120 - val_loss: 0.5415\n",
      "Epoch 120/200\n",
      "48000/48000 [==============================] - 1s 30us/sample - loss: 0.1114 - val_loss: 0.5163\n",
      "Epoch 121/200\n",
      "48000/48000 [==============================] - 1s 26us/sample - loss: 0.1118 - val_loss: 0.5353\n",
      "Epoch 122/200\n",
      "48000/48000 [==============================] - 1s 27us/sample - loss: 0.1111 - val_loss: 0.5356\n",
      "Epoch 123/200\n",
      "48000/48000 [==============================] - 1s 27us/sample - loss: 0.1062 - val_loss: 0.5592\n",
      "Epoch 124/200\n",
      "48000/48000 [==============================] - 1s 30us/sample - loss: 0.1081 - val_loss: 0.5557\n",
      "Epoch 125/200\n",
      "48000/48000 [==============================] - 2s 34us/sample - loss: 0.1058 - val_loss: 0.5794\n",
      "Epoch 126/200\n",
      "48000/48000 [==============================] - 1s 27us/sample - loss: 0.1178 - val_loss: 0.5677\n",
      "Epoch 127/200\n",
      "48000/48000 [==============================] - 1s 26us/sample - loss: 0.1071 - val_loss: 0.5951\n",
      "Epoch 128/200\n",
      "48000/48000 [==============================] - 1s 26us/sample - loss: 0.1029 - val_loss: 0.5460\n",
      "Epoch 129/200\n",
      "48000/48000 [==============================] - 1s 26us/sample - loss: 0.1014 - val_loss: 0.5440\n",
      "Epoch 130/200\n",
      "48000/48000 [==============================] - 1s 26us/sample - loss: 0.0983 - val_loss: 0.5581\n",
      "Epoch 131/200\n",
      "48000/48000 [==============================] - 1s 26us/sample - loss: 0.1024 - val_loss: 0.5684\n",
      "Epoch 132/200\n",
      "48000/48000 [==============================] - 1s 27us/sample - loss: 0.1029 - val_loss: 0.5617\n",
      "Epoch 133/200\n",
      "48000/48000 [==============================] - 1s 26us/sample - loss: 0.1010 - val_loss: 0.5638\n",
      "Epoch 134/200\n",
      "48000/48000 [==============================] - 1s 26us/sample - loss: 0.1005 - val_loss: 0.5846\n",
      "Epoch 135/200\n",
      "48000/48000 [==============================] - 1s 26us/sample - loss: 0.1007 - val_loss: 0.5598\n",
      "Epoch 136/200\n",
      "48000/48000 [==============================] - 1s 29us/sample - loss: 0.1015 - val_loss: 0.5714\n",
      "Epoch 137/200\n",
      "48000/48000 [==============================] - 1s 29us/sample - loss: 0.0979 - val_loss: 0.5743\n",
      "Epoch 138/200\n",
      "48000/48000 [==============================] - 1s 27us/sample - loss: 0.0990 - val_loss: 0.5903\n",
      "Epoch 139/200\n",
      "48000/48000 [==============================] - 1s 26us/sample - loss: 0.0953 - val_loss: 0.6023\n",
      "Epoch 140/200\n",
      "48000/48000 [==============================] - 1s 27us/sample - loss: 0.0982 - val_loss: 0.6052\n",
      "Epoch 141/200\n",
      "48000/48000 [==============================] - 1s 27us/sample - loss: 0.0963 - val_loss: 0.5983\n",
      "Epoch 142/200\n",
      "48000/48000 [==============================] - 1s 26us/sample - loss: 0.0960 - val_loss: 0.5876\n",
      "Epoch 143/200\n",
      "48000/48000 [==============================] - 1s 26us/sample - loss: 0.0947 - val_loss: 0.5907\n",
      "Epoch 144/200\n",
      "48000/48000 [==============================] - 1s 26us/sample - loss: 0.0926 - val_loss: 0.6010\n",
      "Epoch 145/200\n",
      "48000/48000 [==============================] - 2s 35us/sample - loss: 0.0970 - val_loss: 0.6194\n",
      "Epoch 146/200\n",
      "48000/48000 [==============================] - 2s 35us/sample - loss: 0.0946 - val_loss: 0.6047\n",
      "Epoch 147/200\n",
      "48000/48000 [==============================] - 1s 31us/sample - loss: 0.0995 - val_loss: 0.6149\n",
      "Epoch 148/200\n",
      "48000/48000 [==============================] - 2s 33us/sample - loss: 0.0946 - val_loss: 0.5955\n",
      "Epoch 149/200\n",
      "48000/48000 [==============================] - 2s 37us/sample - loss: 0.0905 - val_loss: 0.6281\n",
      "Epoch 150/200\n",
      "48000/48000 [==============================] - 2s 36us/sample - loss: 0.0899 - val_loss: 0.6413\n",
      "Epoch 151/200\n",
      "48000/48000 [==============================] - 1s 26us/sample - loss: 0.0928 - val_loss: 0.6226\n",
      "Epoch 152/200\n",
      "48000/48000 [==============================] - 1s 26us/sample - loss: 0.0929 - val_loss: 0.6702\n",
      "Epoch 153/200\n",
      "48000/48000 [==============================] - 1s 26us/sample - loss: 0.0883 - val_loss: 0.6251\n",
      "Epoch 154/200\n",
      "48000/48000 [==============================] - 1s 27us/sample - loss: 0.0854 - val_loss: 0.6340\n",
      "Epoch 155/200\n",
      "48000/48000 [==============================] - 1s 26us/sample - loss: 0.0901 - val_loss: 0.6403\n",
      "Epoch 156/200\n",
      "48000/48000 [==============================] - 1s 27us/sample - loss: 0.0866 - val_loss: 0.6395\n",
      "Epoch 157/200\n",
      "48000/48000 [==============================] - 1s 25us/sample - loss: 0.0888 - val_loss: 0.6661\n",
      "Epoch 158/200\n",
      "48000/48000 [==============================] - 1s 26us/sample - loss: 0.0904 - val_loss: 0.6301\n",
      "Epoch 159/200\n",
      "48000/48000 [==============================] - 1s 29us/sample - loss: 0.0892 - val_loss: 0.6558\n",
      "Epoch 160/200\n",
      "48000/48000 [==============================] - 1s 30us/sample - loss: 0.0861 - val_loss: 0.6345\n",
      "Epoch 161/200\n",
      "48000/48000 [==============================] - 1s 28us/sample - loss: 0.0878 - val_loss: 0.6422\n",
      "Epoch 162/200\n",
      "48000/48000 [==============================] - 1s 27us/sample - loss: 0.0867 - val_loss: 0.6348\n",
      "Epoch 163/200\n",
      "48000/48000 [==============================] - 1s 27us/sample - loss: 0.0823 - val_loss: 0.6692\n",
      "Epoch 164/200\n",
      "48000/48000 [==============================] - 1s 26us/sample - loss: 0.0835 - val_loss: 0.6409\n",
      "Epoch 165/200\n",
      "48000/48000 [==============================] - 1s 25us/sample - loss: 0.0835 - val_loss: 0.6619\n",
      "Epoch 166/200\n",
      "48000/48000 [==============================] - 1s 26us/sample - loss: 0.0809 - val_loss: 0.6798\n",
      "Epoch 167/200\n",
      "48000/48000 [==============================] - 1s 26us/sample - loss: 0.0797 - val_loss: 0.6689\n",
      "Epoch 168/200\n",
      "48000/48000 [==============================] - 1s 26us/sample - loss: 0.0816 - val_loss: 0.6756\n",
      "Epoch 169/200\n",
      "48000/48000 [==============================] - 1s 25us/sample - loss: 0.0803 - val_loss: 0.6727\n",
      "Epoch 170/200\n",
      "48000/48000 [==============================] - 1s 26us/sample - loss: 0.0786 - val_loss: 0.6855\n",
      "Epoch 171/200\n",
      "48000/48000 [==============================] - 1s 27us/sample - loss: 0.0833 - val_loss: 0.7064\n",
      "Epoch 172/200\n",
      "48000/48000 [==============================] - 1s 29us/sample - loss: 0.0828 - val_loss: 0.6773\n",
      "Epoch 173/200\n",
      "48000/48000 [==============================] - 1s 29us/sample - loss: 0.0832 - val_loss: 0.6827\n",
      "Epoch 174/200\n",
      "48000/48000 [==============================] - 1s 26us/sample - loss: 0.0779 - val_loss: 0.7004\n",
      "Epoch 175/200\n",
      "48000/48000 [==============================] - 1s 25us/sample - loss: 0.0828 - val_loss: 0.7011\n",
      "Epoch 176/200\n",
      "48000/48000 [==============================] - 1s 25us/sample - loss: 0.0808 - val_loss: 0.6943\n",
      "Epoch 177/200\n",
      "48000/48000 [==============================] - 1s 26us/sample - loss: 0.0786 - val_loss: 0.6937\n",
      "Epoch 178/200\n",
      "48000/48000 [==============================] - 1s 25us/sample - loss: 0.0748 - val_loss: 0.6868\n",
      "Epoch 179/200\n",
      "48000/48000 [==============================] - 1s 26us/sample - loss: 0.0748 - val_loss: 0.6959\n",
      "Epoch 180/200\n",
      "48000/48000 [==============================] - 1s 26us/sample - loss: 0.0750 - val_loss: 0.7187\n",
      "Epoch 181/200\n",
      "48000/48000 [==============================] - 1s 25us/sample - loss: 0.0794 - val_loss: 0.7140\n",
      "Epoch 182/200\n",
      "48000/48000 [==============================] - 1s 26us/sample - loss: 0.0730 - val_loss: 0.7156\n",
      "Epoch 183/200\n",
      "48000/48000 [==============================] - 1s 26us/sample - loss: 0.0702 - val_loss: 0.7542\n",
      "Epoch 184/200\n",
      "48000/48000 [==============================] - 1s 27us/sample - loss: 0.0754 - val_loss: 0.7360\n",
      "Epoch 185/200\n",
      "48000/48000 [==============================] - 1s 30us/sample - loss: 0.0798 - val_loss: 0.7042\n",
      "Epoch 186/200\n",
      "48000/48000 [==============================] - 1s 27us/sample - loss: 0.0795 - val_loss: 0.7154\n",
      "Epoch 187/200\n",
      "48000/48000 [==============================] - 1s 26us/sample - loss: 0.0734 - val_loss: 0.7401\n",
      "Epoch 188/200\n",
      "48000/48000 [==============================] - 1s 28us/sample - loss: 0.0726 - val_loss: 0.7059\n",
      "Epoch 189/200\n",
      "48000/48000 [==============================] - 2s 38us/sample - loss: 0.0769 - val_loss: 0.7208\n",
      "Epoch 190/200\n",
      "48000/48000 [==============================] - 2s 34us/sample - loss: 0.0765 - val_loss: 0.7518\n",
      "Epoch 191/200\n",
      "48000/48000 [==============================] - 2s 31us/sample - loss: 0.0728 - val_loss: 0.7319\n",
      "Epoch 192/200\n",
      "48000/48000 [==============================] - 2s 41us/sample - loss: 0.0736 - val_loss: 0.7252\n",
      "Epoch 193/200\n",
      "48000/48000 [==============================] - 2s 45us/sample - loss: 0.0690 - val_loss: 0.7670\n",
      "Epoch 194/200\n",
      "48000/48000 [==============================] - 2s 46us/sample - loss: 0.0700 - val_loss: 0.7662\n",
      "Epoch 195/200\n",
      "48000/48000 [==============================] - 2s 40us/sample - loss: 0.0713 - val_loss: 0.7602\n",
      "Epoch 196/200\n",
      "48000/48000 [==============================] - 2s 37us/sample - loss: 0.0683 - val_loss: 0.7630\n",
      "Epoch 197/200\n",
      "48000/48000 [==============================] - 2s 36us/sample - loss: 0.0711 - val_loss: 0.7701\n",
      "Epoch 198/200\n",
      "48000/48000 [==============================] - 1s 30us/sample - loss: 0.0698 - val_loss: 0.7649\n",
      "Epoch 199/200\n",
      "48000/48000 [==============================] - 1s 29us/sample - loss: 0.0715 - val_loss: 0.7783\n",
      "Epoch 200/200\n",
      "48000/48000 [==============================] - 1s 27us/sample - loss: 0.0682 - val_loss: 0.7584\n"
     ]
    }
   ],
   "source": [
    "opt = tf.keras.optimizers.Adam(learning_rate=0.001,clipnorm=1)\n",
    "model2.compile(optimizer=opt, loss=\"categorical_crossentropy\")\n",
    "history=model2.fit(x=x_train,y=y_train,epochs=200,batch_size=200,validation_data=(x_validation,y_validation))"
   ]
  },
  {
   "cell_type": "code",
   "execution_count": 21,
   "metadata": {},
   "outputs": [
    {
     "data": {
      "image/png": "[encoded data removed]",
      "text/plain": [
       "<Figure size 432x288 with 1 Axes>"
      ]
     },
     "metadata": {
      "needs_background": "light"
     },
     "output_type": "display_data"
    },
    {
     "data": {
      "image/png": "[encoded data removed]",
      "text/plain": [
       "<Figure size 432x288 with 1 Axes>"
      ]
     },
     "metadata": {
      "needs_background": "light"
     },
     "output_type": "display_data"
    }
   ],
   "source": [
    "plt.figure(1)\n",
    "plt.plot(history.history['loss'])\n",
    "plt.title('Evolution of Loss in the model')\n",
    "plt.xlabel('Epochs')\n",
    "plt.ylabel('Loss')\n",
    "plt.show()\n",
    "plt.figure(2)\n",
    "plt.plot(history.history['val_loss'])\n",
    "plt.title('Evolution of Val_Loss in the model')\n",
    "plt.xlabel('Epochs')\n",
    "plt.ylabel('Val_Loss')\n",
    "plt.show()"
   ]
  },
  {
   "cell_type": "code",
   "execution_count": 22,
   "metadata": {},
   "outputs": [
    {
     "name": "stdout",
     "output_type": "stream",
     "text": [
      "Accuracy score: 0.8646 \n",
      " Confusion Matrix: [[850   3  18  17   3   3 101   1   4   0]\n",
      " [  6 963   0  15   5   0  11   0   0   0]\n",
      " [ 26   2 810  13  82   0  63   0   4   0]\n",
      " [ 50  15  17 853  29   1  32   0   3   0]\n",
      " [  3   1  96  43 793   0  58   0   6   0]\n",
      " [  1   0   1   0   0 928   2  42   4  22]\n",
      " [161   4 105  25  94   1 602   0   8   0]\n",
      " [  0   0   0   0   0  20   0 949   1  30]\n",
      " [  8   1  12   7   3   5  12   4 947   1]\n",
      " [  1   0   0   1   0   8   1  38   0 951]]\n"
     ]
    }
   ],
   "source": [
    "y_prediction=model2.predict(x=x_test,batch_size=200)\n",
    "y_prediction=np.argmax(y_prediction, axis=1)\n",
    "y_prediction=tf.keras.utils.to_categorical(y_prediction, num_classes=10, dtype=\"float32\")\n",
    "print(\"Accuracy score:\", accuracy_score(y_test, y_prediction),\"\\n\",\"Confusion Matrix:\",confusion_matrix(y_test.argmax(axis=1), y_prediction.argmax(axis=1)))"
   ]
  },
  {
   "cell_type": "markdown",
   "metadata": {},
   "source": [
    "CNN"
   ]
  },
  {
   "cell_type": "code",
   "execution_count": 23,
   "metadata": {},
   "outputs": [
    {
     "name": "stdout",
     "output_type": "stream",
     "text": [
      "model2 shape: (None, 26, 26, 16)\n"
     ]
    }
   ],
   "source": [
    "model3 = tf.keras.Sequential(name=\"CNN\")\n",
    "model3.add(tf.keras.layers.Conv2D(16,3,input_shape=(28, 28, 1),activation=\"relu\"))\n",
    "print(\"model2 shape:\", model3.output_shape)"
   ]
  },
  {
   "cell_type": "code",
   "execution_count": 24,
   "metadata": {},
   "outputs": [
    {
     "name": "stdout",
     "output_type": "stream",
     "text": [
      "model2 shape: (None, 13, 13, 16)\n"
     ]
    }
   ],
   "source": [
    "model3.add(tf.keras.layers.MaxPooling2D(pool_size=(2, 2)))\n",
    "print(\"model2 shape:\", model3.output_shape)"
   ]
  },
  {
   "cell_type": "code",
   "execution_count": 25,
   "metadata": {},
   "outputs": [
    {
     "name": "stdout",
     "output_type": "stream",
     "text": [
      "model2 shape: (None, 11, 11, 16)\n"
     ]
    }
   ],
   "source": [
    "model3.add(tf.keras.layers.Conv2D(16,3,input_shape=(28, 28, 1),activation=\"relu\"))\n",
    "print(\"model2 shape:\", model3.output_shape)"
   ]
  },
  {
   "cell_type": "code",
   "execution_count": 26,
   "metadata": {},
   "outputs": [
    {
     "name": "stdout",
     "output_type": "stream",
     "text": [
      "model2 shape: (None, 5, 5, 16)\n"
     ]
    }
   ],
   "source": [
    "model3.add(tf.keras.layers.MaxPooling2D(pool_size=(2, 2)))\n",
    "print(\"model2 shape:\", model3.output_shape)"
   ]
  },
  {
   "cell_type": "code",
   "execution_count": 27,
   "metadata": {},
   "outputs": [
    {
     "name": "stdout",
     "output_type": "stream",
     "text": [
      "model3 shape: (None, 32)\n"
     ]
    }
   ],
   "source": [
    "model3.add(tf.keras.layers.Flatten())\n",
    "model3.add(tf.keras.layers.Dense(32, activation=\"relu\", name=\"Dense_32\"))\n",
    "print(\"model3 shape:\", model3.output_shape)"
   ]
  },
  {
   "cell_type": "code",
   "execution_count": 28,
   "metadata": {},
   "outputs": [
    {
     "name": "stdout",
     "output_type": "stream",
     "text": [
      "model3 shape: (None, 10)\n"
     ]
    }
   ],
   "source": [
    "model3.add(tf.keras.layers.Dense(10,activation=\"softmax\",name=\"Softmax_10_2\"))\n",
    "print(\"model3 shape:\", model3.output_shape)"
   ]
  },
  {
   "cell_type": "code",
   "execution_count": 29,
   "metadata": {},
   "outputs": [
    {
     "name": "stdout",
     "output_type": "stream",
     "text": [
      "Model: \"CNN\"\n",
      "_________________________________________________________________\n",
      "Layer (type)                 Output Shape              Param #   \n",
      "=================================================================\n",
      "conv2d (Conv2D)              (None, 26, 26, 16)        160       \n",
      "_________________________________________________________________\n",
      "max_pooling2d (MaxPooling2D) (None, 13, 13, 16)        0         \n",
      "_________________________________________________________________\n",
      "conv2d_1 (Conv2D)            (None, 11, 11, 16)        2320      \n",
      "_________________________________________________________________\n",
      "max_pooling2d_1 (MaxPooling2 (None, 5, 5, 16)          0         \n",
      "_________________________________________________________________\n",
      "flatten_2 (Flatten)          (None, 400)               0         \n",
      "_________________________________________________________________\n",
      "Dense_32 (Dense)             (None, 32)                12832     \n",
      "_________________________________________________________________\n",
      "Softmax_10_2 (Dense)         (None, 10)                330       \n",
      "=================================================================\n",
      "Total params: 15,642\n",
      "Trainable params: 15,642\n",
      "Non-trainable params: 0\n",
      "_________________________________________________________________\n"
     ]
    }
   ],
   "source": [
    "model3.summary()"
   ]
  },
  {
   "cell_type": "code",
   "execution_count": 30,
   "metadata": {},
   "outputs": [
    {
     "name": "stdout",
     "output_type": "stream",
     "text": [
      "Train on 48000 samples, validate on 12000 samples\n",
      "Epoch 1/200\n",
      "48000/48000 [==============================] - 29s 603us/sample - loss: 0.6419 - val_loss: 0.4624\n",
      "Epoch 2/200\n",
      "48000/48000 [==============================] - 24s 505us/sample - loss: 0.4196 - val_loss: 0.4067\n",
      "Epoch 3/200\n",
      "48000/48000 [==============================] - 22s 461us/sample - loss: 0.3808 - val_loss: 0.3871\n",
      "Epoch 4/200\n",
      "48000/48000 [==============================] - 22s 456us/sample - loss: 0.3614 - val_loss: 0.3632\n",
      "Epoch 5/200\n",
      "48000/48000 [==============================] - 22s 450us/sample - loss: 0.3435 - val_loss: 0.3450\n",
      "Epoch 6/200\n",
      "48000/48000 [==============================] - 23s 480us/sample - loss: 0.3340 - val_loss: 0.3472\n",
      "Epoch 7/200\n",
      "48000/48000 [==============================] - 25s 530us/sample - loss: 0.3226 - val_loss: 0.3367\n",
      "Epoch 8/200\n",
      "48000/48000 [==============================] - 24s 504us/sample - loss: 0.3121 - val_loss: 0.3306\n",
      "Epoch 9/200\n",
      "48000/48000 [==============================] - 22s 452us/sample - loss: 0.3070 - val_loss: 0.3246\n",
      "Epoch 10/200\n",
      "48000/48000 [==============================] - 22s 449us/sample - loss: 0.3021 - val_loss: 0.3339\n",
      "Epoch 11/200\n",
      "48000/48000 [==============================] - 22s 455us/sample - loss: 0.2953 - val_loss: 0.3190\n",
      "Epoch 12/200\n",
      "48000/48000 [==============================] - 22s 455us/sample - loss: 0.2910 - val_loss: 0.3132\n",
      "Epoch 13/200\n",
      "48000/48000 [==============================] - 24s 507us/sample - loss: 0.2851 - val_loss: 0.3161\n",
      "Epoch 14/200\n",
      "48000/48000 [==============================] - 27s 554us/sample - loss: 0.2786 - val_loss: 0.3121\n",
      "Epoch 15/200\n",
      "48000/48000 [==============================] - 26s 539us/sample - loss: 0.2754 - val_loss: 0.3118\n",
      "Epoch 16/200\n",
      "48000/48000 [==============================] - 25s 518us/sample - loss: 0.2735 - val_loss: 0.3047\n",
      "Epoch 17/200\n",
      "48000/48000 [==============================] - 28s 575us/sample - loss: 0.2676 - val_loss: 0.3028\n",
      "Epoch 18/200\n",
      "48000/48000 [==============================] - 26s 542us/sample - loss: 0.2644 - val_loss: 0.3062\n",
      "Epoch 19/200\n",
      "48000/48000 [==============================] - 26s 538us/sample - loss: 0.2617 - val_loss: 0.3001\n",
      "Epoch 20/200\n",
      "48000/48000 [==============================] - 26s 543us/sample - loss: 0.2571 - val_loss: 0.2951\n",
      "Epoch 21/200\n",
      "48000/48000 [==============================] - 30s 625us/sample - loss: 0.2523 - val_loss: 0.2938\n",
      "Epoch 22/200\n",
      "48000/48000 [==============================] - 30s 621us/sample - loss: 0.2506 - val_loss: 0.2986\n",
      "Epoch 23/200\n",
      "48000/48000 [==============================] - 29s 609us/sample - loss: 0.2475 - val_loss: 0.2966\n",
      "Epoch 24/200\n",
      "48000/48000 [==============================] - 28s 577us/sample - loss: 0.2463 - val_loss: 0.3050\n",
      "Epoch 25/200\n",
      "48000/48000 [==============================] - 28s 590us/sample - loss: 0.2426 - val_loss: 0.2948\n",
      "Epoch 26/200\n",
      "48000/48000 [==============================] - 28s 581us/sample - loss: 0.2388 - val_loss: 0.2864\n",
      "Epoch 27/200\n",
      "48000/48000 [==============================] - 28s 593us/sample - loss: 0.2368 - val_loss: 0.2904\n",
      "Epoch 28/200\n",
      "48000/48000 [==============================] - 27s 572us/sample - loss: 0.2347 - val_loss: 0.2987\n",
      "Epoch 29/200\n",
      "48000/48000 [==============================] - 26s 544us/sample - loss: 0.2309 - val_loss: 0.2854\n",
      "Epoch 30/200\n",
      "48000/48000 [==============================] - 26s 549us/sample - loss: 0.2289 - val_loss: 0.2986\n",
      "Epoch 31/200\n",
      "48000/48000 [==============================] - 29s 595us/sample - loss: 0.2253 - val_loss: 0.2964\n",
      "Epoch 32/200\n",
      "48000/48000 [==============================] - 28s 584us/sample - loss: 0.2237 - val_loss: 0.3077\n",
      "Epoch 33/200\n",
      "48000/48000 [==============================] - 27s 567us/sample - loss: 0.2226 - val_loss: 0.2901\n",
      "Epoch 34/200\n",
      "48000/48000 [==============================] - 26s 542us/sample - loss: 0.2202 - val_loss: 0.2863\n",
      "Epoch 35/200\n",
      "48000/48000 [==============================] - 27s 566us/sample - loss: 0.2160 - val_loss: 0.2856\n",
      "Epoch 36/200\n",
      "48000/48000 [==============================] - 24s 494us/sample - loss: 0.2155 - val_loss: 0.2888\n",
      "Epoch 37/200\n",
      "48000/48000 [==============================] - 22s 456us/sample - loss: 0.2145 - val_loss: 0.3036\n",
      "Epoch 38/200\n",
      "48000/48000 [==============================] - 25s 522us/sample - loss: 0.2110 - val_loss: 0.2958\n",
      "Epoch 39/200\n",
      "48000/48000 [==============================] - 24s 502us/sample - loss: 0.2079 - val_loss: 0.2991\n"
     ]
    }
   ],
   "source": [
    "model3.compile(optimizer=opt, loss=\"categorical_crossentropy\")\n",
    "history=model3.fit(x=x_train,y=y_train,epochs=200,batch_size=200,callbacks=[callback],validation_data=(x_validation,y_validation))"
   ]
  },
  {
   "cell_type": "code",
   "execution_count": 31,
   "metadata": {},
   "outputs": [
    {
     "data": {
      "image/png": "[encoded data removed]",
      "text/plain": [
       "<Figure size 432x288 with 1 Axes>"
      ]
     },
     "metadata": {
      "needs_background": "light"
     },
     "output_type": "display_data"
    },
    {
     "data": {
      "image/png": "[encoded data removed]",
      "text/plain": [
       "<Figure size 432x288 with 1 Axes>"
      ]
     },
     "metadata": {
      "needs_background": "light"
     },
     "output_type": "display_data"
    }
   ],
   "source": [
    "plt.figure(1)\n",
    "plt.plot(history.history['loss'])\n",
    "plt.title('Evolution of Loss in the model')\n",
    "plt.xlabel('Epochs')\n",
    "plt.ylabel('Loss')\n",
    "plt.show()\n",
    "plt.figure(2)\n",
    "plt.plot(history.history['val_loss'])\n",
    "plt.title('Evolution of Val_Loss in the model')\n",
    "plt.xlabel('Epochs')\n",
    "plt.ylabel('Val_Loss')\n",
    "plt.show()"
   ]
  },
  {
   "cell_type": "code",
   "execution_count": 32,
   "metadata": {},
   "outputs": [
    {
     "name": "stdout",
     "output_type": "stream",
     "text": [
      "Accuracy score: 0.8908 \n",
      " Confusion Matrix: [[845   0  26  21   5   1  93   0   9   0]\n",
      " [  0 978   0  13   4   0   3   0   2   0]\n",
      " [ 14   0 843   9  64   0  65   0   5   0]\n",
      " [ 17  10  16 893  26   1  35   0   2   0]\n",
      " [  1   1  54  31 855   1  56   0   1   0]\n",
      " [  0   0   0   0   0 973   0  18   2   7]\n",
      " [145   3  88  26  93   0 632   0  13   0]\n",
      " [  0   0   0   0   0  14   0 963   0  23]\n",
      " [  5   0   6   2   3   2   4   5 973   0]\n",
      " [  0   0   0   0   0   9   0  37   1 953]]\n"
     ]
    }
   ],
   "source": [
    "y_prediction=model3.predict(x=x_test,batch_size=200)\n",
    "y_prediction=np.argmax(y_prediction, axis=1)\n",
    "y_prediction=tf.keras.utils.to_categorical(y_prediction, num_classes=10, dtype=\"float32\")\n",
    "print(\"Accuracy score:\", accuracy_score(y_test, y_prediction),\"\\n\",\"Confusion Matrix:\",confusion_matrix(y_test.argmax(axis=1), y_prediction.argmax(axis=1)))"
   ]
  },
  {
   "cell_type": "code",
   "execution_count": 35,
   "metadata": {},
   "outputs": [
    {
     "ename": "TypeError",
     "evalue": "object of type 'Conv2D' has no len()",
     "output_type": "error",
     "traceback": [
      "\u001b[1;31m---------------------------------------------------------------------------\u001b[0m",
      "\u001b[1;31mTypeError\u001b[0m                                 Traceback (most recent call last)",
      "\u001b[1;32m<ipython-input-35-25f2c63bb0bf>\u001b[0m in \u001b[0;36m<module>\u001b[1;34m\u001b[0m\n\u001b[0;32m      1\u001b[0m \u001b[0mimage\u001b[0m \u001b[1;33m=\u001b[0m \u001b[0mx_train\u001b[0m\u001b[1;33m[\u001b[0m\u001b[1;36m500\u001b[0m\u001b[1;33m]\u001b[0m\u001b[1;33m.\u001b[0m\u001b[0mcopy\u001b[0m\u001b[1;33m(\u001b[0m\u001b[1;33m)\u001b[0m\u001b[1;33m\u001b[0m\u001b[1;33m\u001b[0m\u001b[0m\n\u001b[0;32m      2\u001b[0m \u001b[0mimage\u001b[0m \u001b[1;33m=\u001b[0m \u001b[0mimage\u001b[0m\u001b[1;33m.\u001b[0m\u001b[0msqueeze\u001b[0m\u001b[1;33m(\u001b[0m\u001b[1;33m)\u001b[0m\u001b[1;33m\u001b[0m\u001b[1;33m\u001b[0m\u001b[0m\n\u001b[1;32m----> 3\u001b[1;33m \u001b[0mvisualize_activations\u001b[0m\u001b[1;33m(\u001b[0m\u001b[0mmodel3\u001b[0m\u001b[1;33m,\u001b[0m\u001b[1;33m[\u001b[0m\u001b[1;36m1\u001b[0m\u001b[1;33m,\u001b[0m\u001b[1;36m4\u001b[0m\u001b[1;33m]\u001b[0m\u001b[1;33m,\u001b[0m\u001b[0mimage\u001b[0m\u001b[1;33m)\u001b[0m\u001b[1;33m\u001b[0m\u001b[1;33m\u001b[0m\u001b[0m\n\u001b[0m",
      "\u001b[1;32m~\\Documents\\faculdade\\4_ano\\1ºsemestre\\AA\\MLabs\\Labs\\Lab3\\visualize_activations.py\u001b[0m in \u001b[0;36mvisualize_activations\u001b[1;34m(conv_model, layer_idx, image)\u001b[0m\n\u001b[0;32m     20\u001b[0m     \u001b[0moutputs\u001b[0m \u001b[1;33m=\u001b[0m \u001b[1;33m[\u001b[0m\u001b[0mconv_model\u001b[0m\u001b[1;33m.\u001b[0m\u001b[0mlayers\u001b[0m\u001b[1;33m[\u001b[0m\u001b[0mi\u001b[0m\u001b[1;33m]\u001b[0m\u001b[1;33m.\u001b[0m\u001b[0moutput\u001b[0m \u001b[1;32mfor\u001b[0m \u001b[0mi\u001b[0m \u001b[1;32min\u001b[0m \u001b[0mlayer_idx\u001b[0m\u001b[1;33m]\u001b[0m\u001b[1;33m\u001b[0m\u001b[1;33m\u001b[0m\u001b[0m\n\u001b[0;32m     21\u001b[0m \u001b[1;33m\u001b[0m\u001b[0m\n\u001b[1;32m---> 22\u001b[1;33m     \u001b[0mvisual\u001b[0m \u001b[1;33m=\u001b[0m \u001b[0mkeras\u001b[0m\u001b[1;33m.\u001b[0m\u001b[0mModel\u001b[0m\u001b[1;33m(\u001b[0m\u001b[0minputs\u001b[0m \u001b[1;33m=\u001b[0m \u001b[0mconv_model\u001b[0m\u001b[1;33m.\u001b[0m\u001b[0minputs\u001b[0m\u001b[1;33m,\u001b[0m \u001b[0moutputs\u001b[0m \u001b[1;33m=\u001b[0m \u001b[0moutputs\u001b[0m\u001b[1;33m)\u001b[0m\u001b[1;33m\u001b[0m\u001b[1;33m\u001b[0m\u001b[0m\n\u001b[0m\u001b[0;32m     23\u001b[0m \u001b[1;33m\u001b[0m\u001b[0m\n\u001b[0;32m     24\u001b[0m     \u001b[0mfeatures\u001b[0m \u001b[1;33m=\u001b[0m \u001b[0mvisual\u001b[0m\u001b[1;33m.\u001b[0m\u001b[0mpredict\u001b[0m\u001b[1;33m(\u001b[0m\u001b[0mnp\u001b[0m\u001b[1;33m.\u001b[0m\u001b[0mexpand_dims\u001b[0m\u001b[1;33m(\u001b[0m\u001b[0mnp\u001b[0m\u001b[1;33m.\u001b[0m\u001b[0mexpand_dims\u001b[0m\u001b[1;33m(\u001b[0m\u001b[0mimage\u001b[0m\u001b[1;33m,\u001b[0m\u001b[1;36m0\u001b[0m\u001b[1;33m)\u001b[0m\u001b[1;33m,\u001b[0m\u001b[1;36m3\u001b[0m\u001b[1;33m)\u001b[0m\u001b[1;33m)\u001b[0m\u001b[1;33m\u001b[0m\u001b[1;33m\u001b[0m\u001b[0m\n",
      "\u001b[1;32m~\\anaconda3\\envs\\Lab AA\\lib\\site-packages\\keras\\legacy\\interfaces.py\u001b[0m in \u001b[0;36mwrapper\u001b[1;34m(*args, **kwargs)\u001b[0m\n\u001b[0;32m     89\u001b[0m                 warnings.warn('Update your `' + object_name + '` call to the ' +\n\u001b[0;32m     90\u001b[0m                               'Keras 2 API: ' + signature, stacklevel=2)\n\u001b[1;32m---> 91\u001b[1;33m             \u001b[1;32mreturn\u001b[0m \u001b[0mfunc\u001b[0m\u001b[1;33m(\u001b[0m\u001b[1;33m*\u001b[0m\u001b[0margs\u001b[0m\u001b[1;33m,\u001b[0m \u001b[1;33m**\u001b[0m\u001b[0mkwargs\u001b[0m\u001b[1;33m)\u001b[0m\u001b[1;33m\u001b[0m\u001b[1;33m\u001b[0m\u001b[0m\n\u001b[0m\u001b[0;32m     92\u001b[0m         \u001b[0mwrapper\u001b[0m\u001b[1;33m.\u001b[0m\u001b[0m_original_function\u001b[0m \u001b[1;33m=\u001b[0m \u001b[0mfunc\u001b[0m\u001b[1;33m\u001b[0m\u001b[1;33m\u001b[0m\u001b[0m\n\u001b[0;32m     93\u001b[0m         \u001b[1;32mreturn\u001b[0m \u001b[0mwrapper\u001b[0m\u001b[1;33m\u001b[0m\u001b[1;33m\u001b[0m\u001b[0m\n",
      "\u001b[1;32m~\\anaconda3\\envs\\Lab AA\\lib\\site-packages\\keras\\engine\\network.py\u001b[0m in \u001b[0;36m__init__\u001b[1;34m(self, *args, **kwargs)\u001b[0m\n\u001b[0;32m     92\u001b[0m                 'inputs' in kwargs and 'outputs' in kwargs):\n\u001b[0;32m     93\u001b[0m             \u001b[1;31m# Graph network\u001b[0m\u001b[1;33m\u001b[0m\u001b[1;33m\u001b[0m\u001b[1;33m\u001b[0m\u001b[0m\n\u001b[1;32m---> 94\u001b[1;33m             \u001b[0mself\u001b[0m\u001b[1;33m.\u001b[0m\u001b[0m_init_graph_network\u001b[0m\u001b[1;33m(\u001b[0m\u001b[1;33m*\u001b[0m\u001b[0margs\u001b[0m\u001b[1;33m,\u001b[0m \u001b[1;33m**\u001b[0m\u001b[0mkwargs\u001b[0m\u001b[1;33m)\u001b[0m\u001b[1;33m\u001b[0m\u001b[1;33m\u001b[0m\u001b[0m\n\u001b[0m\u001b[0;32m     95\u001b[0m         \u001b[1;32melse\u001b[0m\u001b[1;33m:\u001b[0m\u001b[1;33m\u001b[0m\u001b[1;33m\u001b[0m\u001b[0m\n\u001b[0;32m     96\u001b[0m             \u001b[1;31m# Subclassed network\u001b[0m\u001b[1;33m\u001b[0m\u001b[1;33m\u001b[0m\u001b[1;33m\u001b[0m\u001b[0m\n",
      "\u001b[1;32m~\\anaconda3\\envs\\Lab AA\\lib\\site-packages\\keras\\engine\\network.py\u001b[0m in \u001b[0;36m_init_graph_network\u001b[1;34m(self, inputs, outputs, name, **kwargs)\u001b[0m\n\u001b[0;32m    239\u001b[0m         \u001b[1;31m# Keep track of the network's nodes and layers.\u001b[0m\u001b[1;33m\u001b[0m\u001b[1;33m\u001b[0m\u001b[1;33m\u001b[0m\u001b[0m\n\u001b[0;32m    240\u001b[0m         nodes, nodes_by_depth, layers, layers_by_depth = _map_graph_network(\n\u001b[1;32m--> 241\u001b[1;33m             self.inputs, self.outputs)\n\u001b[0m\u001b[0;32m    242\u001b[0m         \u001b[0mself\u001b[0m\u001b[1;33m.\u001b[0m\u001b[0m_network_nodes\u001b[0m \u001b[1;33m=\u001b[0m \u001b[0mnodes\u001b[0m\u001b[1;33m\u001b[0m\u001b[1;33m\u001b[0m\u001b[0m\n\u001b[0;32m    243\u001b[0m         \u001b[0mself\u001b[0m\u001b[1;33m.\u001b[0m\u001b[0m_nodes_by_depth\u001b[0m \u001b[1;33m=\u001b[0m \u001b[0mnodes_by_depth\u001b[0m\u001b[1;33m\u001b[0m\u001b[1;33m\u001b[0m\u001b[0m\n",
      "\u001b[1;32m~\\anaconda3\\envs\\Lab AA\\lib\\site-packages\\keras\\engine\\network.py\u001b[0m in \u001b[0;36m_map_graph_network\u001b[1;34m(inputs, outputs)\u001b[0m\n\u001b[0;32m   1432\u001b[0m                   \u001b[0mlayer\u001b[0m\u001b[1;33m=\u001b[0m\u001b[0mlayer\u001b[0m\u001b[1;33m,\u001b[0m\u001b[1;33m\u001b[0m\u001b[1;33m\u001b[0m\u001b[0m\n\u001b[0;32m   1433\u001b[0m                   \u001b[0mnode_index\u001b[0m\u001b[1;33m=\u001b[0m\u001b[0mnode_index\u001b[0m\u001b[1;33m,\u001b[0m\u001b[1;33m\u001b[0m\u001b[1;33m\u001b[0m\u001b[0m\n\u001b[1;32m-> 1434\u001b[1;33m                   tensor_index=tensor_index)\n\u001b[0m\u001b[0;32m   1435\u001b[0m \u001b[1;33m\u001b[0m\u001b[0m\n\u001b[0;32m   1436\u001b[0m     \u001b[1;32mfor\u001b[0m \u001b[0mnode\u001b[0m \u001b[1;32min\u001b[0m \u001b[0mreversed\u001b[0m\u001b[1;33m(\u001b[0m\u001b[0mnodes_in_decreasing_depth\u001b[0m\u001b[1;33m)\u001b[0m\u001b[1;33m:\u001b[0m\u001b[1;33m\u001b[0m\u001b[1;33m\u001b[0m\u001b[0m\n",
      "\u001b[1;32m~\\anaconda3\\envs\\Lab AA\\lib\\site-packages\\keras\\engine\\network.py\u001b[0m in \u001b[0;36mbuild_map\u001b[1;34m(tensor, finished_nodes, nodes_in_progress, layer, node_index, tensor_index)\u001b[0m\n\u001b[0;32m   1413\u001b[0m \u001b[1;33m\u001b[0m\u001b[0m\n\u001b[0;32m   1414\u001b[0m         \u001b[1;31m# Propagate to all previous tensors connected to this node.\u001b[0m\u001b[1;33m\u001b[0m\u001b[1;33m\u001b[0m\u001b[1;33m\u001b[0m\u001b[0m\n\u001b[1;32m-> 1415\u001b[1;33m         \u001b[1;32mfor\u001b[0m \u001b[0mi\u001b[0m \u001b[1;32min\u001b[0m \u001b[0mrange\u001b[0m\u001b[1;33m(\u001b[0m\u001b[0mlen\u001b[0m\u001b[1;33m(\u001b[0m\u001b[0mnode\u001b[0m\u001b[1;33m.\u001b[0m\u001b[0minbound_layers\u001b[0m\u001b[1;33m)\u001b[0m\u001b[1;33m)\u001b[0m\u001b[1;33m:\u001b[0m\u001b[1;33m\u001b[0m\u001b[1;33m\u001b[0m\u001b[0m\n\u001b[0m\u001b[0;32m   1416\u001b[0m             \u001b[0mx\u001b[0m \u001b[1;33m=\u001b[0m \u001b[0mnode\u001b[0m\u001b[1;33m.\u001b[0m\u001b[0minput_tensors\u001b[0m\u001b[1;33m[\u001b[0m\u001b[0mi\u001b[0m\u001b[1;33m]\u001b[0m\u001b[1;33m\u001b[0m\u001b[1;33m\u001b[0m\u001b[0m\n\u001b[0;32m   1417\u001b[0m             \u001b[0mlayer\u001b[0m \u001b[1;33m=\u001b[0m \u001b[0mnode\u001b[0m\u001b[1;33m.\u001b[0m\u001b[0minbound_layers\u001b[0m\u001b[1;33m[\u001b[0m\u001b[0mi\u001b[0m\u001b[1;33m]\u001b[0m\u001b[1;33m\u001b[0m\u001b[1;33m\u001b[0m\u001b[0m\n",
      "\u001b[1;31mTypeError\u001b[0m: object of type 'Conv2D' has no len()"
     ]
    },
    {
     "data": {
      "image/png": "[encoded data removed]",
      "text/plain": [
       "<Figure size 432x288 with 1 Axes>"
      ]
     },
     "metadata": {
      "needs_background": "light"
     },
     "output_type": "display_data"
    }
   ],
   "source": [
    "image = x_train[500].copy()\n",
    "image = image.squeeze()\n",
    "visualize_activations(model3,[1,4],image)"
   ]
  }
 ],
 "metadata": {
  "kernelspec": {
   "display_name": "Python 3",
   "language": "python",
   "name": "python3"
  },
  "language_info": {
   "codemirror_mode": {
    "name": "ipython",
    "version": 3
   },
   "file_extension": ".py",
   "mimetype": "text/x-python",
   "name": "python",
   "nbconvert_exporter": "python",
   "pygments_lexer": "ipython3",
   "version": "3.7.9"
  }
 },
 "nbformat": 4,
 "nbformat_minor": 4
}
