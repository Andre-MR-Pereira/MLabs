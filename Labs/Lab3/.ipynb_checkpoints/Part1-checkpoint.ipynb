{
 "cells": [
  {
   "cell_type": "markdown",
   "metadata": {},
   "source": [
    "DATA"
   ]
  },
  {
   "cell_type": "code",
   "execution_count": 1,
   "metadata": {},
   "outputs": [
    {
     "name": "stderr",
     "output_type": "stream",
     "text": [
      "Using TensorFlow backend.\n"
     ]
    }
   ],
   "source": [
    "import tensorflow as tf\n",
    "from visualize_activations import *\n",
    "import numpy as np\n",
    "import matplotlib.pyplot as plt\n",
    "from sklearn.model_selection import train_test_split\n",
    "from sklearn.metrics import accuracy_score,confusion_matrix"
   ]
  },
  {
   "cell_type": "code",
   "execution_count": 2,
   "metadata": {},
   "outputs": [
    {
     "name": "stdout",
     "output_type": "stream",
     "text": [
      "x_train shape: (60000, 28, 28) y_train shape: (60000,) x_test shape: (10000, 28, 28) y_test shape: (10000,)\n"
     ]
    }
   ],
   "source": [
    "(x_train, y_train), (x_test, y_test) = tf.keras.datasets.fashion_mnist.load_data()\n",
    "print(\"x_train shape:\", x_train.shape, \"y_train shape:\", y_train.shape, \"x_test shape:\", x_test.shape, \"y_test shape:\", y_test.shape)"
   ]
  },
  {
   "cell_type": "code",
   "execution_count": 3,
   "metadata": {},
   "outputs": [
    {
     "data": {
      "text/plain": [
       "<matplotlib.image.AxesImage at 0x23f71f4ae08>"
      ]
     },
     "execution_count": 3,
     "metadata": {},
     "output_type": "execute_result"
    },
    {
     "data": {
      "image/png": "[encoded data removed]",
      "text/plain": [
       "<Figure size 432x288 with 1 Axes>"
      ]
     },
     "metadata": {
      "needs_background": "light"
     },
     "output_type": "display_data"
    }
   ],
   "source": [
    " plt.imshow(x_train[11])"
   ]
  },
  {
   "cell_type": "code",
   "execution_count": 4,
   "metadata": {},
   "outputs": [],
   "source": [
    "x_train=x_train/255\n",
    "x_test=x_test/255"
   ]
  },
  {
   "cell_type": "code",
   "execution_count": 5,
   "metadata": {},
   "outputs": [],
   "source": [
    "y_train=tf.keras.utils.to_categorical(y_train, num_classes=10, dtype=\"float32\")\n",
    "y_test=tf.keras.utils.to_categorical(y_test, num_classes=10, dtype=\"float32\")"
   ]
  },
  {
   "cell_type": "code",
   "execution_count": 6,
   "metadata": {},
   "outputs": [],
   "source": [
    "x_train, x_validation, y_train, y_validation = train_test_split(x_train, y_train, test_size=0.2, random_state=42)"
   ]
  },
  {
   "cell_type": "code",
   "execution_count": 7,
   "metadata": {},
   "outputs": [
    {
     "name": "stdout",
     "output_type": "stream",
     "text": [
      "x_train shape: (48000, 28, 28, 1) x_test shape: (10000, 28, 28, 1) x_validation shape: (12000, 28, 28, 1)\n"
     ]
    }
   ],
   "source": [
    "x_train=np.expand_dims(x_train,axis=3);\n",
    "x_test=np.expand_dims(x_test,axis=3);\n",
    "x_validation=np.expand_dims(x_validation,axis=3)\n",
    "print(\"x_train shape:\", x_train.shape, \"x_test shape:\", x_test.shape,\"x_validation shape:\", x_validation.shape)"
   ]
  },
  {
   "cell_type": "markdown",
   "metadata": {},
   "source": [
    "MLP"
   ]
  },
  {
   "cell_type": "code",
   "execution_count": 8,
   "metadata": {},
   "outputs": [
    {
     "name": "stdout",
     "output_type": "stream",
     "text": [
      "model shape: (None, 784)\n"
     ]
    }
   ],
   "source": [
    "model = tf.keras.Sequential(name=\"MLP_Early\")\n",
    "model.add(tf.keras.layers.Flatten(input_shape=(28, 28, 1)))\n",
    "print(\"model shape:\", model.output_shape)"
   ]
  },
  {
   "cell_type": "code",
   "execution_count": 9,
   "metadata": {},
   "outputs": [
    {
     "name": "stdout",
     "output_type": "stream",
     "text": [
      "model shape: (None, 32)\n",
      "model shape: (None, 64)\n"
     ]
    }
   ],
   "source": [
    "model.add(tf.keras.layers.Dense(32, activation=\"relu\", name=\"Dense_32\"))\n",
    "print(\"model shape:\", model.output_shape)\n",
    "model.add(tf.keras.layers.Dense(64, activation=\"relu\", name=\"Dense_64\"))\n",
    "print(\"model shape:\", model.output_shape)"
   ]
  },
  {
   "cell_type": "code",
   "execution_count": 10,
   "metadata": {},
   "outputs": [
    {
     "name": "stdout",
     "output_type": "stream",
     "text": [
      "model shape: (None, 10)\n"
     ]
    }
   ],
   "source": [
    "model.add(tf.keras.layers.Dense(10,activation=\"softmax\",name=\"Softmax_10\"))\n",
    "print(\"model shape:\", model.output_shape)"
   ]
  },
  {
   "cell_type": "code",
   "execution_count": null,
   "metadata": {},
   "outputs": [],
   "source": [
    "model.summary()"
   ]
  },
  {
   "cell_type": "code",
   "execution_count": 11,
   "metadata": {},
   "outputs": [],
   "source": [
    "callback=tf.keras.callbacks.EarlyStopping(patience=10,restore_best_weights=True)"
   ]
  },
  {
   "cell_type": "code",
   "execution_count": 12,
   "metadata": {},
   "outputs": [
    {
     "name": "stdout",
     "output_type": "stream",
     "text": [
      "Train on 48000 samples, validate on 12000 samples\n",
      "Epoch 1/200\n",
      "48000/48000 [==============================] - 2s 37us/sample - loss: 0.7565 - val_loss: 0.5079\n",
      "Epoch 2/200\n",
      "48000/48000 [==============================] - 1s 24us/sample - loss: 0.4576 - val_loss: 0.4386\n",
      "Epoch 3/200\n",
      "48000/48000 [==============================] - 1s 26us/sample - loss: 0.4136 - val_loss: 0.4089\n",
      "Epoch 4/200\n",
      "48000/48000 [==============================] - 1s 24us/sample - loss: 0.3918 - val_loss: 0.3945\n",
      "Epoch 5/200\n",
      "48000/48000 [==============================] - 1s 25us/sample - loss: 0.3669 - val_loss: 0.4068\n",
      "Epoch 6/200\n",
      "48000/48000 [==============================] - 1s 25us/sample - loss: 0.3518 - val_loss: 0.3814\n",
      "Epoch 7/200\n",
      "48000/48000 [==============================] - 1s 27us/sample - loss: 0.3422 - val_loss: 0.3625\n",
      "Epoch 8/200\n",
      "48000/48000 [==============================] - 1s 26us/sample - loss: 0.3301 - val_loss: 0.3583\n",
      "Epoch 9/200\n",
      "48000/48000 [==============================] - 1s 24us/sample - loss: 0.3223 - val_loss: 0.3651\n",
      "Epoch 10/200\n",
      "48000/48000 [==============================] - 1s 24us/sample - loss: 0.3164 - val_loss: 0.3532\n",
      "Epoch 11/200\n",
      "48000/48000 [==============================] - 1s 24us/sample - loss: 0.3082 - val_loss: 0.3450\n",
      "Epoch 12/200\n",
      "48000/48000 [==============================] - 1s 24us/sample - loss: 0.3013 - val_loss: 0.3441\n",
      "Epoch 13/200\n",
      "48000/48000 [==============================] - 1s 25us/sample - loss: 0.2991 - val_loss: 0.3417\n",
      "Epoch 14/200\n",
      "48000/48000 [==============================] - 1s 26us/sample - loss: 0.2890 - val_loss: 0.3485\n",
      "Epoch 15/200\n",
      "48000/48000 [==============================] - 1s 24us/sample - loss: 0.2886 - val_loss: 0.3500\n",
      "Epoch 16/200\n",
      "48000/48000 [==============================] - 1s 24us/sample - loss: 0.2810 - val_loss: 0.3492\n",
      "Epoch 17/200\n",
      "48000/48000 [==============================] - 1s 24us/sample - loss: 0.2796 - val_loss: 0.3610\n",
      "Epoch 18/200\n",
      "48000/48000 [==============================] - 1s 25us/sample - loss: 0.2721 - val_loss: 0.3434\n",
      "Epoch 19/200\n",
      "48000/48000 [==============================] - 1s 27us/sample - loss: 0.2712 - val_loss: 0.3450\n",
      "Epoch 20/200\n",
      "48000/48000 [==============================] - 1s 30us/sample - loss: 0.2649 - val_loss: 0.3466\n",
      "Epoch 21/200\n",
      "48000/48000 [==============================] - 1s 28us/sample - loss: 0.2636 - val_loss: 0.3413\n",
      "Epoch 22/200\n",
      "48000/48000 [==============================] - 1s 25us/sample - loss: 0.2578 - val_loss: 0.3484\n",
      "Epoch 23/200\n",
      "48000/48000 [==============================] - 1s 27us/sample - loss: 0.2550 - val_loss: 0.3452\n",
      "Epoch 24/200\n",
      "48000/48000 [==============================] - 2s 32us/sample - loss: 0.2512 - val_loss: 0.3491\n",
      "Epoch 25/200\n",
      "48000/48000 [==============================] - 1s 27us/sample - loss: 0.2494 - val_loss: 0.3621\n",
      "Epoch 26/200\n",
      "48000/48000 [==============================] - 1s 27us/sample - loss: 0.2457 - val_loss: 0.3399\n",
      "Epoch 27/200\n",
      "48000/48000 [==============================] - 1s 29us/sample - loss: 0.2416 - val_loss: 0.3452\n",
      "Epoch 28/200\n",
      "48000/48000 [==============================] - 1s 30us/sample - loss: 0.2394 - val_loss: 0.3609\n",
      "Epoch 29/200\n",
      "48000/48000 [==============================] - 1s 28us/sample - loss: 0.2360 - val_loss: 0.3527\n",
      "Epoch 30/200\n",
      "48000/48000 [==============================] - 2s 34us/sample - loss: 0.2327 - val_loss: 0.3470\n",
      "Epoch 31/200\n",
      "48000/48000 [==============================] - 1s 31us/sample - loss: 0.2326 - val_loss: 0.3499\n",
      "Epoch 32/200\n",
      "48000/48000 [==============================] - 1s 31us/sample - loss: 0.2277 - val_loss: 0.3397\n",
      "Epoch 33/200\n",
      "48000/48000 [==============================] - 1s 29us/sample - loss: 0.2286 - val_loss: 0.3675\n",
      "Epoch 34/200\n",
      "48000/48000 [==============================] - 1s 25us/sample - loss: 0.2240 - val_loss: 0.3507\n",
      "Epoch 35/200\n",
      "48000/48000 [==============================] - 1s 26us/sample - loss: 0.2212 - val_loss: 0.3600\n",
      "Epoch 36/200\n",
      "48000/48000 [==============================] - 1s 24us/sample - loss: 0.2168 - val_loss: 0.3514\n",
      "Epoch 37/200\n",
      "48000/48000 [==============================] - 1s 24us/sample - loss: 0.2164 - val_loss: 0.3566\n",
      "Epoch 38/200\n",
      "48000/48000 [==============================] - 1s 28us/sample - loss: 0.2138 - val_loss: 0.3445\n",
      "Epoch 39/200\n",
      "48000/48000 [==============================] - 1s 27us/sample - loss: 0.2128 - val_loss: 0.3668\n",
      "Epoch 40/200\n",
      "48000/48000 [==============================] - 1s 28us/sample - loss: 0.2114 - val_loss: 0.3622\n",
      "Epoch 41/200\n",
      "48000/48000 [==============================] - 1s 25us/sample - loss: 0.2070 - val_loss: 0.3591\n",
      "Epoch 42/200\n",
      "48000/48000 [==============================] - 1s 26us/sample - loss: 0.2063 - val_loss: 0.3617\n"
     ]
    }
   ],
   "source": [
    "opt = tf.keras.optimizers.Adam(learning_rate=0.001,clipnorm=1)\n",
    "model.compile(optimizer=opt, loss=\"categorical_crossentropy\")\n",
    "history=model.fit(x=x_train,y=y_train,epochs=200,batch_size=200,callbacks=[callback],validation_data=(x_validation,y_validation))"
   ]
  },
  {
   "cell_type": "code",
   "execution_count": 13,
   "metadata": {},
   "outputs": [
    {
     "data": {
      "text/plain": [
       "[<matplotlib.lines.Line2D at 0x164a66dfa48>]"
      ]
     },
     "execution_count": 13,
     "metadata": {},
     "output_type": "execute_result"
    },
    {
     "data": {
      "image/png": "[encoded data removed]",
      "text/plain": [
       "<Figure size 432x288 with 1 Axes>"
      ]
     },
     "metadata": {
      "needs_background": "light"
     },
     "output_type": "display_data"
    },
    {
     "data": {
      "image/png": "[encoded data removed]",
      "text/plain": [
       "<Figure size 432x288 with 1 Axes>"
      ]
     },
     "metadata": {
      "needs_background": "light"
     },
     "output_type": "display_data"
    }
   ],
   "source": [
    "plt.figure(1)\n",
    "plt.plot(history.history['loss'])\n",
    "plt.figure(2)\n",
    "plt.plot(history.history['val_loss'])"
   ]
  },
  {
   "cell_type": "code",
   "execution_count": 14,
   "metadata": {},
   "outputs": [
    {
     "name": "stdout",
     "output_type": "stream",
     "text": [
      "Accuracy score: 0.8757 \n",
      " Confusion Matrix: [[780   1  20  34   2   2 150   1  10   0]\n",
      " [  2 969   2  16   5   0   4   0   2   0]\n",
      " [ 12   0 829  11  85   0  61   0   2   0]\n",
      " [ 19  12  19 885  21   0  40   0   4   0]\n",
      " [  0   0 110  37 784   0  68   0   1   0]\n",
      " [  0   0   0   0   0 938   0  34   2  26]\n",
      " [100   1 106  26  62   0 692   0  13   0]\n",
      " [  0   0   0   0   0  16   0 966   1  17]\n",
      " [  2   0   6   6   4   2   2   5 973   0]\n",
      " [  0   0   0   0   0   8   1  50   0 941]]\n"
     ]
    }
   ],
   "source": [
    "y_prediction=model.predict(x=x_test,batch_size=200,callbacks=[callback])\n",
    "y_prediction=np.argmax(y_prediction, axis=1)\n",
    "y_prediction=tf.keras.utils.to_categorical(y_prediction, num_classes=10, dtype=\"float32\")\n",
    "print(\"Accuracy score:\", accuracy_score(y_test, y_prediction),\"\\n\",\"Confusion Matrix:\",confusion_matrix(y_test.argmax(axis=1), y_prediction.argmax(axis=1)))"
   ]
  },
  {
   "cell_type": "markdown",
   "metadata": {},
   "source": [
    "REPETITION"
   ]
  },
  {
   "cell_type": "code",
   "execution_count": 15,
   "metadata": {},
   "outputs": [
    {
     "name": "stdout",
     "output_type": "stream",
     "text": [
      "model2 shape: (None, 784)\n"
     ]
    }
   ],
   "source": [
    "model2 = tf.keras.Sequential(name=\"MLP_NoEarly\")\n",
    "model2.add(tf.keras.layers.Flatten(input_shape=(28, 28, 1)))\n",
    "print(\"model2 shape:\", model2.output_shape)"
   ]
  },
  {
   "cell_type": "code",
   "execution_count": 16,
   "metadata": {},
   "outputs": [
    {
     "name": "stdout",
     "output_type": "stream",
     "text": [
      "model2 shape: (None, 32)\n",
      "model2 shape: (None, 64)\n"
     ]
    }
   ],
   "source": [
    "model2.add(tf.keras.layers.Dense(32, activation=\"relu\", name=\"Dense_32\"))\n",
    "print(\"model2 shape:\", model2.output_shape)\n",
    "model2.add(tf.keras.layers.Dense(64, activation=\"relu\", name=\"Dense_64\"))\n",
    "print(\"model2 shape:\", model2.output_shape)"
   ]
  },
  {
   "cell_type": "code",
   "execution_count": 17,
   "metadata": {},
   "outputs": [
    {
     "name": "stdout",
     "output_type": "stream",
     "text": [
      "model2 shape: (None, 10)\n"
     ]
    }
   ],
   "source": [
    "model2.add(tf.keras.layers.Dense(10,activation=\"softmax\",name=\"Softmax_10\"))\n",
    "print(\"model2 shape:\", model2.output_shape)"
   ]
  },
  {
   "cell_type": "code",
   "execution_count": null,
   "metadata": {},
   "outputs": [],
   "source": [
    "model2.summary()"
   ]
  },
  {
   "cell_type": "code",
   "execution_count": 18,
   "metadata": {},
   "outputs": [
    {
     "name": "stdout",
     "output_type": "stream",
     "text": [
      "Train on 48000 samples, validate on 12000 samples\n",
      "Epoch 1/200\n",
      "48000/48000 [==============================] - 2s 43us/sample - loss: 0.7600 - val_loss: 0.5268\n",
      "Epoch 2/200\n",
      "48000/48000 [==============================] - 1s 28us/sample - loss: 0.4618 - val_loss: 0.4396\n",
      "Epoch 3/200\n",
      "48000/48000 [==============================] - 1s 26us/sample - loss: 0.4179 - val_loss: 0.4236\n",
      "Epoch 4/200\n",
      "48000/48000 [==============================] - 1s 27us/sample - loss: 0.3908 - val_loss: 0.3939\n",
      "Epoch 5/200\n",
      "48000/48000 [==============================] - 1s 26us/sample - loss: 0.3732 - val_loss: 0.3831\n",
      "Epoch 6/200\n",
      "48000/48000 [==============================] - 1s 26us/sample - loss: 0.3577 - val_loss: 0.3777\n",
      "Epoch 7/200\n",
      "48000/48000 [==============================] - 1s 26us/sample - loss: 0.3499 - val_loss: 0.3815\n",
      "Epoch 8/200\n",
      "48000/48000 [==============================] - 1s 28us/sample - loss: 0.3343 - val_loss: 0.3551\n",
      "Epoch 9/200\n",
      "48000/48000 [==============================] - 1s 27us/sample - loss: 0.3303 - val_loss: 0.3598\n",
      "Epoch 10/200\n",
      "48000/48000 [==============================] - 1s 30us/sample - loss: 0.3166 - val_loss: 0.3507\n",
      "Epoch 11/200\n",
      "48000/48000 [==============================] - 1s 31us/sample - loss: 0.3116 - val_loss: 0.3516\n",
      "Epoch 12/200\n",
      "48000/48000 [==============================] - 2s 37us/sample - loss: 0.3040 - val_loss: 0.3571\n",
      "Epoch 13/200\n",
      "48000/48000 [==============================] - 2s 34us/sample - loss: 0.2984 - val_loss: 0.3528\n",
      "Epoch 14/200\n",
      "48000/48000 [==============================] - 2s 39us/sample - loss: 0.2938 - val_loss: 0.3643\n",
      "Epoch 15/200\n",
      "48000/48000 [==============================] - 1s 28us/sample - loss: 0.2857 - val_loss: 0.3494\n",
      "Epoch 16/200\n",
      "48000/48000 [==============================] - 2s 36us/sample - loss: 0.2798 - val_loss: 0.3543\n",
      "Epoch 17/200\n",
      "48000/48000 [==============================] - 2s 33us/sample - loss: 0.2762 - val_loss: 0.3393\n",
      "Epoch 18/200\n",
      "48000/48000 [==============================] - 2s 33us/sample - loss: 0.2722 - val_loss: 0.3542\n",
      "Epoch 19/200\n",
      "48000/48000 [==============================] - 1s 30us/sample - loss: 0.2701 - val_loss: 0.3512\n",
      "Epoch 20/200\n",
      "48000/48000 [==============================] - 2s 31us/sample - loss: 0.2662 - val_loss: 0.3351\n",
      "Epoch 21/200\n",
      "48000/48000 [==============================] - 1s 31us/sample - loss: 0.2633 - val_loss: 0.3351\n",
      "Epoch 22/200\n",
      "48000/48000 [==============================] - 1s 31us/sample - loss: 0.2576 - val_loss: 0.3376\n",
      "Epoch 23/200\n",
      "48000/48000 [==============================] - 1s 30us/sample - loss: 0.2524 - val_loss: 0.3431\n",
      "Epoch 24/200\n",
      "48000/48000 [==============================] - 2s 35us/sample - loss: 0.2521 - val_loss: 0.3469\n",
      "Epoch 25/200\n",
      "48000/48000 [==============================] - 1s 26us/sample - loss: 0.2472 - val_loss: 0.3563\n",
      "Epoch 26/200\n",
      "48000/48000 [==============================] - 1s 30us/sample - loss: 0.2426 - val_loss: 0.3426\n",
      "Epoch 27/200\n",
      "48000/48000 [==============================] - 2s 42us/sample - loss: 0.2405 - val_loss: 0.3449\n",
      "Epoch 28/200\n",
      "48000/48000 [==============================] - 2s 36us/sample - loss: 0.2390 - val_loss: 0.3434\n",
      "Epoch 29/200\n",
      "48000/48000 [==============================] - 2s 33us/sample - loss: 0.2340 - val_loss: 0.3487\n",
      "Epoch 30/200\n",
      "48000/48000 [==============================] - 1s 28us/sample - loss: 0.2325 - val_loss: 0.3585\n",
      "Epoch 31/200\n",
      "48000/48000 [==============================] - 1s 27us/sample - loss: 0.2280 - val_loss: 0.3481\n",
      "Epoch 32/200\n",
      "48000/48000 [==============================] - 2s 35us/sample - loss: 0.2268 - val_loss: 0.3642\n",
      "Epoch 33/200\n",
      "48000/48000 [==============================] - 2s 32us/sample - loss: 0.2225 - val_loss: 0.3520\n",
      "Epoch 34/200\n",
      "48000/48000 [==============================] - 1s 31us/sample - loss: 0.2240 - val_loss: 0.3531\n",
      "Epoch 35/200\n",
      "48000/48000 [==============================] - 2s 32us/sample - loss: 0.2209 - val_loss: 0.3564\n",
      "Epoch 36/200\n",
      "48000/48000 [==============================] - 2s 34us/sample - loss: 0.2166 - val_loss: 0.3687\n",
      "Epoch 37/200\n",
      "48000/48000 [==============================] - 2s 38us/sample - loss: 0.2137 - val_loss: 0.3586\n",
      "Epoch 38/200\n",
      "48000/48000 [==============================] - 2s 41us/sample - loss: 0.2104 - val_loss: 0.3660\n",
      "Epoch 39/200\n",
      "48000/48000 [==============================] - 2s 42us/sample - loss: 0.2106 - val_loss: 0.3545\n",
      "Epoch 40/200\n",
      "48000/48000 [==============================] - 2s 39us/sample - loss: 0.2077 - val_loss: 0.3626\n",
      "Epoch 41/200\n",
      "48000/48000 [==============================] - 2s 35us/sample - loss: 0.2080 - val_loss: 0.3678\n",
      "Epoch 42/200\n",
      "48000/48000 [==============================] - 2s 35us/sample - loss: 0.2075 - val_loss: 0.3649\n",
      "Epoch 43/200\n",
      "48000/48000 [==============================] - 2s 33us/sample - loss: 0.2002 - val_loss: 0.3704\n",
      "Epoch 44/200\n",
      "48000/48000 [==============================] - 1s 31us/sample - loss: 0.1986 - val_loss: 0.3651\n",
      "Epoch 45/200\n",
      "48000/48000 [==============================] - 2s 34us/sample - loss: 0.1971 - val_loss: 0.3621\n",
      "Epoch 46/200\n",
      "48000/48000 [==============================] - 2s 38us/sample - loss: 0.1932 - val_loss: 0.3632\n",
      "Epoch 47/200\n",
      "48000/48000 [==============================] - 2s 36us/sample - loss: 0.1949 - val_loss: 0.3676\n",
      "Epoch 48/200\n",
      "48000/48000 [==============================] - 2s 36us/sample - loss: 0.1935 - val_loss: 0.3742\n",
      "Epoch 49/200\n",
      "48000/48000 [==============================] - 2s 35us/sample - loss: 0.1902 - val_loss: 0.3789\n",
      "Epoch 50/200\n",
      "48000/48000 [==============================] - 2s 36us/sample - loss: 0.1898 - val_loss: 0.3869\n",
      "Epoch 51/200\n",
      "48000/48000 [==============================] - 2s 38us/sample - loss: 0.1880 - val_loss: 0.3775\n",
      "Epoch 52/200\n",
      "48000/48000 [==============================] - 2s 37us/sample - loss: 0.1858 - val_loss: 0.3920\n",
      "Epoch 53/200\n",
      "48000/48000 [==============================] - 2s 32us/sample - loss: 0.1828 - val_loss: 0.3967\n",
      "Epoch 54/200\n",
      "48000/48000 [==============================] - 2s 40us/sample - loss: 0.1810 - val_loss: 0.3944\n",
      "Epoch 55/200\n",
      "48000/48000 [==============================] - 2s 39us/sample - loss: 0.1835 - val_loss: 0.3813\n",
      "Epoch 56/200\n",
      "48000/48000 [==============================] - 2s 35us/sample - loss: 0.1811 - val_loss: 0.4041\n",
      "Epoch 57/200\n",
      "48000/48000 [==============================] - 2s 34us/sample - loss: 0.1761 - val_loss: 0.4040\n",
      "Epoch 58/200\n",
      "48000/48000 [==============================] - 1s 30us/sample - loss: 0.1803 - val_loss: 0.3908\n",
      "Epoch 59/200\n",
      "48000/48000 [==============================] - 2s 34us/sample - loss: 0.1721 - val_loss: 0.3977\n",
      "Epoch 60/200\n",
      "48000/48000 [==============================] - 2s 35us/sample - loss: 0.1742 - val_loss: 0.3971\n",
      "Epoch 61/200\n",
      "48000/48000 [==============================] - 2s 33us/sample - loss: 0.1730 - val_loss: 0.4270\n",
      "Epoch 62/200\n",
      "48000/48000 [==============================] - 2s 32us/sample - loss: 0.1724 - val_loss: 0.4145\n",
      "Epoch 63/200\n",
      "48000/48000 [==============================] - 1s 29us/sample - loss: 0.1680 - val_loss: 0.4014\n",
      "Epoch 64/200\n",
      "48000/48000 [==============================] - 2s 34us/sample - loss: 0.1691 - val_loss: 0.4123\n",
      "Epoch 65/200\n",
      "48000/48000 [==============================] - 2s 38us/sample - loss: 0.1665 - val_loss: 0.4136\n",
      "Epoch 66/200\n",
      "48000/48000 [==============================] - 2s 32us/sample - loss: 0.1659 - val_loss: 0.4160\n",
      "Epoch 67/200\n",
      "48000/48000 [==============================] - 2s 32us/sample - loss: 0.1610 - val_loss: 0.4112\n",
      "Epoch 68/200\n",
      "48000/48000 [==============================] - 2s 32us/sample - loss: 0.1640 - val_loss: 0.4131\n",
      "Epoch 69/200\n",
      "48000/48000 [==============================] - 2s 32us/sample - loss: 0.1627 - val_loss: 0.4155\n",
      "Epoch 70/200\n",
      "48000/48000 [==============================] - 2s 37us/sample - loss: 0.1566 - val_loss: 0.4162\n",
      "Epoch 71/200\n",
      "48000/48000 [==============================] - 2s 33us/sample - loss: 0.1601 - val_loss: 0.4300\n",
      "Epoch 72/200\n",
      "48000/48000 [==============================] - 1s 26us/sample - loss: 0.1582 - val_loss: 0.4314\n",
      "Epoch 73/200\n",
      "48000/48000 [==============================] - 1s 26us/sample - loss: 0.1553 - val_loss: 0.4439\n",
      "Epoch 74/200\n",
      "48000/48000 [==============================] - 2s 32us/sample - loss: 0.1566 - val_loss: 0.4379\n",
      "Epoch 75/200\n",
      "48000/48000 [==============================] - 1s 28us/sample - loss: 0.1546 - val_loss: 0.4311\n",
      "Epoch 76/200\n",
      "48000/48000 [==============================] - 1s 22us/sample - loss: 0.1550 - val_loss: 0.4424\n",
      "Epoch 77/200\n",
      "48000/48000 [==============================] - 1s 22us/sample - loss: 0.1531 - val_loss: 0.4407\n",
      "Epoch 78/200\n",
      "48000/48000 [==============================] - 1s 23us/sample - loss: 0.1513 - val_loss: 0.4385\n",
      "Epoch 79/200\n",
      "48000/48000 [==============================] - 1s 22us/sample - loss: 0.1530 - val_loss: 0.4507\n",
      "Epoch 80/200\n",
      "48000/48000 [==============================] - 1s 22us/sample - loss: 0.1469 - val_loss: 0.4311\n",
      "Epoch 81/200\n",
      "48000/48000 [==============================] - 1s 22us/sample - loss: 0.1492 - val_loss: 0.4535\n",
      "Epoch 82/200\n",
      "48000/48000 [==============================] - 1s 28us/sample - loss: 0.1447 - val_loss: 0.4488\n",
      "Epoch 83/200\n",
      "48000/48000 [==============================] - 2s 33us/sample - loss: 0.1451 - val_loss: 0.4580\n",
      "Epoch 84/200\n",
      "48000/48000 [==============================] - 1s 28us/sample - loss: 0.1427 - val_loss: 0.4507\n",
      "Epoch 85/200\n",
      "48000/48000 [==============================] - 1s 25us/sample - loss: 0.1432 - val_loss: 0.4514\n",
      "Epoch 86/200\n",
      "48000/48000 [==============================] - 1s 26us/sample - loss: 0.1457 - val_loss: 0.4630\n",
      "Epoch 87/200\n",
      "48000/48000 [==============================] - 1s 25us/sample - loss: 0.1468 - val_loss: 0.4742\n",
      "Epoch 88/200\n",
      "48000/48000 [==============================] - 1s 25us/sample - loss: 0.1394 - val_loss: 0.4718\n",
      "Epoch 89/200\n",
      "48000/48000 [==============================] - 1s 25us/sample - loss: 0.1365 - val_loss: 0.4727\n",
      "Epoch 90/200\n",
      "48000/48000 [==============================] - 1s 25us/sample - loss: 0.1411 - val_loss: 0.4811\n",
      "Epoch 91/200\n",
      "48000/48000 [==============================] - 1s 25us/sample - loss: 0.1360 - val_loss: 0.4942\n",
      "Epoch 92/200\n",
      "48000/48000 [==============================] - 1s 25us/sample - loss: 0.1374 - val_loss: 0.5152\n",
      "Epoch 93/200\n",
      "48000/48000 [==============================] - 1s 25us/sample - loss: 0.1368 - val_loss: 0.4672\n",
      "Epoch 94/200\n",
      "48000/48000 [==============================] - 1s 27us/sample - loss: 0.1319 - val_loss: 0.4833\n",
      "Epoch 95/200\n",
      "48000/48000 [==============================] - 1s 28us/sample - loss: 0.1304 - val_loss: 0.4931\n",
      "Epoch 96/200\n",
      "48000/48000 [==============================] - 1s 28us/sample - loss: 0.1319 - val_loss: 0.4969\n",
      "Epoch 97/200\n",
      "48000/48000 [==============================] - 1s 25us/sample - loss: 0.1312 - val_loss: 0.5024\n",
      "Epoch 98/200\n",
      "48000/48000 [==============================] - 1s 25us/sample - loss: 0.1287 - val_loss: 0.5003\n",
      "Epoch 99/200\n",
      "48000/48000 [==============================] - 1s 25us/sample - loss: 0.1281 - val_loss: 0.4996\n",
      "Epoch 100/200\n",
      "48000/48000 [==============================] - 1s 25us/sample - loss: 0.1273 - val_loss: 0.4854\n",
      "Epoch 101/200\n",
      "48000/48000 [==============================] - 1s 25us/sample - loss: 0.1295 - val_loss: 0.5006\n",
      "Epoch 102/200\n",
      "48000/48000 [==============================] - 1s 27us/sample - loss: 0.1300 - val_loss: 0.5012\n",
      "Epoch 103/200\n",
      "48000/48000 [==============================] - 1s 26us/sample - loss: 0.1244 - val_loss: 0.4981\n",
      "Epoch 104/200\n",
      "48000/48000 [==============================] - 1s 28us/sample - loss: 0.1236 - val_loss: 0.5137\n",
      "Epoch 105/200\n",
      "48000/48000 [==============================] - 1s 26us/sample - loss: 0.1232 - val_loss: 0.5099\n",
      "Epoch 106/200\n",
      "48000/48000 [==============================] - 1s 27us/sample - loss: 0.1188 - val_loss: 0.5149\n",
      "Epoch 107/200\n",
      "48000/48000 [==============================] - 2s 35us/sample - loss: 0.1210 - val_loss: 0.5244\n",
      "Epoch 108/200\n",
      "48000/48000 [==============================] - 1s 31us/sample - loss: 0.1244 - val_loss: 0.5633\n",
      "Epoch 109/200\n",
      "48000/48000 [==============================] - 1s 25us/sample - loss: 0.1220 - val_loss: 0.5254\n",
      "Epoch 110/200\n",
      "48000/48000 [==============================] - 1s 23us/sample - loss: 0.1174 - val_loss: 0.5207\n",
      "Epoch 111/200\n",
      "48000/48000 [==============================] - 1s 21us/sample - loss: 0.1189 - val_loss: 0.5343\n",
      "Epoch 112/200\n",
      "48000/48000 [==============================] - 1s 23us/sample - loss: 0.1241 - val_loss: 0.5422\n",
      "Epoch 113/200\n",
      "48000/48000 [==============================] - 1s 23us/sample - loss: 0.1189 - val_loss: 0.5504\n",
      "Epoch 114/200\n",
      "48000/48000 [==============================] - 1s 22us/sample - loss: 0.1136 - val_loss: 0.5361\n",
      "Epoch 115/200\n",
      "48000/48000 [==============================] - 1s 23us/sample - loss: 0.1131 - val_loss: 0.5649\n",
      "Epoch 116/200\n",
      "48000/48000 [==============================] - 1s 23us/sample - loss: 0.1195 - val_loss: 0.5589\n",
      "Epoch 117/200\n",
      "48000/48000 [==============================] - 1s 21us/sample - loss: 0.1118 - val_loss: 0.5580\n",
      "Epoch 118/200\n",
      "48000/48000 [==============================] - 1s 21us/sample - loss: 0.1165 - val_loss: 0.5460\n",
      "Epoch 119/200\n",
      "48000/48000 [==============================] - 1s 21us/sample - loss: 0.1102 - val_loss: 0.5802\n",
      "Epoch 120/200\n",
      "48000/48000 [==============================] - 1s 21us/sample - loss: 0.1109 - val_loss: 0.5422\n",
      "Epoch 121/200\n",
      "48000/48000 [==============================] - 1s 22us/sample - loss: 0.1092 - val_loss: 0.5633\n",
      "Epoch 122/200\n",
      "48000/48000 [==============================] - 1s 24us/sample - loss: 0.1098 - val_loss: 0.5765\n",
      "Epoch 123/200\n",
      "48000/48000 [==============================] - 1s 22us/sample - loss: 0.1065 - val_loss: 0.5740\n",
      "Epoch 124/200\n",
      "48000/48000 [==============================] - 1s 21us/sample - loss: 0.1112 - val_loss: 0.5874\n",
      "Epoch 125/200\n",
      "48000/48000 [==============================] - 1s 21us/sample - loss: 0.1117 - val_loss: 0.5965\n",
      "Epoch 126/200\n",
      "48000/48000 [==============================] - 1s 22us/sample - loss: 0.1082 - val_loss: 0.5765\n",
      "Epoch 127/200\n",
      "48000/48000 [==============================] - 1s 21us/sample - loss: 0.1072 - val_loss: 0.5908\n",
      "Epoch 128/200\n",
      "48000/48000 [==============================] - 1s 22us/sample - loss: 0.1161 - val_loss: 0.5875\n",
      "Epoch 129/200\n",
      "48000/48000 [==============================] - 1s 21us/sample - loss: 0.1043 - val_loss: 0.5850\n",
      "Epoch 130/200\n",
      "48000/48000 [==============================] - 1s 21us/sample - loss: 0.1027 - val_loss: 0.5945\n",
      "Epoch 131/200\n",
      "48000/48000 [==============================] - 1s 22us/sample - loss: 0.1043 - val_loss: 0.5900\n",
      "Epoch 132/200\n",
      "48000/48000 [==============================] - 1s 23us/sample - loss: 0.1046 - val_loss: 0.5735\n",
      "Epoch 133/200\n",
      "48000/48000 [==============================] - 1s 23us/sample - loss: 0.1014 - val_loss: 0.6011\n",
      "Epoch 134/200\n",
      "48000/48000 [==============================] - 1s 21us/sample - loss: 0.1005 - val_loss: 0.5988\n",
      "Epoch 135/200\n",
      "48000/48000 [==============================] - 1s 21us/sample - loss: 0.1053 - val_loss: 0.6030\n",
      "Epoch 136/200\n",
      "48000/48000 [==============================] - 1s 22us/sample - loss: 0.1036 - val_loss: 0.6174\n",
      "Epoch 137/200\n",
      "48000/48000 [==============================] - 1s 24us/sample - loss: 0.0978 - val_loss: 0.6019\n",
      "Epoch 138/200\n",
      "48000/48000 [==============================] - 1s 22us/sample - loss: 0.0986 - val_loss: 0.6401\n",
      "Epoch 139/200\n",
      "48000/48000 [==============================] - 1s 21us/sample - loss: 0.1049 - val_loss: 0.6407\n",
      "Epoch 140/200\n",
      "48000/48000 [==============================] - 1s 23us/sample - loss: 0.0990 - val_loss: 0.6292\n",
      "Epoch 141/200\n",
      "48000/48000 [==============================] - 1s 22us/sample - loss: 0.0944 - val_loss: 0.6358\n",
      "Epoch 142/200\n",
      "48000/48000 [==============================] - 1s 23us/sample - loss: 0.0968 - val_loss: 0.6397\n",
      "Epoch 143/200\n",
      "48000/48000 [==============================] - 1s 22us/sample - loss: 0.0947 - val_loss: 0.6281\n",
      "Epoch 144/200\n",
      "48000/48000 [==============================] - 1s 22us/sample - loss: 0.0942 - val_loss: 0.6417\n",
      "Epoch 145/200\n",
      "48000/48000 [==============================] - 1s 21us/sample - loss: 0.1008 - val_loss: 0.6437\n",
      "Epoch 146/200\n",
      "48000/48000 [==============================] - 1s 21us/sample - loss: 0.1024 - val_loss: 0.6314\n",
      "Epoch 147/200\n",
      "48000/48000 [==============================] - 1s 21us/sample - loss: 0.0964 - val_loss: 0.6354\n",
      "Epoch 148/200\n",
      "48000/48000 [==============================] - 1s 22us/sample - loss: 0.0945 - val_loss: 0.6594\n",
      "Epoch 149/200\n",
      "48000/48000 [==============================] - 1s 21us/sample - loss: 0.0949 - val_loss: 0.6544\n",
      "Epoch 150/200\n",
      "48000/48000 [==============================] - 1s 21us/sample - loss: 0.0953 - val_loss: 0.6371\n",
      "Epoch 151/200\n",
      "48000/48000 [==============================] - 1s 21us/sample - loss: 0.0938 - val_loss: 0.6494\n",
      "Epoch 152/200\n",
      "48000/48000 [==============================] - 1s 27us/sample - loss: 0.0890 - val_loss: 0.6575\n",
      "Epoch 153/200\n",
      "48000/48000 [==============================] - 1s 25us/sample - loss: 0.0940 - val_loss: 0.6654\n",
      "Epoch 154/200\n",
      "48000/48000 [==============================] - 1s 27us/sample - loss: 0.0916 - val_loss: 0.6797\n",
      "Epoch 155/200\n",
      "48000/48000 [==============================] - 1s 28us/sample - loss: 0.0888 - val_loss: 0.6731\n",
      "Epoch 156/200\n",
      "48000/48000 [==============================] - 1s 26us/sample - loss: 0.0893 - val_loss: 0.6903\n",
      "Epoch 157/200\n",
      "48000/48000 [==============================] - 1s 28us/sample - loss: 0.0886 - val_loss: 0.6735\n",
      "Epoch 158/200\n",
      "48000/48000 [==============================] - 1s 25us/sample - loss: 0.0910 - val_loss: 0.6859\n",
      "Epoch 159/200\n",
      "48000/48000 [==============================] - 1s 22us/sample - loss: 0.0920 - val_loss: 0.6957\n",
      "Epoch 160/200\n",
      "48000/48000 [==============================] - 1s 22us/sample - loss: 0.0862 - val_loss: 0.6760\n",
      "Epoch 161/200\n",
      "48000/48000 [==============================] - 1s 22us/sample - loss: 0.0896 - val_loss: 0.6803\n",
      "Epoch 162/200\n",
      "48000/48000 [==============================] - 1s 22us/sample - loss: 0.0914 - val_loss: 0.6988\n",
      "Epoch 163/200\n",
      "48000/48000 [==============================] - 1s 21us/sample - loss: 0.0864 - val_loss: 0.6991\n",
      "Epoch 164/200\n",
      "48000/48000 [==============================] - 1s 21us/sample - loss: 0.0857 - val_loss: 0.6927\n",
      "Epoch 165/200\n",
      "48000/48000 [==============================] - 1s 22us/sample - loss: 0.0889 - val_loss: 0.7078\n",
      "Epoch 166/200\n",
      "48000/48000 [==============================] - 1s 25us/sample - loss: 0.0870 - val_loss: 0.7207\n",
      "Epoch 167/200\n",
      "48000/48000 [==============================] - 1s 23us/sample - loss: 0.0808 - val_loss: 0.6944\n",
      "Epoch 168/200\n",
      "48000/48000 [==============================] - 1s 22us/sample - loss: 0.0837 - val_loss: 0.7402\n",
      "Epoch 169/200\n",
      "48000/48000 [==============================] - 1s 25us/sample - loss: 0.0864 - val_loss: 0.6762\n",
      "Epoch 170/200\n",
      "48000/48000 [==============================] - 1s 28us/sample - loss: 0.0820 - val_loss: 0.7144\n",
      "Epoch 171/200\n",
      "48000/48000 [==============================] - 1s 26us/sample - loss: 0.0822 - val_loss: 0.7268\n",
      "Epoch 172/200\n",
      "48000/48000 [==============================] - 1s 22us/sample - loss: 0.0852 - val_loss: 0.7190\n",
      "Epoch 173/200\n",
      "48000/48000 [==============================] - 1s 26us/sample - loss: 0.0840 - val_loss: 0.7387\n",
      "Epoch 174/200\n",
      "48000/48000 [==============================] - 1s 26us/sample - loss: 0.0846 - val_loss: 0.7100\n",
      "Epoch 175/200\n",
      "48000/48000 [==============================] - 1s 27us/sample - loss: 0.0823 - val_loss: 0.7129\n",
      "Epoch 176/200\n",
      "48000/48000 [==============================] - 1s 25us/sample - loss: 0.0844 - val_loss: 0.7336\n",
      "Epoch 177/200\n",
      "48000/48000 [==============================] - 1s 27us/sample - loss: 0.0800 - val_loss: 0.7240\n",
      "Epoch 178/200\n",
      "48000/48000 [==============================] - 1s 26us/sample - loss: 0.0766 - val_loss: 0.7211\n",
      "Epoch 179/200\n",
      "48000/48000 [==============================] - 1s 29us/sample - loss: 0.0811 - val_loss: 0.7387\n",
      "Epoch 180/200\n",
      "48000/48000 [==============================] - 1s 28us/sample - loss: 0.0765 - val_loss: 0.7565\n",
      "Epoch 181/200\n",
      "48000/48000 [==============================] - 1s 26us/sample - loss: 0.0764 - val_loss: 0.7645\n",
      "Epoch 182/200\n",
      "48000/48000 [==============================] - 1s 26us/sample - loss: 0.0789 - val_loss: 0.7354\n",
      "Epoch 183/200\n",
      "48000/48000 [==============================] - 1s 26us/sample - loss: 0.0777 - val_loss: 0.7386\n",
      "Epoch 184/200\n",
      "48000/48000 [==============================] - 1s 24us/sample - loss: 0.0802 - val_loss: 0.7301\n",
      "Epoch 185/200\n",
      "48000/48000 [==============================] - 1s 26us/sample - loss: 0.0757 - val_loss: 0.7472\n",
      "Epoch 186/200\n",
      "48000/48000 [==============================] - 1s 28us/sample - loss: 0.0797 - val_loss: 0.7738\n",
      "Epoch 187/200\n",
      "48000/48000 [==============================] - 1s 27us/sample - loss: 0.0746 - val_loss: 0.7829\n",
      "Epoch 188/200\n",
      "48000/48000 [==============================] - 1s 27us/sample - loss: 0.0805 - val_loss: 0.8037\n",
      "Epoch 189/200\n",
      "48000/48000 [==============================] - 1s 25us/sample - loss: 0.0768 - val_loss: 0.7416\n",
      "Epoch 190/200\n",
      "48000/48000 [==============================] - 1s 26us/sample - loss: 0.0725 - val_loss: 0.7647\n",
      "Epoch 191/200\n",
      "48000/48000 [==============================] - 1s 26us/sample - loss: 0.0762 - val_loss: 0.7907\n",
      "Epoch 192/200\n",
      "48000/48000 [==============================] - 1s 29us/sample - loss: 0.0701 - val_loss: 0.7708\n",
      "Epoch 193/200\n",
      "48000/48000 [==============================] - 1s 28us/sample - loss: 0.0716 - val_loss: 0.7975\n",
      "Epoch 194/200\n",
      "48000/48000 [==============================] - 1s 27us/sample - loss: 0.0704 - val_loss: 0.7962\n",
      "Epoch 195/200\n",
      "48000/48000 [==============================] - 1s 26us/sample - loss: 0.0881 - val_loss: 0.8097\n",
      "Epoch 196/200\n",
      "48000/48000 [==============================] - 1s 27us/sample - loss: 0.0813 - val_loss: 0.7793\n",
      "Epoch 197/200\n",
      "48000/48000 [==============================] - 1s 26us/sample - loss: 0.0678 - val_loss: 0.8008\n",
      "Epoch 198/200\n",
      "48000/48000 [==============================] - 1s 26us/sample - loss: 0.0750 - val_loss: 0.7829\n",
      "Epoch 199/200\n",
      "48000/48000 [==============================] - 1s 25us/sample - loss: 0.0721 - val_loss: 0.8177\n",
      "Epoch 200/200\n",
      "48000/48000 [==============================] - 1s 26us/sample - loss: 0.0723 - val_loss: 0.8174\n"
     ]
    }
   ],
   "source": [
    "opt = tf.keras.optimizers.Adam(learning_rate=0.001,clipnorm=1)\n",
    "model2.compile(optimizer=opt, loss=\"categorical_crossentropy\")\n",
    "history=model2.fit(x=x_train,y=y_train,epochs=200,batch_size=200,validation_data=(x_validation,y_validation))"
   ]
  },
  {
   "cell_type": "code",
   "execution_count": 19,
   "metadata": {},
   "outputs": [
    {
     "data": {
      "text/plain": [
       "[<matplotlib.lines.Line2D at 0x164a6e47e08>]"
      ]
     },
     "execution_count": 19,
     "metadata": {},
     "output_type": "execute_result"
    },
    {
     "data": {
      "image/png": "[encoded data removed]",
      "text/plain": [
       "<Figure size 432x288 with 1 Axes>"
      ]
     },
     "metadata": {
      "needs_background": "light"
     },
     "output_type": "display_data"
    },
    {
     "data": {
      "image/png": "[encoded data removed]",
      "text/plain": [
       "<Figure size 432x288 with 1 Axes>"
      ]
     },
     "metadata": {
      "needs_background": "light"
     },
     "output_type": "display_data"
    }
   ],
   "source": [
    "plt.figure(3)\n",
    "plt.plot(history.history['loss'])\n",
    "plt.figure(4)\n",
    "plt.plot(history.history['val_loss'])"
   ]
  },
  {
   "cell_type": "code",
   "execution_count": 20,
   "metadata": {},
   "outputs": [
    {
     "name": "stdout",
     "output_type": "stream",
     "text": [
      "Accuracy score: 0.8608 \n",
      " Confusion Matrix: [[790   3  13  23   1   2 162   0   6   0]\n",
      " [  4 966   1  22   2   0   4   0   1   0]\n",
      " [ 15   4 763  24  93   2  97   0   2   0]\n",
      " [ 41  12  15 860  22   3  38   0   8   1]\n",
      " [  3   1  96  52 764   1  79   0   4   0]\n",
      " [  0   0   0   2   0 944   0  35   3  16]\n",
      " [116   0  71  29  71   0 701   1  10   1]\n",
      " [  0   0   0   0   0  26   0 941   1  32]\n",
      " [ 12   2   6   3   1   8  23   7 938   0]\n",
      " [  0   0   0   1   0  21   1  36   0 941]]\n"
     ]
    }
   ],
   "source": [
    "y_prediction=model2.predict(x=x_test,batch_size=200)\n",
    "y_prediction=np.argmax(y_prediction, axis=1)\n",
    "y_prediction=tf.keras.utils.to_categorical(y_prediction, num_classes=10, dtype=\"float32\")\n",
    "print(\"Accuracy score:\", accuracy_score(y_test, y_prediction),\"\\n\",\"Confusion Matrix:\",confusion_matrix(y_test.argmax(axis=1), y_prediction.argmax(axis=1)))"
   ]
  },
  {
   "cell_type": "markdown",
   "metadata": {},
   "source": [
    "CNN"
   ]
  },
  {
   "cell_type": "code",
   "execution_count": 8,
   "metadata": {},
   "outputs": [
    {
     "name": "stdout",
     "output_type": "stream",
     "text": [
      "model2 shape: (None, 26, 26, 16)\n"
     ]
    }
   ],
   "source": [
    "model3 = tf.keras.Sequential(name=\"CNN\")\n",
    "model3.add(tf.keras.layers.Conv2D(16,3,input_shape=(28, 28, 1),activation=\"relu\"))\n",
    "print(\"model2 shape:\", model3.output_shape)"
   ]
  },
  {
   "cell_type": "code",
   "execution_count": 9,
   "metadata": {},
   "outputs": [
    {
     "name": "stdout",
     "output_type": "stream",
     "text": [
      "model2 shape: (None, 13, 13, 16)\n"
     ]
    }
   ],
   "source": [
    "model3.add(tf.keras.layers.MaxPooling2D(pool_size=(2, 2)))\n",
    "print(\"model2 shape:\", model3.output_shape)"
   ]
  },
  {
   "cell_type": "code",
   "execution_count": 10,
   "metadata": {},
   "outputs": [
    {
     "name": "stdout",
     "output_type": "stream",
     "text": [
      "model2 shape: (None, 11, 11, 16)\n"
     ]
    }
   ],
   "source": [
    "model3.add(tf.keras.layers.Conv2D(16,3,input_shape=(28, 28, 1),activation=\"relu\"))\n",
    "print(\"model2 shape:\", model3.output_shape)"
   ]
  },
  {
   "cell_type": "code",
   "execution_count": 11,
   "metadata": {},
   "outputs": [
    {
     "name": "stdout",
     "output_type": "stream",
     "text": [
      "model2 shape: (None, 5, 5, 16)\n"
     ]
    }
   ],
   "source": [
    "model3.add(tf.keras.layers.MaxPooling2D(pool_size=(2, 2)))\n",
    "print(\"model2 shape:\", model3.output_shape)"
   ]
  },
  {
   "cell_type": "code",
   "execution_count": 13,
   "metadata": {},
   "outputs": [
    {
     "name": "stdout",
     "output_type": "stream",
     "text": [
      "model3 shape: (None, 32)\n"
     ]
    }
   ],
   "source": [
    "model3.add(tf.keras.layers.Flatten())\n",
    "model3.add(tf.keras.layers.Dense(32, activation=\"relu\", name=\"Dense_32\"))\n",
    "print(\"model3 shape:\", model3.output_shape)"
   ]
  },
  {
   "cell_type": "code",
   "execution_count": 15,
   "metadata": {},
   "outputs": [
    {
     "name": "stdout",
     "output_type": "stream",
     "text": [
      "model3 shape: (None, 10)\n"
     ]
    }
   ],
   "source": [
    "model3.add(tf.keras.layers.Dense(10,activation=\"softmax\",name=\"Softmax_10_2\"))\n",
    "print(\"model3 shape:\", model3.output_shape)"
   ]
  },
  {
   "cell_type": "code",
   "execution_count": 16,
   "metadata": {},
   "outputs": [
    {
     "name": "stdout",
     "output_type": "stream",
     "text": [
      "Model: \"CNN\"\n",
      "_________________________________________________________________\n",
      "Layer (type)                 Output Shape              Param #   \n",
      "=================================================================\n",
      "conv2d (Conv2D)              (None, 26, 26, 16)        160       \n",
      "_________________________________________________________________\n",
      "max_pooling2d (MaxPooling2D) (None, 13, 13, 16)        0         \n",
      "_________________________________________________________________\n",
      "conv2d_1 (Conv2D)            (None, 11, 11, 16)        2320      \n",
      "_________________________________________________________________\n",
      "max_pooling2d_1 (MaxPooling2 (None, 5, 5, 16)          0         \n",
      "_________________________________________________________________\n",
      "flatten (Flatten)            (None, 400)               0         \n",
      "_________________________________________________________________\n",
      "Dense_32 (Dense)             (None, 32)                12832     \n",
      "_________________________________________________________________\n",
      "Softmax_10_2 (Dense)         (None, 10)                330       \n",
      "=================================================================\n",
      "Total params: 15,642\n",
      "Trainable params: 15,642\n",
      "Non-trainable params: 0\n",
      "_________________________________________________________________\n"
     ]
    }
   ],
   "source": [
    "model3.summary()"
   ]
  },
  {
   "cell_type": "code",
   "execution_count": null,
   "metadata": {},
   "outputs": [],
   "source": [
    "opt = tf.keras.optimizers.Adam(learning_rate=0.001,clipnorm=1)\n",
    "model3.compile(optimizer=opt, loss=\"categorical_crossentropy\")\n",
    "history=model3.fit(x=x_train,y=y_train,epochs=200,batch_size=200,validation_data=(x_validation,y_validation))"
   ]
  },
  {
   "cell_type": "code",
   "execution_count": null,
   "metadata": {},
   "outputs": [],
   "source": [
    "plt.figure(5)\n",
    "plt.plot(history.history['loss'])\n",
    "plt.figure(6)\n",
    "plt.plot(history.history['val_loss'])"
   ]
  },
  {
   "cell_type": "code",
   "execution_count": null,
   "metadata": {},
   "outputs": [],
   "source": [
    "y_prediction=model3.predict(x=x_test,batch_size=200)\n",
    "y_prediction=np.argmax(y_prediction, axis=1)\n",
    "y_prediction=tf.keras.utils.to_categorical(y_prediction, num_classes=10, dtype=\"float32\")\n",
    "print(\"Accuracy score:\", accuracy_score(y_test, y_prediction),\"\\n\",\"Confusion Matrix:\",confusion_matrix(y_test.argmax(axis=1), y_prediction.argmax(axis=1)))"
   ]
  }
 ],
 "metadata": {
  "kernelspec": {
   "display_name": "Python 3",
   "language": "python",
   "name": "python3"
  },
  "language_info": {
   "codemirror_mode": {
    "name": "ipython",
    "version": 3
   },
   "file_extension": ".py",
   "mimetype": "text/x-python",
   "name": "python",
   "nbconvert_exporter": "python",
   "pygments_lexer": "ipython3",
   "version": "3.7.9"
  }
 },
 "nbformat": 4,
 "nbformat_minor": 4
}
