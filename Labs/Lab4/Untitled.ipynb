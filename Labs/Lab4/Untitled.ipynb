{
 "cells": [
  {
   "cell_type": "code",
   "execution_count": 22,
   "metadata": {},
   "outputs": [],
   "source": [
    "from pandas import read_csv"
   ]
  },
  {
   "cell_type": "code",
   "execution_count": 6,
   "metadata": {},
   "outputs": [],
   "source": [
    "pt_trig=read_csv('pt_trigram_count.tsv',sep='\\t');\n",
    "en_trig=read_csv('en_trigram_count.tsv',sep='\\t');\n",
    "es_trig=read_csv('es_trigram_count.tsv',sep='\\t');\n",
    "fr_trig=read_csv('fr_trigram_count.tsv',sep='\\t');"
   ]
  },
  {
   "cell_type": "code",
   "execution_count": 30,
   "metadata": {},
   "outputs": [
    {
     "name": "stdout",
     "output_type": "stream",
     "text": [
      "PT shape: (41556, 3) EN shape: (41556, 3) ES shape: (41556, 3) FR shape: (41556, 3)\n",
      "PT shape:\n",
      "    0  ñpq   0.1\n",
      "0  1  asf  6401\n",
      "1  2  äíá     0\n",
      "2  3  yüa     0\n",
      "3  4  nkô     0\n",
      "4  5  äíé     0 \n",
      "EN shape:\n",
      "    0  ñpq   1\n",
      "0  1  asf  60\n",
      "1  2  äíá   8\n",
      "2  3  yüa   1\n",
      "3  4  nkô   1\n",
      "4  5  äíé   2 \n",
      "ES shape:\n",
      "    0  ñpq    0.1\n",
      "0  1  asf  17257\n",
      "1  2  äíá      0\n",
      "2  3  yüa      0\n",
      "3  4  nkô      0\n",
      "4  5  äíé      0 \n",
      "FR shape:\n",
      "    0  ñpq   0.1\n",
      "0  1  asf  5469\n",
      "1  2  äíá     0\n",
      "2  3  yüa     0\n",
      "3  4  nkô     0\n",
      "4  5  äíé     0\n"
     ]
    }
   ],
   "source": [
    "print(\"PT shape:\", pt_trig.shape, \"EN shape:\", en_trig.shape, \"ES shape:\", es_trig.shape, \"FR shape:\", fr_trig.shape)\n",
    "print(\"PT shape:\\n\", pt_trig.head(), \"\\nEN shape:\\n\", en_trig.head(), \"\\nES shape:\\n\", es_trig.head(), \"\\nFR shape:\\n\", fr_trig.head())"
   ]
  },
  {
   "cell_type": "code",
   "execution_count": null,
   "metadata": {},
   "outputs": [],
   "source": []
  }
 ],
 "metadata": {
  "kernelspec": {
   "display_name": "Python 3",
   "language": "python",
   "name": "python3"
  },
  "language_info": {
   "codemirror_mode": {
    "name": "ipython",
    "version": 3
   },
   "file_extension": ".py",
   "mimetype": "text/x-python",
   "name": "python",
   "nbconvert_exporter": "python",
   "pygments_lexer": "ipython3",
   "version": "3.7.9"
  }
 },
 "nbformat": 4,
 "nbformat_minor": 4
}
