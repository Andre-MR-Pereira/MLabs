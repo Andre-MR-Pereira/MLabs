{
 "cells": [
  {
   "cell_type": "code",
   "execution_count": 68,
   "metadata": {},
   "outputs": [],
   "source": [
    "import numpy as np\n",
    "import scipy as scipy\n",
    "import matplotlib.pyplot as plt"
   ]
  },
  {
   "cell_type": "code",
   "execution_count": 23,
   "metadata": {},
   "outputs": [],
   "source": [
    "data1_xtest = np.load(\"./data1_lab4/data1_xtest.npy\")\n",
    "data1_xtrain = np.load(\"./data1_lab4/data1_xtrain.npy\")\n",
    "data1_ytest = np.load(\"./data1_lab4/data1_ytest.npy\")\n",
    "data1_ytrain = np.load(\"./data1_lab4/data1_ytrain.npy\")\n"
   ]
  },
  {
   "cell_type": "code",
   "execution_count": 109,
   "metadata": {},
   "outputs": [],
   "source": [
    "classes, counts = np.unique(data1_ytrain, return_counts=True)\n",
    "probs = counts / data1_ytrain.shape[0]\n"
   ]
  },
  {
   "cell_type": "code",
   "execution_count": 104,
   "metadata": {},
   "outputs": [],
   "source": [
    "data_split = {}\n",
    "\n",
    "for c in classes:\n",
    "    data_split[c] = data1_xtrain[np.where(data1_ytrain == c)]\n",
    "    "
   ]
  },
  {
   "cell_type": "code",
   "execution_count": 102,
   "metadata": {},
   "outputs": [
    {
     "name": "stdout",
     "output_type": "stream",
     "text": [
      "\n",
      "1.0\n",
      "[ 1.0207727   2.76022827  3.82404138  2.47082292  1.29066983  0.27567162\n",
      " -0.95787715  2.06430037  2.4983044   0.93747874  0.78121688  1.81583909\n",
      "  2.28788349 -0.24272235  1.75065147  1.57908821 -0.1395699   2.15639142\n",
      " -0.08539132  0.06994977  1.71467997  1.80432046  1.33052948  2.01333466\n",
      " -0.66571751  0.4768212  -3.29995022  2.817067    0.79514475  0.93387779\n",
      "  3.24496761  1.8727464   0.86005675  0.42172007  1.16879626  2.15145651\n",
      " -0.23432724  1.83695281  3.41141754 -0.42943038  2.07900793  2.67840147\n",
      " -0.04601071 -0.94271883  1.60642513  2.13750217  2.52520608  2.85657055\n",
      " -0.27809667  2.52197229]\n",
      "\n",
      "2.0\n",
      "[-0.13445079 -0.31215832 -1.93170612 -1.24527898 -1.43444315 -1.99437738\n",
      " -2.34035183 -1.85489769 -1.68138035 -0.41254593 -0.84859216 -0.68701969\n",
      " -2.44685808 -1.39254088 -3.08087025 -1.6746334  -2.27847572 -0.55016322\n",
      " -1.28757292 -0.3228572  -2.46722166 -2.32926054 -3.34982371 -2.44317728\n",
      " -3.4563472  -1.41730535 -1.18054788 -1.90543824 -1.80289483 -1.18172804\n",
      " -0.29230632 -0.70215064 -2.55173436 -1.28947651 -2.51087201 -2.68969789\n",
      " -0.87651091 -1.81876926 -3.4748297  -1.10292618 -2.45586987 -1.99599924\n",
      " -1.30000261 -2.09412346 -1.21184524 -2.11153276 -0.71083688 -2.06393956\n",
      " -2.85990284 -2.88106233]\n",
      "\n",
      "3.0\n",
      "[ 0.30506918  2.28062592  1.58420407  0.40917383  0.27626967  1.46008912\n",
      "  2.20865964  2.38656621  0.26080291  1.35153172  0.47273095  1.64503928\n",
      " -0.29182484  1.02615234  1.76301554 -1.71698397  2.06284134  4.10028579\n",
      "  0.67981863  1.26053525  0.90840755  1.17757606  1.03853827  1.54621707\n",
      "  3.17799405  0.49611284  0.83806055  0.80950581  1.58577094  2.37030174\n",
      "  3.42281456 -0.53717942  0.56636081  0.98206201  0.52763892  2.36616697\n",
      "  2.93843569  1.00146781  0.92266521  1.65463761  1.78351397  2.29398177\n",
      "  1.11437562  3.05745647  1.51132615  0.71390227  1.27160758  2.0413618\n",
      "  1.26985701  0.96372061]\n"
     ]
    }
   ],
   "source": [
    "for c in data_split:\n",
    "    print()\n",
    "    print(c)\n",
    "    print(data_split[c])"
   ]
  },
  {
   "cell_type": "code",
   "execution_count": 110,
   "metadata": {},
   "outputs": [
    {
     "data": {
      "text/plain": [
       "array([0.29613618, 2.69475387])"
      ]
     },
     "execution_count": 110,
     "metadata": {},
     "output_type": "execute_result"
    }
   ],
   "source": [
    "mean = np.mean(data1_xtrain, axis=0)\n",
    "mean"
   ]
  },
  {
   "cell_type": "code",
   "execution_count": 111,
   "metadata": {},
   "outputs": [
    {
     "data": {
      "text/plain": [
       "array([3.27114398, 3.58723406])"
      ]
     },
     "execution_count": 111,
     "metadata": {},
     "output_type": "execute_result"
    }
   ],
   "source": [
    "var = np.var(data1_xtrain, axis=0)\n",
    "var"
   ]
  },
  {
   "cell_type": "code",
   "execution_count": null,
   "metadata": {},
   "outputs": [],
   "source": []
  },
  {
   "cell_type": "code",
   "execution_count": 112,
   "metadata": {},
   "outputs": [],
   "source": [
    "# Takes single values\n",
    "def p(x, mean, var):\n",
    "    return (1 / np.sqrt(2 * np.pi * var)) * np.exp((-(x-mean)**2)/(2*var))\n",
    "\n",
    "\n",
    "# Takes vectors\n",
    "def posterior(X, mean, var):\n",
    "    \n",
    "    posterior = 0\n",
    "    for i in range(len(X)):\n",
    "        posterior *= p(X[i], mean[i], var[i])\n",
    "        \n",
    "    return posterior\n",
    "\n"
   ]
  },
  {
   "cell_type": "code",
   "execution_count": 113,
   "metadata": {},
   "outputs": [
    {
     "data": {
      "text/plain": [
       "0.3989422804014327"
      ]
     },
     "execution_count": 113,
     "metadata": {},
     "output_type": "execute_result"
    }
   ],
   "source": [
    "p(1,1,1)"
   ]
  },
  {
   "cell_type": "code",
   "execution_count": 72,
   "metadata": {},
   "outputs": [],
   "source": [
    "from scipy import stats"
   ]
  },
  {
   "cell_type": "code",
   "execution_count": 78,
   "metadata": {},
   "outputs": [
    {
     "data": {
      "text/plain": [
       "array([inf, inf, inf])"
      ]
     },
     "execution_count": 78,
     "metadata": {},
     "output_type": "execute_result"
    }
   ],
   "source": [
    "vals = stats.norm.ppf([1, 1, 1])\n",
    "vals"
   ]
  },
  {
   "cell_type": "code",
   "execution_count": null,
   "metadata": {},
   "outputs": [],
   "source": []
  }
 ],
 "metadata": {
  "kernelspec": {
   "display_name": "Python 3",
   "language": "python",
   "name": "python3"
  },
  "language_info": {
   "codemirror_mode": {
    "name": "ipython",
    "version": 3
   },
   "file_extension": ".py",
   "mimetype": "text/x-python",
   "name": "python",
   "nbconvert_exporter": "python",
   "pygments_lexer": "ipython3",
   "version": "3.7.4"
  }
 },
 "nbformat": 4,
 "nbformat_minor": 4
}
