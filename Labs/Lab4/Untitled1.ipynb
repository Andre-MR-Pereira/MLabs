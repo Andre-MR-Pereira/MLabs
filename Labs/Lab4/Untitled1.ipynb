{
 "cells": [
  {
   "cell_type": "code",
   "execution_count": null,
   "metadata": {},
   "outputs": [],
   "source": [
    "import pandas as pd\n",
    "import numpy as np"
   ]
  },
  {
   "cell_type": "code",
   "execution_count": null,
   "metadata": {},
   "outputs": [],
   "source": [
    "en_trigram_count = pd.read_csv(\"./data_lab4/en_trigram_count.tsv\", sep=\"\\t\").values\n",
    "es_trigram_count = pd.read_csv(\"./data_lab4/es_trigram_count.tsv\", sep=\"\\t\").values\n",
    "fr_trigram_count = pd.read_csv(\"./data_lab4/fr_trigram_count.tsv\", sep=\"\\t\").values\n",
    "pt_trigram_count = pd.read_csv(\"./data_lab4/pt_trigram_count.tsv\", sep=\"\\t\").values\n"
   ]
  },
  {
   "cell_type": "code",
   "execution_count": null,
   "metadata": {},
   "outputs": [],
   "source": [
    "print(en_trigram_count.shape)\n",
    "print(es_trigram_count.shape)\n",
    "print(fr_trigram_count.shape)\n",
    "print(pt_trigram_count.shape)\n"
   ]
  }
 ],
 "metadata": {
  "kernelspec": {
   "display_name": "Python 3",
   "language": "python",
   "name": "python3"
  },
  "language_info": {
   "codemirror_mode": {
    "name": "ipython",
    "version": 3
   },
   "file_extension": ".py",
   "mimetype": "text/x-python",
   "name": "python",
   "nbconvert_exporter": "python",
   "pygments_lexer": "ipython3",
   "version": "3.7.4"
  }
 },
 "nbformat": 4,
 "nbformat_minor": 4
}
