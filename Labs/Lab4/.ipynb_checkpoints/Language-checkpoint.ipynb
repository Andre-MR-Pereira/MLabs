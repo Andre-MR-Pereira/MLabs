{
 "cells": [
  {
   "cell_type": "code",
   "execution_count": 1,
   "metadata": {},
   "outputs": [],
   "source": [
    "from pandas import read_csv\n",
    "import numpy as np\n",
    "from sklearn.naive_bayes import MultinomialNB\n",
    "from sklearn.feature_extraction.text import CountVectorizer\n",
    "from sklearn.metrics import accuracy_score"
   ]
  },
  {
   "cell_type": "code",
   "execution_count": 2,
   "metadata": {},
   "outputs": [],
   "source": [
    "pt_trig=read_csv('pt_trigram_count.tsv',sep='\\t');\n",
    "en_trig=read_csv('en_trigram_count.tsv',sep='\\t');\n",
    "es_trig=read_csv('es_trigram_count.tsv',sep='\\t');\n",
    "fr_trig=read_csv('fr_trigram_count.tsv',sep='\\t');"
   ]
  },
  {
   "cell_type": "code",
   "execution_count": 3,
   "metadata": {},
   "outputs": [
    {
     "name": "stdout",
     "output_type": "stream",
     "text": [
      "PT shape: (41556, 3) EN shape: (41556, 3) ES shape: (41556, 3) FR shape: (41556, 3)\n",
      "PT shape:\n",
      "    0  ñpq   0.1\n",
      "0  1  asf  6401\n",
      "1  2  äíá     0\n",
      "2  3  yüa     0\n",
      "3  4  nkô     0\n",
      "4  5  äíé     0 \n",
      "EN shape:\n",
      "    0  ñpq   1\n",
      "0  1  asf  60\n",
      "1  2  äíá   8\n",
      "2  3  yüa   1\n",
      "3  4  nkô   1\n",
      "4  5  äíé   2 \n",
      "ES shape:\n",
      "    0  ñpq    0.1\n",
      "0  1  asf  17257\n",
      "1  2  äíá      0\n",
      "2  3  yüa      0\n",
      "3  4  nkô      0\n",
      "4  5  äíé      0 \n",
      "FR shape:\n",
      "    0  ñpq   0.1\n",
      "0  1  asf  5469\n",
      "1  2  äíá     0\n",
      "2  3  yüa     0\n",
      "3  4  nkô     0\n",
      "4  5  äíé     0\n"
     ]
    }
   ],
   "source": [
    "print(\"PT shape:\", pt_trig.shape, \"EN shape:\", en_trig.shape, \"ES shape:\", es_trig.shape, \"FR shape:\", fr_trig.shape)\n",
    "print(\"PT shape:\\n\", pt_trig.head(), \"\\nEN shape:\\n\", en_trig.head(), \"\\nES shape:\\n\", es_trig.head(), \"\\nFR shape:\\n\", fr_trig.head())"
   ]
  },
  {
   "cell_type": "code",
   "execution_count": 4,
   "metadata": {},
   "outputs": [],
   "source": [
    "PT=pt_trig.to_numpy()\n",
    "EN=en_trig.to_numpy()\n",
    "ES=es_trig.to_numpy()\n",
    "FR=fr_trig.to_numpy()\n",
    "X_train=np.zeros((4,PT.shape[0]))\n",
    "X_train[0]=PT[:,2].transpose()\n",
    "X_train[1]=EN[:,2].transpose()\n",
    "X_train[2]=ES[:,2].transpose()\n",
    "X_train[3]=FR[:,2].transpose()\n",
    "y_train=np.arange(4)\n"
   ]
  },
  {
   "cell_type": "code",
   "execution_count": 5,
   "metadata": {},
   "outputs": [
    {
     "data": {
      "text/plain": [
       "MultinomialNB(alpha=1, fit_prior=False)"
      ]
     },
     "execution_count": 5,
     "metadata": {},
     "output_type": "execute_result"
    }
   ],
   "source": [
    "model = MultinomialNB(alpha=1,fit_prior=False)\n",
    "model.fit(X_train,y_train)"
   ]
  },
  {
   "cell_type": "code",
   "execution_count": null,
   "metadata": {},
   "outputs": [],
   "source": [
    "#perguntar a stora se e para fazer o meu proprio teste\n",
    "y_prediction=model.predict(x=X_test)\n",
    "print(\"Accuracy score:\", accuracy_score(y_test, y_prediction))"
   ]
  },
  {
   "cell_type": "code",
   "execution_count": 6,
   "metadata": {},
   "outputs": [],
   "source": [
    "sentences=np.array(['Que fácil es comer peras.',\n",
    "                    'Que fácil é comer peras.',\n",
    "                   'Today is a great day for sightseeing.',\n",
    "                   'Je vais au cinéma demain soir.',\n",
    "                   'Ana es inteligente y simpática.',\n",
    "                   'Tu vais à escola hoje.'],dtype=object)"
   ]
  },
  {
   "cell_type": "code",
   "execution_count": 7,
   "metadata": {},
   "outputs": [],
   "source": [
    "vectorizer = CountVectorizer(vocabulary=PT[:,1],analyzer='char',ngram_range=(3, 3))\n",
    "X_test=vectorizer.fit_transform(sentences)\n",
    "y_test=np.array([2,0,1,3,2,0])"
   ]
  },
  {
   "cell_type": "code",
   "execution_count": 8,
   "metadata": {},
   "outputs": [
    {
     "name": "stdout",
     "output_type": "stream",
     "text": [
      "[2 0 1 3 2 3]\n",
      "Accuracy score: 0.8333333333333334\n"
     ]
    }
   ],
   "source": [
    "y_prediction=model.predict(X_test.toarray())\n",
    "print(y_prediction)\n",
    "print(\"Accuracy score:\", accuracy_score(y_test, y_prediction))"
   ]
  },
  {
   "cell_type": "code",
   "execution_count": 9,
   "metadata": {},
   "outputs": [
    {
     "name": "stdout",
     "output_type": "stream",
     "text": [
      "[[3.29653329e-01 1.58939428e-14 6.70346664e-01 6.54820052e-09]\n",
      " [9.99995230e-01 1.74725563e-22 4.76969140e-06 2.94565266e-12]\n",
      " [4.34380848e-17 1.00000000e+00 4.76869531e-18 5.44818540e-20]\n",
      " [1.52370736e-11 6.10703382e-24 1.66309686e-15 1.00000000e+00]\n",
      " [2.87040890e-05 2.66357254e-17 9.99971296e-01 2.17429760e-13]\n",
      " [2.06949642e-01 5.21413728e-21 2.68686074e-08 7.93050332e-01]]\n"
     ]
    }
   ],
   "source": [
    "prediction=model.predict_proba(X_test.toarray())\n",
    "print(prediction)"
   ]
  },
  {
   "cell_type": "code",
   "execution_count": 11,
   "metadata": {},
   "outputs": [
    {
     "name": "stdout",
     "output_type": "stream",
     "text": [
      "[[1.58939428e-14 6.54820052e-09 3.29653329e-01 6.70346664e-01]\n",
      " [1.74725563e-22 2.94565266e-12 4.76969140e-06 9.99995230e-01]\n",
      " [5.44818540e-20 4.76869531e-18 4.34380848e-17 1.00000000e+00]\n",
      " [6.10703382e-24 1.66309686e-15 1.52370736e-11 1.00000000e+00]\n",
      " [2.66357254e-17 2.17429760e-13 2.87040890e-05 9.99971296e-01]\n",
      " [5.21413728e-21 2.68686074e-08 2.06949642e-01 7.93050332e-01]]\n"
     ]
    }
   ],
   "source": [
    "prediction=np.sort(prediction)\n",
    "print(np.sort(prediction))"
   ]
  },
  {
   "cell_type": "code",
   "execution_count": 12,
   "metadata": {},
   "outputs": [
    {
     "name": "stdout",
     "output_type": "stream",
     "text": [
      "[[0.34069333]\n",
      " [0.99999046]\n",
      " [1.        ]\n",
      " [1.        ]\n",
      " [0.99994259]\n",
      " [0.58610069]]\n"
     ]
    }
   ],
   "source": [
    "class_margin=np.zeros((6,1))\n",
    "for i in range(6):\n",
    "    class_margin[i]=prediction[i,prediction.shape[1]-1]-prediction[i,prediction.shape[1]-2]\n",
    "print(class_margin)"
   ]
  }
 ],
 "metadata": {
  "kernelspec": {
   "display_name": "Python 3",
   "language": "python",
   "name": "python3"
  },
  "language_info": {
   "codemirror_mode": {
    "name": "ipython",
    "version": 3
   },
   "file_extension": ".py",
   "mimetype": "text/x-python",
   "name": "python",
   "nbconvert_exporter": "python",
   "pygments_lexer": "ipython3",
   "version": "3.7.9"
  }
 },
 "nbformat": 4,
 "nbformat_minor": 4
}
