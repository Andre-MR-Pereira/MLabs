{
 "cells": [
  {
   "cell_type": "markdown",
   "metadata": {},
   "source": [
    "# Lab 5 - Regression Task\n",
    "\n",
    "\n",
    "#### Dependencies:"
   ]
  },
  {
   "cell_type": "code",
   "execution_count": 1,
   "metadata": {},
   "outputs": [],
   "source": [
    "import tensorflow as tf\n",
    "import numpy as np\n",
    "import matplotlib.pyplot as plt\n",
    "from sklearn.model_selection import train_test_split\n",
    "from sklearn.metrics import accuracy_score,confusion_matrix,mean_squared_error\n",
    "from math import sqrt\n",
    "from sklearn.linear_model import Lasso, Ridge, LinearRegression\n",
    "from sklearn.preprocessing import scale"
   ]
  },
  {
   "cell_type": "markdown",
   "metadata": {},
   "source": [
    "## DataSet"
   ]
  },
  {
   "cell_type": "code",
   "execution_count": 2,
   "metadata": {},
   "outputs": [
    {
     "name": "stdout",
     "output_type": "stream",
     "text": [
      "x_train shape: (404, 13) y_train shape: (404,) x_test shape: (102, 13) y_test shape: (102,)\n"
     ]
    }
   ],
   "source": [
    "x_train=np.load('./Real_Estate_Xtrain.npy')\n",
    "y_train=np.load('./Real_Estate_ytrain.npy')\n",
    "x_test=np.load('./Real_Estate_Xtest.npy')\n",
    "y_test=np.load('./Real_Estate_ytest.npy')\n",
    "print(\"x_train shape:\", x_train.shape, \"y_train shape:\", y_train.shape, \"x_test shape:\", x_test.shape, \"y_test shape:\", y_test.shape)"
   ]
  },
  {
   "cell_type": "markdown",
   "metadata": {},
   "source": [
    "#### Normalization"
   ]
  },
  {
   "cell_type": "code",
   "execution_count": 3,
   "metadata": {},
   "outputs": [],
   "source": [
    "scale(x_train);\n",
    "scale(y_train);\n",
    "scale(x_test);\n",
    "scale(y_test);"
   ]
  },
  {
   "cell_type": "markdown",
   "metadata": {},
   "source": [
    "#### Splitting"
   ]
  },
  {
   "cell_type": "code",
   "execution_count": 4,
   "metadata": {},
   "outputs": [],
   "source": [
    "x_train, x_validation, y_train, y_validation = train_test_split(x_train, y_train, test_size=0.1, random_state=42)"
   ]
  },
  {
   "cell_type": "code",
   "execution_count": 5,
   "metadata": {},
   "outputs": [
    {
     "name": "stdout",
     "output_type": "stream",
     "text": [
      "x_train shape: (363, 13, 1) x_test shape: (102, 13, 1) x_validation shape: (41, 13, 1)\n"
     ]
    }
   ],
   "source": [
    "x_train=np.expand_dims(x_train,axis=2)\n",
    "x_test=np.expand_dims(x_test,axis=2)\n",
    "x_validation=np.expand_dims(x_validation,axis=2)\n",
    "print(\"x_train shape:\", x_train.shape, \"x_test shape:\", x_test.shape,\"x_validation shape:\", x_validation.shape)"
   ]
  },
  {
   "cell_type": "markdown",
   "metadata": {},
   "source": [
    "# NN MSE"
   ]
  },
  {
   "cell_type": "code",
   "execution_count": 6,
   "metadata": {},
   "outputs": [],
   "source": [
    "model = tf.keras.Sequential(name=\"MSE_Price_Guess\")\n",
    "model.add(tf.keras.layers.Flatten(input_shape=(13, 1)))\n",
    "model.add(tf.keras.layers.Dense(32, activation=\"relu\", name=\"Dense_32\"))\n",
    "model.add(tf.keras.layers.Dense(64, activation=\"relu\", name=\"Dense_64\"))\n",
    "model.add(tf.keras.layers.Dense(128, activation=\"relu\", name=\"Dense_128\"))\n",
    "model.add(tf.keras.layers.Dense(256, activation=\"relu\", name=\"Dense_256\"))\n",
    "model.add(tf.keras.layers.Dense(512, activation=\"relu\", name=\"Dense_512\"))\n",
    "model.add(tf.keras.layers.Dense(1, name=\"Output\"))"
   ]
  },
  {
   "cell_type": "code",
   "execution_count": 7,
   "metadata": {},
   "outputs": [
    {
     "name": "stdout",
     "output_type": "stream",
     "text": [
      "Model: \"MSE_Price_Guess\"\n",
      "_________________________________________________________________\n",
      "Layer (type)                 Output Shape              Param #   \n",
      "=================================================================\n",
      "flatten (Flatten)            (None, 13)                0         \n",
      "_________________________________________________________________\n",
      "Dense_32 (Dense)             (None, 32)                448       \n",
      "_________________________________________________________________\n",
      "Dense_64 (Dense)             (None, 64)                2112      \n",
      "_________________________________________________________________\n",
      "Dense_128 (Dense)            (None, 128)               8320      \n",
      "_________________________________________________________________\n",
      "Dense_256 (Dense)            (None, 256)               33024     \n",
      "_________________________________________________________________\n",
      "Dense_512 (Dense)            (None, 512)               131584    \n",
      "_________________________________________________________________\n",
      "Output (Dense)               (None, 1)                 513       \n",
      "=================================================================\n",
      "Total params: 176,001\n",
      "Trainable params: 176,001\n",
      "Non-trainable params: 0\n",
      "_________________________________________________________________\n"
     ]
    }
   ],
   "source": [
    "model.summary()"
   ]
  },
  {
   "cell_type": "code",
   "execution_count": 8,
   "metadata": {},
   "outputs": [],
   "source": [
    "opt = tf.keras.optimizers.Adam(learning_rate=0.001,clipnorm=1)\n",
    "model.compile(optimizer=opt, loss=\"mse\")\n",
    "history=model.fit(x=x_train,y=y_train,epochs=500,batch_size=363,validation_data=(x_validation,y_validation),verbose=0)"
   ]
  },
  {
   "cell_type": "code",
   "execution_count": 9,
   "metadata": {},
   "outputs": [
    {
     "data": {
      "image/png": "[encoded data removed]",
      "text/plain": [
       "<Figure size 432x288 with 1 Axes>"
      ]
     },
     "metadata": {
      "needs_background": "light"
     },
     "output_type": "display_data"
    },
    {
     "data": {
      "image/png": "[encoded data removed]",
      "text/plain": [
       "<Figure size 432x288 with 1 Axes>"
      ]
     },
     "metadata": {
      "needs_background": "light"
     },
     "output_type": "display_data"
    }
   ],
   "source": [
    "plt.plot(history.history['loss'])\n",
    "plt.title('Evolution of training loss in the model')\n",
    "plt.xlabel('Epochs')\n",
    "plt.ylabel('Training loss')\n",
    "plt.savefig(\"mse_train_loss.png\")\n",
    "plt.show()\n",
    "plt.plot(history.history['val_loss'])\n",
    "plt.title('Evolution of validation loss in the model')\n",
    "plt.xlabel('Epochs')\n",
    "plt.ylabel('Validation loss')\n",
    "plt.savefig(\"mse_val_loss.png\")\n",
    "plt.show()"
   ]
  },
  {
   "cell_type": "markdown",
   "metadata": {},
   "source": [
    "### Prediction "
   ]
  },
  {
   "cell_type": "code",
   "execution_count": 10,
   "metadata": {},
   "outputs": [],
   "source": [
    "y_prediction_buffer=model.predict(x=x_test,batch_size=363)\n",
    "y_prediction =y_prediction_buffer.flatten() "
   ]
  },
  {
   "cell_type": "markdown",
   "metadata": {},
   "source": [
    "## Performance Analysis"
   ]
  },
  {
   "cell_type": "code",
   "execution_count": 11,
   "metadata": {},
   "outputs": [
    {
     "name": "stdout",
     "output_type": "stream",
     "text": [
      "Sum Square Error score: 15.81236371334186\n",
      "Mean Square Root score: 3.9764762935722198\n",
      "Minimum Error score: 0.010837173461915484\n",
      "Maximum Error score: 14.95799522399902\n"
     ]
    }
   ],
   "source": [
    "print(\"Sum Square Error score:\", np.sum((y_test-y_prediction)**2)/y_test.shape[0])\n",
    "print(\"Mean Square Root score:\", sqrt(mean_squared_error(y_test, y_prediction)))\n",
    "print(\"Minimum Error score:\", np.ndarray.min(np.absolute(y_test-y_prediction)))\n",
    "print(\"Maximum Error score:\", np.ndarray.max(np.absolute(y_test-y_prediction)))"
   ]
  },
  {
   "cell_type": "markdown",
   "metadata": {},
   "source": [
    "## \n",
    "# Lasso and LS Model"
   ]
  },
  {
   "cell_type": "markdown",
   "metadata": {},
   "source": [
    "##### DataSet Reset"
   ]
  },
  {
   "cell_type": "code",
   "execution_count": 12,
   "metadata": {},
   "outputs": [
    {
     "name": "stdout",
     "output_type": "stream",
     "text": [
      "x_train shape: (404, 13) y_train shape: (404,) x_test shape: (102, 13) y_test shape: (102,)\n"
     ]
    }
   ],
   "source": [
    "x_train=np.load('./Real_Estate_Xtrain.npy')\n",
    "y_train=np.load('./Real_Estate_ytrain.npy')\n",
    "x_test=np.load('./Real_Estate_Xtest.npy')\n",
    "y_test=np.load('./Real_Estate_ytest.npy')\n",
    "print(\"x_train shape:\", x_train.shape, \"y_train shape:\", y_train.shape, \"x_test shape:\", x_test.shape, \"y_test shape:\", y_test.shape)"
   ]
  },
  {
   "cell_type": "markdown",
   "metadata": {},
   "source": [
    "##### Normalize"
   ]
  },
  {
   "cell_type": "code",
   "execution_count": 13,
   "metadata": {},
   "outputs": [],
   "source": [
    "scale(x_train);\n",
    "scale(y_train);\n",
    "scale(x_test);\n",
    "scale(y_test);"
   ]
  },
  {
   "cell_type": "markdown",
   "metadata": {},
   "source": [
    "##### Splitting"
   ]
  },
  {
   "cell_type": "code",
   "execution_count": 14,
   "metadata": {},
   "outputs": [],
   "source": [
    "x_train, x_validation, y_train, y_validation = train_test_split(x_train, y_train, test_size=0.1, random_state=42)"
   ]
  },
  {
   "cell_type": "markdown",
   "metadata": {},
   "source": [
    "## Lasso Model Setup"
   ]
  },
  {
   "cell_type": "code",
   "execution_count": 16,
   "metadata": {},
   "outputs": [],
   "source": [
    "alphas=np.arange(10e-3, 10, 10e-3)  #set alphas\n",
    "\n",
    "#set maximum iterations\n",
    "lasso_model = Lasso(max_iter=10000,fit_intersect=true)\n",
    "\n",
    "lasso_coefficients = None\n",
    "\n",
    "for alpha in alphas:\n",
    "    #set model alpha\n",
    "    lasso_model.alpha = alpha\n",
    "    #fit the model with the data\n",
    "    lasso_model.fit(x_train, y_train)\n",
    "    \n",
    "    #obtain the coefficients of the models\n",
    "    lasso_coef = np.expand_dims(lasso_model.coef_, 0)\n",
    "\n",
    "    if type(lasso_coefficients) != np.ndarray:\n",
    "        lasso_coefficients = lasso_coef\n",
    "    else:\n",
    "        lasso_coefficients = np.concatenate((lasso_coefficients, lasso_coef), axis=0)\n"
   ]
  },
  {
   "cell_type": "markdown",
   "metadata": {},
   "source": [
    "## LS Model Fitting"
   ]
  },
  {
   "cell_type": "code",
   "execution_count": 17,
   "metadata": {},
   "outputs": [],
   "source": [
    "LS_model = LinearRegression()   #instanciate Linear regression model\n",
    "LS_model.fit(x_train, y_train)   #fit data on the model\n",
    "\n",
    "#create lines of the coefficients of the LS model to be ploted against the coefficients of the Lasso model\n",
    "c1 = np.ones(len(alphas)) * LS_model.coef_[0]\n",
    "c2 = np.ones(len(alphas)) * LS_model.coef_[0]\n",
    "c3 = np.ones(len(alphas)) * LS_model.coef_[0]"
   ]
  },
  {
   "cell_type": "markdown",
   "metadata": {},
   "source": [
    "#### Plotting"
   ]
  },
  {
   "cell_type": "code",
   "execution_count": 51,
   "metadata": {},
   "outputs": [
    {
     "data": {
      "image/png": "[encoded data removed]",
      "text/plain": [
       "<Figure size 432x288 with 1 Axes>"
      ]
     },
     "metadata": {
      "needs_background": "light"
     },
     "output_type": "display_data"
    }
   ],
   "source": [
    "l = np.linspace(0, x_train.shape[0]-1, x_train.shape[0])\n",
    "l = x_train\n",
    "\n",
    "best_alpha=np.ndarray.min(lasso_coefficients)\n",
    "\n",
    "#adjust the lasso model for the new parameters\n",
    "lasso_model.alpha = best_alpha\n",
    "lasso_model.fit(x_train, y_train)\n",
    "lasso_values = lasso_model.predict(x_test)\n",
    "\n",
    "#adjust the ls model\n",
    "LS_model.fit(x_train, y_train)\n",
    "LS_values = LS_model.predict(x_test)\n",
    "\n",
    "#plot \n",
    "plt.scatter(x_test[:,0], y_test, color=\"blue\",label='y real value')\n",
    "#plt.scatter(x_test[:,0], lasso_values, color=\"red\",label='y aproximation with Lasso model')\n",
    "plt.scatter(x_test[:,0], LS_values, color=\"orange\",label='y aproximation with Linear model')\n",
    "plt.xlabel('Iteration')\n",
    "plt.ylabel('Y values')\n",
    "plt.title('Y output compared to the LS fit prediction and the Lasso model')\n",
    "plt.legend()\n",
    "plt.savefig(\"Lasso.png\")\n",
    "plt.show()"
   ]
  },
  {
   "cell_type": "markdown",
   "metadata": {},
   "source": [
    "## Performance Analysis"
   ]
  },
  {
   "cell_type": "markdown",
   "metadata": {},
   "source": [
    "#### LS Performance"
   ]
  },
  {
   "cell_type": "code",
   "execution_count": 43,
   "metadata": {},
   "outputs": [
    {
     "name": "stdout",
     "output_type": "stream",
     "text": [
      "Sum Square Error score: 18.958695221464936\n",
      "Mean Square Root score: 4.3541583826802785\n",
      "Minimum Error score: 0.06305450036161275\n",
      "Maximum Error score: 13.997256785224323\n"
     ]
    }
   ],
   "source": [
    "print(\"Sum Square Error score:\", np.sum((y_test-LS_values)**2)/y_test.shape[0])\n",
    "print(\"Mean Square Root score:\", sqrt(mean_squared_error(y_test, LS_values)))\n",
    "print(\"Minimum Error score:\", np.ndarray.min(np.absolute(y_test-LS_values)))\n",
    "print(\"Maximum Error score:\", np.ndarray.max(np.absolute(y_test-LS_values)))"
   ]
  },
  {
   "cell_type": "markdown",
   "metadata": {},
   "source": [
    "#### Lasso Performance"
   ]
  },
  {
   "cell_type": "code",
   "execution_count": 47,
   "metadata": {},
   "outputs": [
    {
     "name": "stdout",
     "output_type": "stream",
     "text": [
      "Sum Square Error score: 93225.96412218701\n",
      "Mean Square Root score: 305.32927164323274\n",
      "Minimum Error score: 0.7960852801161309\n",
      "Maximum Error score: 803.0398976670261\n"
     ]
    }
   ],
   "source": [
    "print(\"Sum Square Error score:\", np.sum((y_test-lasso_values)**2)/y_test.shape[0])\n",
    "print(\"Mean Square Root score:\", sqrt(mean_squared_error(y_test, lasso_values)))\n",
    "print(\"Minimum Error score:\", np.ndarray.min(np.absolute(y_test-lasso_values)))\n",
    "print(\"Maximum Error score:\", np.ndarray.max(np.absolute(y_test-lasso_values)))"
   ]
  }
 ],
 "metadata": {
  "kernelspec": {
   "display_name": "Python 3",
   "language": "python",
   "name": "python3"
  },
  "language_info": {
   "codemirror_mode": {
    "name": "ipython",
    "version": 3
   },
   "file_extension": ".py",
   "mimetype": "text/x-python",
   "name": "python",
   "nbconvert_exporter": "python",
   "pygments_lexer": "ipython3",
   "version": "3.7.9"
  }
 },
 "nbformat": 4,
 "nbformat_minor": 4
}
