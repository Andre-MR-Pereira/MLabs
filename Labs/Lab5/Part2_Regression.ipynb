{
 "cells": [
  {
   "cell_type": "markdown",
   "metadata": {},
   "source": [
    "# Lab 5 - Regression Task\n",
    "\n",
    "\n",
    "#### Dependencies:"
   ]
  },
  {
   "cell_type": "code",
   "execution_count": 18,
   "metadata": {},
   "outputs": [],
   "source": [
    "import tensorflow as tf\n",
    "import numpy as np\n",
    "import matplotlib.pyplot as plt\n",
    "from sklearn.model_selection import train_test_split\n",
    "from sklearn.metrics import accuracy_score,confusion_matrix,mean_squared_error\n",
    "from sklearn.model_selection import cross_val_score\n",
    "from math import sqrt"
   ]
  },
  {
   "cell_type": "markdown",
   "metadata": {},
   "source": [
    "## DataSet"
   ]
  },
  {
   "cell_type": "code",
   "execution_count": 2,
   "metadata": {},
   "outputs": [
    {
     "name": "stdout",
     "output_type": "stream",
     "text": [
      "x_train shape: (404, 13) y_train shape: (404,) x_test shape: (102, 13) y_test shape: (102,)\n"
     ]
    }
   ],
   "source": [
    "x_train=np.load('./Real_Estate_Xtrain.npy')\n",
    "y_train=np.load('./Real_Estate_ytrain.npy')\n",
    "x_test=np.load('./Real_Estate_Xtest.npy')\n",
    "y_test=np.load('./Real_Estate_ytest.npy')\n",
    "print(\"x_train shape:\", x_train.shape, \"y_train shape:\", y_train.shape, \"x_test shape:\", x_test.shape, \"y_test shape:\", y_test.shape)"
   ]
  },
  {
   "cell_type": "code",
   "execution_count": 3,
   "metadata": {},
   "outputs": [],
   "source": [
    "x_train, x_validation, y_train, y_validation = train_test_split(x_train, y_train, test_size=0.1, random_state=42)"
   ]
  },
  {
   "cell_type": "code",
   "execution_count": 4,
   "metadata": {},
   "outputs": [
    {
     "name": "stdout",
     "output_type": "stream",
     "text": [
      "x_train shape: (363, 13, 1) x_test shape: (102, 13, 1) x_validation shape: (41, 13, 1)\n"
     ]
    }
   ],
   "source": [
    "x_train=np.expand_dims(x_train,axis=2);\n",
    "x_test=np.expand_dims(x_test,axis=2);\n",
    "x_validation=np.expand_dims(x_validation,axis=2)\n",
    "print(\"x_train shape:\", x_train.shape, \"x_test shape:\", x_test.shape,\"x_validation shape:\", x_validation.shape)"
   ]
  },
  {
   "cell_type": "markdown",
   "metadata": {},
   "source": [
    "## NN MSE"
   ]
  },
  {
   "cell_type": "code",
   "execution_count": 5,
   "metadata": {},
   "outputs": [],
   "source": [
    "model = tf.keras.Sequential(name=\"MSE_Price_Guess\")\n",
    "model.add(tf.keras.layers.Flatten(input_shape=(13, 1)))\n",
    "model.add(tf.keras.layers.Dense(32, activation=\"relu\", name=\"Dense_32\"))\n",
    "model.add(tf.keras.layers.Dense(64, activation=\"relu\", name=\"Dense_64\"))\n",
    "model.add(tf.keras.layers.Dense(1, name=\"Output\"))"
   ]
  },
  {
   "cell_type": "code",
   "execution_count": 6,
   "metadata": {},
   "outputs": [
    {
     "name": "stdout",
     "output_type": "stream",
     "text": [
      "Model: \"MSE_Price_Guess\"\n",
      "_________________________________________________________________\n",
      "Layer (type)                 Output Shape              Param #   \n",
      "=================================================================\n",
      "flatten (Flatten)            (None, 13)                0         \n",
      "_________________________________________________________________\n",
      "Dense_32 (Dense)             (None, 32)                448       \n",
      "_________________________________________________________________\n",
      "Dense_64 (Dense)             (None, 64)                2112      \n",
      "_________________________________________________________________\n",
      "Output (Dense)               (None, 1)                 65        \n",
      "=================================================================\n",
      "Total params: 2,625\n",
      "Trainable params: 2,625\n",
      "Non-trainable params: 0\n",
      "_________________________________________________________________\n"
     ]
    }
   ],
   "source": [
    "model.summary()"
   ]
  },
  {
   "cell_type": "code",
   "execution_count": 7,
   "metadata": {},
   "outputs": [],
   "source": [
    "opt = tf.keras.optimizers.Adam(learning_rate=0.001,clipnorm=1)\n",
    "model.compile(optimizer=opt, loss=\"mse\")\n",
    "history=model.fit(x=x_train,y=y_train,epochs=500,batch_size=363,validation_data=(x_validation,y_validation),verbose=0)"
   ]
  },
  {
   "cell_type": "code",
   "execution_count": 8,
   "metadata": {},
   "outputs": [
    {
     "data": {
      "image/png": "[encoded data removed]",
      "text/plain": [
       "<Figure size 432x288 with 1 Axes>"
      ]
     },
     "metadata": {
      "needs_background": "light"
     },
     "output_type": "display_data"
    },
    {
     "data": {
      "image/png": "[encoded data removed]",
      "text/plain": [
       "<Figure size 432x288 with 1 Axes>"
      ]
     },
     "metadata": {
      "needs_background": "light"
     },
     "output_type": "display_data"
    }
   ],
   "source": [
    "plt.plot(history.history['loss'])\n",
    "plt.title('Evolution of training loss in the model')\n",
    "plt.xlabel('Epochs')\n",
    "plt.ylabel('Training loss')\n",
    "plt.savefig(\"mse_train_loss.png\")\n",
    "plt.show()\n",
    "plt.plot(history.history['val_loss'])\n",
    "plt.title('Evolution of validation loss in the model')\n",
    "plt.xlabel('Epochs')\n",
    "plt.ylabel('Validation loss')\n",
    "plt.savefig(\"mse_val_loss.png\")\n",
    "plt.show()"
   ]
  },
  {
   "cell_type": "markdown",
   "metadata": {},
   "source": [
    "### Prediction "
   ]
  },
  {
   "cell_type": "code",
   "execution_count": 40,
   "metadata": {},
   "outputs": [
    {
     "name": "stdout",
     "output_type": "stream",
     "text": [
      "y_prediction res: [19.816978]\n",
      "y_test res: 21.4\n",
      "Mean Square score: 112.65610324661355\n",
      "Mean Square Root score: 6.272369271754789\n",
      "y_error res: [1.5830212]\n",
      "y_error res: [-1.864357]\n",
      "Minimum Error score: 5.0\n",
      "Maximum Error score: 50.0\n"
     ]
    }
   ],
   "source": [
    "y_prediction=model.predict(x=x_test,batch_size=363)"
   ]
  },
  {
   "cell_type": "markdown",
   "metadata": {},
   "source": [
    "## Performance Analysis"
   ]
  },
  {
   "cell_type": "code",
   "execution_count": 41,
   "metadata": {},
   "outputs": [
    {
     "name": "stdout",
     "output_type": "stream",
     "text": [
      "Mean Square score: 112.65610324661355\n",
      "Mean Square Root score: 6.272369271754789\n",
      "Minimum Error score: 5.0\n",
      "Maximum Error score: 50.0\n"
     ]
    }
   ],
   "source": [
    "print(\"Mean Square score:\", np.mean(np.square(y_test - y_prediction)))\n",
    "print(\"Mean Square Root score:\", sqrt(mean_squared_error(y_test, y_prediction)))\n",
    "y_error=[0]*y_test.shape[0]\n",
    "for i in range(y_test.shape[0]):\n",
    "    y_error[i]=y_test[i]-y_prediction[i]\n",
    "np.absolute(y_error)\n",
    "print(\"Minimum Error score:\", np.ndarray.min(y_test))\n",
    "print(\"Maximum Error score:\", np.ndarray.max(y_test))"
   ]
  },
  {
   "cell_type": "markdown",
   "metadata": {},
   "source": [
    "## Lasso"
   ]
  },
  {
   "cell_type": "code",
   "execution_count": null,
   "metadata": {},
   "outputs": [],
   "source": []
  }
 ],
 "metadata": {
  "kernelspec": {
   "display_name": "Python 3",
   "language": "python",
   "name": "python3"
  },
  "language_info": {
   "codemirror_mode": {
    "name": "ipython",
    "version": 3
   },
   "file_extension": ".py",
   "mimetype": "text/x-python",
   "name": "python",
   "nbconvert_exporter": "python",
   "pygments_lexer": "ipython3",
   "version": "3.7.9"
  }
 },
 "nbformat": 4,
 "nbformat_minor": 4
}
