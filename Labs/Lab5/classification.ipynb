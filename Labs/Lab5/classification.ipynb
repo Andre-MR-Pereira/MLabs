{
 "cells": [
  {
   "cell_type": "markdown",
   "metadata": {},
   "source": [
    "# 2.1 Classification Task\n",
    "\n",
    "#### \n",
    "#### Dependencies:"
   ]
  },
  {
   "cell_type": "code",
   "execution_count": 30,
   "metadata": {},
   "outputs": [],
   "source": [
    "import numpy as np\n",
    "from sklearn.pipeline import make_pipeline\n",
    "from sklearn.preprocessing import StandardScaler\n",
    "from sklearn.svm import SVC\n",
    "from sklearn.preprocessing import StandardScaler\n",
    "from sklearn.metrics import f1_score, accuracy_score\n",
    "\n",
    "from keras.utils import to_categorical\n",
    "import tensorflow as tf\n",
    "from keras.models import Sequential\n",
    "from keras.layers import Dense\n",
    "\n",
    "import matplotlib.pyplot as plt"
   ]
  },
  {
   "cell_type": "markdown",
   "metadata": {},
   "source": [
    "#### \n",
    "#### Load data"
   ]
  },
  {
   "cell_type": "code",
   "execution_count": 15,
   "metadata": {},
   "outputs": [
    {
     "name": "stdout",
     "output_type": "stream",
     "text": [
      "(92, 9)\n",
      "(92,)\n",
      "(24, 9)\n",
      "(24,)\n"
     ]
    }
   ],
   "source": [
    "# Train set\n",
    "X_train = np.load(\"./classification_data/Cancer_Xtrain.npy\")\n",
    "y_train = np.load(\"./classification_data/Cancer_ytrain.npy\").ravel()\n",
    "print(X_train.shape)\n",
    "print(y_train.shape)\n",
    "\n",
    "# Test set\n",
    "X_test = np.load(\"./classification_data/Cancer_Xtest.npy\")\n",
    "y_test = np.load(\"./classification_data/Cancer_ytest.npy\").ravel()\n",
    "print(X_test.shape)\n",
    "print(y_test.shape)"
   ]
  },
  {
   "cell_type": "markdown",
   "metadata": {},
   "source": [
    "#### \n",
    "#### Init and fit"
   ]
  },
  {
   "cell_type": "code",
   "execution_count": 139,
   "metadata": {},
   "outputs": [
    {
     "data": {
      "text/plain": [
       "Pipeline(steps=[('standardscaler', StandardScaler()),\n",
       "                ('svc', SVC(C=5, gamma='auto'))])"
      ]
     },
     "execution_count": 139,
     "metadata": {},
     "output_type": "execute_result"
    }
   ],
   "source": [
    "clf = make_pipeline(StandardScaler(), SVC(C=5,gamma='auto',kernel=\"rbf\"))\n",
    "clf.fit(X_train, y_train.ravel())"
   ]
  },
  {
   "cell_type": "code",
   "execution_count": 140,
   "metadata": {},
   "outputs": [
    {
     "name": "stdout",
     "output_type": "stream",
     "text": [
      "Accuracy: 0.967391304347826\n",
      "F_measure: 0.9647058823529412\n"
     ]
    }
   ],
   "source": [
    "y_pred = clf.predict(X_train)\n",
    "\n",
    "print(\"Accuracy:\", accuracy_score(y_pred, y_train))\n",
    "print(\"F_measure:\", f1_score(y_pred, y_train))"
   ]
  },
  {
   "cell_type": "markdown",
   "metadata": {},
   "source": [
    "#### \n",
    "#### Predict and evaluate SVM classifier"
   ]
  },
  {
   "cell_type": "code",
   "execution_count": 141,
   "metadata": {},
   "outputs": [
    {
     "name": "stdout",
     "output_type": "stream",
     "text": [
      "Accuracy: 0.9166666666666666\n",
      "F_measure: 0.8888888888888888\n"
     ]
    }
   ],
   "source": [
    "y_pred = clf.predict(X_test)\n",
    "\n",
    "print(\"Accuracy:\", accuracy_score(y_pred, y_test))\n",
    "print(\"F_measure:\", f1_score(y_pred, y_test))"
   ]
  },
  {
   "cell_type": "markdown",
   "metadata": {},
   "source": [
    "#### \n",
    "#### Adjust data for neural network"
   ]
  },
  {
   "cell_type": "code",
   "execution_count": 6,
   "metadata": {},
   "outputs": [],
   "source": [
    "# Scale values to 0-1\n",
    "scaler = StandardScaler().fit(X_train)\n",
    "X_train_nn = scaler.transform(X_train)\n",
    "X_test_nn = scaler.transform(X_test) \n",
    "\n",
    "# Change format on labels\n",
    "y_train_nn = to_categorical(y_train-1)\n",
    "y_test_nn = to_categorical(y_test-1)\n"
   ]
  },
  {
   "cell_type": "markdown",
   "metadata": {},
   "source": [
    "#### \n",
    "#### Init and fit model"
   ]
  },
  {
   "cell_type": "code",
   "execution_count": 151,
   "metadata": {},
   "outputs": [
    {
     "name": "stdout",
     "output_type": "stream",
     "text": [
      "Model: \"sequential_9\"\n",
      "_________________________________________________________________\n",
      "Layer (type)                 Output Shape              Param #   \n",
      "=================================================================\n",
      "dense_32 (Dense)             (None, 500)               5000      \n",
      "_________________________________________________________________\n",
      "dense_33 (Dense)             (None, 100)               50100     \n",
      "_________________________________________________________________\n",
      "dense_34 (Dense)             (None, 50)                5050      \n",
      "_________________________________________________________________\n",
      "dense_35 (Dense)             (None, 2)                 102       \n",
      "=================================================================\n",
      "Total params: 60,252\n",
      "Trainable params: 60,252\n",
      "Non-trainable params: 0\n",
      "_________________________________________________________________\n"
     ]
    }
   ],
   "source": [
    "model = Sequential()\n",
    "model.add(Dense(500, activation='relu', input_dim=9))\n",
    "model.add(Dense(100, activation='relu'))\n",
    "model.add(Dense(50, activation='relu'))\n",
    "model.add(Dense(2, activation='softmax'))\n",
    "\n",
    "opt = tf.keras.optimizers.Adam(learning_rate=0.00015,clipnorm=1)\n",
    "model.compile(optimizer=opt, loss='categorical_crossentropy', metrics=['accuracy'])\n",
    "\n",
    "model.summary()"
   ]
  },
  {
   "cell_type": "code",
   "execution_count": 150,
   "metadata": {},
   "outputs": [
    {
     "name": "stdout",
     "output_type": "stream",
     "text": [
      "Epoch 1/15\n",
      "92/92 [==============================] - 0s 2ms/step - loss: 0.6812 - accuracy: 0.5326 - val_loss: 0.6231 - val_accuracy: 0.7917\n",
      "Epoch 2/15\n",
      "92/92 [==============================] - 0s 961us/step - loss: 0.6101 - accuracy: 0.7717 - val_loss: 0.5405 - val_accuracy: 0.8333\n",
      "Epoch 3/15\n",
      "92/92 [==============================] - 0s 912us/step - loss: 0.5704 - accuracy: 0.7826 - val_loss: 0.4790 - val_accuracy: 0.7917\n",
      "Epoch 4/15\n",
      "92/92 [==============================] - 0s 915us/step - loss: 0.5333 - accuracy: 0.7826 - val_loss: 0.4378 - val_accuracy: 0.8333\n",
      "Epoch 5/15\n",
      "92/92 [==============================] - 0s 1ms/step - loss: 0.4758 - accuracy: 0.8152 - val_loss: 0.3887 - val_accuracy: 0.8333\n",
      "Epoch 6/15\n",
      "92/92 [==============================] - 0s 1ms/step - loss: 0.4587 - accuracy: 0.8370 - val_loss: 0.3766 - val_accuracy: 0.8333\n",
      "Epoch 7/15\n",
      "92/92 [==============================] - 0s 1ms/step - loss: 0.4281 - accuracy: 0.8043 - val_loss: 0.3481 - val_accuracy: 0.8750\n",
      "Epoch 8/15\n",
      "92/92 [==============================] - 0s 919us/step - loss: 0.4139 - accuracy: 0.8370 - val_loss: 0.3325 - val_accuracy: 0.8750\n",
      "Epoch 9/15\n",
      "92/92 [==============================] - 0s 864us/step - loss: 0.4220 - accuracy: 0.8152 - val_loss: 0.3442 - val_accuracy: 0.8333\n",
      "Epoch 10/15\n",
      "92/92 [==============================] - 0s 852us/step - loss: 0.4165 - accuracy: 0.8261 - val_loss: 0.3495 - val_accuracy: 0.8333\n",
      "Epoch 11/15\n",
      "92/92 [==============================] - 0s 883us/step - loss: 0.4069 - accuracy: 0.8261 - val_loss: 0.3519 - val_accuracy: 0.8333\n",
      "Epoch 12/15\n",
      "92/92 [==============================] - 0s 894us/step - loss: 0.3898 - accuracy: 0.8370 - val_loss: 0.3425 - val_accuracy: 0.8750\n",
      "Epoch 13/15\n",
      "92/92 [==============================] - 0s 899us/step - loss: 0.3695 - accuracy: 0.8478 - val_loss: 0.3435 - val_accuracy: 0.8750\n",
      "Epoch 14/15\n",
      "92/92 [==============================] - 0s 895us/step - loss: 0.3549 - accuracy: 0.8587 - val_loss: 0.3885 - val_accuracy: 0.8333\n",
      "Epoch 15/15\n",
      "92/92 [==============================] - 0s 1ms/step - loss: 0.3359 - accuracy: 0.8587 - val_loss: 0.3694 - val_accuracy: 0.8750\n"
     ]
    },
    {
     "data": {
      "text/plain": [
       "<tensorflow.python.keras.callbacks.History at 0x7fa078546f10>"
      ]
     },
     "execution_count": 150,
     "metadata": {},
     "output_type": "execute_result"
    }
   ],
   "source": [
    "model.fit(X_train_nn, y_train_nn, epochs=15, batch_size=1, verbose=1,validation_data=(X_test_nn, y_test_nn))"
   ]
  },
  {
   "cell_type": "markdown",
   "metadata": {},
   "source": [
    "#### \n",
    "#### Predict and evaluate neural network"
   ]
  },
  {
   "cell_type": "code",
   "execution_count": 27,
   "metadata": {},
   "outputs": [
    {
     "name": "stdout",
     "output_type": "stream",
     "text": [
      "Accuracy: 0.875\n",
      "F_measure: 0.8571428571428571\n"
     ]
    }
   ],
   "source": [
    "y_pred = np.argmax((model.predict(X_test_nn) > 0.5).astype(\"int32\") , axis=-1) + 1\n",
    "print(\"Accuracy:\", accuracy_score(y_pred, y_test))\n",
    "print(\"F_measure:\", f1_score(y_pred, y_test))"
   ]
  },
  {
   "cell_type": "code",
   "execution_count": null,
   "metadata": {},
   "outputs": [],
   "source": []
  }
 ],
 "metadata": {
  "kernelspec": {
   "display_name": "Python 3",
   "language": "python",
   "name": "python3"
  },
  "language_info": {
   "codemirror_mode": {
    "name": "ipython",
    "version": 3
   },
   "file_extension": ".py",
   "mimetype": "text/x-python",
   "name": "python",
   "nbconvert_exporter": "python",
   "pygments_lexer": "ipython3",
   "version": "3.7.4"
  }
 },
 "nbformat": 4,
 "nbformat_minor": 4
}
