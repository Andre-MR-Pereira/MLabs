{
 "cells": [
  {
   "cell_type": "code",
   "execution_count": 1,
   "metadata": {},
   "outputs": [],
   "source": [
    "from lab_gd import *\n",
    "import numpy as np\n"
   ]
  },
  {
   "cell_type": "code",
   "execution_count": 2,
   "metadata": {},
   "outputs": [],
   "source": [
    "a_list = [0.5, 1, 2, 5]\n",
    "n_list = [0.001, 0.01, 0.03, 0.1, 0.3, 1, 3]"
   ]
  },
  {
   "cell_type": "code",
   "execution_count": 5,
   "metadata": {},
   "outputs": [
    {
     "name": "stdout",
     "output_type": "stream",
     "text": [
      "\n",
      "a: 0.5 n: 3\n",
      "Did not converge in 1001 steps, f = 7.447696\n",
      "The estimated value is -5.458093\n",
      "\n",
      "a: 1 n: 3\n",
      "Did not converge in 1001 steps, f = 5.475597\n",
      "The estimated value is -3.309259\n",
      "\n",
      "a: 2 n: 3\n",
      "Did not converge in 1001 steps, f = 1.477636\n",
      "The estimated value is -1.215581\n",
      "\n",
      "a: 5 n: 3\n",
      "Converged in 990 steps, f = 0.009911\n",
      "The estimated value is -0.062964\n",
      "\n",
      "a: 0.5 n: 3\n",
      "Converged in 760 steps, f = 0.009943\n",
      "The estimated value is -0.199427\n",
      "\n",
      "a: 1 n: 3\n",
      "Converged in 414 steps, f = 0.009849\n",
      "The estimated value is -0.140350\n",
      "\n",
      "a: 2 n: 3\n",
      "Converged in 223 steps, f = 0.009893\n",
      "The estimated value is -0.099462\n",
      "\n",
      "a: 5 n: 3\n",
      "Converged in 97 steps, f = 0.009656\n",
      "The estimated value is -0.062149\n",
      "\n",
      "a: 0.5 n: 3\n",
      "Converged in 252 steps, f = 0.009961\n",
      "The estimated value is -0.199606\n",
      "\n",
      "a: 1 n: 3\n",
      "Converged in 137 steps, f = 0.009614\n",
      "The estimated value is -0.138666\n",
      "\n",
      "a: 2 n: 3\n",
      "Converged in 73 steps, f = 0.009664\n",
      "The estimated value is -0.098305\n",
      "\n",
      "a: 5 n: 3\n",
      "Converged in 31 steps, f = 0.008519\n",
      "The estimated value is -0.058375\n",
      "\n",
      "a: 0.5 n: 3\n",
      "Converged in 75 steps, f = 0.009225\n",
      "The estimated value is -0.192094\n",
      "\n",
      "a: 1 n: 3\n",
      "Converged in 40 steps, f = 0.008848\n",
      "The estimated value is -0.133028\n",
      "\n",
      "a: 2 n: 3\n",
      "Converged in 21 steps, f = 0.006891\n",
      "The estimated value is -0.083010\n",
      "\n",
      "a: 5 n: 3\n",
      "Converged in 8 steps, f = 0.003090\n",
      "The estimated value is -0.035156\n",
      "\n",
      "a: 0.5 n: 3\n",
      "Converged in 24 steps, f = 0.008290\n",
      "The estimated value is -0.182094\n",
      "\n",
      "a: 1 n: 3\n",
      "Converged in 12 steps, f = 0.007759\n",
      "The estimated value is -0.124572\n",
      "\n",
      "a: 2 n: 3\n",
      "Converged in 5 steps, f = 0.008493\n",
      "The estimated value is -0.092160\n",
      "\n",
      "a: 5 n: 3\n",
      "Converged in 8 steps, f = 0.003090\n",
      "The estimated value is -0.035156\n",
      "\n",
      "a: 0.5 n: 3\n",
      "Converged in 6 steps, f = 0.004944\n",
      "The estimated value is -0.140625\n",
      "\n",
      "a: 1 n: 3\n",
      "Converged in 1 steps, f = 0.000000\n",
      "The estimated value is 0.000000\n",
      "\n",
      "a: 2 n: 3\n",
      "Did not converge in 1001 steps, f = 81.000000\n",
      "The estimated value is -9.000000\n",
      "\n",
      "a: 5 n: 3\n",
      "Diverged\n",
      "Converged in 255 steps, f = inf\n",
      "The estimated value is 30167567842370843474041556245963153786828573096332885099878013248373969067665480697804217170875532712302571680919593614420946236326879782379475710263689216.000000\n",
      "\n",
      "a: 0.5 n: 3\n",
      "Converged in 6 steps, f = 0.004944\n",
      "The estimated value is -0.140625\n",
      "\n",
      "a: 1 n: 3\n",
      "Diverged\n",
      "Converged in 509 steps, f = 28440067172626482133998773526154492856065651424673209451460618308156927227042144558104270826396504722091268016151529027285863225144468254730313753675385554833201561264480672475352499585353385983741601013904073178273223057167459948045677660066029309004358186260647441713741654142611048868538405981835082334208.000000\n",
      "The estimated value is 15083783921185421737020778122981576893414286548166442549939006624186984533832740348902108585437766356151285840459796807210473118163439891189737855131844608.000000\n",
      "\n",
      "a: 2 n: 3\n",
      "Diverged\n",
      "Converged in 220 steps, f = inf\n",
      "The estimated value is -53412568569898827572966837079397698101862781312786865686001203214674190253599469889135703665228030936640405637268286547904028024259772505525621159161233408.000000\n",
      "\n",
      "a: 5 n: 3\n",
      "Diverged\n",
      "Converged in 134 steps, f = 15013519692956023425524445104870473716653314740515095367463439214329925813118545808332860095163692642433293435339561306026431461317496877833657389822491820634788509082093707049379312341022263736618835571580248577613615910671567047068510306660196291651797817789150243541600187705244450111780496257598470750208.000000\n",
      "The estimated value is -34308307214547215954728746510934417488658842405408226634439764953410239136066705315672204320411121179026741687226923899576826463202364865193473311837782016.000000\n",
      "\n",
      "\n",
      "\n",
      "\n",
      "[(1001, 0.001, False, False), (1001, 0.001, False, False), (1001, 0.001, False, False), (990, 0.001, True, False)]\n",
      "[(760, 0.01, True, False), (414, 0.01, True, False), (223, 0.01, True, False), (97, 0.01, True, False)]\n",
      "[(252, 0.03, True, False), (137, 0.03, True, False), (73, 0.03, True, False), (31, 0.03, True, False)]\n",
      "[(75, 0.1, True, False), (40, 0.1, True, False), (21, 0.1, True, False), (8, 0.1, True, False)]\n",
      "[(24, 0.3, True, False), (12, 0.3, True, False), (5, 0.3, True, False), (8, 0.3, True, False)]\n",
      "[(6, 1, True, False), (1, 1, True, False), (1001, 1, False, False), (255, 1, True, True)]\n",
      "[(6, 3, True, False), (509, 3, True, True), (220, 3, True, True), (134, 3, True, True)]\n"
     ]
    }
   ],
   "source": [
    "\n",
    "table = []\n",
    "for eta in n_list:\n",
    "    row = []\n",
    "    for a in a_list:\n",
    "        print(\"\\na:\", a, \"n:\",  n)\n",
    "        x_min, steps, converged, diverged = quad1(a=a,eta=eta,anim=0, plot=False)\n",
    "        row.append((steps, eta, converged, diverged))\n",
    "        print('The estimated value is %f' %(x_min))\n",
    "    table.append(row)\n",
    "    \n",
    "    \n",
    "#table = np.array(table)\n",
    "#print(table)\n",
    "\n",
    "\n",
    "\n",
    "print(\"\\n\\n\\n\")\n",
    "for row in table:\n",
    "    print(row)"
   ]
  },
  {
   "cell_type": "code",
   "execution_count": 11,
   "metadata": {},
   "outputs": [
    {
     "name": "stdout",
     "output_type": "stream",
     "text": [
      "****STARTING PART 1****\n",
      "Converged in 40 steps, f = 0.008848\n"
     ]
    },
    {
     "data": {
      "image/png": "[encoded data removed]",
      "text/plain": [
       "<Figure size 432x288 with 1 Axes>"
      ]
     },
     "metadata": {
      "needs_background": "light"
     },
     "output_type": "display_data"
    },
    {
     "ename": "TypeError",
     "evalue": "not all arguments converted during string formatting",
     "output_type": "error",
     "traceback": [
      "\u001b[0;31m---------------------------------------------------------------------------\u001b[0m",
      "\u001b[0;31mTypeError\u001b[0m                                 Traceback (most recent call last)",
      "\u001b[0;32m<ipython-input-11-9900dac647a9>\u001b[0m in \u001b[0;36m<module>\u001b[0;34m\u001b[0m\n\u001b[1;32m      1\u001b[0m \u001b[0mprint\u001b[0m\u001b[0;34m(\u001b[0m\u001b[0;34m'****STARTING PART 1****'\u001b[0m\u001b[0;34m)\u001b[0m\u001b[0;34m\u001b[0m\u001b[0;34m\u001b[0m\u001b[0m\n\u001b[1;32m      2\u001b[0m \u001b[0mx_min\u001b[0m \u001b[0;34m=\u001b[0m \u001b[0mquad1\u001b[0m\u001b[0;34m(\u001b[0m\u001b[0ma\u001b[0m\u001b[0;34m=\u001b[0m\u001b[0;36m1.0\u001b[0m\u001b[0;34m,\u001b[0m\u001b[0meta\u001b[0m\u001b[0;34m=\u001b[0m\u001b[0;36m0.1\u001b[0m\u001b[0;34m,\u001b[0m\u001b[0manim\u001b[0m\u001b[0;34m=\u001b[0m\u001b[0;36m0\u001b[0m\u001b[0;34m)\u001b[0m\u001b[0;34m\u001b[0m\u001b[0;34m\u001b[0m\u001b[0m\n\u001b[0;32m----> 3\u001b[0;31m \u001b[0mprint\u001b[0m\u001b[0;34m(\u001b[0m\u001b[0;34m'The estimated value is %f'\u001b[0m \u001b[0;34m%\u001b[0m\u001b[0;34m(\u001b[0m\u001b[0mx_min\u001b[0m\u001b[0;34m)\u001b[0m\u001b[0;34m)\u001b[0m\u001b[0;34m\u001b[0m\u001b[0;34m\u001b[0m\u001b[0m\n\u001b[0m\u001b[1;32m      4\u001b[0m \u001b[0;34m\u001b[0m\u001b[0m\n",
      "\u001b[0;31mTypeError\u001b[0m: not all arguments converted during string formatting"
     ]
    }
   ],
   "source": [
    "print('****STARTING PART 1****')\n",
    "x_min = quad1(a=1.0,eta=0.1,anim=0)\n",
    "print('The estimated value is %f' %(x_min))\n",
    " \n"
   ]
  },
  {
   "cell_type": "code",
   "execution_count": null,
   "metadata": {},
   "outputs": [],
   "source": []
  }
 ],
 "metadata": {
  "kernelspec": {
   "display_name": "Python 3",
   "language": "python",
   "name": "python3"
  },
  "language_info": {
   "codemirror_mode": {
    "name": "ipython",
    "version": 3
   },
   "file_extension": ".py",
   "mimetype": "text/x-python",
   "name": "python",
   "nbconvert_exporter": "python",
   "pygments_lexer": "ipython3",
   "version": "3.7.4"
  }
 },
 "nbformat": 4,
 "nbformat_minor": 4
}
