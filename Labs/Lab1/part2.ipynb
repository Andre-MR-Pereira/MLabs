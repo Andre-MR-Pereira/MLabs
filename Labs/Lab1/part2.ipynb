{
 "cells": [
  {
   "cell_type": "code",
   "execution_count": 82,
   "metadata": {},
   "outputs": [],
   "source": [
    "import numpy as np\n",
    "import matplotlib.pyplot as plt\n",
    "from sklearn.linear_model import Lasso, Ridge, LinearRegression"
   ]
  },
  {
   "cell_type": "code",
   "execution_count": 83,
   "metadata": {},
   "outputs": [],
   "source": [
    "X = np.load('./data3_x.npy')\n",
    "y = np.load('./data3_y.npy')\n",
    "\n",
    "alphas=np.arange(10e-3, 10, 10e-3)"
   ]
  },
  {
   "cell_type": "code",
   "execution_count": 84,
   "metadata": {},
   "outputs": [],
   "source": [
    "ridge_model = Ridge(max_iter=10000)\n",
    "lasso_model = Lasso(max_iter=10000)\n",
    "\n",
    "ridge_coefficients = None\n",
    "lasso_coefficients = None\n",
    "\n",
    "\n",
    "for alpha in alphas:\n",
    "    ridge_model.alpha = alpha\n",
    "    lasso_model.alpha = alpha\n",
    "\n",
    "    ridge_model.fit(X, y)\n",
    "    lasso_model.fit(X, y)\n",
    "\n",
    "    ridge_coef = ridge_model.coef_\n",
    "    lasso_coef = np.expand_dims(lasso_model.coef_, 0)\n",
    "\n",
    "    if type(ridge_coefficients) != np.ndarray:\n",
    "        ridge_coefficients = ridge_coef\n",
    "        lasso_coefficients = lasso_coef\n",
    "    else:\n",
    "        ridge_coefficients = np.concatenate((ridge_coefficients, ridge_coef), axis=0)\n",
    "        lasso_coefficients = np.concatenate((lasso_coefficients, lasso_coef), axis=0)\n",
    "        \n",
    "        \n"
   ]
  },
  {
   "cell_type": "code",
   "execution_count": 95,
   "metadata": {},
   "outputs": [
    {
     "name": "stdout",
     "output_type": "stream",
     "text": [
      "2.9387892090341876 0.06479680107921437 1.425221555889576\n"
     ]
    }
   ],
   "source": [
    "LS_model = LinearRegression()\n",
    "LS_model.fit(X, y)\n",
    "\n",
    "c1 = LS_model.coef_[0][0]\n",
    "c2 = LS_model.coef_[0][1]\n",
    "c3 = LS_model.coef_[0][2]\n",
    "print(c1,c2,c3)\n",
    "\n",
    "c1 = np.ones(len(alphas)) * c1\n",
    "c2 = np.ones(len(alphas)) * c2\n",
    "c3 = np.ones(len(alphas)) * c3\n",
    "\n"
   ]
  },
  {
   "cell_type": "code",
   "execution_count": 88,
   "metadata": {},
   "outputs": [
    {
     "data": {
      "image/png": "[encoded data removed]",
      "text/plain": [
       "<Figure size 432x288 with 1 Axes>"
      ]
     },
     "metadata": {
      "needs_background": "light"
     },
     "output_type": "display_data"
    }
   ],
   "source": [
    "fig = plt.figure()\n",
    "ax = fig.add_subplot(1, 1, 1)\n",
    "\n",
    "rf1 = ax.plot(alphas, ridge_coefficients[:,0], color='blue', lw=1)\n",
    "rf2 = ax.plot(alphas, ridge_coefficients[:,1], color='red', lw=1)\n",
    "rf3 = ax.plot(alphas, ridge_coefficients[:,2], color='green', lw=1)\n",
    "\n",
    "ax.plot(alphas, ridge_coefficients[:,2], color='green', lw=1)\n",
    "ax.plot(alphas, ridge_coefficients[:,2], color='green', lw=1)\n",
    "ax.plot(alphas, ridge_coefficients[:,2], color='green', lw=1)\n",
    "\n",
    "\n",
    "ax.plot(1)\n",
    "\n",
    "ax.set_xscale('log')\n",
    "plt.show()"
   ]
  },
  {
   "cell_type": "code",
   "execution_count": 80,
   "metadata": {},
   "outputs": [
    {
     "data": {
      "image/png": "[encoded data removed]",
      "text/plain": [
       "<Figure size 432x288 with 1 Axes>"
      ]
     },
     "metadata": {
      "needs_background": "light"
     },
     "output_type": "display_data"
    }
   ],
   "source": [
    "fig = plt.figure()\n",
    "ax = fig.add_subplot(1, 1, 1)\n",
    "\n",
    "lf1 = ax.plot(alphas, lasso_coefficients[:,0], color='blue', lw=1)\n",
    "lf2 = ax.plot(alphas, lasso_coefficients[:,1], color='red', lw=1)\n",
    "lf3 = ax.plot(alphas, lasso_coefficients[:,2], color='green', lw=1)\n",
    "\n",
    "ax.set_xscale('log')\n",
    "plt.show()"
   ]
  },
  {
   "cell_type": "code",
   "execution_count": null,
   "metadata": {},
   "outputs": [],
   "source": []
  },
  {
   "cell_type": "code",
   "execution_count": null,
   "metadata": {},
   "outputs": [],
   "source": []
  }
 ],
 "metadata": {
  "kernelspec": {
   "display_name": "Python 3",
   "language": "python",
   "name": "python3"
  },
  "language_info": {
   "codemirror_mode": {
    "name": "ipython",
    "version": 3
   },
   "file_extension": ".py",
   "mimetype": "text/x-python",
   "name": "python",
   "nbconvert_exporter": "python",
   "pygments_lexer": "ipython3",
   "version": "3.7.4"
  }
 },
 "nbformat": 4,
 "nbformat_minor": 4
}
